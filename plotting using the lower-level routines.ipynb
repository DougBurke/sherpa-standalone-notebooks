{
 "cells": [
  {
   "cell_type": "markdown",
   "metadata": {},
   "source": [
    "# Plotting using the \"low-level\" interface"
   ]
  },
  {
   "cell_type": "markdown",
   "metadata": {},
   "source": [
    "In the last two notebooks I've created, I've shown how to create a user model (using `add_model` rather than `load_user_model`) and use the \"low-level\" interface$^\\dagger$ to fit a data set (that is, without using the routines in `sherpa.ui` or `sherpa.astro.ui`). One thing I haven't done is show how to create plots when using the \"low-level\" interface, so I thought I'd show how here.\n",
    "\n",
    "The previous notebooks, which probably need to be skimmed for the following to make any sense, are:\n",
    "\n",
    "1. [User models in Sherpa](http://nbviewer.ipython.org/github/DougBurke/sherpa-standalone-notebooks/blob/master/user%20model.ipynb)\n",
    "2. [Writing an \"integrated\" user model](http://nbviewer.ipython.org/github/DougBurke/sherpa-standalone-notebooks/blob/master/an%20integrated%20user%20model.ipynb)\n",
    "\n",
    "$^\\dagger$ we haven't come up with a better name for this API yet."
   ]
  },
  {
   "cell_type": "markdown",
   "metadata": {},
   "source": [
    "## Author and disclaimer"
   ]
  },
  {
   "cell_type": "markdown",
   "metadata": {},
   "source": [
    "This was written by \n",
    "[Douglas Burke](http://hea-www.cfa.harvard.edu/~dburke/)\n",
    "on June 5 2015. This notebook, and others that may be of\n",
    "interest, can be found on GitHub at\n",
    "https://github.com/DougBurke/sherpa-standalone-notebooks.\n",
    "\n",
    "The information in this document is placed into the Publc Domain. It is not an official product of the Chandra\n",
    "X-ray Center, and I make no guarantee that it is not without bugs or embarassing typos. Please contact me via the GitHub repository or on Twitter - at \n",
    "[@doug_burke](https://twitter.com/doug_burke) - if you have any questions. "
   ]
  },
  {
   "cell_type": "markdown",
   "metadata": {},
   "source": [
    "## What data am I using again?"
   ]
  },
  {
   "cell_type": "markdown",
   "metadata": {},
   "source": [
    "Let's start with the data set I've been using recently:"
   ]
  },
  {
   "cell_type": "code",
   "execution_count": 1,
   "metadata": {
    "collapsed": true
   },
   "outputs": [],
   "source": [
    "from scipy import stats\n",
    "import numpy as np\n",
    "import matplotlib.pyplot as plt\n",
    "%matplotlib inline"
   ]
  },
  {
   "cell_type": "code",
   "execution_count": 2,
   "metadata": {
    "collapsed": true
   },
   "outputs": [],
   "source": [
    "np.random.seed(1)\n",
    "k_orig = 1.1\n",
    "theta_orig = 2.6\n",
    "ysim = stats.gamma.rvs(a=k_orig, scale=theta_orig, size=1000)"
   ]
  },
  {
   "cell_type": "markdown",
   "metadata": {},
   "source": [
    "I am going to concentrate on the \"CDF\" version of the data, but will also use the \"PDF\" version to show how to plot `Data1DInt` data sets. The \"CDF\" refers to the cumulative distribution function and \"PDF\" the probability density function."
   ]
  },
  {
   "cell_type": "code",
   "execution_count": 3,
   "metadata": {
    "collapsed": true
   },
   "outputs": [],
   "source": [
    "xcdf = ysim.copy()\n",
    "xcdf.sort()\n",
    "ycdf = np.arange(1, xcdf.size+1) * 1.0 / xcdf.size"
   ]
  },
  {
   "cell_type": "code",
   "execution_count": 4,
   "metadata": {
    "collapsed": true
   },
   "outputs": [],
   "source": [
    "(ypdf, edges) = np.histogram(ysim, bins=31, density=False)\n",
    "xlo = edges[:-1]\n",
    "xhi = edges[1:]"
   ]
  },
  {
   "cell_type": "markdown",
   "metadata": {},
   "source": [
    "The data is stored in objects; here the `Data1D` and `Data1DInt` classes:"
   ]
  },
  {
   "cell_type": "code",
   "execution_count": 5,
   "metadata": {
    "collapsed": true
   },
   "outputs": [],
   "source": [
    "from sherpa.data import Data1D, Data1DInt"
   ]
  },
  {
   "cell_type": "code",
   "execution_count": 6,
   "metadata": {
    "collapsed": true
   },
   "outputs": [],
   "source": [
    "dcdf = Data1D('cdf', xcdf, ycdf)\n",
    "dpdf = Data1DInt('pdf', xlo, xhi, ypdf)"
   ]
  },
  {
   "cell_type": "markdown",
   "metadata": {},
   "source": [
    "## Plotting data"
   ]
  },
  {
   "cell_type": "markdown",
   "metadata": {},
   "source": [
    "To plot these, I need the `DataPlot` class:"
   ]
  },
  {
   "cell_type": "code",
   "execution_count": 7,
   "metadata": {
    "collapsed": true
   },
   "outputs": [],
   "source": [
    "from sherpa.plot import DataPlot"
   ]
  },
  {
   "cell_type": "markdown",
   "metadata": {},
   "source": [
    "A `DataPlot` object is given the data to plot via the `prepare` method, and then actually plotted with the `plot` method. Note that `prepare` takes an optional statistics object, which is used to determine how to estimate error bars if none are given explicitly. For this example I do not want any error bars, so leave it at its default."
   ]
  },
  {
   "cell_type": "code",
   "execution_count": 8,
   "metadata": {
    "collapsed": false
   },
   "outputs": [],
   "source": [
    "plotcdf = DataPlot()\n",
    "plotcdf.prepare(dcdf)"
   ]
  },
  {
   "cell_type": "markdown",
   "metadata": {},
   "source": [
    "With all this I can create a plot of the data:"
   ]
  },
  {
   "cell_type": "code",
   "execution_count": 9,
   "metadata": {
    "collapsed": false
   },
   "outputs": [
    {
     "data": {
      "image/png": "[encoded data removed]",
      "text/plain": [
       "<matplotlib.figure.Figure at 0x7ff2c3cfb490>"
      ]
     },
     "metadata": {},
     "output_type": "display_data"
    }
   ],
   "source": [
    "plotcdf.plot()"
   ]
  },
  {
   "cell_type": "markdown",
   "metadata": {},
   "source": [
    "Normal `matplotlib` commands can be used to adjust the display; for instance, to increase the Y range to better show the behavior of the data at large `x`:"
   ]
  },
  {
   "cell_type": "code",
   "execution_count": 10,
   "metadata": {
    "collapsed": false
   },
   "outputs": [
    {
     "data": {
      "text/plain": [
       "(-0.1, 1.1)"
      ]
     },
     "execution_count": 10,
     "metadata": {},
     "output_type": "execute_result"
    },
    {
     "data": {
      "image/png": "[encoded data removed]",
      "text/plain": [
       "<matplotlib.figure.Figure at 0x7ff2c3a363d0>"
      ]
     },
     "metadata": {},
     "output_type": "display_data"
    }
   ],
   "source": [
    "plotcdf.plot()\n",
    "plt.ylim(-0.1, 1.1)"
   ]
  },
  {
   "cell_type": "markdown",
   "metadata": {},
   "source": [
    "The approach for the \"binned\" data set is the same: call `prepare` and then `plot`. This time I also change the preferences for the plot - `plot_prefs` is a dictionary - so that the Y axis is drawn in a log scale:"
   ]
  },
  {
   "cell_type": "code",
   "execution_count": 11,
   "metadata": {
    "collapsed": false
   },
   "outputs": [
    {
     "data": {
      "text/plain": [
       "(0.8, 400)"
      ]
     },
     "execution_count": 11,
     "metadata": {},
     "output_type": "execute_result"
    },
    {
     "data": {
      "image/png": "[encoded data removed]",
      "text/plain": [
       "<matplotlib.figure.Figure at 0x7ff2c3923950>"
      ]
     },
     "metadata": {},
     "output_type": "display_data"
    }
   ],
   "source": [
    "plotpdf = DataPlot()\n",
    "plotpdf.prepare(dpdf)\n",
    "plotpdf.plot_prefs['ylog'] = True\n",
    "plotpdf.plot()\n",
    "plt.ylim(0.8, 400)"
   ]
  },
  {
   "cell_type": "markdown",
   "metadata": {},
   "source": [
    "## Setting up the models"
   ]
  },
  {
   "cell_type": "markdown",
   "metadata": {},
   "source": [
    "I use the same models as in the previous notebooks, but this time I cut out the documentation, to save space. Note that as I'm using the low-level interface I do not need to call `add_model` to use either the `GammaCDF` or `GammaPDF` models."
   ]
  },
  {
   "cell_type": "code",
   "execution_count": 12,
   "metadata": {
    "collapsed": true
   },
   "outputs": [],
   "source": [
    "from sherpa import utils\n",
    "from sherpa.models import model\n",
    "from sherpa.models.parameter import tinyval"
   ]
  },
  {
   "cell_type": "code",
   "execution_count": 13,
   "metadata": {
    "collapsed": true
   },
   "outputs": [],
   "source": [
    "def calc_gamma_cdf(x, k, theta):\n",
    "    tval = theta * 1.0\n",
    "    kval = k * 1.0\n",
    "    x = np.asarray(x)\n",
    "    out = np.zeros_like(x)\n",
    "    for i,xi in enumerate(x):\n",
    "        out[i] = utils.igam(kval, xi/tval)\n",
    "\n",
    "    return out\n",
    "\n",
    "def calc_gamma_pdf(x, k, theta):\n",
    "    tval = theta * 1.0\n",
    "    kval = k * 1.0\n",
    "    norm = utils.gamma(kval) * theta**kval\n",
    "    return x**(kval-1.0) * np.exp(-x / tval) / norm\n",
    "\n",
    "def calc_gamma_pdf_int(xlo, xhi, k, theta):\n",
    "    return calc_gamma_cdf(xhi, k, theta) - calc_gamma_cdf(xlo, k, theta)"
   ]
  },
  {
   "cell_type": "code",
   "execution_count": 14,
   "metadata": {
    "collapsed": true
   },
   "outputs": [],
   "source": [
    "class GammaCDF(model.ArithmeticModel):\n",
    "    \"\"\"A Gamma CDF.\"\"\"\n",
    "\n",
    "    def __init__(self, name='gammacdf'):\n",
    "        self.k = model.Parameter(name, 'k', 5, min=tinyval, hard_min=0)\n",
    "        self.theta = model.Parameter(name, 'theta', 2, min=tinyval, hard_min=0)\n",
    "\n",
    "        model.ArithmeticModel.__init__(self, name, (self.k, self.theta))\n",
    "\n",
    "    @model.modelCacher1d\n",
    "    def calc(self, pars, x, *args, **kwargs):\n",
    "        (k, theta) = pars\n",
    "        if len(args) == 1:\n",
    "            x = (x + args[0]) / 2.0\n",
    "\n",
    "        return calc_gamma_cdf(x, k, theta)\n",
    "        \n",
    "class GammaPDF(model.ArithmeticModel):\n",
    "    \"\"\"A Gamma PDF.\"\"\"\n",
    "\n",
    "    def __init__(self, name='gammapdf'):\n",
    "        self.k = model.Parameter(name, 'k', 5, min=tinyval, hard_min=0)\n",
    "        self.theta = model.Parameter(name, 'theta', 2, min=tinyval, hard_min=0)\n",
    "        self.norm = model.Parameter(name, 'norm', 1, min=0) # allow -ve if they realy want it\n",
    "        \n",
    "        model.ArithmeticModel.__init__(self, name, (self.k, self.theta, self.norm))\n",
    "\n",
    "    @model.modelCacher1d\n",
    "    def calc(self, pars, x, *args, **kwargs):\n",
    "        (k, theta, norm) = pars\n",
    "        if len(args) == 0:\n",
    "            return norm * calc_gamma_pdf(x, k, theta)\n",
    "        elif len(args) == 1:\n",
    "            return norm * calc_gamma_pdf_int(x, args[0], k, theta)\n",
    "        else:\n",
    "            raise ValueError(\"Expected x or xlo/xhi grid.\")\n",
    "            \n",
    "    def guess(self, dep, *args, **kwargs):\n",
    "        norm = dep.sum()\n",
    "        self.norm.val = dep.sum()\n",
    "        self.norm.frozen = True"
   ]
  },
  {
   "cell_type": "markdown",
   "metadata": {},
   "source": [
    "## Plotting models"
   ]
  },
  {
   "cell_type": "markdown",
   "metadata": {},
   "source": [
    "To plot a model, I need an instance of the model to plot (in this case it's just a single component, but it could be some more-complicated expression)."
   ]
  },
  {
   "cell_type": "code",
   "execution_count": 15,
   "metadata": {
    "collapsed": true
   },
   "outputs": [],
   "source": [
    "mcdf = GammaCDF('cdf')\n",
    "mpdf = GammaPDF('pdf')"
   ]
  },
  {
   "cell_type": "code",
   "execution_count": 16,
   "metadata": {
    "collapsed": true
   },
   "outputs": [],
   "source": [
    "from sherpa.plot import ModelPlot"
   ]
  },
  {
   "cell_type": "markdown",
   "metadata": {},
   "source": [
    "The approach is similar to the data case: create an instance of the `ModelPlot` class, call `prepare` and then `plot`. The difference here is that `prepare` needs both the data set (to know what the independent axis is) and the model expression."
   ]
  },
  {
   "cell_type": "code",
   "execution_count": 17,
   "metadata": {
    "collapsed": true
   },
   "outputs": [],
   "source": [
    "mplotcdf = ModelPlot()"
   ]
  },
  {
   "cell_type": "markdown",
   "metadata": {},
   "source": [
    "The help for the method is not particularly illuminating - it is on our list of things to improve! - but at least the argument names are somewhat meaningful! "
   ]
  },
  {
   "cell_type": "code",
   "execution_count": 18,
   "metadata": {
    "collapsed": false
   },
   "outputs": [
    {
     "name": "stdout",
     "output_type": "stream",
     "text": [
      "Help on method prepare in module sherpa.plot:\n",
      "\n",
      "prepare(self, data, model, stat=None) method of sherpa.plot.ModelPlot instance\n",
      "\n"
     ]
    }
   ],
   "source": [
    "help(mplotcdf.prepare)"
   ]
  },
  {
   "cell_type": "code",
   "execution_count": 19,
   "metadata": {
    "collapsed": false
   },
   "outputs": [
    {
     "data": {
      "image/png": "[encoded data removed]",
      "text/plain": [
       "<matplotlib.figure.Figure at 0x7ff2c39adf10>"
      ]
     },
     "metadata": {},
     "output_type": "display_data"
    }
   ],
   "source": [
    "mplotcdf.prepare(dcdf, mcdf)\n",
    "mplotcdf.plot()"
   ]
  },
  {
   "cell_type": "markdown",
   "metadata": {},
   "source": [
    "Now, the `plot` method also accepts optional arguments, and I am going to take advantage of `overplot` to combine the data with the model:"
   ]
  },
  {
   "cell_type": "code",
   "execution_count": 20,
   "metadata": {
    "collapsed": false
   },
   "outputs": [
    {
     "name": "stdout",
     "output_type": "stream",
     "text": [
      "Help on method plot in module sherpa.plot:\n",
      "\n",
      "plot(self, overplot=False, clearwindow=True) method of sherpa.plot.ModelPlot instance\n",
      "\n"
     ]
    }
   ],
   "source": [
    "help(mplotcdf.plot)"
   ]
  },
  {
   "cell_type": "markdown",
   "metadata": {},
   "source": [
    "Using this we can see that the current set of model parameters is *not* a good fit to the data!"
   ]
  },
  {
   "cell_type": "code",
   "execution_count": 21,
   "metadata": {
    "collapsed": false
   },
   "outputs": [
    {
     "data": {
      "text/plain": [
       "(-0.05, 1.05)"
      ]
     },
     "execution_count": 21,
     "metadata": {},
     "output_type": "execute_result"
    },
    {
     "data": {
      "image/png": "[encoded data removed]",
      "text/plain": [
       "<matplotlib.figure.Figure at 0x7ff2c377fc50>"
      ]
     },
     "metadata": {},
     "output_type": "display_data"
    }
   ],
   "source": [
    "plotcdf.plot()\n",
    "mplotcdf.plot(overplot=True)\n",
    "plt.ylim(-0.05, 1.05)"
   ]
  },
  {
   "cell_type": "markdown",
   "metadata": {},
   "source": [
    "The above plot may also look a bit like the output of the `sherpa.ui.plot_fit` command, which is not-too surprising as it essentially is! I'll show below how the \"fit\"-style plot is created if you do not want to do it manually, like this.\n",
    "\n",
    "However, before worrying about fits, I'd like to just repeat the above for the \"pdf\" data set, since it is binned (\"integrated\" in Sherpa parlance). Note that it uses a log scale for Y axis due to the settings of `dpdf`."
   ]
  },
  {
   "cell_type": "code",
   "execution_count": 22,
   "metadata": {
    "collapsed": false
   },
   "outputs": [
    {
     "data": {
      "image/png": "[encoded data removed]",
      "text/plain": [
       "<matplotlib.figure.Figure at 0x7ff2c38c64d0>"
      ]
     },
     "metadata": {},
     "output_type": "display_data"
    }
   ],
   "source": [
    "mplotpdf = ModelPlot()\n",
    "mplotpdf.prepare(dpdf, mpdf)\n",
    "plotpdf.plot()\n",
    "mplotpdf.plot(overplot=True)"
   ]
  },
  {
   "cell_type": "markdown",
   "metadata": {},
   "source": [
    "## Fitting the data"
   ]
  },
  {
   "cell_type": "markdown",
   "metadata": {},
   "source": [
    "To look at fit results, I want to first fit the data (so that the models are a better approximation to the data). For this we need the `Fit` object. I am not going to explain this in depth since it is a repeat of the previous two notebooks, and I really just need this\n",
    "done so that the models can be plotted!"
   ]
  },
  {
   "cell_type": "code",
   "execution_count": 23,
   "metadata": {
    "collapsed": true
   },
   "outputs": [],
   "source": [
    "from sherpa.optmethods import LevMar, NelderMead\n",
    "from sherpa.stats import Cash, LeastSq\n",
    "from sherpa.fit import Fit"
   ]
  },
  {
   "cell_type": "markdown",
   "metadata": {},
   "source": [
    "For the CDF data, for which I am going to use a least-square statistic, I use the \"default\" Sherpa optimiser, which is the `LevMar` class. For the PDF data set, which I am using a Maximum Likelihood estimator, I use `NelderMead` (which is the Nelder-Mead Simplex algorithm), since, although it is often slower than `LevMar`, is less-likely to stop in a local minima (this is a statement of my experience, depends on the data and model being fit, and comes with no warranty).\n",
    "\n",
    "When using the \"standard\" Sherpa UI for fitting data, only one optimiser and statistic can be in use at a time. This restriction does not hold here, since you have to be explicit in your choices!"
   ]
  },
  {
   "cell_type": "code",
   "execution_count": 24,
   "metadata": {
    "collapsed": false
   },
   "outputs": [],
   "source": [
    "fcdf = Fit(dcdf, mcdf, LeastSq(), LevMar())\n",
    "fpdf = Fit(dpdf, mpdf, Cash(), NelderMead())"
   ]
  },
  {
   "cell_type": "markdown",
   "metadata": {},
   "source": [
    "Note that creating a `Fit` object does *not* run the fit, so at this time the model parameters\n",
    "are unchanged. The `Fit` class comes with some useful methods, such as calculating the statistic for the current model and data:"
   ]
  },
  {
   "cell_type": "code",
   "execution_count": 25,
   "metadata": {
    "collapsed": false
   },
   "outputs": [
    {
     "data": {
      "text/plain": [
       "230.64654731128954"
      ]
     },
     "execution_count": 25,
     "metadata": {},
     "output_type": "execute_result"
    }
   ],
   "source": [
    "fcdf.calc_stat()"
   ]
  },
  {
   "cell_type": "markdown",
   "metadata": {},
   "source": [
    "More context is provided by the `calc_stat_info` method:"
   ]
  },
  {
   "cell_type": "code",
   "execution_count": 26,
   "metadata": {
    "collapsed": false
   },
   "outputs": [
    {
     "name": "stdout",
     "output_type": "stream",
     "text": [
      "name      = \n",
      "ids       = None\n",
      "bkg_ids   = None\n",
      "statname  = leastsq\n",
      "statval   = 230.646547311\n",
      "numpoints = 1000\n",
      "dof       = 998\n",
      "qval      = None\n",
      "rstat     = None\n"
     ]
    }
   ],
   "source": [
    "print(fcdf.calc_stat_info())"
   ]
  },
  {
   "cell_type": "code",
   "execution_count": 27,
   "metadata": {
    "collapsed": false
   },
   "outputs": [
    {
     "name": "stdout",
     "output_type": "stream",
     "text": [
      "name      = \n",
      "ids       = None\n",
      "bkg_ids   = None\n",
      "statname  = cash\n",
      "statval   = 11016.7582418\n",
      "numpoints = 31\n",
      "dof       = 28\n",
      "qval      = None\n",
      "rstat     = None\n"
     ]
    }
   ],
   "source": [
    "print(fpdf.calc_stat_info())"
   ]
  },
  {
   "cell_type": "markdown",
   "metadata": {},
   "source": [
    "This is the same output as the `ui.calc_stat_info` routine returns, except that some concepts - such as data set ids - are not relevant here. As neither of the chosen statistics are based on (i.e. derived from) the Chi Square class (`sherpa.stats.Chi2`), the `qval` and `rstat` fields are not filled in.\n",
    "\n",
    "So, what happens when the data is fit?"
   ]
  },
  {
   "cell_type": "code",
   "execution_count": 28,
   "metadata": {
    "collapsed": false
   },
   "outputs": [
    {
     "data": {
      "text/plain": [
       "<Fit results instance>"
      ]
     },
     "execution_count": 28,
     "metadata": {},
     "output_type": "execute_result"
    }
   ],
   "source": [
    "fcdf.fit()"
   ]
  },
  {
   "cell_type": "code",
   "execution_count": 29,
   "metadata": {
    "collapsed": false
   },
   "outputs": [
    {
     "data": {
      "text/plain": [
       "<Fit results instance>"
      ]
     },
     "execution_count": 29,
     "metadata": {},
     "output_type": "execute_result"
    }
   ],
   "source": [
    "fpdf.fit()"
   ]
  },
  {
   "cell_type": "code",
   "execution_count": 30,
   "metadata": {
    "collapsed": false
   },
   "outputs": [
    {
     "data": {
      "text/plain": [
       "0.05979008129971705"
      ]
     },
     "execution_count": 30,
     "metadata": {},
     "output_type": "execute_result"
    }
   ],
   "source": [
    "fcdf.calc_stat()"
   ]
  },
  {
   "cell_type": "code",
   "execution_count": 31,
   "metadata": {
    "collapsed": false
   },
   "outputs": [
    {
     "data": {
      "text/plain": [
       "-7315.319910852827"
      ]
     },
     "execution_count": 31,
     "metadata": {},
     "output_type": "execute_result"
    }
   ],
   "source": [
    "fpdf.calc_stat()"
   ]
  },
  {
   "cell_type": "markdown",
   "metadata": {},
   "source": [
    "As can be seen, the fits have reduced the statistic value for both data sets. The model parameter values, or the return value of the `fit` call, can be viewed for more details, but let's look at the data."
   ]
  },
  {
   "cell_type": "markdown",
   "metadata": {},
   "source": [
    "## Looking at fit results"
   ]
  },
  {
   "cell_type": "markdown",
   "metadata": {},
   "source": [
    "To display both model and data in the same plot, I could do it manually, as I did earlier, but I want to try out the `FitPlot` class:"
   ]
  },
  {
   "cell_type": "code",
   "execution_count": 32,
   "metadata": {
    "collapsed": true
   },
   "outputs": [],
   "source": [
    "from sherpa.plot import FitPlot"
   ]
  },
  {
   "cell_type": "code",
   "execution_count": 33,
   "metadata": {
    "collapsed": true
   },
   "outputs": [],
   "source": [
    "fplotcdf = FitPlot()"
   ]
  },
  {
   "cell_type": "code",
   "execution_count": 34,
   "metadata": {
    "collapsed": false
   },
   "outputs": [
    {
     "name": "stdout",
     "output_type": "stream",
     "text": [
      "Help on method prepare in module sherpa.plot:\n",
      "\n",
      "prepare(self, dataplot, modelplot) method of sherpa.plot.FitPlot instance\n",
      "\n"
     ]
    }
   ],
   "source": [
    "help(fplotcdf.prepare)"
   ]
  },
  {
   "cell_type": "markdown",
   "metadata": {},
   "source": [
    "So, prepare takes \"plot\" objects, which are the `DataPlot` and `ModelPlot` instances I have already used. However, I need to \"refresh\" the model plot contents, since the model parameter values have changed (it may well be safer to always re-create these objects so you are sure what is being plotted, but for now I want to save some typing): "
   ]
  },
  {
   "cell_type": "code",
   "execution_count": 35,
   "metadata": {
    "collapsed": true
   },
   "outputs": [],
   "source": [
    "mplotcdf.prepare(dcdf, mcdf)\n",
    "fplotcdf.prepare(plotcdf, mplotcdf)"
   ]
  },
  {
   "cell_type": "code",
   "execution_count": 36,
   "metadata": {
    "collapsed": false
   },
   "outputs": [
    {
     "data": {
      "text/plain": [
       "(-0.05, 1.05)"
      ]
     },
     "execution_count": 36,
     "metadata": {},
     "output_type": "execute_result"
    },
    {
     "data": {
      "image/png": "[encoded data removed]",
      "text/plain": [
       "<matplotlib.figure.Figure at 0x7ff2c39e8ed0>"
      ]
     },
     "metadata": {},
     "output_type": "display_data"
    }
   ],
   "source": [
    "fplotcdf.plot()\n",
    "plt.ylim(-0.05, 1.05)"
   ]
  },
  {
   "cell_type": "code",
   "execution_count": 37,
   "metadata": {
    "collapsed": false
   },
   "outputs": [
    {
     "data": {
      "image/png": "[encoded data removed]",
      "text/plain": [
       "<matplotlib.figure.Figure at 0x7ff2c387da90>"
      ]
     },
     "metadata": {},
     "output_type": "display_data"
    }
   ],
   "source": [
    "mplotpdf.prepare(dpdf, mpdf)\n",
    "fplotpdf = FitPlot()\n",
    "fplotpdf.prepare(plotpdf, mplotpdf)\n",
    "fplotpdf.plot()"
   ]
  },
  {
   "cell_type": "markdown",
   "metadata": {},
   "source": [
    "So, the fits have worked!"
   ]
  },
  {
   "cell_type": "markdown",
   "metadata": {},
   "source": [
    "## How about the residuals"
   ]
  },
  {
   "cell_type": "markdown",
   "metadata": {},
   "source": [
    "The residuals could be calculated directly from the `DataPlot` and `ModelPlot` instances, but Sherpa also provides a `ResidPlot` class (there's also `DelchiPlot` for when you want ``(data-model)/error``): "
   ]
  },
  {
   "cell_type": "code",
   "execution_count": 38,
   "metadata": {
    "collapsed": true
   },
   "outputs": [],
   "source": [
    "from sherpa.plot import ResidPlot"
   ]
  },
  {
   "cell_type": "code",
   "execution_count": 39,
   "metadata": {
    "collapsed": true
   },
   "outputs": [],
   "source": [
    "rplotcdf = ResidPlot()"
   ]
  },
  {
   "cell_type": "code",
   "execution_count": 40,
   "metadata": {
    "collapsed": false
   },
   "outputs": [
    {
     "name": "stdout",
     "output_type": "stream",
     "text": [
      "Help on method prepare in module sherpa.plot:\n",
      "\n",
      "prepare(self, data, model, stat) method of sherpa.plot.ResidPlot instance\n",
      "\n"
     ]
    }
   ],
   "source": [
    "help(rplotcdf.prepare)"
   ]
  },
  {
   "cell_type": "markdown",
   "metadata": {},
   "source": [
    "Unlike previous plots, the `stat` argument is not optional, so I use the same statistic as in the fit (but a different instance). This is only used for calculating the error bars, which I am going to turn off anyway, so the exact choice is unimportant.\n",
    "\n",
    "The repeated warning message is due to an \"interesting\" interaction between the logging used by Sherpa for manyof its screen outputs, and the IPython notebook. I could have stopped this ny calling\n",
    "\n",
    "    import logging\n",
    "    logging.getLogger('sherpa').propagate = 0\n",
    "    \n",
    "but have left it in here \"for fun\"."
   ]
  },
  {
   "cell_type": "code",
   "execution_count": 41,
   "metadata": {
    "collapsed": false
   },
   "outputs": [
    {
     "name": "stdout",
     "output_type": "stream",
     "text": [
      "WARNING: The displayed errorbars have been supplied with the data or calculated using chi2xspecvar; the errors are not used in fits with leastsq\n"
     ]
    },
    {
     "name": "stderr",
     "output_type": "stream",
     "text": [
      "WARNING:sherpa.plot:The displayed errorbars have been supplied with the data or calculated using chi2xspecvar; the errors are not used in fits with leastsq\n"
     ]
    }
   ],
   "source": [
    "rplotcdf.prepare(dcdf, mcdf, LeastSq())"
   ]
  },
  {
   "cell_type": "markdown",
   "metadata": {},
   "source": [
    "With the plot prepared, can create it:"
   ]
  },
  {
   "cell_type": "code",
   "execution_count": 42,
   "metadata": {
    "collapsed": false
   },
   "outputs": [
    {
     "data": {
      "image/png": "[encoded data removed]",
      "text/plain": [
       "<matplotlib.figure.Figure at 0x7ff2c37d8790>"
      ]
     },
     "metadata": {},
     "output_type": "display_data"
    }
   ],
   "source": [
    "rplotcdf.plot()"
   ]
  },
  {
   "cell_type": "markdown",
   "metadata": {},
   "source": [
    "As the defaults are not sensible here, I can change them by\n",
    "\n",
    " - turning off the error bars\n",
    " - use a line to connect the points rather than a symbol\n",
    "   (I know the data is sorted, so a line works well here)"
   ]
  },
  {
   "cell_type": "code",
   "execution_count": 43,
   "metadata": {
    "collapsed": false
   },
   "outputs": [
    {
     "data": {
      "image/png": "[encoded data removed]",
      "text/plain": [
       "<matplotlib.figure.Figure at 0x7ff2c38e8e50>"
      ]
     },
     "metadata": {},
     "output_type": "display_data"
    }
   ],
   "source": [
    "prefs = rplotcdf.plot_prefs\n",
    "prefs['yerrorbars'] = False\n",
    "prefs['marker'] = ''\n",
    "prefs['linestyle'] = 'solid'\n",
    "rplotcdf.plot()"
   ]
  },
  {
   "cell_type": "markdown",
   "metadata": {},
   "source": [
    "Earlier I mentioned that the residual plot could be created manually from the data and model\n",
    "plots. This is shown below, and only holds if the `prepare` method has been called on each\n",
    "object."
   ]
  },
  {
   "cell_type": "code",
   "execution_count": 44,
   "metadata": {
    "collapsed": false
   },
   "outputs": [
    {
     "data": {
      "text/plain": [
       "[<matplotlib.lines.Line2D at 0x7ff2c38db310>]"
      ]
     },
     "execution_count": 44,
     "metadata": {},
     "output_type": "execute_result"
    },
    {
     "data": {
      "image/png": "[encoded data removed]",
      "text/plain": [
       "<matplotlib.figure.Figure at 0x7ff2c3872d90>"
      ]
     },
     "metadata": {},
     "output_type": "display_data"
    }
   ],
   "source": [
    "plt.plot(plotcdf.x, plotcdf.y - mplotcdf.y)"
   ]
  },
  {
   "cell_type": "markdown",
   "metadata": {},
   "source": [
    "## Combining the fit and residual plots"
   ]
  },
  {
   "cell_type": "markdown",
   "metadata": {},
   "source": [
    "I *can* use `matpotlib` commands to create a combined fit-and-resitual plot (this time I\n",
    "have to change the `clearwindow` option to `False` so that the subplots are not obliterated\n",
    "by the `plot` method):"
   ]
  },
  {
   "cell_type": "code",
   "execution_count": 45,
   "metadata": {
    "collapsed": false
   },
   "outputs": [
    {
     "data": {
      "image/png": "[encoded data removed]",
      "text/plain": [
       "<matplotlib.figure.Figure at 0x7ff2c384a3d0>"
      ]
     },
     "metadata": {},
     "output_type": "display_data"
    }
   ],
   "source": [
    "plt.subplot(2,1,1)\n",
    "fplotcdf.plot(clearwindow=False)\n",
    "plt.subplot(2,1,2)\n",
    "rplotcdf.plot(clearwindow=False)"
   ]
  },
  {
   "cell_type": "markdown",
   "metadata": {},
   "source": [
    "Perhaps unsurprisingly, given the presence of the `sherpa.ui.plot_fit_resid` function, Sherpa\n",
    "provides a class to handle displays with multiple plots:"
   ]
  },
  {
   "cell_type": "code",
   "execution_count": 46,
   "metadata": {
    "collapsed": true
   },
   "outputs": [],
   "source": [
    "from sherpa.plot import SplitPlot"
   ]
  },
  {
   "cell_type": "code",
   "execution_count": 47,
   "metadata": {
    "collapsed": false
   },
   "outputs": [],
   "source": [
    "splot = SplitPlot()"
   ]
  },
  {
   "cell_type": "markdown",
   "metadata": {},
   "source": [
    "Calling `addplot` with a plot object will add that plot in the next available element in the grid (which defaults to a 2-row, 1-column display)."
   ]
  },
  {
   "cell_type": "code",
   "execution_count": 48,
   "metadata": {
    "collapsed": false
   },
   "outputs": [
    {
     "data": {
      "image/png": "[encoded data removed]",
      "text/plain": [
       "<matplotlib.figure.Figure at 0x7ff2c3aaad90>"
      ]
     },
     "metadata": {},
     "output_type": "display_data"
    }
   ],
   "source": [
    "splot.addplot(fplotcdf)\n",
    "splot.addplot(rplotcdf)"
   ]
  },
  {
   "cell_type": "markdown",
   "metadata": {},
   "source": [
    "Larger grids can also be created, as shown below, but for that I need to create a residual plot of the \"PDF\" case (and change the logger to avoid the multiple-warning issue):"
   ]
  },
  {
   "cell_type": "code",
   "execution_count": 49,
   "metadata": {
    "collapsed": false
   },
   "outputs": [
    {
     "name": "stdout",
     "output_type": "stream",
     "text": [
      "WARNING: The displayed errorbars have been supplied with the data or calculated using chi2xspecvar; the errors are not used in fits with cash\n"
     ]
    }
   ],
   "source": [
    "import logging\n",
    "logging.getLogger('sherpa').propagate = 0\n",
    "\n",
    "rplotpdf = ResidPlot()\n",
    "rplotpdf.prepare(dpdf, mpdf, Cash())\n",
    "rplotpdf.plot_prefs['yerrorbars'] = False"
   ]
  },
  {
   "cell_type": "markdown",
   "metadata": {},
   "source": [
    "Multiple data sets can be displayed. Here I chose to switch to a two-by-two grid\n",
    "and plot up the data using the `plot` method which requires you to specify the column and\n",
    "grid location of each plot (in this example I could have stuck with `addplot` since the order of the plots matches that used by `addplot`, but I wanted to show the direct approach here):"
   ]
  },
  {
   "cell_type": "code",
   "execution_count": 50,
   "metadata": {
    "collapsed": false
   },
   "outputs": [
    {
     "data": {
      "image/png": "[encoded data removed]",
      "text/plain": [
       "<matplotlib.figure.Figure at 0x7ff2c3264b50>"
      ]
     },
     "metadata": {},
     "output_type": "display_data"
    }
   ],
   "source": [
    "splot.reset(rows=2, cols=2)\n",
    "splot.plot(0, 0, fplotcdf)\n",
    "splot.plot(0, 1, fplotpdf)\n",
    "splot.plot(1, 0, rplotcdf)\n",
    "splot.plot(1, 1, rplotpdf)"
   ]
  },
  {
   "cell_type": "markdown",
   "metadata": {},
   "source": [
    "Note that the two residual plots use different styles because of the different `plot_prefs` settings for each object."
   ]
  }
 ],
 "metadata": {
  "kernelspec": {
   "display_name": "Python 2",
   "language": "python",
   "name": "python2"
  },
  "language_info": {
   "codemirror_mode": {
    "name": "ipython",
    "version": 2
   },
   "file_extension": ".py",
   "mimetype": "text/x-python",
   "name": "python",
   "nbconvert_exporter": "python",
   "pygments_lexer": "ipython2",
   "version": "2.7.10"
  }
 },
 "nbformat": 4,
 "nbformat_minor": 0
}
