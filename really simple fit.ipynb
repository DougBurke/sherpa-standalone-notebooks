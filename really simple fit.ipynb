{
 "cells": [
  {
   "cell_type": "markdown",
   "metadata": {},
   "source": [
    "# I need to do some interpolation\n",
    "\n",
    "This notebook shows how you can use [Sherpa](https://sherpa.readthedocs.io/) to do some\n",
    "simple interpolation after \"fitting\" your data. It is a fairly basic task but hopefully illustrates\n",
    "some of the basic components of Sherpa.\n",
    "\n",
    "As winter has finally arrived in New England$^*$, I've taken to making the kids porridge for breakfast.\n",
    "However, as shown below, the tabulated values for the amount of oatmeal and water (as we add milk\n",
    "to taste, rather than when cooking) don't cover every serving size. So far I have been \n",
    "winging it$^\\dagger$, but\n",
    "that seems rather un-scientific, so let's see what the power of science$^\\ddagger$ can do for me.\n",
    "\n",
    "$^*$ well, it had when I originally wrote the notebook\n",
    "\n",
    "$^\\dagger$ also known as piecewise linear interpolation\n",
    "\n",
    "$^\\ddagger$ well, really it's simple maths, but this doesn't sound so exciting\n",
    "\n",
    "## Last run\n",
    "\n",
    "When was this notebook last run?"
   ]
  },
  {
   "cell_type": "code",
   "execution_count": 1,
   "metadata": {},
   "outputs": [
    {
     "data": {
      "text/plain": [
       "'2019-03-28 18:42'"
      ]
     },
     "execution_count": 1,
     "metadata": {},
     "output_type": "execute_result"
    }
   ],
   "source": [
    "import datetime\n",
    "datetime.datetime.now().strftime(\"%Y-%m-%d %H:%M\")"
   ]
  },
  {
   "cell_type": "markdown",
   "metadata": {},
   "source": [
    "I want to include some inline plots, so need matplotlib enabled for the notebook. NumPy is also useful\n",
    "with Sherpa."
   ]
  },
  {
   "cell_type": "code",
   "execution_count": 2,
   "metadata": {},
   "outputs": [],
   "source": [
    "%matplotlib inline"
   ]
  },
  {
   "cell_type": "code",
   "execution_count": 3,
   "metadata": {},
   "outputs": [],
   "source": [
    "import numpy as np\n",
    "import matplotlib.pyplot as plt"
   ]
  },
  {
   "cell_type": "markdown",
   "metadata": {},
   "source": [
    "## Setting up Sherpa\n",
    "\n",
    "For this notebook I am going to use the anaconda-provided version of\n",
    "Sherpa, which is - as of the end of March, 2019 - at \n",
    "[version `4.11.0`](https://zenodo.org/record/2573885).\n",
    "You can also try installing the standalone version\n",
    "[from source](https://github.com/sherpa/sherpa/), \n",
    "or using the version of Sherpa in [CIAO](http://cxc.harvard.edu/ciao/)\n",
    "(which, as of CIAO 4.11, comes with Jupyter notebook support).\n",
    "\n",
    "```\n",
    "% conda --version\n",
    "conda 4.6.7\n",
    "% conda create -n=sherpa-standalone-notebooks -c sherpa python=3.7 sherpa matplotlib ipython-notebook\n",
    "Fetching package metadata: ......\n",
    "Solving package specifications: ..........................\n",
    "... a lot more text\n",
    "#\n",
    "# To activate this environment, use\n",
    "#\n",
    "#     $ conda activate sherpa-notebooks\n",
    "#\n",
    "# To deactivate an active environment, use\n",
    "#\n",
    "#     $ conda deactivate\n",
    "\n",
    "% conda activate sherpa-standalone-notebooks\n",
    "```\n",
    "\n",
    "Note that this was all done before starting up the notebook, which can be done by cloning the repository:\n",
    "\n",
    "    % git clone https://github.com/DougBurke/sherpa-standalone-notebooks\n",
    "    % cd sherpa-standalone-notebooks\n",
    "    % jupyter notebook\n",
    "    \n",
    "and then selecting the \"really simple fit\" option on the web page this creates."
   ]
  },
  {
   "cell_type": "markdown",
   "metadata": {},
   "source": [
    "## What is the data?\n",
    "\n",
    "Here's the tabulated values from the Oatmeal packaging:\n",
    "\n",
    "<table>\n",
    " <thead>\n",
    " <tr><th>Servings</th><th>Oatmeal (cups)</th><th>Water (cups)</th></tr>\n",
    " </thead>\n",
    " <tbody>\n",
    " <tr><td>1</td><td>0.5</td><td>1</td></tr>\n",
    " <tr><td>1.5</td><td>0.75</td><td>1.5</td></tr>\n",
    " <tr><td>2</td><td>1</td><td>1.75</td></tr>\n",
    " <tr><td>4</td><td>2</td><td>3.25</td></tr>\n",
    " <tr><td>8</td><td>4</td><td>6</td></tr>\n",
    " <tr><td>17</td><td>8</td><td>16</td></tr>\n",
    " </tbody>\n",
    "</table>\n",
    "\n",
    "Leaving aside the insanity of the use of cups as a sensible unit for\n",
    "cooking, which is a topic for another day, I want to calculate the amount\n",
    "of Oatmeal ($y_1$) and water ($y_2$) for a given serving size of porridge ($x$).\n",
    "\n",
    "This can be represented as three Python lists:"
   ]
  },
  {
   "cell_type": "code",
   "execution_count": 4,
   "metadata": {},
   "outputs": [],
   "source": [
    "x = [1, 1.5, 2, 4, 8, 17]\n",
    "y1 = [0.5, 0.75, 1, 2, 4, 8]\n",
    "y2 = [1, 1.5, 1.75, 3.25, 6, 16]"
   ]
  },
  {
   "cell_type": "markdown",
   "metadata": {},
   "source": [
    "I expect these to be close to linear, but what do they really look like? Let's\n",
    "\"load\" them into Sherpa to find out. First I load up the main \"UI\" module for\n",
    "Sherpa (I have no need for the more complex routines in `sherpa.astro.ui` so\n",
    "can just use the `sherpa.ui` module):"
   ]
  },
  {
   "cell_type": "code",
   "execution_count": 5,
   "metadata": {},
   "outputs": [
    {
     "name": "stdout",
     "output_type": "stream",
     "text": [
      "WARNING: imaging routines will not be available, \n",
      "failed to import sherpa.image.ds9_backend due to \n",
      "'RuntimeErr: DS9Win unusable: Could not find ds9 on your PATH'\n"
     ]
    }
   ],
   "source": [
    "from sherpa import ui"
   ]
  },
  {
   "cell_type": "markdown",
   "metadata": {},
   "source": [
    "It is okay if you see some warning messages here, as Sherpa supports a number of optional\n",
    "packages.\n",
    "\n",
    "Now the data can be loaded into Sherpa. As there's two datasets - $(x, y_1)$ and $(x, y_2)$ - I am\n",
    "going to use identifiers of `1` and `2` (and will be explicit in using these identifiers, even though\n",
    "many of the Sherpa functions will default to an identifier of `1` when not given):"
   ]
  },
  {
   "cell_type": "code",
   "execution_count": 6,
   "metadata": {},
   "outputs": [],
   "source": [
    "ui.load_arrays(1, x, y1)\n",
    "ui.load_arrays(2, x, y2)"
   ]
  },
  {
   "cell_type": "markdown",
   "metadata": {},
   "source": [
    "For this analysis I am going to ignore errors, which means use a least-square statistic when I fit, and\n",
    "turn off the error bars in the data plots:"
   ]
  },
  {
   "cell_type": "code",
   "execution_count": 7,
   "metadata": {},
   "outputs": [],
   "source": [
    "ui.set_stat('leastsq')\n",
    "ui.get_data_plot_prefs()['yerrorbars'] = False"
   ]
  },
  {
   "cell_type": "markdown",
   "metadata": {},
   "source": [
    "With these changes, I can display the data (the warning message can be ignored here, since we\n",
    "do not care about errors):"
   ]
  },
  {
   "cell_type": "code",
   "execution_count": 8,
   "metadata": {},
   "outputs": [
    {
     "name": "stdout",
     "output_type": "stream",
     "text": [
      "WARNING: The displayed errorbars have been supplied with the data or calculated using chi2xspecvar; the errors are not used in fits with leastsq\n"
     ]
    },
    {
     "data": {
      "image/png": "[encoded data removed]",
      "text/plain": [
       "<Figure size 432x288 with 1 Axes>"
      ]
     },
     "metadata": {
      "needs_background": "light"
     },
     "output_type": "display_data"
    }
   ],
   "source": [
    "ui.plot_data(1)"
   ]
  },
  {
   "cell_type": "code",
   "execution_count": 9,
   "metadata": {},
   "outputs": [
    {
     "name": "stdout",
     "output_type": "stream",
     "text": [
      "WARNING: The displayed errorbars have been supplied with the data or calculated using chi2xspecvar; the errors are not used in fits with leastsq\n"
     ]
    },
    {
     "data": {
      "image/png": "[encoded data removed]",
      "text/plain": [
       "<Figure size 432x288 with 1 Axes>"
      ]
     },
     "metadata": {
      "needs_background": "light"
     },
     "output_type": "display_data"
    }
   ],
   "source": [
    "ui.plot_data(2)"
   ]
  },
  {
   "cell_type": "markdown",
   "metadata": {},
   "source": [
    "So, they both look reasonably linear, although the second one less so. How do they compare?"
   ]
  },
  {
   "cell_type": "code",
   "execution_count": 10,
   "metadata": {},
   "outputs": [
    {
     "name": "stdout",
     "output_type": "stream",
     "text": [
      "WARNING: The displayed errorbars have been supplied with the data or calculated using chi2xspecvar; the errors are not used in fits with leastsq\n",
      "WARNING: The displayed errorbars have been supplied with the data or calculated using chi2xspecvar; the errors are not used in fits with leastsq\n"
     ]
    },
    {
     "data": {
      "image/png": "[encoded data removed]",
      "text/plain": [
       "<Figure size 432x288 with 1 Axes>"
      ]
     },
     "metadata": {
      "needs_background": "light"
     },
     "output_type": "display_data"
    }
   ],
   "source": [
    "ui.plot_data(1)\n",
    "ui.plot_data(2, overplot=True)"
   ]
  },
  {
   "cell_type": "markdown",
   "metadata": {},
   "source": [
    "My guess, from looking at this plot, is that the first dataset (the blue points) can be modelled by a\n",
    "staight line, whereas the second dataset (the green points) needs a quadratic.\n",
    "\n",
    "Sherpa has a `polynom1d` model to handle low-order polynomials. I am going to\n",
    "create an instance of this model and set it as the \"source\" model of the\n",
    "first dataset - i.e. use it to describe the data:"
   ]
  },
  {
   "cell_type": "code",
   "execution_count": 11,
   "metadata": {},
   "outputs": [],
   "source": [
    "ui.set_source(1, ui.polynom1d.m1)"
   ]
  },
  {
   "cell_type": "markdown",
   "metadata": {},
   "source": [
    "This line did two things:\n",
    "\n",
    "1. the statement `ui.polynom1d.m1` created an instance of the `polynom1d` model called `m1`\n",
    "2. the `ui.set_source` call set this as the model to be fit to the first dataset (much more\n",
    "   complicated expressions can be used, but for this notebook a single component is all that\n",
    "   is needed).\n",
    "\n",
    "The `m1` component has a number of parameters, which can be displayed with a call to `print`:"
   ]
  },
  {
   "cell_type": "code",
   "execution_count": 12,
   "metadata": {},
   "outputs": [
    {
     "name": "stdout",
     "output_type": "stream",
     "text": [
      "polynom1d.m1\n",
      "   Param        Type          Value          Min          Max      Units\n",
      "   -----        ----          -----          ---          ---      -----\n",
      "   m1.c0        thawed            1 -3.40282e+38  3.40282e+38           \n",
      "   m1.c1        frozen            0 -3.40282e+38  3.40282e+38           \n",
      "   m1.c2        frozen            0 -3.40282e+38  3.40282e+38           \n",
      "   m1.c3        frozen            0 -3.40282e+38  3.40282e+38           \n",
      "   m1.c4        frozen            0 -3.40282e+38  3.40282e+38           \n",
      "   m1.c5        frozen            0 -3.40282e+38  3.40282e+38           \n",
      "   m1.c6        frozen            0 -3.40282e+38  3.40282e+38           \n",
      "   m1.c7        frozen            0 -3.40282e+38  3.40282e+38           \n",
      "   m1.c8        frozen            0 -3.40282e+38  3.40282e+38           \n",
      "   m1.offset    frozen            0 -3.40282e+38  3.40282e+38           \n"
     ]
    }
   ],
   "source": [
    "print(m1)"
   ]
  },
  {
   "cell_type": "markdown",
   "metadata": {},
   "source": [
    "Parameters - e.g. `m1.c0` and `m1.c1` - control the model values, and their meaning depends\n",
    "on the model (in this case `polynom1d`). The model documentation - e.g. `help(m1)` - provides\n",
    "information on the model and its parameters, but this **must** be done on a model \"instance\",\n",
    "since using the model class (i.e. `ui.polynom1d`) does not provide anything useful.\n",
    "\n",
    "\n",
    "I am not going to include the help here, as it is quite long (since it also includes some standard Python documentation for classes), but it does tell me that the `polynom1d` model is defined as (assuming that $\\rm{offset} \\equiv 0$):\n",
    "\n",
    "$$y = \\sum_{i=0}^8 c_i x^i$$\n",
    "\n",
    "so `c0` is the intercept term and `c1` the slope for a straight line.\n",
    "\n",
    "The `type` column - which is either `frozen` or `thawed` (which seems quite apt as earlier today\n",
    "I was out shovelling snow) - indicates whether the parameter can be varied during a fit. In this\n",
    "case the model starts out with only the intercept term being free to be fit.\n",
    "\n",
    "With these parameter settings, the model evaluates to `1` for each point. The model can be\n",
    "displayed with a call to `ui.plot_model`, but that's not going to be particularly illuminating.\n",
    "It's a bit more interesting to compare the model to the data:"
   ]
  },
  {
   "cell_type": "code",
   "execution_count": 13,
   "metadata": {},
   "outputs": [
    {
     "name": "stdout",
     "output_type": "stream",
     "text": [
      "WARNING: The displayed errorbars have been supplied with the data or calculated using chi2xspecvar; the errors are not used in fits with leastsq\n"
     ]
    },
    {
     "data": {
      "image/png": "[encoded data removed]",
      "text/plain": [
       "<Figure size 432x288 with 1 Axes>"
      ]
     },
     "metadata": {
      "needs_background": "light"
     },
     "output_type": "display_data"
    }
   ],
   "source": [
    "ui.plot_fit(1)"
   ]
  },
  {
   "cell_type": "markdown",
   "metadata": {},
   "source": [
    "The parameters can be modified manually, such as adding a linear component to the model:"
   ]
  },
  {
   "cell_type": "code",
   "execution_count": 14,
   "metadata": {},
   "outputs": [
    {
     "name": "stdout",
     "output_type": "stream",
     "text": [
      "WARNING: The displayed errorbars have been supplied with the data or calculated using chi2xspecvar; the errors are not used in fits with leastsq\n"
     ]
    },
    {
     "data": {
      "image/png": "[encoded data removed]",
      "text/plain": [
       "<Figure size 432x288 with 1 Axes>"
      ]
     },
     "metadata": {
      "needs_background": "light"
     },
     "output_type": "display_data"
    }
   ],
   "source": [
    "m1.c1 = 1\n",
    "ui.plot_fit(1)"
   ]
  },
  {
   "cell_type": "markdown",
   "metadata": {},
   "source": [
    "However, the whole point of using Sherpa is to get it to do the fit!"
   ]
  },
  {
   "cell_type": "code",
   "execution_count": 15,
   "metadata": {},
   "outputs": [
    {
     "name": "stdout",
     "output_type": "stream",
     "text": [
      "Dataset               = 1\n",
      "Method                = levmar\n",
      "Statistic             = leastsq\n",
      "Initial fit statistic = 143.312\n",
      "Final fit statistic   = 53.2188 at function evaluation 4\n",
      "Data points           = 6\n",
      "Degrees of freedom    = 5\n",
      "Change in statistic   = 90.0937\n",
      "   m1.c0          -2.875       +/- 0.408248    \n"
     ]
    }
   ],
   "source": [
    "ui.fit(1)"
   ]
  },
  {
   "cell_type": "markdown",
   "metadata": {},
   "source": [
    "The optimiser - in this case, one based on the Levenberg-Marquardt algorithm from \n",
    "[MINPACK](https://people.sc.fsu.edu/~jburkardt/f_src/minpack/minpack.html), although in this\n",
    "case most optimisers should work - has found the best-fit solution by minimising the\n",
    "least-squares distance between the data and model:\n",
    "\n",
    "$$\\sum_i (y_i - \\rm{model}_i)^2$$\n",
    "\n",
    "Hopefully it's a better fit; let's check:"
   ]
  },
  {
   "cell_type": "code",
   "execution_count": 16,
   "metadata": {},
   "outputs": [
    {
     "name": "stdout",
     "output_type": "stream",
     "text": [
      "WARNING: The displayed errorbars have been supplied with the data or calculated using chi2xspecvar; the errors are not used in fits with leastsq\n"
     ]
    },
    {
     "data": {
      "image/png": "[encoded data removed]",
      "text/plain": [
       "<Figure size 432x288 with 1 Axes>"
      ]
     },
     "metadata": {
      "needs_background": "light"
     },
     "output_type": "display_data"
    }
   ],
   "source": [
    "ui.plot_fit(1)"
   ]
  },
  {
   "cell_type": "markdown",
   "metadata": {},
   "source": [
    "Oops, the only parameter fit was the intercept (`m1.c0`) because I had forgotten to \"thaw\" the slope parameter. This can actually be seen in the output of the `fit` command earlier, since:\n",
    "\n",
    "* only the `m1.c0` parameter value was displayed\n",
    "* the \"`Degrees of Freedom`\" was given as 5, and as there are only 6 data points this means that only one\n",
    "  parameter was fit.\n",
    "   \n",
    "Rectifying this mistake gives a better fit (both visually, and numerically since the fit statistic has\n",
    "changed from $\\sim 53$ to $\\sim 0.04$):"
   ]
  },
  {
   "cell_type": "code",
   "execution_count": 17,
   "metadata": {},
   "outputs": [
    {
     "name": "stdout",
     "output_type": "stream",
     "text": [
      "Dataset               = 1\n",
      "Method                = levmar\n",
      "Statistic             = leastsq\n",
      "Initial fit statistic = 53.2188\n",
      "Final fit statistic   = 0.0361154 at function evaluation 6\n",
      "Data points           = 6\n",
      "Degrees of freedom    = 4\n",
      "Change in statistic   = 53.1826\n",
      "   m1.c0          0.0851134    +/- 0.575695    \n",
      "   m1.c1          0.46983      +/- 0.0726992   \n",
      "WARNING: The displayed errorbars have been supplied with the data or calculated using chi2xspecvar; the errors are not used in fits with leastsq\n"
     ]
    },
    {
     "data": {
      "image/png": "[encoded data removed]",
      "text/plain": [
       "<Figure size 432x288 with 1 Axes>"
      ]
     },
     "metadata": {
      "needs_background": "light"
     },
     "output_type": "display_data"
    }
   ],
   "source": [
    "ui.thaw(m1.c1)\n",
    "ui.fit(1)\n",
    "ui.plot_fit(1)"
   ]
  },
  {
   "cell_type": "markdown",
   "metadata": {},
   "source": [
    "The residuals - defined as `data - model` - can be displayed using `ui.plot_resid`, but unfortunately there is\n",
    "no easy way to turn off the error bars:"
   ]
  },
  {
   "cell_type": "code",
   "execution_count": 18,
   "metadata": {},
   "outputs": [
    {
     "name": "stdout",
     "output_type": "stream",
     "text": [
      "WARNING: The displayed errorbars have been supplied with the data or calculated using chi2xspecvar; the errors are not used in fits with leastsq\n"
     ]
    },
    {
     "data": {
      "image/png": "[encoded data removed]",
      "text/plain": [
       "<Figure size 432x288 with 1 Axes>"
      ]
     },
     "metadata": {
      "needs_background": "light"
     },
     "output_type": "display_data"
    }
   ],
   "source": [
    "ui.plot_resid(1)"
   ]
  },
  {
   "cell_type": "markdown",
   "metadata": {},
   "source": [
    "To zoom in on these plots I want to know what the maximim value is away from zero. This can be done in several ways; below I use the `ui.get_resid_plot` function, which returns a structured form of the data shown in the plot above, and calculate the maximum of the absolute value of the residuals:"
   ]
  },
  {
   "cell_type": "code",
   "execution_count": 19,
   "metadata": {},
   "outputs": [
    {
     "name": "stdout",
     "output_type": "stream",
     "text": [
      "WARNING: The displayed errorbars have been supplied with the data or calculated using chi2xspecvar; the errors are not used in fits with leastsq\n"
     ]
    },
    {
     "data": {
      "text/plain": [
       "0.1562431182547246"
      ]
     },
     "execution_count": 19,
     "metadata": {},
     "output_type": "execute_result"
    }
   ],
   "source": [
    "np.abs(ui.get_resid_plot(1).y).max()"
   ]
  },
  {
   "cell_type": "markdown",
   "metadata": {},
   "source": [
    "So, restricting the plot to $\\pm 0.17$ should work:"
   ]
  },
  {
   "cell_type": "code",
   "execution_count": 20,
   "metadata": {},
   "outputs": [
    {
     "name": "stdout",
     "output_type": "stream",
     "text": [
      "WARNING: The displayed errorbars have been supplied with the data or calculated using chi2xspecvar; the errors are not used in fits with leastsq\n"
     ]
    },
    {
     "data": {
      "image/png": "[encoded data removed]",
      "text/plain": [
       "<Figure size 432x288 with 1 Axes>"
      ]
     },
     "metadata": {
      "needs_background": "light"
     },
     "output_type": "display_data"
    }
   ],
   "source": [
    "ui.plot_resid(1)\n",
    "_ = plt.ylim(-0.17, 0.17)"
   ]
  },
  {
   "cell_type": "markdown",
   "metadata": {},
   "source": [
    "So, over this range, a linear model is only out by at most $\\sim 0.2$.\n",
    "\n",
    "Let's see how well a linear model does with the second dataset (the `ui.plot_fit_resid` call creates two plots; the top one the `fit` plot and the bottom one the `resid` one):"
   ]
  },
  {
   "cell_type": "code",
   "execution_count": 21,
   "metadata": {},
   "outputs": [
    {
     "name": "stdout",
     "output_type": "stream",
     "text": [
      "Dataset               = 2\n",
      "Method                = levmar\n",
      "Statistic             = leastsq\n",
      "Initial fit statistic = 255.875\n",
      "Final fit statistic   = 1.89763 at function evaluation 6\n",
      "Data points           = 6\n",
      "Degrees of freedom    = 4\n",
      "Change in statistic   = 253.977\n",
      "   m2.c0          -0.248624    +/- 0.575695    \n",
      "   m2.c1          0.925127     +/- 0.0726992   \n",
      "WARNING: The displayed errorbars have been supplied with the data or calculated using chi2xspecvar; the errors are not used in fits with leastsq\n",
      "WARNING: The displayed errorbars have been supplied with the data or calculated using chi2xspecvar; the errors are not used in fits with leastsq\n"
     ]
    },
    {
     "data": {
      "image/png": "[encoded data removed]",
      "text/plain": [
       "<Figure size 432x288 with 2 Axes>"
      ]
     },
     "metadata": {
      "needs_background": "light"
     },
     "output_type": "display_data"
    }
   ],
   "source": [
    "ui.set_source(2, ui.polynom1d.m2)\n",
    "# I could have said ui.thaw(m2.c1), but the parameter attributes can also be changed directly\n",
    "m2.c1.frozen = False\n",
    "ui.fit(2)\n",
    "ui.plot_fit_resid(2)"
   ]
  },
  {
   "cell_type": "markdown",
   "metadata": {},
   "source": [
    "So, the residuals look a little bigger here, about $\\sim 1$. Let's check, this time calculating the residuals rather than using `ui.get_resid_plot`:"
   ]
  },
  {
   "cell_type": "code",
   "execution_count": 22,
   "metadata": {},
   "outputs": [],
   "source": [
    "resid2 = np.asarray(y2) - m2(x)"
   ]
  },
  {
   "cell_type": "markdown",
   "metadata": {},
   "source": [
    "The model - in this case `m2` - when given an array will return an array of values of the model evaluated at\n",
    "these points. I used this to create the `resid2` array, which has a minimum and maximum of:"
   ]
  },
  {
   "cell_type": "code",
   "execution_count": 23,
   "metadata": {},
   "outputs": [
    {
     "data": {
      "text/plain": [
       "-1.1523893415533468"
      ]
     },
     "execution_count": 23,
     "metadata": {},
     "output_type": "execute_result"
    }
   ],
   "source": [
    "resid2.min()"
   ]
  },
  {
   "cell_type": "code",
   "execution_count": 24,
   "metadata": {},
   "outputs": [
    {
     "data": {
      "text/plain": [
       "0.5214710416238386"
      ]
     },
     "execution_count": 24,
     "metadata": {},
     "output_type": "execute_result"
    }
   ],
   "source": [
    "resid2.max()"
   ]
  },
  {
   "cell_type": "markdown",
   "metadata": {},
   "source": [
    "An obvious question is does a quadratic model give a better approximation than the linear model for this data set? To make it easy to compare, I add a third dataset, and fit a quadratic model to it:"
   ]
  },
  {
   "cell_type": "code",
   "execution_count": 25,
   "metadata": {},
   "outputs": [
    {
     "name": "stdout",
     "output_type": "stream",
     "text": [
      "Dataset               = 3\n",
      "Method                = levmar\n",
      "Statistic             = leastsq\n",
      "Initial fit statistic = 255.875\n",
      "Final fit statistic   = 0.108069 at function evaluation 8\n",
      "Data points           = 6\n",
      "Degrees of freedom    = 3\n",
      "Change in statistic   = 255.767\n",
      "   m3.c0          0.64415      +/- 0.881369    \n",
      "   m3.c1          0.498841     +/- 0.326848    \n",
      "   m3.c2          0.0237181    +/- 0.0177299   \n",
      "WARNING: The displayed errorbars have been supplied with the data or calculated using chi2xspecvar; the errors are not used in fits with leastsq\n",
      "WARNING: The displayed errorbars have been supplied with the data or calculated using chi2xspecvar; the errors are not used in fits with leastsq\n"
     ]
    },
    {
     "data": {
      "image/png": "[encoded data removed]",
      "text/plain": [
       "<Figure size 432x288 with 2 Axes>"
      ]
     },
     "metadata": {
      "needs_background": "light"
     },
     "output_type": "display_data"
    }
   ],
   "source": [
    "ui.load_arrays(3, x, y2)\n",
    "ui.set_source(3, ui.polynom1d.m3)\n",
    "ui.thaw(m3.c0, m3.c1, m3.c2)  # thaw can be applied to multiple parameters\n",
    "ui.fit(3)\n",
    "ui.plot_fit_resid(3)"
   ]
  },
  {
   "cell_type": "markdown",
   "metadata": {},
   "source": [
    "As expected, the residuals are smaller, but how do the models compare visually?"
   ]
  },
  {
   "cell_type": "code",
   "execution_count": 26,
   "metadata": {},
   "outputs": [
    {
     "name": "stdout",
     "output_type": "stream",
     "text": [
      "WARNING: The displayed errorbars have been supplied with the data or calculated using chi2xspecvar; the errors are not used in fits with leastsq\n"
     ]
    },
    {
     "data": {
      "image/png": "[encoded data removed]",
      "text/plain": [
       "<Figure size 432x288 with 1 Axes>"
      ]
     },
     "metadata": {
      "needs_background": "light"
     },
     "output_type": "display_data"
    }
   ],
   "source": [
    "ui.plot_data(2)\n",
    "ui.plot_source(2, overplot=True)\n",
    "ui.plot_source(3, overplot=True)"
   ]
  },
  {
   "cell_type": "markdown",
   "metadata": {},
   "source": [
    "I could add extra terms to the polynomial, or a different model, but I think that we have what we need.\n",
    "I can wrap the models up in a simple function to display the interpolated (i.e. model) values for a given\n",
    "number of servings by calling the models with a single-element array. The only slightly-tricky thing to\n",
    "remember is to make sure the input array has a floating-point type, otherwise the output will be in\n",
    "integer format."
   ]
  },
  {
   "cell_type": "code",
   "execution_count": 27,
   "metadata": {},
   "outputs": [],
   "source": [
    "def ingredients(nservings):\n",
    "    \"\"\"How much oatmeal and water do I need?\n",
    "    \n",
    "    Parameters\n",
    "    ----------\n",
    "    nservings: int\n",
    "        The number of servings\n",
    "        \n",
    "    Returns\n",
    "    -------\n",
    "    (oatmeal, water_lin, water_quad)\n",
    "        The number of cups of oatmeal and water. The water values are\n",
    "        calculated using a linear and quadratic approximation respectively.\n",
    "    \"\"\"\n",
    "    \n",
    "    x = [nservings * 1.0]\n",
    "    oats = m1(x)[0]\n",
    "    water_l = m2(x)[0]\n",
    "    water_q = m3(x)[0]\n",
    "    return {'oats': oats, 'water (linear)': water_l, 'water (quadratic)': water_q}"
   ]
  },
  {
   "cell_type": "markdown",
   "metadata": {},
   "source": [
    "With this, I can now happily cook breakfast for the kids! The only decision - other than how many dried cranberries\n",
    "to add to the mix - is whether to use the linear or quadratic version!"
   ]
  },
  {
   "cell_type": "code",
   "execution_count": 28,
   "metadata": {},
   "outputs": [
    {
     "data": {
      "text/plain": [
       "{'oats': 0.5549438449680721,\n",
       " 'water (linear)': 0.6765029729133807,\n",
       " 'water (quadratic)': 1.1667091967194232}"
      ]
     },
     "execution_count": 28,
     "metadata": {},
     "output_type": "execute_result"
    }
   ],
   "source": [
    "ingredients(1)"
   ]
  },
  {
   "cell_type": "code",
   "execution_count": 29,
   "metadata": {},
   "outputs": [
    {
     "data": {
      "text/plain": [
       "{'oats': 1.4946047126187016,\n",
       " 'water (linear)': 2.526756221096228,\n",
       " 'water (quadratic)': 2.354135374844933}"
      ]
     },
     "execution_count": 29,
     "metadata": {},
     "output_type": "execute_result"
    }
   ],
   "source": [
    "ingredients(3)"
   ]
  },
  {
   "cell_type": "code",
   "execution_count": 30,
   "metadata": {},
   "outputs": [
    {
     "data": {
      "text/plain": [
       "{'oats': 1.9644351464440164,\n",
       " 'water (linear)': 3.4518828451876518,\n",
       " 'water (quadratic)': 3.0190027563625113}"
      ]
     },
     "execution_count": 30,
     "metadata": {},
     "output_type": "execute_result"
    }
   ],
   "source": [
    "ingredients(4)"
   ]
  },
  {
   "cell_type": "markdown",
   "metadata": {},
   "source": [
    "# NO WARRANTY IS PROVIDED OR IMPLIED\n",
    "\n",
    "Please note that no warrant is provided with this work. I take no responsibilty if using these\n",
    "values leads to an inedible breakfast situation. Or a porridge explosion."
   ]
  }
 ],
 "metadata": {
  "kernelspec": {
   "display_name": "Python 3",
   "language": "python",
   "name": "python3"
  },
  "language_info": {
   "codemirror_mode": {
    "name": "ipython",
    "version": 3
   },
   "file_extension": ".py",
   "mimetype": "text/x-python",
   "name": "python",
   "nbconvert_exporter": "python",
   "pygments_lexer": "ipython3",
   "version": "3.7.3"
  }
 },
 "nbformat": 4,
 "nbformat_minor": 1
}
