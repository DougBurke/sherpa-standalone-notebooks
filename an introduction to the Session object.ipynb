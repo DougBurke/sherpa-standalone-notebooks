{
 "cells": [
  {
   "cell_type": "markdown",
   "metadata": {},
   "source": [
    "# An introduction to the Session object\n",
    "\n",
    "This is a quick notebook showing off the Sherpa session API. This is the code that makes the UI layer (either `sherpa.astro.ui` or `sherpa.ui`) work, but in these modules it is hidden away.\n",
    "\n",
    "I am using the [Sherpa 4.11.0 release](https://sherpa.readthedocs.io/en/4.11.0/), having used conda to install it\n",
    "with an invocation like\n",
    "\n",
    "    conda create -n=sherpa-notebooks -c sherpa python=3.7 sherpa astropy matplotlib jupyter\n"
   ]
  },
  {
   "cell_type": "markdown",
   "metadata": {},
   "source": [
    "## Author and disclaimer\n",
    "\n",
    "This was written by \n",
    "[Douglas Burke](http://hea-www.cfa.harvard.edu/~dburke/)\n",
    "on January 31 2017. This notebook, and others that may be of interest, can be found on GitHub at\n",
    "https://github.com/DougBurke/sherpa-standalone-notebooks.\n",
    "\n",
    "The information in this document is placed into the Publc Domain. It is not an official product of the Chandra X-ray Center, and I make no guarantee that it is not without bugs or embarassing typos. Please contact me via the GitHub repository or on Twitter - at \n",
    "[@doug_burke](https://twitter.com/doug_burke) - if you have any questions."
   ]
  },
  {
   "cell_type": "markdown",
   "metadata": {},
   "source": [
    "## Last run\n",
    "\n",
    "Let's start off by seeing when I last ran this notebook"
   ]
  },
  {
   "cell_type": "code",
   "execution_count": 1,
   "metadata": {},
   "outputs": [],
   "source": [
    "import datetime\n",
    "datetime.datetime.now().strftime(\"%Y-%m-%d %H:%M\")"
   ]
  },
  {
   "cell_type": "markdown",
   "metadata": {},
   "source": [
    "and what version of Sherpa is being used (the 'full' key represents the git commit used to build this version of Sherpa):"
   ]
  },
  {
   "cell_type": "code",
   "execution_count": 2,
   "metadata": {},
   "outputs": [
    {
     "name": "stdout",
     "output_type": "stream",
     "text": [
      "{'version': '4.11.0', 'full': 'ad6916669a62780ad64b6333695ba6b177bc9e5a'}\n"
     ]
    }
   ],
   "source": [
    "import sherpa\n",
    "print(sherpa._version.get_versions())"
   ]
  },
  {
   "cell_type": "markdown",
   "metadata": {},
   "source": [
    "## What is the Session object for?\n",
    "\n",
    "The Session object provides the state management code used by the UI layer; that is either of the `sherpa.ui` or `sherpa.astro.ui` modules. It is hidden away by these modules, but can be used directly, as shown below. This is useful if you want a (slightly) more Pythonic interface or need to encapsulate your fits, but do not want to use the\n",
    "lower-level object-oriented API I've described in some of\n",
    "[my other Sherpa notebooks](https://github.com/DougBurke/sherpa-standalone-notebooks).\n",
    "\n",
    "## What data is going to be fit?\n",
    "\n",
    "For this example I'm just going to simulate a simple data set, an off-center one-dimensional gaussian:"
   ]
  },
  {
   "cell_type": "code",
   "execution_count": 3,
   "metadata": {},
   "outputs": [],
   "source": [
    "import numpy as np\n",
    "%matplotlib inline"
   ]
  },
  {
   "cell_type": "code",
   "execution_count": 4,
   "metadata": {},
   "outputs": [],
   "source": [
    "np.random.seed(0)\n",
    "x = np.linspace(-5., 5., 200)\n",
    "ampl_true = 3\n",
    "pos_true = 1.3\n",
    "sigma_true = 0.8\n",
    "err_true = 0.2\n",
    "y = ampl_true * np.exp(-0.5 * (x - pos_true)**2 / sigma_true**2)\n",
    "y += np.random.normal(0., err_true, x.shape)"
   ]
  },
  {
   "cell_type": "markdown",
   "metadata": {},
   "source": [
    "## What does this look like?\n",
    "\n",
    "I could plot this directly with matplotlib, but as this notebook is all about the Session object, let's start using it. Here I use the basic version, but I could have also said\n",
    "\n",
    "    from sherpa.astro.ui.utils import Session"
   ]
  },
  {
   "cell_type": "code",
   "execution_count": 5,
   "metadata": {},
   "outputs": [
    {
     "name": "stdout",
     "output_type": "stream",
     "text": [
      "WARNING: imaging routines will not be available, \n",
      "failed to import sherpa.image.ds9_backend due to \n",
      "'RuntimeErr: DS9Win unusable: Could not find ds9 on your PATH'\n",
      "<sherpa.ui.utils.Session object at 0x7f858d1339b0>\n"
     ]
    }
   ],
   "source": [
    "from sherpa.ui.utils import Session\n",
    "s = Session()\n",
    "print(s)"
   ]
  },
  {
   "cell_type": "markdown",
   "metadata": {},
   "source": [
    "The Session object implements the API used by the `sherpa.ui` and `sherpa.astro.ui` modules, so the approach I am going to take is to call `s.some_long_method_name()` when I previously would have used `ui.some_long_method_name()` (or, \n",
    "`some_long_method_name()` if you've been looking at the\n",
    "[CIAO documentation for Sherpa](http://cxc.harvard.edu/sherpa/), which imports everything into the default namespace).\n",
    "\n",
    "Using this, I can create a data set and plot it:"
   ]
  },
  {
   "cell_type": "code",
   "execution_count": 6,
   "metadata": {},
   "outputs": [
    {
     "name": "stdout",
     "output_type": "stream",
     "text": [
      "name      = \n",
      "x         = Float64[200]\n",
      "y         = Float64[200]\n",
      "staterror = None\n",
      "syserror  = None\n"
     ]
    },
    {
     "name": "stderr",
     "output_type": "stream",
     "text": [
      "/home/dburke/anaconda3/envs/sherpa-notebooks/lib/python3.7/site-packages/sherpa/utils/__init__.py:1349: VisibleDeprecationWarning: sctypeNA and typeNA will be removed in v1.18 of numpy\n",
      "  v = '%s[%d]' % (numpy.typeNA[v.dtype.type], v.size)\n"
     ]
    }
   ],
   "source": [
    "s.load_arrays(1, x, y)\n",
    "print(s.get_data())"
   ]
  },
  {
   "cell_type": "code",
   "execution_count": 7,
   "metadata": {},
   "outputs": [
    {
     "data": {
      "image/png": "[encoded data removed]",
      "text/plain": [
       "<Figure size 432x288 with 1 Axes>"
      ]
     },
     "metadata": {
      "needs_background": "light"
     },
     "output_type": "display_data"
    }
   ],
   "source": [
    "s.plot_data()"
   ]
  },
  {
   "cell_type": "markdown",
   "metadata": {},
   "source": [
    "Let's get rid of the error bars and try again."
   ]
  },
  {
   "cell_type": "code",
   "execution_count": 8,
   "metadata": {},
   "outputs": [
    {
     "data": {
      "image/png": "[encoded data removed]",
      "text/plain": [
       "<Figure size 432x288 with 1 Axes>"
      ]
     },
     "metadata": {
      "needs_background": "light"
     },
     "output_type": "display_data"
    }
   ],
   "source": [
    "s.get_data_plot_prefs()['yerrorbars'] = False\n",
    "s.plot_data()"
   ]
  },
  {
   "cell_type": "markdown",
   "metadata": {},
   "source": [
    "That's a bit better, although I'd prefer the plot to be a bit bigger. Oh well, that can wait for another notebook."
   ]
  },
  {
   "cell_type": "markdown",
   "metadata": {},
   "source": [
    "Creating a model component to fit to the data would - using the UI layer, look something like\n",
    "\n",
    "    ui.set_source(ui.gauss1d.gmdl)\n",
    "    \n",
    "It seems to be a bit-more complicated with the session object; the following is my best guess \n",
    "(I am just dropping down to use the object layer) but there may be a better way."
   ]
  },
  {
   "cell_type": "code",
   "execution_count": 9,
   "metadata": {},
   "outputs": [
    {
     "name": "stdout",
     "output_type": "stream",
     "text": [
      "gmdl\n",
      "   Param        Type          Value          Min          Max      Units\n",
      "   -----        ----          -----          ---          ---      -----\n",
      "   gmdl.fwhm    thawed           10  1.17549e-38  3.40282e+38           \n",
      "   gmdl.pos     thawed            0 -3.40282e+38  3.40282e+38           \n",
      "   gmdl.ampl    thawed            1 -3.40282e+38  3.40282e+38           \n"
     ]
    }
   ],
   "source": [
    "from sherpa.models.basic import Gauss1D\n",
    "\n",
    "gmdl = Gauss1D('gmdl')\n",
    "print(gmdl)"
   ]
  },
  {
   "cell_type": "code",
   "execution_count": 10,
   "metadata": {},
   "outputs": [],
   "source": [
    "s.set_source(gmdl)"
   ]
  },
  {
   "cell_type": "markdown",
   "metadata": {},
   "source": [
    "As shown below, the default parameters for the gaussian are not a good match to the data:"
   ]
  },
  {
   "cell_type": "code",
   "execution_count": 11,
   "metadata": {},
   "outputs": [
    {
     "data": {
      "image/png": "[encoded data removed]",
      "text/plain": [
       "<Figure size 432x288 with 1 Axes>"
      ]
     },
     "metadata": {
      "needs_background": "light"
     },
     "output_type": "display_data"
    }
   ],
   "source": [
    "s.plot_fit()"
   ]
  },
  {
   "cell_type": "markdown",
   "metadata": {},
   "source": [
    "How well does the guess routine do?"
   ]
  },
  {
   "cell_type": "code",
   "execution_count": 12,
   "metadata": {},
   "outputs": [
    {
     "name": "stdout",
     "output_type": "stream",
     "text": [
      "gmdl\n",
      "   Param        Type          Value          Min          Max      Units\n",
      "   -----        ----          -----          ---          ---      -----\n",
      "   gmdl.fwhm    thawed      2.21106   0.00221106      2211.06           \n",
      "   gmdl.pos     thawed      1.38191           -5            5           \n",
      "   gmdl.ampl    thawed      3.35417   0.00335417      3354.17           \n"
     ]
    },
    {
     "data": {
      "image/png": "[encoded data removed]",
      "text/plain": [
       "<Figure size 432x288 with 1 Axes>"
      ]
     },
     "metadata": {
      "needs_background": "light"
     },
     "output_type": "display_data"
    }
   ],
   "source": [
    "s.guess(gmdl)\n",
    "print(gmdl)\n",
    "s.plot_fit()"
   ]
  },
  {
   "cell_type": "markdown",
   "metadata": {},
   "source": [
    "Well, that's embarassing: my \"really hard to fit\" dataset has almost been fit just by some simple heuristics! Oh well, at least it'll mean the notebook will run quickly!\n",
    "\n",
    "To fit the model I want to choose a statistic - in this case, as I don't have meaningful errors, I am just going to go for least-squares minimisation"
   ]
  },
  {
   "cell_type": "code",
   "execution_count": 13,
   "metadata": {},
   "outputs": [],
   "source": [
    "s.set_stat('leastsq')"
   ]
  },
  {
   "cell_type": "markdown",
   "metadata": {},
   "source": [
    "and an optimiser (which I am going to leave at the default value, which is Levenberg-Marquardt):"
   ]
  },
  {
   "cell_type": "code",
   "execution_count": 14,
   "metadata": {},
   "outputs": [
    {
     "name": "stdout",
     "output_type": "stream",
     "text": [
      "name    = levmar\n",
      "ftol    = 1.1920928955078125e-07\n",
      "xtol    = 1.1920928955078125e-07\n",
      "gtol    = 1.1920928955078125e-07\n",
      "maxfev  = None\n",
      "epsfcn  = 1.1920928955078125e-07\n",
      "factor  = 100.0\n",
      "verbose = 0\n"
     ]
    }
   ],
   "source": [
    "print(s.get_method())"
   ]
  },
  {
   "cell_type": "markdown",
   "metadata": {},
   "source": [
    "After this, I can call the `fit` method on the Session object to get a fit:"
   ]
  },
  {
   "cell_type": "code",
   "execution_count": 15,
   "metadata": {},
   "outputs": [
    {
     "name": "stdout",
     "output_type": "stream",
     "text": [
      "Dataset               = 1\n",
      "Method                = levmar\n",
      "Statistic             = leastsq\n",
      "Initial fit statistic = 22.6495\n",
      "Final fit statistic   = 8.06975 at function evaluation 17\n",
      "Data points           = 200\n",
      "Degrees of freedom    = 197\n",
      "Change in statistic   = 14.5797\n",
      "   gmdl.fwhm      1.91572      +/- 0.165986    \n",
      "   gmdl.pos       1.2743       +/- 0.0704878   \n",
      "   gmdl.ampl      3.04706      +/- 0.228615    \n"
     ]
    }
   ],
   "source": [
    "s.fit()"
   ]
  },
  {
   "cell_type": "markdown",
   "metadata": {},
   "source": [
    "The results can be retrieved programatically, as shown below:"
   ]
  },
  {
   "cell_type": "code",
   "execution_count": 16,
   "metadata": {},
   "outputs": [
    {
     "name": "stdout",
     "output_type": "stream",
     "text": [
      "datasets       = (1,)\n",
      "itermethodname = none\n",
      "methodname     = levmar\n",
      "statname       = leastsq\n",
      "succeeded      = True\n",
      "parnames       = ('gmdl.fwhm', 'gmdl.pos', 'gmdl.ampl')\n",
      "parvals        = (1.91572309594081, 1.2743013821131373, 3.047056827958576)\n",
      "statval        = 8.069746329904383\n",
      "istatval       = 22.649479944641005\n",
      "dstatval       = 14.579733614736622\n",
      "numpoints      = 200\n",
      "dof            = 197\n",
      "qval           = None\n",
      "rstat          = None\n",
      "message        = successful termination\n",
      "nfev           = 17\n"
     ]
    }
   ],
   "source": [
    "res = s.get_fit_results()\n",
    "print(res)"
   ]
  },
  {
   "cell_type": "markdown",
   "metadata": {},
   "source": [
    "Let's see how it looks:"
   ]
  },
  {
   "cell_type": "code",
   "execution_count": 17,
   "metadata": {},
   "outputs": [
    {
     "name": "stdout",
     "output_type": "stream",
     "text": [
      "WARNING: The displayed errorbars have been supplied with the data or calculated using chi2xspecvar; the errors are not used in fits with leastsq\n",
      "WARNING: The displayed errorbars have been supplied with the data or calculated using chi2xspecvar; the errors are not used in fits with leastsq\n"
     ]
    },
    {
     "data": {
      "image/png": "[encoded data removed]",
      "text/plain": [
       "<Figure size 432x288 with 2 Axes>"
      ]
     },
     "metadata": {
      "needs_background": "light"
     },
     "output_type": "display_data"
    }
   ],
   "source": [
    "s.plot_fit_resid()"
   ]
  },
  {
   "cell_type": "markdown",
   "metadata": {},
   "source": [
    "There's unfortunately no easy way to turn off the error bars in the residual plot. I really should put in an issue about this.\n",
    "\n",
    "Hopefully this shows that you can just use the Session object to access the methods from the UI layer. Extending this example, we could ignore part of the data:"
   ]
  },
  {
   "cell_type": "code",
   "execution_count": 18,
   "metadata": {},
   "outputs": [
    {
     "name": "stdout",
     "output_type": "stream",
     "text": [
      "Statistic for all the data:     8.069746329904383\n",
      "Statistic for some of the data: 6.923035681103131\n"
     ]
    }
   ],
   "source": [
    "print(\"Statistic for all the data:     {}\".format(s.calc_stat()))\n",
    "\n",
    "s.ignore(-0.5, 0.7)\n",
    "\n",
    "print(\"Statistic for some of the data: {}\".format(s.calc_stat()))"
   ]
  },
  {
   "cell_type": "code",
   "execution_count": 19,
   "metadata": {},
   "outputs": [
    {
     "name": "stdout",
     "output_type": "stream",
     "text": [
      "WARNING: The displayed errorbars have been supplied with the data or calculated using chi2xspecvar; the errors are not used in fits with leastsq\n"
     ]
    },
    {
     "data": {
      "image/png": "[encoded data removed]",
      "text/plain": [
       "<Figure size 432x288 with 1 Axes>"
      ]
     },
     "metadata": {
      "needs_background": "light"
     },
     "output_type": "display_data"
    }
   ],
   "source": [
    "s.plot_fit()"
   ]
  },
  {
   "cell_type": "markdown",
   "metadata": {},
   "source": [
    "Given that the data has changed, we can re-fit the model, but the difference is not large:"
   ]
  },
  {
   "cell_type": "code",
   "execution_count": 20,
   "metadata": {},
   "outputs": [
    {
     "name": "stdout",
     "output_type": "stream",
     "text": [
      "Dataset               = 1\n",
      "Method                = levmar\n",
      "Statistic             = leastsq\n",
      "Initial fit statistic = 6.92304\n",
      "Final fit statistic   = 6.91976 at function evaluation 13\n",
      "Data points           = 176\n",
      "Degrees of freedom    = 173\n",
      "Change in statistic   = 0.0032799\n",
      "   gmdl.fwhm      1.90815      +/- 0.270521    \n",
      "   gmdl.pos       1.28033      +/- 0.122579    \n",
      "   gmdl.ampl      3.04076      +/- 0.237266    \n"
     ]
    }
   ],
   "source": [
    "s.fit()"
   ]
  },
  {
   "cell_type": "markdown",
   "metadata": {},
   "source": [
    "We can create a separate, completely independent, session (note that the sessions created by `sherpa.ui.utils.Session` and `sherpa.astro.ui.utils.Session` are also different):"
   ]
  },
  {
   "cell_type": "code",
   "execution_count": 21,
   "metadata": {},
   "outputs": [
    {
     "name": "stdout",
     "output_type": "stream",
     "text": [
      "Session 1 data: [1]\n",
      "        2     : []\n"
     ]
    }
   ],
   "source": [
    "s2 = Session()\n",
    "print(\"Session 1 data: {}\".format(s.list_data_ids()))\n",
    "print(\"        2     : {}\".format(s2.list_data_ids()))"
   ]
  },
  {
   "cell_type": "markdown",
   "metadata": {},
   "source": [
    "Changes to this new object do not affect the original session (unless you change any shared state, such as the model components):"
   ]
  },
  {
   "cell_type": "code",
   "execution_count": 22,
   "metadata": {},
   "outputs": [
    {
     "data": {
      "image/png": "[encoded data removed]",
      "text/plain": [
       "<Figure size 432x288 with 1 Axes>"
      ]
     },
     "metadata": {
      "needs_background": "light"
     },
     "output_type": "display_data"
    }
   ],
   "source": [
    "s2.load_arrays(1, [10, 20, 30], [-5, -7, -20])\n",
    "\n",
    "s2.plot_data()"
   ]
  },
  {
   "cell_type": "markdown",
   "metadata": {},
   "source": [
    "The original data is still present, as shown in the plot below."
   ]
  },
  {
   "cell_type": "code",
   "execution_count": 23,
   "metadata": {},
   "outputs": [
    {
     "name": "stdout",
     "output_type": "stream",
     "text": [
      "WARNING: The displayed errorbars have been supplied with the data or calculated using chi2xspecvar; the errors are not used in fits with leastsq\n"
     ]
    },
    {
     "data": {
      "image/png": "[encoded data removed]",
      "text/plain": [
       "<Figure size 432x288 with 1 Axes>"
      ]
     },
     "metadata": {
      "needs_background": "light"
     },
     "output_type": "display_data"
    }
   ],
   "source": [
    "s.plot_data()"
   ]
  },
  {
   "cell_type": "markdown",
   "metadata": {},
   "source": [
    "You can even overplot the data from the two sessions (although in this case it's not very illuminating, given that both data sets are fictitious): "
   ]
  },
  {
   "cell_type": "code",
   "execution_count": 24,
   "metadata": {},
   "outputs": [
    {
     "name": "stdout",
     "output_type": "stream",
     "text": [
      "WARNING: The displayed errorbars have been supplied with the data or calculated using chi2xspecvar; the errors are not used in fits with leastsq\n"
     ]
    },
    {
     "data": {
      "image/png": "[encoded data removed]",
      "text/plain": [
       "<Figure size 432x288 with 1 Axes>"
      ]
     },
     "metadata": {
      "needs_background": "light"
     },
     "output_type": "display_data"
    }
   ],
   "source": [
    "s.plot_data()\n",
    "s2.plot_data(overplot=True)"
   ]
  },
  {
   "cell_type": "markdown",
   "metadata": {},
   "source": [
    "Other choices - such as plot options (e.g. the lack of error bars for the original data) or choice of statistic (as shown below), are also stored in the session object."
   ]
  },
  {
   "cell_type": "code",
   "execution_count": 25,
   "metadata": {},
   "outputs": [
    {
     "name": "stdout",
     "output_type": "stream",
     "text": [
      "Statistic choice: leastsq vs chi2gehrels\n"
     ]
    }
   ],
   "source": [
    "print(\"Statistic choice: {} vs {}\".format(s.get_stat_name(), s2.get_stat_name()))"
   ]
  },
  {
   "cell_type": "markdown",
   "metadata": {},
   "source": [
    "I have run out of simple things to run through here, but hopefully it has provided a starter for anyone who wants the convenience of the data management provided by the Sherpa UI layer but wants a bit-more control."
   ]
  }
 ],
 "metadata": {
  "kernelspec": {
   "display_name": "Python 3",
   "language": "python",
   "name": "python3"
  },
  "language_info": {
   "codemirror_mode": {
    "name": "ipython",
    "version": 3
   },
   "file_extension": ".py",
   "mimetype": "text/x-python",
   "name": "python",
   "nbconvert_exporter": "python",
   "pygments_lexer": "ipython3",
   "version": "3.7.3"
  }
 },
 "nbformat": 4,
 "nbformat_minor": 2
}
