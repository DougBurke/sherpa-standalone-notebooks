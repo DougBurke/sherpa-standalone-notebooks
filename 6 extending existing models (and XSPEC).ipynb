{
 "cells": [
  {
   "cell_type": "markdown",
   "metadata": {},
   "source": [
    "# Extending existing models (with a side-order of XSPEC)"
   ]
  },
  {
   "cell_type": "markdown",
   "metadata": {},
   "source": [
    "I was recently asked by a colleage whether Sherpa allowed you to subtract a model. This is \"easy\" - since you can create model expressions using `+`, `-`, `*`, and `/` - but it turned out that what was really wanted fitted into my current documentation obsession, writing user models in Sherpa. It also lets me play Sherpa's support for\n",
    "[XSPEC models](https://heasarc.gsfc.nasa.gov/xanadu/xspec/manual/Models.html).\n",
    "\n",
    "The aim of this notebook is to show you how you can write models in Sherpa that use existing Sherpa models. In this particular case I will create a model that is the result of subtracting two XSPEC `vvnei` models, providing an interface where the Hydrogen abundance is no-longer a parameter (I make no claim that this is a physically-meaningful model), but the approach is valid for all Sherpa models. The notebook ends up with a brief discussion about optimising model, but this is meant more as a primer on the subject than an in-depth discussion.\n",
    "\n",
    "I am going to assume that you have read at least\n",
    "[Writing your own user model](http://nbviewer.ipython.org/github/DougBurke/sherpa-standalone-notebooks/blob/master/user%20model.ipynb)\n",
    "but please feel free to look through\n",
    "[all the notebooks](https://github.com/DougBurke/sherpa-standalone-notebooks)\n",
    "I've written in the series."
   ]
  },
  {
   "cell_type": "markdown",
   "metadata": {},
   "source": [
    "## Author and disclaimer"
   ]
  },
  {
   "cell_type": "markdown",
   "metadata": {},
   "source": [
    "This was written by \n",
    "[Douglas Burke](http://hea-www.cfa.harvard.edu/~dburke/)\n",
    "on June 16 2015. This notebook, and others that may be of\n",
    "interest, can be found on GitHub at\n",
    "https://github.com/DougBurke/sherpa-standalone-notebooks.\n",
    "\n",
    "The information in this document is placed into the Publc Domain. It is not an official product of the Chandra\n",
    "X-ray Center, and I make no guarantee that it is not without bugs or embarassing typos. Please contact me via the GitHub repository or on Twitter - at \n",
    "[@doug_burke](https://twitter.com/doug_burke) - if you have any questions. "
   ]
  },
  {
   "cell_type": "markdown",
   "metadata": {},
   "source": [
    "## Last run\n",
    "\n",
    "When was this notebook last run?"
   ]
  },
  {
   "cell_type": "code",
   "execution_count": 1,
   "metadata": {},
   "outputs": [
    {
     "data": {
      "text/plain": [
       "'2021-12-21 12:14'"
      ]
     },
     "execution_count": 1,
     "metadata": {},
     "output_type": "execute_result"
    }
   ],
   "source": [
    "import datetime\n",
    "datetime.datetime.now().strftime(\"%Y-%m-%d %H:%M\")"
   ]
  },
  {
   "cell_type": "markdown",
   "metadata": {},
   "source": [
    "and with what version of Sherpa?"
   ]
  },
  {
   "cell_type": "code",
   "execution_count": 2,
   "metadata": {},
   "outputs": [
    {
     "data": {
      "text/plain": [
       "{'version': '4.14.0', 'full': '53ea6bdd55a0c40cc83c7e2ad428d06d4eb58c25'}"
      ]
     },
     "execution_count": 2,
     "metadata": {},
     "output_type": "execute_result"
    }
   ],
   "source": [
    "import sherpa\n",
    "sherpa._version.get_versions()"
   ]
  },
  {
   "cell_type": "markdown",
   "metadata": {},
   "source": [
    "## Setting up for XSPEC"
   ]
  },
  {
   "cell_type": "markdown",
   "metadata": {},
   "source": [
    "If you are using the Sherpa provided with\n",
    "[CIAO](http://cxc.harvard.edu/ciao/) then you can skip this section, as the XSPEC extension\n",
    "is provided for you (**note** if you are using the \"binder\" version to view the notebooks\n",
    "then you are fine, since it is packaged with CIAO 4.14).\n",
    "\n",
    "If you are using the standalone version of Sherpa, then you need to have the XSPEC libraries and then tell Sherpa where they are, before building Sherpa. I used to have documentation here about what needed to be done, but we now have a shiny web site describing \n",
    "[how to install Sherpa](https://sherpa.readthedocs.io/en/4.14.0/install.html), including \n",
    "[building Sherpa with XSPEC support](https://sherpa.readthedocs.io/en/4.14.0/install.html#xspec)."
   ]
  },
  {
   "cell_type": "markdown",
   "metadata": {},
   "source": [
    "## Loading the XSPEC models"
   ]
  },
  {
   "cell_type": "markdown",
   "metadata": {},
   "source": [
    "The XSPEC models are automatically loaded - if available - by the `sherpa.astro.ui` module, but here I am also going to load in the [`sherpa.astro.xspec`](https://sherpa.readthedocs.io/en/4.11.0/model_classes/xspec_model.html) module so that I can access several\n",
    "low-level routines (i.e. ones we don't provide access to from `sherpa.astro.ui`):"
   ]
  },
  {
   "cell_type": "code",
   "execution_count": 3,
   "metadata": {},
   "outputs": [],
   "source": [
    "import numpy as np\n",
    "from matplotlib import pyplot as plt\n",
    "\n",
    "from sherpa.astro import ui\n",
    "from sherpa.astro import xspec"
   ]
  },
  {
   "cell_type": "code",
   "execution_count": 4,
   "metadata": {},
   "outputs": [],
   "source": [
    "%matplotlib inline"
   ]
  },
  {
   "cell_type": "markdown",
   "metadata": {},
   "source": [
    "To check that things are working, we can find out the version of the XSPEC library in use (it's important to compare this to the \n",
    "[XSPEC issues list](https://heasarc.gsfc.nasa.gov/docs/xanadu/xspec/issues/issues.html)):"
   ]
  },
  {
   "cell_type": "code",
   "execution_count": 5,
   "metadata": {},
   "outputs": [
    {
     "data": {
      "text/plain": [
       "'12.12.0'"
      ]
     },
     "execution_count": 5,
     "metadata": {},
     "output_type": "execute_result"
    }
   ],
   "source": [
    "xspec.get_xsversion()"
   ]
  },
  {
   "cell_type": "markdown",
   "metadata": {},
   "source": [
    "If this command fails with the message\n",
    "\n",
    "```\n",
    "ImportError: XSPEC initialization failed; check HEADAS environment variable\n",
    "```\n",
    "\n",
    "then check that this variable is set correctly. It should be set to the parent directory\n",
    "of the `lib` directory used for the `xspec_lib_dirs` setting used to build Sherpa. For example\n",
    "\n",
    "```\n",
    "import os\n",
    "os.environ['HEADAS'] = '/usr/local/headas-6.16/x86_64-unknown-linux-gnu-libc2.21-0/'\n",
    "```\n",
    "\n",
    "and then - assuming this *is* the correct setting ;-) - then the `xspec.get_xsversion()` command should work."
   ]
  },
  {
   "cell_type": "code",
   "execution_count": 6,
   "metadata": {},
   "outputs": [
    {
     "data": {
      "text/plain": [
       "10"
      ]
     },
     "execution_count": 6,
     "metadata": {},
     "output_type": "execute_result"
    }
   ],
   "source": [
    "xspec.get_xschatter()"
   ]
  },
  {
   "cell_type": "markdown",
   "metadata": {},
   "source": [
    "The XSPEC chatter level - which can be read with `xspec.get_xschatter` and set with `xspec.set_xschatter` can be used to change the amount of output printed to the screen when X-Spec models are evaluated. The default value used by Sherpa, **as of the 4.14 release** - is `10`, which matches the XSPEC default. If you want no outout, set it to `0` and `25` can be helpful for debugging (e.g. to check that data files are being read correctly; although the amount of information provided depends on the model and the version of XSPEC in use)."
   ]
  },
  {
   "cell_type": "markdown",
   "metadata": {},
   "source": [
    "## The model"
   ]
  },
  {
   "cell_type": "markdown",
   "metadata": {},
   "source": [
    "The model I am going to develop is a version of the \n",
    "[`vvnei` model](https://heasarc.gsfc.nasa.gov/xanadu/xspec/manual/XSmodelNei.html) - which\n",
    "is a non-equilibrium ionisation model with variable abundances - which has no Hydrogen. The\n",
    "standard way for XSPEC to model variable abundances is to make them all relative to Hydrogen, but in this case we (or at least, my colleague), does not want any Hydrogren! One solution for this is to evaluate the model twice, once with a Hydrogen abundance of 1, and the required elemental abundances, and then a Hydrogen-only version. The second version is subtracted from the first (hence the original question I was asked) to return the required model.\n",
    "\n",
    "This can be done directly in Sherpa, using two different instances of the `xsvvnei` model,\n",
    "but we can also write our own user model to wrap up this behavior, and provide a slightly-simpler interface to the user.\n",
    "\n",
    "Before we write the user model, let's try and see the individual components. The following creates two instances of the `vvnei` model (Sherpa prepends `xs` to the XSPEC model names), called `mdl_with_elems` and `mdl_h_only`. I then set several of the elemental abundances in the `mdl_with_elems` component - using `ui.set_par` - and then clear out all the non-Hydrogen abundances in the `mdl_h_only` component (I happen to know that the check I wrote is sufficient *for this model type* to select only the abundances I wanted to change). This code shows two different ways of accessing model parameters (by name, with `ui.set_par`, or by iterating directly from the model component), but I don't want to talk too much about this today:"
   ]
  },
  {
   "cell_type": "code",
   "execution_count": 7,
   "metadata": {},
   "outputs": [],
   "source": [
    "ui.xsvvnei.mdl_with_elems\n",
    "ui.xsvvnei.mdl_h_only\n",
    "\n",
    "# Set some abundances\n",
    "abunds = { 'c': 2.3, 'fe': 1.8, 'o': 3.4, 'si': 2.1, 'ar': 1.2 }\n",
    "for (k, v) in abunds.items():\n",
    "    ui.set_par('mdl_with_elems.' + k, v)\n",
    "    \n",
    "# Clear out the abundances for the Hydrogen-only version\n",
    "for p in mdl_h_only.pars:\n",
    "    if len(p.name) < 3 and p.name not in ['kT', 'H']:\n",
    "        p.val = 0"
   ]
  },
  {
   "cell_type": "markdown",
   "metadata": {},
   "source": [
    "This particular model has a lot of parameters!"
   ]
  },
  {
   "cell_type": "code",
   "execution_count": 8,
   "metadata": {},
   "outputs": [
    {
     "data": {
      "text/html": [
       "<style>/*\n",
       "Copyright (C) 2020  Smithsonian Astrophysical Observatory\n",
       "\n",
       "\n",
       " This program is free software; you can redistribute it and/or modify\n",
       " it under the terms of the GNU General Public License as published by\n",
       " the Free Software Foundation; either version 3 of the License, or\n",
       " (at your option) any later version.\n",
       "\n",
       " This program is distributed in the hope that it will be useful,\n",
       " but WITHOUT ANY WARRANTY; without even the implied warranty of\n",
       " MERCHANTABILITY or FITNESS FOR A PARTICULAR PURPOSE.  See the\n",
       " GNU General Public License for more details.\n",
       "\n",
       " You should have received a copy of the GNU General Public License along\n",
       " with this program; if not, write to the Free Software Foundation, Inc.,\n",
       " 51 Franklin Street, Fifth Floor, Boston, MA 02110-1301 USA.\n",
       "\n",
       "*/\n",
       "\n",
       ":root {\n",
       "  --sherpa-border-color: var(--jp-border-color2, #e0e0e0);\n",
       "  --sherpa-background-color: var(--jp-layout-color0, white);\n",
       "  --sherpa-background-color-row-even: var(--jp-layout-color1, white);\n",
       "  --sherpa-background-color-row-odd: var(--jp-layout-color2, #eeeeee);\n",
       "\n",
       "  /* https://medium.com/ge-design/iot-cool-gray-is-a-great-background-color-for-data-visualization-ebf18c318418 */\n",
       "  --sherpa-background-color-dark1: #EBEFF2;\n",
       "  --sherpa-background-color-dark2: #D8E0E5;\n",
       "}\n",
       "\n",
       "div.sherpa-text-fallback {\n",
       "    display: none;\n",
       "}\n",
       "\n",
       "div.sherpa {\n",
       "    display: block;\n",
       "}\n",
       "\n",
       "div.sherpa details summary {\n",
       "    display: list-item;  /* needed for notebook, not lab */\n",
       "    font-size: larger;\n",
       "}\n",
       "\n",
       "div.sherpa details div.datavals {\n",
       "    display: grid;\n",
       "    grid-template-columns: 1fr 3fr;\n",
       "    column-gap: 0.5em;\n",
       "}\n",
       "\n",
       "div.sherpa div.dataname {\n",
       "    font-weight: bold;\n",
       "    border-right: 1px solid var(--sherpa-border-color);\n",
       "}\n",
       "\n",
       "div.sherpa div.dataval { }\n",
       "\n",
       "div.sherpa div.datavals div:nth-child(4n + 1) ,\n",
       "div.sherpa div.datavals div:nth-child(4n + 2) {\n",
       "    background: var(--sherpa-background-color-row-odd);\n",
       "}\n",
       "\n",
       "div.sherpa table.model tbody {\n",
       "    border-bottom: 1px solid var(--sherpa-border-color);\n",
       "}\n",
       "\n",
       "div.sherpa table.model tr.block {\n",
       "    border-top: 1px solid var(--sherpa-border-color);\n",
       "}\n",
       "\n",
       "div.sherpa table.model th.model-odd ,\n",
       "div.sherpa table.model th.model-even {\n",
       "    border-right: 1px solid var(--sherpa-border-color);\n",
       "}\n",
       "\n",
       "div.sherpa table.model th.model-odd {\n",
       "    background: var(--sherpa-background-color-dark1);\n",
       "}\n",
       "\n",
       "div.sherpa table.model th.model-even {\n",
       "    background: var(--sherpa-background-color-dark2);\n",
       "}\n",
       "\n",
       "div.sherpa .failed {\n",
       "    background: orange;\n",
       "    font-size: large;\n",
       "    padding: 1em;\n",
       "}\n",
       "</style><div class=\"sherpa-text-fallback\">&lt;XSvvnei model instance &#x27;xsvvnei.mdl_with_elems&#x27;&gt;</div><div hidden class=\"sherpa\"><details open><summary>Model</summary><table class=\"model\"><caption>Expression: xsvvnei.mdl_with_elems</caption><thead><tr><th>Component</th><th>Parameter</th><th>Thawed</th><th>Value</th><th>Min</th><th>Max</th><th>Units</th></tr></thead><tbody><tr><th class=\"model-odd\" scope=\"rowgroup\" rowspan=34>xsvvnei.mdl_with_elems</th><td>kT</td><td><input disabled type=\"checkbox\" checked></input></td><td>1.0</td><td>0.0808</td><td>79.9</td><td>keV</td></tr><tr><td>H</td><td><input disabled type=\"checkbox\"></input></td><td>1.0</td><td>0.0</td><td>1000.0</td><td></td></tr><tr><td>He</td><td><input disabled type=\"checkbox\"></input></td><td>1.0</td><td>0.0</td><td>1000.0</td><td></td></tr><tr><td>Li</td><td><input disabled type=\"checkbox\"></input></td><td>1.0</td><td>0.0</td><td>1000.0</td><td></td></tr><tr><td>Be</td><td><input disabled type=\"checkbox\"></input></td><td>1.0</td><td>0.0</td><td>1000.0</td><td></td></tr><tr><td>B</td><td><input disabled type=\"checkbox\"></input></td><td>1.0</td><td>0.0</td><td>1000.0</td><td></td></tr><tr><td>C</td><td><input disabled type=\"checkbox\"></input></td><td>2.3</td><td>0.0</td><td>1000.0</td><td></td></tr><tr><td>N</td><td><input disabled type=\"checkbox\"></input></td><td>1.0</td><td>0.0</td><td>1000.0</td><td></td></tr><tr><td>O</td><td><input disabled type=\"checkbox\"></input></td><td>3.4</td><td>0.0</td><td>1000.0</td><td></td></tr><tr><td>F</td><td><input disabled type=\"checkbox\"></input></td><td>1.0</td><td>0.0</td><td>1000.0</td><td></td></tr><tr><td>Ne</td><td><input disabled type=\"checkbox\"></input></td><td>1.0</td><td>0.0</td><td>1000.0</td><td></td></tr><tr><td>Na</td><td><input disabled type=\"checkbox\"></input></td><td>1.0</td><td>0.0</td><td>1000.0</td><td></td></tr><tr><td>Mg</td><td><input disabled type=\"checkbox\"></input></td><td>1.0</td><td>0.0</td><td>1000.0</td><td></td></tr><tr><td>Al</td><td><input disabled type=\"checkbox\"></input></td><td>1.0</td><td>0.0</td><td>1000.0</td><td></td></tr><tr><td>Si</td><td><input disabled type=\"checkbox\"></input></td><td>2.1</td><td>0.0</td><td>1000.0</td><td></td></tr><tr><td>P</td><td><input disabled type=\"checkbox\"></input></td><td>1.0</td><td>0.0</td><td>1000.0</td><td></td></tr><tr><td>S</td><td><input disabled type=\"checkbox\"></input></td><td>1.0</td><td>0.0</td><td>1000.0</td><td></td></tr><tr><td>Cl</td><td><input disabled type=\"checkbox\"></input></td><td>1.0</td><td>0.0</td><td>1000.0</td><td></td></tr><tr><td>Ar</td><td><input disabled type=\"checkbox\"></input></td><td>1.2</td><td>0.0</td><td>1000.0</td><td></td></tr><tr><td>K</td><td><input disabled type=\"checkbox\"></input></td><td>1.0</td><td>0.0</td><td>1000.0</td><td></td></tr><tr><td>Ca</td><td><input disabled type=\"checkbox\"></input></td><td>1.0</td><td>0.0</td><td>1000.0</td><td></td></tr><tr><td>Sc</td><td><input disabled type=\"checkbox\"></input></td><td>1.0</td><td>0.0</td><td>1000.0</td><td></td></tr><tr><td>Ti</td><td><input disabled type=\"checkbox\"></input></td><td>1.0</td><td>0.0</td><td>1000.0</td><td></td></tr><tr><td>V</td><td><input disabled type=\"checkbox\"></input></td><td>1.0</td><td>0.0</td><td>1000.0</td><td></td></tr><tr><td>Cr</td><td><input disabled type=\"checkbox\"></input></td><td>1.0</td><td>0.0</td><td>1000.0</td><td></td></tr><tr><td>Mn</td><td><input disabled type=\"checkbox\"></input></td><td>1.0</td><td>0.0</td><td>1000.0</td><td></td></tr><tr><td>Fe</td><td><input disabled type=\"checkbox\"></input></td><td>1.8</td><td>0.0</td><td>1000.0</td><td></td></tr><tr><td>Co</td><td><input disabled type=\"checkbox\"></input></td><td>1.0</td><td>0.0</td><td>1000.0</td><td></td></tr><tr><td>Ni</td><td><input disabled type=\"checkbox\"></input></td><td>1.0</td><td>0.0</td><td>1000.0</td><td></td></tr><tr><td>Cu</td><td><input disabled type=\"checkbox\"></input></td><td>1.0</td><td>0.0</td><td>1000.0</td><td></td></tr><tr><td>Zn</td><td><input disabled type=\"checkbox\"></input></td><td>1.0</td><td>0.0</td><td>1000.0</td><td></td></tr><tr><td>Tau</td><td><input disabled type=\"checkbox\" checked></input></td><td>100000000000.0</td><td>100000000.0</td><td>50000000000000.0</td><td>s/cm^3</td></tr><tr><td>redshift</td><td><input disabled type=\"checkbox\"></input></td><td>0.0</td><td>-0.999</td><td>10.0</td><td></td></tr><tr><td>norm</td><td><input disabled type=\"checkbox\" checked></input></td><td>1.0</td><td>0.0</td><td>1e+24</td><td></td></tr></tbody></table></details></div>"
      ],
      "text/plain": [
       "<XSvvnei model instance 'xsvvnei.mdl_with_elems'>"
      ]
     },
     "execution_count": 8,
     "metadata": {},
     "output_type": "execute_result"
    }
   ],
   "source": [
    "mdl_with_elems"
   ]
  },
  {
   "cell_type": "markdown",
   "metadata": {},
   "source": [
    "We can see that the 'Hydrogen only' one has been cleared out:"
   ]
  },
  {
   "cell_type": "code",
   "execution_count": 9,
   "metadata": {},
   "outputs": [
    {
     "data": {
      "text/html": [
       "<style>/*\n",
       "Copyright (C) 2020  Smithsonian Astrophysical Observatory\n",
       "\n",
       "\n",
       " This program is free software; you can redistribute it and/or modify\n",
       " it under the terms of the GNU General Public License as published by\n",
       " the Free Software Foundation; either version 3 of the License, or\n",
       " (at your option) any later version.\n",
       "\n",
       " This program is distributed in the hope that it will be useful,\n",
       " but WITHOUT ANY WARRANTY; without even the implied warranty of\n",
       " MERCHANTABILITY or FITNESS FOR A PARTICULAR PURPOSE.  See the\n",
       " GNU General Public License for more details.\n",
       "\n",
       " You should have received a copy of the GNU General Public License along\n",
       " with this program; if not, write to the Free Software Foundation, Inc.,\n",
       " 51 Franklin Street, Fifth Floor, Boston, MA 02110-1301 USA.\n",
       "\n",
       "*/\n",
       "\n",
       ":root {\n",
       "  --sherpa-border-color: var(--jp-border-color2, #e0e0e0);\n",
       "  --sherpa-background-color: var(--jp-layout-color0, white);\n",
       "  --sherpa-background-color-row-even: var(--jp-layout-color1, white);\n",
       "  --sherpa-background-color-row-odd: var(--jp-layout-color2, #eeeeee);\n",
       "\n",
       "  /* https://medium.com/ge-design/iot-cool-gray-is-a-great-background-color-for-data-visualization-ebf18c318418 */\n",
       "  --sherpa-background-color-dark1: #EBEFF2;\n",
       "  --sherpa-background-color-dark2: #D8E0E5;\n",
       "}\n",
       "\n",
       "div.sherpa-text-fallback {\n",
       "    display: none;\n",
       "}\n",
       "\n",
       "div.sherpa {\n",
       "    display: block;\n",
       "}\n",
       "\n",
       "div.sherpa details summary {\n",
       "    display: list-item;  /* needed for notebook, not lab */\n",
       "    font-size: larger;\n",
       "}\n",
       "\n",
       "div.sherpa details div.datavals {\n",
       "    display: grid;\n",
       "    grid-template-columns: 1fr 3fr;\n",
       "    column-gap: 0.5em;\n",
       "}\n",
       "\n",
       "div.sherpa div.dataname {\n",
       "    font-weight: bold;\n",
       "    border-right: 1px solid var(--sherpa-border-color);\n",
       "}\n",
       "\n",
       "div.sherpa div.dataval { }\n",
       "\n",
       "div.sherpa div.datavals div:nth-child(4n + 1) ,\n",
       "div.sherpa div.datavals div:nth-child(4n + 2) {\n",
       "    background: var(--sherpa-background-color-row-odd);\n",
       "}\n",
       "\n",
       "div.sherpa table.model tbody {\n",
       "    border-bottom: 1px solid var(--sherpa-border-color);\n",
       "}\n",
       "\n",
       "div.sherpa table.model tr.block {\n",
       "    border-top: 1px solid var(--sherpa-border-color);\n",
       "}\n",
       "\n",
       "div.sherpa table.model th.model-odd ,\n",
       "div.sherpa table.model th.model-even {\n",
       "    border-right: 1px solid var(--sherpa-border-color);\n",
       "}\n",
       "\n",
       "div.sherpa table.model th.model-odd {\n",
       "    background: var(--sherpa-background-color-dark1);\n",
       "}\n",
       "\n",
       "div.sherpa table.model th.model-even {\n",
       "    background: var(--sherpa-background-color-dark2);\n",
       "}\n",
       "\n",
       "div.sherpa .failed {\n",
       "    background: orange;\n",
       "    font-size: large;\n",
       "    padding: 1em;\n",
       "}\n",
       "</style><div class=\"sherpa-text-fallback\">&lt;XSvvnei model instance &#x27;xsvvnei.mdl_h_only&#x27;&gt;</div><div hidden class=\"sherpa\"><details open><summary>Model</summary><table class=\"model\"><caption>Expression: xsvvnei.mdl_h_only</caption><thead><tr><th>Component</th><th>Parameter</th><th>Thawed</th><th>Value</th><th>Min</th><th>Max</th><th>Units</th></tr></thead><tbody><tr><th class=\"model-odd\" scope=\"rowgroup\" rowspan=34>xsvvnei.mdl_h_only</th><td>kT</td><td><input disabled type=\"checkbox\" checked></input></td><td>1.0</td><td>0.0808</td><td>79.9</td><td>keV</td></tr><tr><td>H</td><td><input disabled type=\"checkbox\"></input></td><td>1.0</td><td>0.0</td><td>1000.0</td><td></td></tr><tr><td>He</td><td><input disabled type=\"checkbox\"></input></td><td>0.0</td><td>0.0</td><td>1000.0</td><td></td></tr><tr><td>Li</td><td><input disabled type=\"checkbox\"></input></td><td>0.0</td><td>0.0</td><td>1000.0</td><td></td></tr><tr><td>Be</td><td><input disabled type=\"checkbox\"></input></td><td>0.0</td><td>0.0</td><td>1000.0</td><td></td></tr><tr><td>B</td><td><input disabled type=\"checkbox\"></input></td><td>0.0</td><td>0.0</td><td>1000.0</td><td></td></tr><tr><td>C</td><td><input disabled type=\"checkbox\"></input></td><td>0.0</td><td>0.0</td><td>1000.0</td><td></td></tr><tr><td>N</td><td><input disabled type=\"checkbox\"></input></td><td>0.0</td><td>0.0</td><td>1000.0</td><td></td></tr><tr><td>O</td><td><input disabled type=\"checkbox\"></input></td><td>0.0</td><td>0.0</td><td>1000.0</td><td></td></tr><tr><td>F</td><td><input disabled type=\"checkbox\"></input></td><td>0.0</td><td>0.0</td><td>1000.0</td><td></td></tr><tr><td>Ne</td><td><input disabled type=\"checkbox\"></input></td><td>0.0</td><td>0.0</td><td>1000.0</td><td></td></tr><tr><td>Na</td><td><input disabled type=\"checkbox\"></input></td><td>0.0</td><td>0.0</td><td>1000.0</td><td></td></tr><tr><td>Mg</td><td><input disabled type=\"checkbox\"></input></td><td>0.0</td><td>0.0</td><td>1000.0</td><td></td></tr><tr><td>Al</td><td><input disabled type=\"checkbox\"></input></td><td>0.0</td><td>0.0</td><td>1000.0</td><td></td></tr><tr><td>Si</td><td><input disabled type=\"checkbox\"></input></td><td>0.0</td><td>0.0</td><td>1000.0</td><td></td></tr><tr><td>P</td><td><input disabled type=\"checkbox\"></input></td><td>0.0</td><td>0.0</td><td>1000.0</td><td></td></tr><tr><td>S</td><td><input disabled type=\"checkbox\"></input></td><td>0.0</td><td>0.0</td><td>1000.0</td><td></td></tr><tr><td>Cl</td><td><input disabled type=\"checkbox\"></input></td><td>0.0</td><td>0.0</td><td>1000.0</td><td></td></tr><tr><td>Ar</td><td><input disabled type=\"checkbox\"></input></td><td>0.0</td><td>0.0</td><td>1000.0</td><td></td></tr><tr><td>K</td><td><input disabled type=\"checkbox\"></input></td><td>0.0</td><td>0.0</td><td>1000.0</td><td></td></tr><tr><td>Ca</td><td><input disabled type=\"checkbox\"></input></td><td>0.0</td><td>0.0</td><td>1000.0</td><td></td></tr><tr><td>Sc</td><td><input disabled type=\"checkbox\"></input></td><td>0.0</td><td>0.0</td><td>1000.0</td><td></td></tr><tr><td>Ti</td><td><input disabled type=\"checkbox\"></input></td><td>0.0</td><td>0.0</td><td>1000.0</td><td></td></tr><tr><td>V</td><td><input disabled type=\"checkbox\"></input></td><td>0.0</td><td>0.0</td><td>1000.0</td><td></td></tr><tr><td>Cr</td><td><input disabled type=\"checkbox\"></input></td><td>0.0</td><td>0.0</td><td>1000.0</td><td></td></tr><tr><td>Mn</td><td><input disabled type=\"checkbox\"></input></td><td>0.0</td><td>0.0</td><td>1000.0</td><td></td></tr><tr><td>Fe</td><td><input disabled type=\"checkbox\"></input></td><td>0.0</td><td>0.0</td><td>1000.0</td><td></td></tr><tr><td>Co</td><td><input disabled type=\"checkbox\"></input></td><td>0.0</td><td>0.0</td><td>1000.0</td><td></td></tr><tr><td>Ni</td><td><input disabled type=\"checkbox\"></input></td><td>0.0</td><td>0.0</td><td>1000.0</td><td></td></tr><tr><td>Cu</td><td><input disabled type=\"checkbox\"></input></td><td>0.0</td><td>0.0</td><td>1000.0</td><td></td></tr><tr><td>Zn</td><td><input disabled type=\"checkbox\"></input></td><td>0.0</td><td>0.0</td><td>1000.0</td><td></td></tr><tr><td>Tau</td><td><input disabled type=\"checkbox\" checked></input></td><td>100000000000.0</td><td>100000000.0</td><td>50000000000000.0</td><td>s/cm^3</td></tr><tr><td>redshift</td><td><input disabled type=\"checkbox\"></input></td><td>0.0</td><td>-0.999</td><td>10.0</td><td></td></tr><tr><td>norm</td><td><input disabled type=\"checkbox\" checked></input></td><td>1.0</td><td>0.0</td><td>1e+24</td><td></td></tr></tbody></table></details></div>"
      ],
      "text/plain": [
       "<XSvvnei model instance 'xsvvnei.mdl_h_only'>"
      ]
     },
     "execution_count": 9,
     "metadata": {},
     "output_type": "execute_result"
    }
   ],
   "source": [
    "mdl_h_only"
   ]
  },
  {
   "cell_type": "markdown",
   "metadata": {},
   "source": [
    "The models can be evaluated on the grid 0.1 to 10 keV, with bin spacing 0.01 keV (XSPEC models expect the input grid to be in keV). The line emission from the elements is visible here:"
   ]
  },
  {
   "cell_type": "code",
   "execution_count": 10,
   "metadata": {},
   "outputs": [
    {
     "name": "stdout",
     "output_type": "stream",
     "text": [
      "Reading NEI APEC spectral data from 3.0.9\n",
      "and eigenfunction data from 3.0.4\n",
      "\n"
     ]
    },
    {
     "data": {
      "image/png": "[encoded data removed]",
      "text/plain": [
       "<Figure size 432x288 with 1 Axes>"
      ]
     },
     "metadata": {
      "needs_background": "light"
     },
     "output_type": "display_data"
    }
   ],
   "source": [
    "egrid = np.arange(0.1, 10, 0.01)\n",
    "elo = egrid[:-1]\n",
    "ehi = egrid[1:]\n",
    "emid = (elo + ehi) / 2\n",
    "\n",
    "plt.plot(emid, mdl_with_elems(elo, ehi))\n",
    "plt.plot(emid, mdl_h_only(elo, ehi))\n",
    "plt.yscale('log')\n",
    "plt.xscale('log')"
   ]
  },
  {
   "cell_type": "markdown",
   "metadata": {},
   "source": [
    "Subtracting these two will give the elemental emission for a situation where there is no Hydrogen. I also convert the plot values into those more commonly displayed: the XSPEC models return the flux in units of photon/cm^2/s for each bin, so we need to divide by the bin width to get the flux density."
   ]
  },
  {
   "cell_type": "code",
   "execution_count": 11,
   "metadata": {},
   "outputs": [
    {
     "data": {
      "image/png": "[encoded data removed]",
      "text/plain": [
       "<Figure size 432x288 with 1 Axes>"
      ]
     },
     "metadata": {
      "needs_background": "light"
     },
     "output_type": "display_data"
    }
   ],
   "source": [
    "de = ehi - elo\n",
    "y = mdl_with_elems(elo, ehi) - mdl_h_only(elo, ehi) \n",
    "plt.plot(emid, y / de)\n",
    "plt.xscale('log')\n",
    "plt.yscale('log')\n",
    "plt.xlabel('Energy (keV)')\n",
    "plt.ylabel('photon/cm$^2$/s/keV');"
   ]
  },
  {
   "cell_type": "markdown",
   "metadata": {},
   "source": [
    "### Aside\n",
    "\n",
    "In previous versions of this notebook I used a \"special\" way to evaluate XSPEC models by only providing a single array. This is **not a good idea**™ so I've gone to\n",
    "providing both low- and high- values for the grid.\n",
    "\n",
    "### End aside\n",
    "\n",
    "## Using the existing models\n",
    "\n",
    "Since we can write model expressions using subtraction, then the \"Hydrogen free\" variant of `xsvvnei` could be handled explicitly, by using the model combination\n",
    "\n",
    "    (ui.xsvvnei.mdl_elems - ui.xsvvnei.mdl_honly)\n",
    "    \n",
    "in the source expression. It then requires\n",
    "\n",
    " - linking the `kT`, `Tau`, `redshift`, and `norm` parameters: for example\n",
    " \n",
    "        ui.link(mdl_honly.kt, mdl_elems.kt)\n",
    "        ui.link(mdl_honly.tau, mdl_elems.tau)\n",
    "        ui.link(mdl_honly.redshift, mdl_elems.redshift)\n",
    "        ui.link(mdl_honly.norm, mdl_elems.norm)\n",
    "        \n",
    " - setting the `mdl_honly` elemental abundances to 0:\n",
    " \n",
    "        for p in mdl_honly.pars:\n",
    "            if p.name.lower() not in ['kt', 'h', 'tau', redshift', 'norm']:\n",
    "                p.val = 0\n",
    "                p.frozen = True # this is actually the default, but just check\n",
    "                \n",
    " - fixing the Hydrogen abundances\n",
    " \n",
    "        mdl_honly.h = 1\n",
    "        mdl_elems.h = 1\n",
    "        ui.freeze(mdl_honly.h, mdl_elems.h)\n",
    "\n",
    " - thaw the elemental abundances in `mdl_elems` that you want to fit.\n",
    " \n",
    "This can be done, but if you started using this model a lot, you'd quickly find it annoying (and\n",
    "easy to miss a step). What is needed is a way to create a user model - as described in\n",
    "[previous notebooks](http://nbviewer.ipython.org/github/DougBurke/sherpa-standalone-notebooks/blob/master/user%20model.ipynb) - but \n",
    "instead of writing the function, use the existing Sherpa code to evaluate the models.\n",
    "\n",
    "## Writing a simple user model\n",
    "\n",
    "So, can we simplify the above by writing a simple user model? First of all, let's look at evaluating the model for a given set of parameters. The evaluations above have required an instance of the model - which I created by calling\n",
    "\n",
    "    ui.xsvvnei.mdl_with_elems\n",
    "    \n",
    "but could have also used\n",
    "\n",
    "    ui.create_model_component('xsvvnei', 'mdl_with_elems')\n",
    "    \n",
    "I could use this approach in a user model, but it would involve coming up with unique model names which is messy and inelegant. What I really want to be able to do is evaluate the model\n",
    "without creating a component. This can be done by using parts of Sherpa directly. In this case, the models are defined in the `sherpa.astro.xspec` module, and we can create an object directly:"
   ]
  },
  {
   "cell_type": "code",
   "execution_count": 12,
   "metadata": {},
   "outputs": [],
   "source": [
    "mdl = xspec.XSvvnei()"
   ]
  },
  {
   "cell_type": "markdown",
   "metadata": {},
   "source": [
    "The model can be given a name by sending in a string to the constructor, but this is only used in screen output which we do not care about, so we let the default value be used. The only real difference to calling this, rather than `ui.create_model_component` (or writing `ui.xsvvnei.xxx`), is that this model is not added to the Sherpa session, so it does not conflict with anything (e.g. `ui.list_model_components()` will not include it). This makes it ideal for our purposes, since it is essentially an anonymous model.\n",
    "\n",
    "An anonymous model function is a start, but I also need an easy way to call the model with different parameters: one set with the elemental abundances, and the second time with Hydrogen only. I *could* set one set of parameters, evaluate the model, and then swap in the second set and re-evaluate. However, the Sherpa model class defines the `calc` method, which has the signature:"
   ]
  },
  {
   "cell_type": "code",
   "execution_count": 13,
   "metadata": {},
   "outputs": [
    {
     "name": "stdout",
     "output_type": "stream",
     "text": [
      "Help on method calc in module sherpa.astro.xspec:\n",
      "\n",
      "calc(*args, **kwargs) method of sherpa.astro.xspec.XSvvnei instance\n",
      "    Calculate the model given the parameters and grid.\n",
      "    \n",
      "    Notes\n",
      "    -----\n",
      "    XSPEC models must always be evaluated with low and high bin\n",
      "    edges. Although supported by the XSPEC model interface the\n",
      "    ability to evaluate using an XSPEC-style grid (n+1 values for\n",
      "    n bins which we pad with a 0), we do not allow this here since\n",
      "    it complicates the handling of the regrid method.\n",
      "    \n",
      "    Keyword arguments are ignored.\n",
      "\n"
     ]
    }
   ],
   "source": [
    "help(mdl.calc)"
   ]
  },
  {
   "cell_type": "markdown",
   "metadata": {},
   "source": [
    "The `pars` argument is the array of parameter values (in the order displayed from `print(mdl)` or returned by `mdl.pars`) and the remaining arguments are the independent axes on which to evaluate the model. This is therefore the second part to writing the user model.\n",
    "\n",
    "Since the interface to the models can change over time, let's check the number of parameters (it is unlikely to change for this particular model):"
   ]
  },
  {
   "cell_type": "code",
   "execution_count": 14,
   "metadata": {},
   "outputs": [
    {
     "name": "stdout",
     "output_type": "stream",
     "text": [
      "Length of pars = 34\n",
      " filtered pars = 30\n"
     ]
    }
   ],
   "source": [
    "print(\"Length of pars = {}\".format(len(mdl.pars)))\n",
    "\n",
    "# filter out H, tau, redshift, norm\n",
    "fpars = [p for p in mdl.pars if p.name.lower() not in ['h', 'tau', 'redshift', 'norm']]\n",
    "print(\" filtered pars = {}\".format(len(fpars)))"
   ]
  },
  {
   "cell_type": "markdown",
   "metadata": {},
   "source": [
    "If I wanted the following to be robust I'd actually check the parameter names and orders, but for this\n",
    "notebook I am just going to index directly into the parameter array of `XSvvnei`:"
   ]
  },
  {
   "cell_type": "code",
   "execution_count": 15,
   "metadata": {},
   "outputs": [],
   "source": [
    "def xsvvnei_no_h(pars, *args):\n",
    "    \"pars is kT, list of 29 element abundances (excluding H), tau, redshift, norm\"\n",
    "\n",
    "    # It's a bit excessive to create this each iteration\n",
    "    mdl = xspec.XSvvnei()\n",
    "    \n",
    "    pall = [pars[0], 1.0]\n",
    "    pall.extend(pars[1:])\n",
    "    \n",
    "    phonly = [pars[0], 1.0]\n",
    "    phonly.extend([0.0] * 29)\n",
    "    phonly.extend(pars[-3:])\n",
    "\n",
    "    # Evaluate the \"Hydrogen-free\" model\n",
    "    return mdl.calc(pall, *args) - mdl.calc(phonly, *args)"
   ]
  },
  {
   "cell_type": "markdown",
   "metadata": {},
   "source": [
    "As a check, does this give the same answer as evaluating the separate models?"
   ]
  },
  {
   "cell_type": "code",
   "execution_count": 16,
   "metadata": {},
   "outputs": [
    {
     "data": {
      "text/plain": [
       "True"
      ]
     },
     "execution_count": 16,
     "metadata": {},
     "output_type": "execute_result"
    }
   ],
   "source": [
    "pars = [p.val for p in mdl_with_elems.pars if p.name != \"H\"]\n",
    "ynew = xsvvnei_no_h(pars, elo, ehi)\n",
    "y = mdl_with_elems(elo, ehi) - mdl_h_only(elo, ehi) \n",
    "np.all(ynew == y)"
   ]
  },
  {
   "cell_type": "markdown",
   "metadata": {},
   "source": [
    "This can be added to Sherpa using `ui.load_user_model` to create a model instance (i.e. component). Since I want to copy over the parameter settings from the `xsvvnei` model\n",
    "(at least, apart from for `H`), I have written a small function that both loads the \n",
    "model - with `ui.load_user_model` - and sets the parameter values - with `ui.add_user_pars`:"
   ]
  },
  {
   "cell_type": "code",
   "execution_count": 17,
   "metadata": {},
   "outputs": [],
   "source": [
    "def make_xsvvnei_noh_model(name):\n",
    "    \"\"\"Create an instance of the 'xsvvnei' model which has\n",
    "    no Hydrogen.\"\"\"\n",
    "    \n",
    "    # Create the model instance\n",
    "    ui.load_user_model(xsvvnei_no_h, name)\n",
    "    \n",
    "    # Get a copy of the default parameter settings for the vvnei\n",
    "    # model (excluding Hydrogen).\n",
    "    pars = [p for p in xspec.XSvvnei().pars if p.name != 'H']\n",
    "    \n",
    "    parnames = [p.name for p in pars]\n",
    "    parvals = [p.val for p in pars]\n",
    "    parmins = [p.min for p in pars]\n",
    "    parmaxs = [p.max for p in pars]\n",
    "    parunits = [p.units for p in pars]\n",
    "    parf = [p.frozen for p in pars]\n",
    "    \n",
    "    # Set up the parameters for this instance\n",
    "    ui.add_user_pars(name, parnames, parvals=parvals, parmins=parvals,\n",
    "                     parmaxs=parmaxs, parunits=parunits, parfrozen=parf)\n",
    "    \n",
    "    # Return the model\n",
    "    return ui.get_model_component(name)"
   ]
  },
  {
   "cell_type": "code",
   "execution_count": 18,
   "metadata": {},
   "outputs": [
    {
     "data": {
      "text/html": [
       "<style>/*\n",
       "Copyright (C) 2020  Smithsonian Astrophysical Observatory\n",
       "\n",
       "\n",
       " This program is free software; you can redistribute it and/or modify\n",
       " it under the terms of the GNU General Public License as published by\n",
       " the Free Software Foundation; either version 3 of the License, or\n",
       " (at your option) any later version.\n",
       "\n",
       " This program is distributed in the hope that it will be useful,\n",
       " but WITHOUT ANY WARRANTY; without even the implied warranty of\n",
       " MERCHANTABILITY or FITNESS FOR A PARTICULAR PURPOSE.  See the\n",
       " GNU General Public License for more details.\n",
       "\n",
       " You should have received a copy of the GNU General Public License along\n",
       " with this program; if not, write to the Free Software Foundation, Inc.,\n",
       " 51 Franklin Street, Fifth Floor, Boston, MA 02110-1301 USA.\n",
       "\n",
       "*/\n",
       "\n",
       ":root {\n",
       "  --sherpa-border-color: var(--jp-border-color2, #e0e0e0);\n",
       "  --sherpa-background-color: var(--jp-layout-color0, white);\n",
       "  --sherpa-background-color-row-even: var(--jp-layout-color1, white);\n",
       "  --sherpa-background-color-row-odd: var(--jp-layout-color2, #eeeeee);\n",
       "\n",
       "  /* https://medium.com/ge-design/iot-cool-gray-is-a-great-background-color-for-data-visualization-ebf18c318418 */\n",
       "  --sherpa-background-color-dark1: #EBEFF2;\n",
       "  --sherpa-background-color-dark2: #D8E0E5;\n",
       "}\n",
       "\n",
       "div.sherpa-text-fallback {\n",
       "    display: none;\n",
       "}\n",
       "\n",
       "div.sherpa {\n",
       "    display: block;\n",
       "}\n",
       "\n",
       "div.sherpa details summary {\n",
       "    display: list-item;  /* needed for notebook, not lab */\n",
       "    font-size: larger;\n",
       "}\n",
       "\n",
       "div.sherpa details div.datavals {\n",
       "    display: grid;\n",
       "    grid-template-columns: 1fr 3fr;\n",
       "    column-gap: 0.5em;\n",
       "}\n",
       "\n",
       "div.sherpa div.dataname {\n",
       "    font-weight: bold;\n",
       "    border-right: 1px solid var(--sherpa-border-color);\n",
       "}\n",
       "\n",
       "div.sherpa div.dataval { }\n",
       "\n",
       "div.sherpa div.datavals div:nth-child(4n + 1) ,\n",
       "div.sherpa div.datavals div:nth-child(4n + 2) {\n",
       "    background: var(--sherpa-background-color-row-odd);\n",
       "}\n",
       "\n",
       "div.sherpa table.model tbody {\n",
       "    border-bottom: 1px solid var(--sherpa-border-color);\n",
       "}\n",
       "\n",
       "div.sherpa table.model tr.block {\n",
       "    border-top: 1px solid var(--sherpa-border-color);\n",
       "}\n",
       "\n",
       "div.sherpa table.model th.model-odd ,\n",
       "div.sherpa table.model th.model-even {\n",
       "    border-right: 1px solid var(--sherpa-border-color);\n",
       "}\n",
       "\n",
       "div.sherpa table.model th.model-odd {\n",
       "    background: var(--sherpa-background-color-dark1);\n",
       "}\n",
       "\n",
       "div.sherpa table.model th.model-even {\n",
       "    background: var(--sherpa-background-color-dark2);\n",
       "}\n",
       "\n",
       "div.sherpa .failed {\n",
       "    background: orange;\n",
       "    font-size: large;\n",
       "    padding: 1em;\n",
       "}\n",
       "</style><div class=\"sherpa-text-fallback\">&lt;UserModel model instance &#x27;usermodel.noh&#x27;&gt;</div><div hidden class=\"sherpa\"><details open><summary>Model</summary><table class=\"model\"><caption>Expression: usermodel.noh</caption><thead><tr><th>Component</th><th>Parameter</th><th>Thawed</th><th>Value</th><th>Min</th><th>Max</th><th>Units</th></tr></thead><tbody><tr><th class=\"model-odd\" scope=\"rowgroup\" rowspan=33>usermodel.noh</th><td>kT</td><td><input disabled type=\"checkbox\" checked></input></td><td>1.0</td><td>1.0</td><td>79.9</td><td>keV</td></tr><tr><td>He</td><td><input disabled type=\"checkbox\"></input></td><td>1.0</td><td>1.0</td><td>1000.0</td><td></td></tr><tr><td>Li</td><td><input disabled type=\"checkbox\"></input></td><td>1.0</td><td>1.0</td><td>1000.0</td><td></td></tr><tr><td>Be</td><td><input disabled type=\"checkbox\"></input></td><td>1.0</td><td>1.0</td><td>1000.0</td><td></td></tr><tr><td>B</td><td><input disabled type=\"checkbox\"></input></td><td>1.0</td><td>1.0</td><td>1000.0</td><td></td></tr><tr><td>C</td><td><input disabled type=\"checkbox\"></input></td><td>1.0</td><td>1.0</td><td>1000.0</td><td></td></tr><tr><td>N</td><td><input disabled type=\"checkbox\"></input></td><td>1.0</td><td>1.0</td><td>1000.0</td><td></td></tr><tr><td>O</td><td><input disabled type=\"checkbox\"></input></td><td>1.0</td><td>1.0</td><td>1000.0</td><td></td></tr><tr><td>F</td><td><input disabled type=\"checkbox\"></input></td><td>1.0</td><td>1.0</td><td>1000.0</td><td></td></tr><tr><td>Ne</td><td><input disabled type=\"checkbox\"></input></td><td>1.0</td><td>1.0</td><td>1000.0</td><td></td></tr><tr><td>Na</td><td><input disabled type=\"checkbox\"></input></td><td>1.0</td><td>1.0</td><td>1000.0</td><td></td></tr><tr><td>Mg</td><td><input disabled type=\"checkbox\"></input></td><td>1.0</td><td>1.0</td><td>1000.0</td><td></td></tr><tr><td>Al</td><td><input disabled type=\"checkbox\"></input></td><td>1.0</td><td>1.0</td><td>1000.0</td><td></td></tr><tr><td>Si</td><td><input disabled type=\"checkbox\"></input></td><td>1.0</td><td>1.0</td><td>1000.0</td><td></td></tr><tr><td>P</td><td><input disabled type=\"checkbox\"></input></td><td>1.0</td><td>1.0</td><td>1000.0</td><td></td></tr><tr><td>S</td><td><input disabled type=\"checkbox\"></input></td><td>1.0</td><td>1.0</td><td>1000.0</td><td></td></tr><tr><td>Cl</td><td><input disabled type=\"checkbox\"></input></td><td>1.0</td><td>1.0</td><td>1000.0</td><td></td></tr><tr><td>Ar</td><td><input disabled type=\"checkbox\"></input></td><td>1.0</td><td>1.0</td><td>1000.0</td><td></td></tr><tr><td>K</td><td><input disabled type=\"checkbox\"></input></td><td>1.0</td><td>1.0</td><td>1000.0</td><td></td></tr><tr><td>Ca</td><td><input disabled type=\"checkbox\"></input></td><td>1.0</td><td>1.0</td><td>1000.0</td><td></td></tr><tr><td>Sc</td><td><input disabled type=\"checkbox\"></input></td><td>1.0</td><td>1.0</td><td>1000.0</td><td></td></tr><tr><td>Ti</td><td><input disabled type=\"checkbox\"></input></td><td>1.0</td><td>1.0</td><td>1000.0</td><td></td></tr><tr><td>V</td><td><input disabled type=\"checkbox\"></input></td><td>1.0</td><td>1.0</td><td>1000.0</td><td></td></tr><tr><td>Cr</td><td><input disabled type=\"checkbox\"></input></td><td>1.0</td><td>1.0</td><td>1000.0</td><td></td></tr><tr><td>Mn</td><td><input disabled type=\"checkbox\"></input></td><td>1.0</td><td>1.0</td><td>1000.0</td><td></td></tr><tr><td>Fe</td><td><input disabled type=\"checkbox\"></input></td><td>1.0</td><td>1.0</td><td>1000.0</td><td></td></tr><tr><td>Co</td><td><input disabled type=\"checkbox\"></input></td><td>1.0</td><td>1.0</td><td>1000.0</td><td></td></tr><tr><td>Ni</td><td><input disabled type=\"checkbox\"></input></td><td>1.0</td><td>1.0</td><td>1000.0</td><td></td></tr><tr><td>Cu</td><td><input disabled type=\"checkbox\"></input></td><td>1.0</td><td>1.0</td><td>1000.0</td><td></td></tr><tr><td>Zn</td><td><input disabled type=\"checkbox\"></input></td><td>1.0</td><td>1.0</td><td>1000.0</td><td></td></tr><tr><td>Tau</td><td><input disabled type=\"checkbox\" checked></input></td><td>100000000000.0</td><td>100000000000.0</td><td>50000000000000.0</td><td>s/cm^3</td></tr><tr><td>redshift</td><td><input disabled type=\"checkbox\"></input></td><td>0.0</td><td>0.0</td><td>10.0</td><td></td></tr><tr><td>norm</td><td><input disabled type=\"checkbox\" checked></input></td><td>1.0</td><td>1.0</td><td>1e+24</td><td></td></tr></tbody></table></details></div>"
      ],
      "text/plain": [
       "<UserModel model instance 'usermodel.noh'>"
      ]
     },
     "execution_count": 18,
     "metadata": {},
     "output_type": "execute_result"
    }
   ],
   "source": [
    "make_xsvvnei_noh_model('noh')"
   ]
  },
  {
   "cell_type": "code",
   "execution_count": 19,
   "metadata": {},
   "outputs": [
    {
     "name": "stdout",
     "output_type": "stream",
     "text": [
      "usermodel.noh\n",
      "   Param        Type          Value          Min          Max      Units\n",
      "   -----        ----          -----          ---          ---      -----\n",
      "   noh.kT       thawed            1            1         79.9        keV\n",
      "   noh.He       frozen            1            1         1000           \n",
      "   noh.Li       frozen            1            1         1000           \n",
      "   noh.Be       frozen            1            1         1000           \n",
      "   noh.B        frozen            1            1         1000           \n",
      "   noh.C        frozen            1            1         1000           \n",
      "   noh.N        frozen            1            1         1000           \n",
      "   noh.O        frozen            1            1         1000           \n",
      "   noh.F        frozen            1            1         1000           \n",
      "   noh.Ne       frozen            1            1         1000           \n",
      "   noh.Na       frozen            1            1         1000           \n",
      "   noh.Mg       frozen            1            1         1000           \n",
      "   noh.Al       frozen            1            1         1000           \n",
      "   noh.Si       frozen            1            1         1000           \n",
      "   noh.P        frozen            1            1         1000           \n",
      "   noh.S        frozen            1            1         1000           \n",
      "   noh.Cl       frozen            1            1         1000           \n",
      "   noh.Ar       frozen            1            1         1000           \n",
      "   noh.K        frozen            1            1         1000           \n",
      "   noh.Ca       frozen            1            1         1000           \n",
      "   noh.Sc       frozen            1            1         1000           \n",
      "   noh.Ti       frozen            1            1         1000           \n",
      "   noh.V        frozen            1            1         1000           \n",
      "   noh.Cr       frozen            1            1         1000           \n",
      "   noh.Mn       frozen            1            1         1000           \n",
      "   noh.Fe       frozen            1            1         1000           \n",
      "   noh.Co       frozen            1            1         1000           \n",
      "   noh.Ni       frozen            1            1         1000           \n",
      "   noh.Cu       frozen            1            1         1000           \n",
      "   noh.Zn       frozen            1            1         1000           \n",
      "   noh.Tau      thawed        1e+11        1e+11        5e+13     s/cm^3\n",
      "   noh.redshift frozen            0            0           10           \n",
      "   noh.norm     thawed            1            1        1e+24           \n"
     ]
    }
   ],
   "source": [
    "print(noh)"
   ]
  },
  {
   "cell_type": "markdown",
   "metadata": {},
   "source": [
    "A quick check shows how the Oxygen abundance changes the results for\n",
    "the default temperature:"
   ]
  },
  {
   "cell_type": "code",
   "execution_count": 20,
   "metadata": {},
   "outputs": [
    {
     "data": {
      "image/png": "[encoded data removed]",
      "text/plain": [
       "<Figure size 432x288 with 1 Axes>"
      ]
     },
     "metadata": {
      "needs_background": "light"
     },
     "output_type": "display_data"
    }
   ],
   "source": [
    "yo1 = noh(elo, ehi)\n",
    "\n",
    "noh.o = 5\n",
    "yo5 = noh(elo, ehi)\n",
    "\n",
    "plt.plot(emid, yo1, label='O=1')\n",
    "plt.xscale('log')\n",
    "plt.yscale('log')\n",
    "\n",
    "plt.plot(emid, yo5, alpha=0.5, label='O=5')\n",
    "plt.legend();"
   ]
  },
  {
   "cell_type": "markdown",
   "metadata": {},
   "source": [
    "This (XSPEC 12.8-ish ere) used to be a more-obvious difference, but changes to the models have reduced the visual impact. So let's try subtracting them:"
   ]
  },
  {
   "cell_type": "code",
   "execution_count": 21,
   "metadata": {},
   "outputs": [
    {
     "data": {
      "image/png": "[encoded data removed]",
      "text/plain": [
       "<Figure size 432x288 with 1 Axes>"
      ]
     },
     "metadata": {
      "needs_background": "light"
     },
     "output_type": "display_data"
    }
   ],
   "source": [
    "plt.plot(emid, yo5 - yo1)\n",
    "plt.xlabel('Energy (keV)')\n",
    "plt.ylabel(r'$O_5 - O_1$')\n",
    "plt.xscale('log')\n",
    "plt.yscale('log');"
   ]
  },
  {
   "cell_type": "markdown",
   "metadata": {
    "tags": []
   },
   "source": [
    "or try looking at the ratio:"
   ]
  },
  {
   "cell_type": "code",
   "execution_count": 22,
   "metadata": {},
   "outputs": [
    {
     "data": {
      "image/png": "[encoded data removed]",
      "text/plain": [
       "<Figure size 432x288 with 1 Axes>"
      ]
     },
     "metadata": {
      "needs_background": "light"
     },
     "output_type": "display_data"
    }
   ],
   "source": [
    "plt.plot(emid, yo5 / yo1)\n",
    "plt.xlabel('Energy (keV)')\n",
    "plt.ylabel(r'$O_5 / O_1$');"
   ]
  },
  {
   "cell_type": "markdown",
   "metadata": {},
   "source": [
    "## Using a class-based approach"
   ]
  },
  {
   "cell_type": "markdown",
   "metadata": {},
   "source": [
    "As with the\n",
    "['User models in Sherpa' notebook](http://nbviewer.ipython.org/github/DougBurke/sherpa-standalone-notebooks/blob/master/user%20model.ipynb),\n",
    "we can also create a class for this model:"
   ]
  },
  {
   "cell_type": "code",
   "execution_count": 23,
   "metadata": {},
   "outputs": [],
   "source": [
    "from sherpa.models import model\n",
    "\n",
    "class XSvvneiNoH(model.ArithmeticModel):\n",
    "    \"\"\"A version of XSvvnei which has no Hydrogen. The\n",
    "    abundances of the other elements are given relative to\n",
    "    solar abundance of Hydrogen.\n",
    "    \"\"\"\n",
    "    \n",
    "    def __init__(self, name='xxvvneinoh'):\n",
    "        mdl = xspec.XSvvnei()\n",
    "        \n",
    "        pars = []\n",
    "        for par in mdl.pars:\n",
    "            if par.name == 'H':\n",
    "                continue\n",
    "                \n",
    "            newpar = model.Parameter(name, par.name, par.val, min=par.min, max=par.max,\n",
    "                                     hard_min=par.hard_min, hard_max=par.hard_max,\n",
    "                                     units=par.units, frozen=par.frozen,\n",
    "                                     alwaysfrozen=par.alwaysfrozen, hidden=par.hidden)\n",
    "            setattr(self, par.name, newpar)\n",
    "            pars.append(newpar)\n",
    "            \n",
    "        model.ArithmeticModel.__init__(self, name, tuple(pars))\n",
    "        \n",
    "    @model.modelCacher1d\n",
    "    def calc(self, pars, x, *args, **kwargs):\n",
    "        return xsvvnei_no_h(pars, x, *args)\n",
    "\n",
    "# Tell Sherpa about the model\n",
    "ui.add_model(XSvvneiNoH)"
   ]
  },
  {
   "cell_type": "markdown",
   "metadata": {},
   "source": [
    "This class can then be used to create model components: in the following I show the lines from Carbon, Oxygen, and Argon lines."
   ]
  },
  {
   "cell_type": "code",
   "execution_count": 24,
   "metadata": {},
   "outputs": [
    {
     "data": {
      "image/png": "[encoded data removed]",
      "text/plain": [
       "<Figure size 432x288 with 1 Axes>"
      ]
     },
     "metadata": {
      "needs_background": "light"
     },
     "output_type": "display_data"
    }
   ],
   "source": [
    "ui.create_model_component('xsvvneinoh', 'mdl')\n",
    "\n",
    "# Clear out all the elemental abundances\n",
    "for par in mdl.pars:\n",
    "    if len(par.name) < 3 and par.name != 'kT':\n",
    "        par.val = 0\n",
    "\n",
    "# Colors are taken from ColorBrewer2, or rather,\n",
    "# this StackOverflow answer: http://stats.stackexchange.com/a/118183\n",
    "        \n",
    "# Ensure there's some continuum\n",
    "mdl.he = 1\n",
    "\n",
    "# Carbon\n",
    "mdl.c = 1\n",
    "plt.plot(emid, mdl(elo, ehi), c='#e41a1c', label='C')\n",
    "\n",
    "# Oxygen\n",
    "mdl.c = 0\n",
    "mdl.o = 1\n",
    "plt.plot(emid, mdl(elo, ehi), c='#377eb8', label='O')\n",
    "\n",
    "# Argon\n",
    "mdl.o = 0\n",
    "mdl.ar = 1\n",
    "plt.plot(emid, mdl(elo, ehi), c='#4daf4a', label='Ar')\n",
    "\n",
    "# Continuum\n",
    "mdl.ar = 0\n",
    "plt.plot(emid, mdl(elo, ehi), c='#984ea3', label='Continuum')\n",
    "\n",
    "plt.legend()\n",
    "plt.xscale('log')\n",
    "plt.yscale('log')"
   ]
  },
  {
   "cell_type": "markdown",
   "metadata": {},
   "source": [
    "## Can we make this faster?"
   ]
  },
  {
   "cell_type": "markdown",
   "metadata": {},
   "source": [
    "If I were to be using this for actual analysis, I would probably re-write `xsvvnei_no_h` so that it is sent the model instance to use, rather than re-create it each time the model is evaluated, since the latter feels wasteful. However, it is *really* important to actually measure the time these functions take to run to make sure changes you make are worth it,\n",
    "so I'll do that too."
   ]
  },
  {
   "cell_type": "code",
   "execution_count": 25,
   "metadata": {},
   "outputs": [],
   "source": [
    "# I repeat the original version as a reference.\n",
    "def xsvvnei_no_h_1(pars, *args):\n",
    "    \"pars is kT, list of 29 element abundances (excluding H), tau, redshift, norm\"\n",
    "\n",
    "    # It's a bit excessive to create this each iteration\n",
    "    mdl = xspec.XSvvnei()\n",
    "    \n",
    "    pall = [pars[0], 1.0]\n",
    "    pall.extend(pars[1:])\n",
    "    \n",
    "    phonly = [pars[0], 1.0]\n",
    "    phonly.extend([0.0] * 29)\n",
    "    phonly.extend(pars[-3:])\n",
    "\n",
    "    # Evaluate the \"Hydrogen-free\" model\n",
    "    return mdl.calc(pall, *args) - mdl.calc(phonly, *args)\n",
    "\n",
    "# This version requires a model instance to be sent in\n",
    "def xsvvnei_no_h_2(mdl, pars, *args):\n",
    "    \"pars is kT, list of 29 element abundances (excluding H), tau, redshift, norm\"\n",
    "\n",
    "    pall = [pars[0], 1.0]\n",
    "    pall.extend(pars[1:])\n",
    "    \n",
    "    phonly = [pars[0], 1.0]\n",
    "    phonly.extend([0.0] * 29)\n",
    "    phonly.extend(pars[-3:])\n",
    "\n",
    "    # Evaluate the \"Hydrogen-free\" model\n",
    "    return mdl.calc(pall, *args) - mdl.calc(phonly, *args)    "
   ]
  },
  {
   "cell_type": "markdown",
   "metadata": {},
   "source": [
    "The IPython interpreter provides the \n",
    "[`%timeit`](http://ipython.org/ipython-doc/stable/interactive/magics.html#magic-timeit)\n",
    "command, which is a basic - *but useful*, as I'll show - way to time functions. In this case,\n",
    "I want to evaluate the two functions, which means I need a parameter array, a model (for `xsvvnei_no_h_2`), and I'll use `egrid` for the grid."
   ]
  },
  {
   "cell_type": "code",
   "execution_count": 26,
   "metadata": {},
   "outputs": [],
   "source": [
    "pars = [p.val for p in mdl.pars]\n",
    "mdl_2 = xspec.XSvvnei()"
   ]
  },
  {
   "cell_type": "markdown",
   "metadata": {},
   "source": [
    "The `%timeit` command takes the function to evaluate, and runs it multiple times, and reports its best estimate for the run time (it's an adaptive scheme, in that it tailors the number of loops to how long the function takes, and reports the time taken in \"sensible\" units)."
   ]
  },
  {
   "cell_type": "code",
   "execution_count": 27,
   "metadata": {},
   "outputs": [
    {
     "name": "stdout",
     "output_type": "stream",
     "text": [
      "1.25 ms ± 19.7 µs per loop (mean ± std. dev. of 7 runs, 1000 loops each)\n"
     ]
    }
   ],
   "source": [
    "%timeit xsvvnei_no_h_1(pars, elo, ehi)"
   ]
  },
  {
   "cell_type": "code",
   "execution_count": 28,
   "metadata": {},
   "outputs": [
    {
     "name": "stdout",
     "output_type": "stream",
     "text": [
      "669 µs ± 2.39 µs per loop (mean ± std. dev. of 7 runs, 1000 loops each)\n"
     ]
    }
   ],
   "source": [
    "%timeit xsvvnei_no_h_2(mdl_2, pars, elo, ehi)"
   ]
  },
  {
   "cell_type": "markdown",
   "metadata": {},
   "source": [
    "As we can see in this example, the second function is significantly faster than the first one (which surprised me, and the speed-up depends on the version of Sherpa being used). Now, there's **plenty of things**\n",
    "to be wary of when using this, since\n",
    "\n",
    " - I have not actualy checked that the two functions return the same values (which you\n",
    "   really *must do* before trying to work out which is faster);\n",
    "   \n",
    " - it relies on the function always doing the same amount of work each iteration\n",
    "   (it might be that the function loads in data files for particular parameter values,\n",
    "   or sets up memory or loads in data the first time it is run);\n",
    "   \n",
    " - I have only used a single set of parameters and one energy grid and the difference in \n",
    "   run time could well vary depending on these values;\n",
    "   \n",
    " - when used in a fit, there is plenty of other code being run, so there comes a point\n",
    "   at which reducing the run time of a model component is no longer worth it (perhaps\n",
    "   there's another model being evaluated which is significantly slower).\n",
    "\n",
    "So, this is a start, but it's not the end of the story. There are other commands and\n",
    "modules in Python that can help you optimise the run time (or memory usage), of Python\n",
    "code (e.g. \n",
    "[Timing and Profiling](http://pynash.org/2013/03/06/timing-and-profiling.html),\n",
    "[SciPy notes on Optimizing code](http://scipy-lectures.github.io/advanced/optimizing/),\n",
    "[Jake VanderPlas' example of optimizing Python code](https://jakevdp.github.io/blog/2015/02/24/optimizing-python-with-numpy-and-numba/),\n",
    "[SnakeViz for visualizing the cProfile output](https://jiffyclub.github.io/snakeviz/),\n",
    "and plenty of other resources out there on the internet).\n",
    "\n",
    "## Just one more thing\n",
    "\n",
    "The code above uses the generic Sherpa model interface to evaluate a model; that is, it uses the `calc` method of the `Model` class to evaluate the model, and can be used for *all* Sherpa models. I happen to know that$^\\dagger$,\n",
    "for XSPEC models, this method is defined as\n",
    "\n",
    "```\n",
    "class XSModel(ArithmeticModel):\n",
    "    \n",
    "    @modelCacher1d\n",
    "    def calc(self, *args, **kwargs):\n",
    "        return self._calc(*args, **kwargs)\n",
    "```\n",
    "\n",
    "and that the `XSvvnei` class defines `_calc` to be:\n",
    "\n",
    "```\n",
    "class XSvvnei(XSAdditiveModel):\n",
    "\n",
    "    _calc =  _xspec.C_vvnei\n",
    "...\n",
    "```\n",
    "\n",
    "---\n",
    "\n",
    "$^\\dagger$ - actually, it used to be implemented like this circa version 4.9, but in order to better support different versions the XSPEC model library, we now use a slightly-more complicated scheme, but the *essence* is the same, that is there is a field in the class structure that contains the actual function from the XSPEC model library that we can call.\n",
    "\n",
    "---\n",
    "\n",
    "This means that we can call `_calc` instead of `calc`, saving even-more time. Let's see\n",
    "how much this really helps:"
   ]
  },
  {
   "cell_type": "code",
   "execution_count": 29,
   "metadata": {},
   "outputs": [],
   "source": [
    "from sherpa.astro.xspec import _xspec\n",
    "\n",
    "def xsvvnei_no_h_3(mdl, pars, *args):\n",
    "    \"pars is kT, list of 29 element abundances (excluding H), tau, redshift, norm\"\n",
    "\n",
    "    pall = [pars[0], 1.0]\n",
    "    pall.extend(pars[1:])\n",
    "    \n",
    "    phonly = [pars[0], 1.0]\n",
    "    phonly.extend([0.0] * 29)\n",
    "    phonly.extend(pars[-3:])\n",
    "\n",
    "    # Evaluate the \"Hydrogen-free\" model\n",
    "    return mdl._calc(pall, *args) - mdl._calc(phonly, *args)\n",
    "\n",
    "def xsvvnei_no_h_4(pars, *args):\n",
    "    \"pars is kT, list of 29 element abundances (excluding H), tau, redshift, norm\"\n",
    "\n",
    "    pall = [pars[0], 1.0]\n",
    "    pall.extend(pars[1:])\n",
    "    \n",
    "    phonly = [pars[0], 1.0]\n",
    "    phonly.extend([0.0] * 29)\n",
    "    phonly.extend(pars[-3:])\n",
    "\n",
    "    # Evaluate the \"Hydrogen-free\" model\n",
    "    return _xspec.C_vvnei(pall, *args) - _xspec.C_vvnei(phonly, *args)    "
   ]
  },
  {
   "cell_type": "code",
   "execution_count": 30,
   "metadata": {},
   "outputs": [
    {
     "name": "stdout",
     "output_type": "stream",
     "text": [
      "1.28 ms ± 10.4 µs per loop (mean ± std. dev. of 7 runs, 1000 loops each)\n",
      "678 µs ± 1.34 µs per loop (mean ± std. dev. of 7 runs, 1000 loops each)\n",
      "604 µs ± 1.32 µs per loop (mean ± std. dev. of 7 runs, 1000 loops each)\n",
      "605 µs ± 5.62 µs per loop (mean ± std. dev. of 7 runs, 1000 loops each)\n"
     ]
    }
   ],
   "source": [
    "%timeit xsvvnei_no_h_1(pars, elo, ehi)\n",
    "%timeit xsvvnei_no_h_2(mdl_2, pars, elo, ehi)\n",
    "%timeit xsvvnei_no_h_3(mdl_2, pars, elo, ehi)\n",
    "%timeit xsvvnei_no_h_4(pars, elo, ehi)"
   ]
  },
  {
   "cell_type": "markdown",
   "metadata": {},
   "source": [
    "So, in this case, the extra \"optimisations\" do save us some time, but  I would be reluctant to use them, since they rely on internals of the code that could be changed at any time."
   ]
  }
 ],
 "metadata": {
  "kernelspec": {
   "display_name": "Python 3 (ipykernel)",
   "language": "python",
   "name": "python3"
  },
  "language_info": {
   "codemirror_mode": {
    "name": "ipython",
    "version": 3
   },
   "file_extension": ".py",
   "mimetype": "text/x-python",
   "name": "python",
   "nbconvert_exporter": "python",
   "pygments_lexer": "ipython3",
   "version": "3.9.7"
  }
 },
 "nbformat": 4,
 "nbformat_minor": 4
}
