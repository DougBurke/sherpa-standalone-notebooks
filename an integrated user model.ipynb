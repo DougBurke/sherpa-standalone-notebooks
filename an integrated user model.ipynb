{
 "cells": [
  {
   "cell_type": "markdown",
   "metadata": {},
   "source": [
    "# User models in Sherpa - II"
   ]
  },
  {
   "cell_type": "markdown",
   "metadata": {},
   "source": [
    "In the previous notebook - [User models in Sherpa](http://nbviewer.ipython.org/github/DougBurke/sherpa-standalone-notebooks/blob/master/user%20model.ipynb) - I showed how you could\n",
    "write a user model to fit the \n",
    "[Cumulative Distribution Function](http://en.wikipedia.org/wiki/Cumulative_distribution_function) (CDF) of a data set with a\n",
    "[Gamma distribution](http://en.wikipedia.org/wiki/Gamma_distribution). Rather than use the\n",
    "[load_user_model](http://cxc.harvard.edu/sherpa/ahelp/load_user_model.html) function, I showed\n",
    "how to write the model taking advantage of the Sherpa `Model` class, and the\n",
    "[add_model](http://cxc.harvard.edu/sherpa/ahelp/add_model.html) function to register the\n",
    "class with Sherpa.\n",
    "\n",
    "One question I got from a colleague was why I fit the CDF, rather than the\n",
    "[Probability Density Function](http://en.wikipedia.org/wiki/Probability_density_function) (PDF)\n",
    "of the data? Whilst I am not going to answer that question here, I do aim to show how\n",
    "to fit the PDF, since it:\n",
    "\n",
    " - lets me talk about writing models for \"integrated\" data sets\n",
    " - lets me fit the data using a Maximim Likelihood statistic, rather than the\n",
    "   \"least-squares\" approach I used previously."
   ]
  },
  {
   "cell_type": "markdown",
   "metadata": {},
   "source": [
    "## Author and disclaimer"
   ]
  },
  {
   "cell_type": "markdown",
   "metadata": {},
   "source": [
    "This was written by \n",
    "[Douglas Burke](http://hea-www.cfa.harvard.edu/~dburke/)\n",
    "on June 4 2015. This notebook, and others that may be of\n",
    "interest, can be found on GitHub at\n",
    "https://github.com/DougBurke/sherpa-standalone-notebooks.\n",
    "\n",
    "The information in this document is placed into the Publc Domain. It is not an official product of the Chandra\n",
    "X-ray Center, and I make no guarantee that it is not without bugs or embarassing typos. Please contact me via the GitHub repository or on Twitter - at \n",
    "[@doug_burke](https://twitter.com/doug_burke) - if you have any questions."
   ]
  },
  {
   "cell_type": "markdown",
   "metadata": {},
   "source": [
    "## Setting up"
   ]
  },
  {
   "cell_type": "markdown",
   "metadata": {},
   "source": [
    "First of all I am going to load in the necessary modules, and set up the CDF model I wrote\n",
    "earlier:"
   ]
  },
  {
   "cell_type": "code",
   "execution_count": 1,
   "metadata": {
    "collapsed": true
   },
   "outputs": [],
   "source": [
    "import numpy as np\n",
    "import matplotlib.pyplot as plt\n",
    "\n",
    "from scipy import stats"
   ]
  },
  {
   "cell_type": "code",
   "execution_count": 2,
   "metadata": {
    "collapsed": true
   },
   "outputs": [],
   "source": [
    "%matplotlib inline"
   ]
  },
  {
   "cell_type": "code",
   "execution_count": 3,
   "metadata": {
    "collapsed": true
   },
   "outputs": [],
   "source": [
    "import logging\n",
    "logging.getLogger('sherpa').propagate = 0"
   ]
  },
  {
   "cell_type": "code",
   "execution_count": 4,
   "metadata": {
    "collapsed": false
   },
   "outputs": [],
   "source": [
    "from sherpa import utils\n",
    "from sherpa.models import model\n",
    "from sherpa.models.parameter import tinyval"
   ]
  },
  {
   "cell_type": "code",
   "execution_count": 5,
   "metadata": {
    "collapsed": false
   },
   "outputs": [
    {
     "name": "stdout",
     "output_type": "stream",
     "text": [
      "WARNING: imaging routines will not be available, \n",
      "failed to import sherpa.image.ds9_backend due to \n",
      "'RuntimeErr: DS9Win unusable: Could not find ds9 on your PATH'\n"
     ]
    }
   ],
   "source": [
    "from sherpa import ui"
   ]
  },
  {
   "cell_type": "markdown",
   "metadata": {},
   "source": [
    "With the imports out of the way, here are routines to calculate the CDF and PDF\n",
    "of a Gamma distribution:"
   ]
  },
  {
   "cell_type": "code",
   "execution_count": 6,
   "metadata": {
    "collapsed": true
   },
   "outputs": [],
   "source": [
    "def calc_gamma_cdf(x, k, theta):\n",
    "    \"\"\"Return the CDF of a gamma distribution.\n",
    "\n",
    "    The cumulative distribution function (CDF) of the gamma\n",
    "    distribution is defined in [1]_ as::\n",
    "\n",
    "       cdf(x;k,theta) = incomplete_gamma(k, x/theta)\n",
    "                        ----------------------------\n",
    "                                  gamma(k)\n",
    "\n",
    "    Parameters\n",
    "    ----------\n",
    "    x : array\n",
    "       The values at which to evaluate the CDF.\n",
    "    k : number\n",
    "       The shape parameter, which must be greater than 0.\n",
    "    theta : number\n",
    "       The scale parameter, which must be greater than 0.\n",
    "\n",
    "    Returns\n",
    "    -------\n",
    "    cdf : array\n",
    "       The CDF evaluated at each element of x.\n",
    "\n",
    "    Notes\n",
    "    -----\n",
    "    The mean of the distribution is given by ``k * theta``,\n",
    "    and the rate is ``1 / theta``.\n",
    " \n",
    "    References\n",
    "    ----------\n",
    "\n",
    "    .. [1] http://en.wikipedia.org/wiki/Gamma_distribution\n",
    "\n",
    "    \"\"\"\n",
    "\n",
    "    # Unfortunately igam does not accept a Numpy array as the\n",
    "    # second argument, so need to map over the input array.\n",
    "    #\n",
    "    tval = theta * 1.0\n",
    "    kval = k * 1.0\n",
    "    x = np.asarray(x)\n",
    "    out = np.zeros_like(x)\n",
    "    for i,xi in enumerate(x):\n",
    "        # igam is the \"regularized\" incomplete gamma (lower)\n",
    "        # form, so already has the normalization by gamma(a)\n",
    "        # included.\n",
    "        out[i] = utils.igam(kval, xi/tval)\n",
    "\n",
    "    return out\n",
    "\n",
    "def calc_gamma_pdf(x, k, theta):\n",
    "    \"\"\"Return the PDF of a gamma distribution.\n",
    "\n",
    "    The probability density function (PDF) of the gamma\n",
    "    distribution is defined in [1]_ as::\n",
    "\n",
    "       pdf(x;k,theta) = x^(k-1) e^(-x/theta)\n",
    "                        --------------------\n",
    "                          gamma(k) theta^k\n",
    "\n",
    "    Parameters\n",
    "    ----------\n",
    "    x : array\n",
    "       The values at which to evaluate the PDF.\n",
    "    k : number\n",
    "       The shape parameter, which must be greater than 0.\n",
    "    theta : number\n",
    "       The scale parameter, which must be greater than 0.\n",
    "\n",
    "    Returns\n",
    "    -------\n",
    "    pdf : array\n",
    "       The PDF evaluated at each element of x.\n",
    "\n",
    "    Notes\n",
    "    -----\n",
    "    The mean of the distribution is given by ``k * theta``,\n",
    "    and the rate is ``1 / theta``.\n",
    " \n",
    "    References\n",
    "    ----------\n",
    "\n",
    "    .. [1] http://en.wikipedia.org/wiki/Gamma_distribution\n",
    "\n",
    "    \"\"\"\n",
    "\n",
    "    tval = theta * 1.0\n",
    "    kval = k * 1.0\n",
    "    norm = utils.gamma(kval) * theta**kval\n",
    "    return x**(kval-1.0) * np.exp(-x / tval) / norm"
   ]
  },
  {
   "cell_type": "markdown",
   "metadata": {},
   "source": [
    "I am also going to need a routine that integrates the PDF over a range in x. This is just \n",
    "the difference in the CDF at the two points, so can be written as:"
   ]
  },
  {
   "cell_type": "code",
   "execution_count": 7,
   "metadata": {
    "collapsed": true
   },
   "outputs": [],
   "source": [
    "def calc_gamma_pdf_int(xlo, xhi, k, theta):\n",
    "    \"\"\"Return the PDF of a gamma distribution integrated over a bin.\n",
    "\n",
    "    The probability density function (PDF) of the gamma\n",
    "    distribution is defined in [1]_ as::\n",
    "\n",
    "       pdf(x;k,theta) = x^(k-1) e^(-x/theta)\n",
    "                        --------------------\n",
    "                          gamma(k) theta^k\n",
    "\n",
    "    Integrating this gives::\n",
    "\n",
    "      - theta^k igamma(k, x/theta) + c\n",
    "      ----------------------------\n",
    "            gamma(k) theta^k\n",
    "\n",
    "    where igamma is the incomplete gamma function. Note that this is\n",
    "    the \"upper\" form (so int_x^infinity), and sherpa.utils.igam\n",
    "    calculates the lower-form (which is 1-upper), which is also\n",
    "    a normalized form, so we get to::\n",
    "\n",
    "       sherpa.utils.igam(k,xhi/theta) - sherpa.utils.igam(k,xlo/theta)\n",
    "\n",
    "    which shouldn't be surprising as it's just::\n",
    "\n",
    "       cdf(xhi;k,theta) - cdf(xlo;k,theta)\n",
    "\n",
    "    This means that this is just::\n",
    "\n",
    "       calc_gamma_cdf(xhi,k,t) - calc_gamma_cdf(xlo,k,t)\n",
    "\n",
    "    Parameters\n",
    "    ----------\n",
    "    xlo, xhi : array\n",
    "       The bin edges over which to integrate the PDF.\n",
    "    k : number\n",
    "       The shape parameter, which must be greater than 0.\n",
    "    theta : number\n",
    "       The scale parameter, which must be greater than 0.\n",
    "\n",
    "    Returns\n",
    "    -------\n",
    "    pdf : array\n",
    "       The PDF integrated over xlo to xhi.\n",
    "\n",
    "    References\n",
    "    ----------\n",
    "\n",
    "    .. [1] http://en.wikipedia.org/wiki/Gamma_distribution\n",
    "\n",
    "    \"\"\"\n",
    "\n",
    "    return calc_gamma_cdf(xhi, k, theta) - calc_gamma_cdf(xlo, k, theta)"
   ]
  },
  {
   "cell_type": "markdown",
   "metadata": {},
   "source": [
    "With these, I can write the `GammaCDF` class, which is essentially the same as in the\n",
    "previous version, *except* that I have now used a finite, but *small*, lower limit on the\n",
    "`k` and `theta` parameter values, rather than allow them to go down to `0`. The lower limit\n",
    "is given by `sherpa.models.parameter.tinyval`, which is:"
   ]
  },
  {
   "cell_type": "code",
   "execution_count": 8,
   "metadata": {
    "collapsed": false
   },
   "outputs": [
    {
     "data": {
      "text/plain": [
       "1.1754943508222875e-38"
      ]
     },
     "execution_count": 8,
     "metadata": {},
     "output_type": "execute_result"
    }
   ],
   "source": [
    "tinyval"
   ]
  },
  {
   "cell_type": "code",
   "execution_count": 9,
   "metadata": {
    "collapsed": true
   },
   "outputs": [],
   "source": [
    "class GammaCDF(model.ArithmeticModel):\n",
    "    \"\"\"A Gamma CDF.\n",
    "\n",
    "    The cumulative distribution function (CDF) for the Gamma\n",
    "    distribution, as defined by [1]_, is::\n",
    "\n",
    "       cdf(x;k,theta) = incomplete_gamma(k, x/theta)\n",
    "                        ----------------------------\n",
    "                                  gamma(k)\n",
    "\n",
    "    The model parameters are:\n",
    "\n",
    "    k\n",
    "       The shape parameter, which must be greater than 0.\n",
    "\n",
    "    theta\n",
    "       The scale parameter, which must be greater than 0.\n",
    "\n",
    "    Notes\n",
    "    -----\n",
    "    The mean of the distribution is given by ``k * theta``,\n",
    "    and the rate is ``1 / theta``.\n",
    "    \n",
    "    References\n",
    "    ----------\n",
    "\n",
    "    .. [1] http://en.wikipedia.org/wiki/Gamma_distribution\n",
    "\n",
    "    \"\"\"\n",
    "\n",
    "    def __init__(self, name='gammacdf'):\n",
    "        self.k = model.Parameter(name, 'k', 5, min=tinyval, hard_min=0)\n",
    "        self.theta = model.Parameter(name, 'theta', 2, min=tinyval, hard_min=0)\n",
    "\n",
    "        model.ArithmeticModel.__init__(self, name, (self.k, self.theta))\n",
    "\n",
    "    @model.modelCacher1d\n",
    "    def calc(self, pars, x, *args, **kwargs):\n",
    "        (k, theta) = pars\n",
    "        if len(args) == 1:\n",
    "            x = (x + args[0]) / 2.0\n",
    "\n",
    "        return calc_gamma_cdf(x, k, theta)"
   ]
  },
  {
   "cell_type": "markdown",
   "metadata": {},
   "source": [
    "The above model expects either one or two `x` arrays - the independent variable value - which are the location at which to evaluate the model (one array), or the low and high edges of each bin, over which the model should be evaluated. In the CDF case I just use the mid-point of the bin; that is I do not \"integrate\" the model. However, for the PDF case, where the data is \"integrated\" - i.e. it represents the number of events within the range, we can integrate up the data. The overall form of the `GammaPDF` class is very similar to `GammaCDF`, but\n",
    "\n",
    " - an extra parameter is needed (the number of events),\n",
    " - the handling of the model evaluation is slightly different,\n",
    " - and a `guess` routine is added so that the normalisation can be set based on the data,\n",
    "\n",
    "as shown below:"
   ]
  },
  {
   "cell_type": "code",
   "execution_count": 10,
   "metadata": {
    "collapsed": true
   },
   "outputs": [],
   "source": [
    "class GammaPDF(model.ArithmeticModel):\n",
    "    \"\"\"A Gamma PDF.\n",
    "\n",
    "    The probability density function (PDF) for the Gamma\n",
    "    distribution, as defined by [1]_, is::\n",
    "\n",
    "       pdf(x;k,theta) = x^(k-1) e^(-x/theta)\n",
    "                        --------------------\n",
    "                          gamma(k) theta^k\n",
    "\n",
    "    The model parameters are:\n",
    "\n",
    "    k\n",
    "       The shape parameter, which must be greater than 0.\n",
    "\n",
    "    theta\n",
    "       The scale parameter, which must be greater than 0.\n",
    "\n",
    "    norm\n",
    "       Normalization. The soft minimum is set to 0, but the\n",
    "       hard_min is left at the default value, so the minimum\n",
    "       can be made negative if the user wants.\n",
    "\n",
    "    Notes\n",
    "    -----\n",
    "    The mean of the distribution is given by ``k * theta``,\n",
    "    and the rate is ``1 / theta``.\n",
    "\n",
    "    References\n",
    "    ----------\n",
    "\n",
    "    .. [1] http://en.wikipedia.org/wiki/Gamma_distribution\n",
    "\n",
    "    \"\"\"\n",
    "\n",
    "    def __init__(self, name='gammapdf'):\n",
    "        self.k = model.Parameter(name, 'k', 5, min=tinyval, hard_min=0)\n",
    "        self.theta = model.Parameter(name, 'theta', 2, min=tinyval, hard_min=0)\n",
    "        self.norm = model.Parameter(name, 'norm', 1, min=0) # allow -ve if they realy want it\n",
    "        \n",
    "        model.ArithmeticModel.__init__(self, name, (self.k, self.theta, self.norm))\n",
    "\n",
    "    @model.modelCacher1d\n",
    "    def calc(self, pars, x, *args, **kwargs):\n",
    "        (k, theta, norm) = pars\n",
    "        if len(args) == 0:\n",
    "            return norm * calc_gamma_pdf(x, k, theta)\n",
    "        elif len(args) == 1:\n",
    "            # note: this could be a 2D dataset\n",
    "            return norm * calc_gamma_pdf_int(x, args[0], k, theta)\n",
    "        else:\n",
    "            raise ValueError(\"Expected x or xlo/xhi grid.\")\n",
    "            \n",
    "    def guess(self, dep, *args, **kwargs):\n",
    "        \"\"\"Set the norm parameter based on the data.\n",
    "        \n",
    "        The norm parameter is set to be the sum of the dependent axis\n",
    "        and frozen. The ``k`` and ``theta`` parameters are not changed.\n",
    "        \n",
    "        Notes\n",
    "        -----\n",
    "        The mean of the values equals k * theta and the mode is\n",
    "        (k-1) * theta - when k > 1 - so these could be used to set\n",
    "        k and theta, but I am not convinced it is worth the effort.\n",
    "        \n",
    "        \"\"\"\n",
    "        norm = dep.sum()\n",
    "        self.norm.val = dep.sum()\n",
    "        self.norm.frozen = True"
   ]
  },
  {
   "cell_type": "markdown",
   "metadata": {},
   "source": [
    "These models can now be added to Sherpa:"
   ]
  },
  {
   "cell_type": "code",
   "execution_count": 11,
   "metadata": {
    "collapsed": false
   },
   "outputs": [],
   "source": [
    "ui.add_model(GammaCDF)\n",
    "ui.add_model(GammaPDF)"
   ]
  },
  {
   "cell_type": "markdown",
   "metadata": {},
   "source": [
    "Let's set up the same data as used in the previous notebook:"
   ]
  },
  {
   "cell_type": "code",
   "execution_count": 12,
   "metadata": {
    "collapsed": true
   },
   "outputs": [],
   "source": [
    "np.random.seed(1)"
   ]
  },
  {
   "cell_type": "code",
   "execution_count": 13,
   "metadata": {
    "collapsed": false
   },
   "outputs": [],
   "source": [
    "k_orig = 1.1\n",
    "theta_orig = 2.6\n",
    "ysim = stats.gamma.rvs(a=k_orig, scale=theta_orig, size=1000)"
   ]
  },
  {
   "cell_type": "markdown",
   "metadata": {},
   "source": [
    "## Repeating the CDF fit"
   ]
  },
  {
   "cell_type": "markdown",
   "metadata": {},
   "source": [
    "First I am going to repeat the CDF fit:"
   ]
  },
  {
   "cell_type": "code",
   "execution_count": 14,
   "metadata": {
    "collapsed": true
   },
   "outputs": [],
   "source": [
    "xcdf = ysim.copy()\n",
    "xcdf.sort()\n",
    "ycdf = np.arange(1, xcdf.size+1) * 1.0 / xcdf.size"
   ]
  },
  {
   "cell_type": "code",
   "execution_count": 15,
   "metadata": {
    "collapsed": false
   },
   "outputs": [
    {
     "name": "stdout",
     "output_type": "stream",
     "text": [
      "Dataset               = cdf\n",
      "Method                = levmar\n",
      "Statistic             = leastsq\n",
      "Initial fit statistic = 230.647\n",
      "Final fit statistic   = 0.0597901 at function evaluation 36\n",
      "Data points           = 1000\n",
      "Degrees of freedom    = 998\n",
      "Change in statistic   = 230.587\n",
      "   cdf.k          1.10221     \n",
      "   cdf.theta      2.61027     \n"
     ]
    }
   ],
   "source": [
    "ui.load_arrays('cdf', xcdf, ycdf)\n",
    "ui.set_model('cdf', gammacdf.cdf)\n",
    "ui.set_stat('leastsq')\n",
    "ui.fit('cdf')"
   ]
  },
  {
   "cell_type": "markdown",
   "metadata": {},
   "source": [
    "## Fitting with the PDF model"
   ]
  },
  {
   "cell_type": "markdown",
   "metadata": {},
   "source": [
    "Now I can try the PDF model, which requires binning `ysim` up. I am going to arbitrarily\n",
    "choose 31 equal-width bins and ensure that it's not actually the PDF that we fit, but the\n",
    "PDF times the number of events (so that I can use a Maximum-Likelihood statistic for the fit):"
   ]
  },
  {
   "cell_type": "code",
   "execution_count": 16,
   "metadata": {
    "collapsed": true
   },
   "outputs": [],
   "source": [
    "(ypdf, edges) = np.histogram(ysim, bins=31, density=False)\n",
    "xlo = edges[:-1]\n",
    "xhi = edges[1:]"
   ]
  },
  {
   "cell_type": "markdown",
   "metadata": {},
   "source": [
    "This time the data is labelled as an \"integrated\" data set - that is, it is of type\n",
    "`ui.Data1DInt` rather than `ui.Data1D`, which is the default. This means that the columns refer to the low and high edges of the independent axis, and then the dependent axis values. Since I have integer values, I can use the \"Cash\" statistic - from\n",
    "[Parameter estimation in astronomy through application of\n",
    "the likelihood ratio](http://adsabs.harvard.edu/abs/1979ApJ...228..939C) - which is a Maximum-Likelihood statistic where the data values are assumed to follow a Poisson distribution. I have\n",
    "seen cases where the default optimiser - the Levenberg-Marquardt method - does not work well\n",
    "with the Cash statistic (normally when the normalisation of the model is very-far away from the data, which is not an issue for the \"pdf\" data set, but is for the \"check\" data set I try later), so I chose the Nelder-Mead Simplex algorithm."
   ]
  },
  {
   "cell_type": "code",
   "execution_count": 17,
   "metadata": {
    "collapsed": true
   },
   "outputs": [],
   "source": [
    "ui.load_arrays('pdf', xlo, xhi, ypdf, ui.Data1DInt)\n",
    "ui.set_stat('cash')\n",
    "ui.set_method('neldermead')"
   ]
  },
  {
   "cell_type": "markdown",
   "metadata": {},
   "source": [
    "When plotted, data bars are added. These values are *not* used in the fit, and are only to help visualize the data (they can be turned off but I have left them in here):"
   ]
  },
  {
   "cell_type": "code",
   "execution_count": 18,
   "metadata": {
    "collapsed": false
   },
   "outputs": [
    {
     "name": "stdout",
     "output_type": "stream",
     "text": [
      "WARNING: The displayed errorbars have been supplied with the data or calculated using chi2xspecvar; the errors are not used in fits with cash\n"
     ]
    },
    {
     "data": {
      "image/png": "[encoded data removed]",
      "text/plain": [
       "<matplotlib.figure.Figure at 0x7f438dfc3850>"
      ]
     },
     "metadata": {},
     "output_type": "display_data"
    }
   ],
   "source": [
    "ui.plot_data('pdf')"
   ]
  },
  {
   "cell_type": "markdown",
   "metadata": {},
   "source": [
    "Here I create an instance of the `GammaPDF` class - using the `gammapdf` function created by\n",
    "the `add_model` call - called `pdf`:"
   ]
  },
  {
   "cell_type": "code",
   "execution_count": 19,
   "metadata": {
    "collapsed": false
   },
   "outputs": [
    {
     "name": "stdout",
     "output_type": "stream",
     "text": [
      "gammapdf.pdf\n",
      "   Param        Type          Value          Min          Max      Units\n",
      "   -----        ----          -----          ---          ---      -----\n",
      "   pdf.k        thawed            5  1.17549e-38  3.40282e+38           \n",
      "   pdf.theta    thawed            2  1.17549e-38  3.40282e+38           \n",
      "   pdf.norm     thawed            1            0  3.40282e+38           \n"
     ]
    }
   ],
   "source": [
    "ui.set_source('pdf', gammapdf.pdf)\n",
    "print(pdf)"
   ]
  },
  {
   "cell_type": "markdown",
   "metadata": {},
   "source": [
    "As I went to the effort of writing a `guess` method for this class, let's see what it does:"
   ]
  },
  {
   "cell_type": "code",
   "execution_count": 20,
   "metadata": {
    "collapsed": false
   },
   "outputs": [
    {
     "name": "stdout",
     "output_type": "stream",
     "text": [
      "gammapdf.pdf\n",
      "   Param        Type          Value          Min          Max      Units\n",
      "   -----        ----          -----          ---          ---      -----\n",
      "   pdf.k        thawed            5  1.17549e-38  3.40282e+38           \n",
      "   pdf.theta    thawed            2  1.17549e-38  3.40282e+38           \n",
      "   pdf.norm     frozen         1000            0  3.40282e+38           \n"
     ]
    }
   ],
   "source": [
    "ui.guess('pdf', pdf)\n",
    "print(pdf)"
   ]
  },
  {
   "cell_type": "markdown",
   "metadata": {},
   "source": [
    "The `norm` parameter is now set to the sum of the data - in this 1000 - and has been frozen,\n",
    "so that it is not varied during the fit."
   ]
  },
  {
   "cell_type": "code",
   "execution_count": 21,
   "metadata": {
    "collapsed": false
   },
   "outputs": [
    {
     "name": "stdout",
     "output_type": "stream",
     "text": [
      "Dataset               = pdf\n",
      "Method                = neldermead\n",
      "Statistic             = cash\n",
      "Initial fit statistic = -807.674\n",
      "Final fit statistic   = -7315.31 at function evaluation 218\n",
      "Data points           = 31\n",
      "Degrees of freedom    = 29\n",
      "Change in statistic   = 6507.64\n",
      "   pdf.k          1.05479     \n",
      "   pdf.theta      2.79661     \n"
     ]
    }
   ],
   "source": [
    "ui.fit('pdf')"
   ]
  },
  {
   "cell_type": "markdown",
   "metadata": {},
   "source": [
    "The fit is in the right area of parameter space (the input `k` and `theta` values are\n",
    "1.1 and 2.6), and the fit looks reasonable:"
   ]
  },
  {
   "cell_type": "code",
   "execution_count": 22,
   "metadata": {
    "collapsed": false
   },
   "outputs": [
    {
     "name": "stdout",
     "output_type": "stream",
     "text": [
      "WARNING: The displayed errorbars have been supplied with the data or calculated using chi2xspecvar; the errors are not used in fits with cash\n",
      "WARNING: The displayed errorbars have been supplied with the data or calculated using chi2xspecvar; the errors are not used in fits with cash\n"
     ]
    },
    {
     "data": {
      "image/png": "[encoded data removed]",
      "text/plain": [
       "<matplotlib.figure.Figure at 0x7f438c3d45d0>"
      ]
     },
     "metadata": {},
     "output_type": "display_data"
    }
   ],
   "source": [
    "ui.plot_fit_resid('pdf')"
   ]
  },
  {
   "cell_type": "markdown",
   "metadata": {},
   "source": [
    "Since the Y values cover more than one order of magnitude, let's use a log scale to check (the\n",
    "error bars are not well displayed when ``value - error <= 0``):"
   ]
  },
  {
   "cell_type": "code",
   "execution_count": 23,
   "metadata": {
    "collapsed": false
   },
   "outputs": [
    {
     "name": "stdout",
     "output_type": "stream",
     "text": [
      "WARNING: The displayed errorbars have been supplied with the data or calculated using chi2xspecvar; the errors are not used in fits with cash\n"
     ]
    },
    {
     "data": {
      "image/png": "[encoded data removed]",
      "text/plain": [
       "<matplotlib.figure.Figure at 0x7f438c20f050>"
      ]
     },
     "metadata": {},
     "output_type": "display_data"
    }
   ],
   "source": [
    "ui.plot_fit('pdf')\n",
    "plt.yscale('log')"
   ]
  },
  {
   "cell_type": "markdown",
   "metadata": {},
   "source": [
    "One point of fitting the PDF was to see what the errors on the parameters are (note that due to some oddity of the IPython notebook the \"lower\" and \"upper\" bound messages, which are displayed as the fit runs, and should appear before the table, are in fact displayed last here):"
   ]
  },
  {
   "cell_type": "code",
   "execution_count": 24,
   "metadata": {
    "collapsed": false
   },
   "outputs": [
    {
     "name": "stdout",
     "output_type": "stream",
     "text": [
      "Dataset               = pdf\n",
      "Confidence Method     = confidence\n",
      "Iterative Fit Method  = None\n",
      "Fitting Method        = neldermead\n",
      "Statistic             = cash\n",
      "confidence 1-sigma (68.2689%) bounds:\n",
      "   Param            Best-Fit  Lower Bound  Upper Bound\n",
      "   -----            --------  -----------  -----------\n",
      "   pdf.k             1.05479   -0.0525859     0.053836\n",
      "   pdf.theta         2.79661    -0.156241     0.170394\n",
      "pdf.theta lower bound:\t-0.156241\n",
      "pdf.k lower bound:\t-0.0525859\n",
      "pdf.theta upper bound:\t0.170394\n",
      "pdf.k upper bound:\t0.053836\n"
     ]
    }
   ],
   "source": [
    "ui.conf('pdf')"
   ]
  },
  {
   "cell_type": "markdown",
   "metadata": {},
   "source": [
    "As well as the individual errors, let's look at how they are correlated (the contours\n",
    "give the one, two, and three sigma ranges, and the cross is the best-fit location). I have\n",
    "increased the number of points used in this plot since the evaluation is quick (as there\n",
    "are no free parameters beyond ``k`` and ``theta``).\n",
    "\n",
    "I'll repeat this plot later on, adding on the actual values and the results from the CDF."
   ]
  },
  {
   "cell_type": "code",
   "execution_count": 25,
   "metadata": {
    "collapsed": false
   },
   "outputs": [
    {
     "data": {
      "image/png": "[encoded data removed]",
      "text/plain": [
       "<matplotlib.figure.Figure at 0x7f438c20f5d0>"
      ]
     },
     "metadata": {},
     "output_type": "display_data"
    }
   ],
   "source": [
    "ui.reg_proj(pdf.k, pdf.theta, id='pdf', nloop=[41,41])"
   ]
  },
  {
   "cell_type": "markdown",
   "metadata": {},
   "source": [
    "## Trying out the \"non-integrated\" case"
   ]
  },
  {
   "cell_type": "markdown",
   "metadata": {},
   "source": [
    "The `GammaPDF` model was written to work with both integrated and non-integrated data, so let's see what happens when the latter is used. In this case, I use the same y values but place them at the mid-point of each bin:"
   ]
  },
  {
   "cell_type": "code",
   "execution_count": 26,
   "metadata": {
    "collapsed": false
   },
   "outputs": [
    {
     "name": "stdout",
     "output_type": "stream",
     "text": [
      "Dataset               = check\n",
      "Method                = neldermead\n",
      "Statistic             = cash\n",
      "Initial fit statistic = 11202.9\n",
      "Final fit statistic   = -7315.15 at function evaluation 341\n",
      "Data points           = 31\n",
      "Degrees of freedom    = 28\n",
      "Change in statistic   = 18518.1\n",
      "   pdf2.k         1.06076     \n",
      "   pdf2.theta     2.79291     \n",
      "   pdf2.norm      845.983     \n"
     ]
    }
   ],
   "source": [
    "ui.load_arrays('check', (xlo+xhi)/2, ypdf)\n",
    "ui.set_source('check', gammapdf.pdf2)\n",
    "ui.fit('check')"
   ]
  },
  {
   "cell_type": "markdown",
   "metadata": {},
   "source": [
    "So, the results aren't too different - apart from the fact that the normalisation is lower than the \"expected\" value of 1000 (as I'm approximating a binned distribution with an un-binned one I wanted to see what happened to the `norm` parameter, which is why I did not fix it).\n",
    "\n",
    "The fit looks reasonable (but again, remember that the error bars should not be taken too seriously):"
   ]
  },
  {
   "cell_type": "code",
   "execution_count": 27,
   "metadata": {
    "collapsed": false
   },
   "outputs": [
    {
     "name": "stdout",
     "output_type": "stream",
     "text": [
      "WARNING: The displayed errorbars have been supplied with the data or calculated using chi2xspecvar; the errors are not used in fits with cash\n",
      "WARNING: The displayed errorbars have been supplied with the data or calculated using chi2xspecvar; the errors are not used in fits with cash\n"
     ]
    },
    {
     "data": {
      "image/png": "[encoded data removed]",
      "text/plain": [
       "<matplotlib.figure.Figure at 0x7f438c2ef490>"
      ]
     },
     "metadata": {},
     "output_type": "display_data"
    }
   ],
   "source": [
    "ui.plot_fit_resid('check')"
   ]
  },
  {
   "cell_type": "markdown",
   "metadata": {},
   "source": [
    "How about the errors?"
   ]
  },
  {
   "cell_type": "code",
   "execution_count": 28,
   "metadata": {
    "collapsed": false
   },
   "outputs": [
    {
     "name": "stdout",
     "output_type": "stream",
     "text": [
      "Dataset               = check\n",
      "Confidence Method     = confidence\n",
      "Iterative Fit Method  = None\n",
      "Fitting Method        = neldermead\n",
      "Statistic             = cash\n",
      "confidence 1-sigma (68.2689%) bounds:\n",
      "   Param            Best-Fit  Lower Bound  Upper Bound\n",
      "   -----            --------  -----------  -----------\n",
      "   pdf2.k            1.06076   -0.0630497    0.0642998\n",
      "   pdf2.theta        2.79291    -0.167317     0.184758\n",
      "   pdf2.norm         845.983     -26.8196      27.3998\n",
      "pdf2.theta lower bound:\t-0.167317\n",
      "pdf2.norm lower bound:\t-26.8196\n",
      "pdf2.k lower bound:\t-0.0630497\n",
      "pdf2.theta upper bound:\t0.184758\n",
      "pdf2.norm upper bound:\t27.3998\n",
      "pdf2.k upper bound:\t0.0642998\n"
     ]
    }
   ],
   "source": [
    "ui.conf('check')"
   ]
  },
  {
   "cell_type": "markdown",
   "metadata": {},
   "source": [
    "I could try fixing the normalization - to 1000 - and fitting again, but this is enough of\n",
    "a digression."
   ]
  },
  {
   "cell_type": "markdown",
   "metadata": {},
   "source": [
    "## Comparing the answers"
   ]
  },
  {
   "cell_type": "markdown",
   "metadata": {},
   "source": [
    "The point of this notebook is to give examples of how to write a user model in Sherpa, not\n",
    "what the best way to fit a Gamma distribution is, but let's just compare the results. I start\n",
    "with the region-projection plot shown earlier (Sherpa has cached the results for us so we do not need to recalculate it). Then I add on horizontal and vertical lines to show the true\n",
    "values (i.e. the `k_orig` and `theta_orig` values), and then two green points:\n",
    "\n",
    " - the filled circle shows the fit to the CDF\n",
    " - the filled triangle shows the fit to the \"unbinned\" PDF (i.e. the \"check\" data set)\n",
    "\n",
    "As can be seen, all values are within the one-sigma contour of the PDF fit, but the\n",
    "CDF result - which has no error associated with it - is actually closer to the expected value. Now, this is only one data set, so if you really want to investigate this you would have to run a large number of simulations. However, that would be the topic for another post!"
   ]
  },
  {
   "cell_type": "code",
   "execution_count": 29,
   "metadata": {
    "collapsed": false
   },
   "outputs": [
    {
     "data": {
      "text/plain": [
       "[<matplotlib.lines.Line2D at 0x7f438c20fa50>]"
      ]
     },
     "execution_count": 29,
     "metadata": {},
     "output_type": "execute_result"
    },
    {
     "data": {
      "image/png": "[encoded data removed]",
      "text/plain": [
       "<matplotlib.figure.Figure at 0x7f438c111950>"
      ]
     },
     "metadata": {},
     "output_type": "display_data"
    }
   ],
   "source": [
    "rplot = ui.get_reg_proj()\n",
    "rplot.contour()\n",
    "plt.xlabel('$k$')\n",
    "plt.ylabel('$\\\\theta$')\n",
    "\n",
    "xr = plt.xlim()\n",
    "yr = plt.ylim()\n",
    "plt.vlines(k_orig, yr[0], yr[1], linestyles='dotted')\n",
    "plt.hlines(theta_orig, xr[0], xr[1], linestyles='dotted')\n",
    "\n",
    "plt.plot(cdf.k.val, cdf.theta.val, 'go')\n",
    "plt.plot(pdf2.k.val, pdf2.theta.val, 'g^')"
   ]
  }
 ],
 "metadata": {
  "kernelspec": {
   "display_name": "Python 2",
   "language": "python",
   "name": "python2"
  },
  "language_info": {
   "codemirror_mode": {
    "name": "ipython",
    "version": 2
   },
   "file_extension": ".py",
   "mimetype": "text/x-python",
   "name": "python",
   "nbconvert_exporter": "python",
   "pygments_lexer": "ipython2",
   "version": "2.7.10"
  }
 },
 "nbformat": 4,
 "nbformat_minor": 0
}
