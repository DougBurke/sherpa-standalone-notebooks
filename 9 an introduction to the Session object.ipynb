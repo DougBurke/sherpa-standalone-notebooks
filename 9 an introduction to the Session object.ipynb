{
 "cells": [
  {
   "cell_type": "markdown",
   "metadata": {},
   "source": [
    "# An introduction to the Session object\n",
    "\n",
    "This is a quick notebook showing off the Sherpa session API. This is the code that makes the UI layer (either `sherpa.astro.ui` or `sherpa.ui`) work, but in these modules it is hidden away.\n",
    "\n",
    "I am using the CIAO 4.14 release inclusing Sherpa.\n",
    "\n",
    "## Author and disclaimer\n",
    "\n",
    "This was written by \n",
    "[Douglas Burke](http://hea-www.cfa.harvard.edu/~dburke/)\n",
    "on January 31 2017. This notebook, and others that may be of interest, can be found on GitHub at\n",
    "https://github.com/DougBurke/sherpa-standalone-notebooks. It has since been updated to match changes in Sherpa.\n",
    "\n",
    "The information in this document is placed into the Publc Domain. It is not an official product of the Chandra X-ray Center, and I make no guarantee that it is not without bugs or embarassing typos. Please contact me via the GitHub repository or on Twitter - at \n",
    "[@doug_burke](https://twitter.com/doug_burke) - if you have any questions."
   ]
  },
  {
   "cell_type": "markdown",
   "metadata": {},
   "source": [
    "## Last run\n",
    "\n",
    "Let's start off by seeing when I last ran this notebook"
   ]
  },
  {
   "cell_type": "code",
   "execution_count": 1,
   "metadata": {},
   "outputs": [
    {
     "data": {
      "text/plain": [
       "'2021-12-21 13:14'"
      ]
     },
     "execution_count": 1,
     "metadata": {},
     "output_type": "execute_result"
    }
   ],
   "source": [
    "import datetime\n",
    "datetime.datetime.now().strftime(\"%Y-%m-%d %H:%M\")"
   ]
  },
  {
   "cell_type": "markdown",
   "metadata": {},
   "source": [
    "and what version of Sherpa is being used (the 'full' key represents the git commit used to build this version of Sherpa):"
   ]
  },
  {
   "cell_type": "code",
   "execution_count": 2,
   "metadata": {},
   "outputs": [
    {
     "name": "stdout",
     "output_type": "stream",
     "text": [
      "{'version': '4.14.0', 'full': '53ea6bdd55a0c40cc83c7e2ad428d06d4eb58c25'}\n"
     ]
    }
   ],
   "source": [
    "import sherpa\n",
    "print(sherpa._version.get_versions())"
   ]
  },
  {
   "cell_type": "markdown",
   "metadata": {},
   "source": [
    "## What is the Session object for?\n",
    "\n",
    "The Session object provides the state management code used by the UI layer; that is either of the `sherpa.ui` or `sherpa.astro.ui` modules. It is hidden away by these modules, but can be used directly, as shown below. This is useful if you want a (slightly) more Pythonic interface or need to encapsulate your fits, but do not want to use the\n",
    "lower-level object-oriented API I've described in some of\n",
    "[my other Sherpa notebooks](https://github.com/DougBurke/sherpa-standalone-notebooks).\n",
    "\n",
    "## What data is going to be fit?\n",
    "\n",
    "For this example I'm just going to simulate a simple data set, an off-center one-dimensional gaussian:"
   ]
  },
  {
   "cell_type": "code",
   "execution_count": 3,
   "metadata": {},
   "outputs": [],
   "source": [
    "import numpy as np\n",
    "%matplotlib inline"
   ]
  },
  {
   "cell_type": "code",
   "execution_count": 4,
   "metadata": {},
   "outputs": [],
   "source": [
    "np.random.seed(0)\n",
    "x = np.linspace(-5., 5., 200)\n",
    "ampl_true = 3\n",
    "pos_true = 1.3\n",
    "sigma_true = 0.8\n",
    "err_true = 0.2\n",
    "y = ampl_true * np.exp(-0.5 * (x - pos_true)**2 / sigma_true**2)\n",
    "y += np.random.normal(0., err_true, x.shape)"
   ]
  },
  {
   "cell_type": "markdown",
   "metadata": {},
   "source": [
    "## What does this look like?\n",
    "\n",
    "I could plot this directly with matplotlib, but as this notebook is all about the Session object, let's start using it. Here I use the basic version, but I could have also said\n",
    "\n",
    "    from sherpa.astro.ui.utils import Session"
   ]
  },
  {
   "cell_type": "code",
   "execution_count": 5,
   "metadata": {},
   "outputs": [
    {
     "name": "stdout",
     "output_type": "stream",
     "text": [
      "<sherpa.ui.utils.Session object at 0x7f29f7e99f10>\n"
     ]
    }
   ],
   "source": [
    "from sherpa.ui.utils import Session\n",
    "s = Session()\n",
    "print(s)"
   ]
  },
  {
   "cell_type": "markdown",
   "metadata": {},
   "source": [
    "The Session object implements the API used by the `sherpa.ui` and `sherpa.astro.ui` modules, so the approach I am going to take is to call `s.some_long_method_name()` when I previously would have used `ui.some_long_method_name()` (or, \n",
    "`some_long_method_name()` if you've been looking at the\n",
    "[CIAO documentation for Sherpa](http://cxc.harvard.edu/sherpa/), which imports everything into the default namespace).\n",
    "\n",
    "Using this, I can create a data set and plot it:"
   ]
  },
  {
   "cell_type": "code",
   "execution_count": 6,
   "metadata": {},
   "outputs": [
    {
     "name": "stdout",
     "output_type": "stream",
     "text": [
      "name      = \n",
      "x         = Float64[200]\n",
      "y         = Float64[200]\n",
      "staterror = None\n",
      "syserror  = None\n"
     ]
    }
   ],
   "source": [
    "s.load_arrays(1, x, y)\n",
    "print(s.get_data())"
   ]
  },
  {
   "cell_type": "code",
   "execution_count": 7,
   "metadata": {},
   "outputs": [
    {
     "data": {
      "image/png": "[encoded data removed]",
      "text/plain": [
       "<Figure size 432x288 with 1 Axes>"
      ]
     },
     "metadata": {
      "needs_background": "light"
     },
     "output_type": "display_data"
    }
   ],
   "source": [
    "s.plot_data()"
   ]
  },
  {
   "cell_type": "markdown",
   "metadata": {},
   "source": [
    "Let's get rid of the error bars and try again."
   ]
  },
  {
   "cell_type": "code",
   "execution_count": 8,
   "metadata": {},
   "outputs": [
    {
     "data": {
      "image/png": "[encoded data removed]",
      "text/plain": [
       "<Figure size 432x288 with 1 Axes>"
      ]
     },
     "metadata": {
      "needs_background": "light"
     },
     "output_type": "display_data"
    }
   ],
   "source": [
    "s.get_data_plot_prefs()['yerrorbars'] = False\n",
    "s.plot_data()"
   ]
  },
  {
   "cell_type": "markdown",
   "metadata": {},
   "source": [
    "That's a bit better, although I'd prefer the plot to be a bit bigger. Oh well, that can wait for another notebook.\n",
    "\n",
    "Creating a model component to fit to the data would - using the UI layer, look something like\n",
    "\n",
    "    ui.set_source(ui.gauss1d.gmdl)\n",
    "    \n",
    "but trying\n",
    "\n",
    "    s.set_source(s.gauss1d.gmdl)\n",
    "    \n",
    "just ends up with an error\n",
    "\n",
    "\n",
    "    AttributeError: 'Session' object has no attribute 'gauss1d'\n",
    "    \n",
    "Why is that? Well, let's check what models we have available:"
   ]
  },
  {
   "cell_type": "code",
   "execution_count": 9,
   "metadata": {},
   "outputs": [
    {
     "data": {
      "text/plain": [
       "[]"
      ]
     },
     "execution_count": 9,
     "metadata": {},
     "output_type": "execute_result"
    }
   ],
   "source": [
    "s.list_models()"
   ]
  },
  {
   "cell_type": "markdown",
   "metadata": {},
   "source": [
    "So, the reason is that we have not registered the Sherpa models with the session object. For this case,\n",
    "where I only want to use a model from `sherpa.models.basic` I can just say:"
   ]
  },
  {
   "cell_type": "code",
   "execution_count": 10,
   "metadata": {},
   "outputs": [],
   "source": [
    "s._add_model_types(sherpa.models.basic)"
   ]
  },
  {
   "cell_type": "markdown",
   "metadata": {},
   "source": [
    "after which the session object contains models:"
   ]
  },
  {
   "cell_type": "code",
   "execution_count": 11,
   "metadata": {},
   "outputs": [
    {
     "data": {
      "text/plain": [
       "['box1d', 'box2d', 'const1d', 'const2d', 'cos']"
      ]
     },
     "execution_count": 11,
     "metadata": {},
     "output_type": "execute_result"
    }
   ],
   "source": [
    "s.list_models()[0:5]"
   ]
  },
  {
   "cell_type": "markdown",
   "metadata": {},
   "source": [
    "and we can now easily create the model$^\\dagger$ (for some reason I can't say `s.set_source(s.gauss1d.gmdl)` so I have to use `create_model_componet`):\n",
    "\n",
    "---\n",
    "\n",
    "$^\\dagger$ prior to Sherpa 4.12.2 I used to manually create a model, but have switched to using `_add_model_types` to more-closely mirror the `ui` code."
   ]
  },
  {
   "cell_type": "code",
   "execution_count": 12,
   "metadata": {},
   "outputs": [
    {
     "data": {
      "text/html": [
       "<style>/*\n",
       "Copyright (C) 2020  Smithsonian Astrophysical Observatory\n",
       "\n",
       "\n",
       " This program is free software; you can redistribute it and/or modify\n",
       " it under the terms of the GNU General Public License as published by\n",
       " the Free Software Foundation; either version 3 of the License, or\n",
       " (at your option) any later version.\n",
       "\n",
       " This program is distributed in the hope that it will be useful,\n",
       " but WITHOUT ANY WARRANTY; without even the implied warranty of\n",
       " MERCHANTABILITY or FITNESS FOR A PARTICULAR PURPOSE.  See the\n",
       " GNU General Public License for more details.\n",
       "\n",
       " You should have received a copy of the GNU General Public License along\n",
       " with this program; if not, write to the Free Software Foundation, Inc.,\n",
       " 51 Franklin Street, Fifth Floor, Boston, MA 02110-1301 USA.\n",
       "\n",
       "*/\n",
       "\n",
       ":root {\n",
       "  --sherpa-border-color: var(--jp-border-color2, #e0e0e0);\n",
       "  --sherpa-background-color: var(--jp-layout-color0, white);\n",
       "  --sherpa-background-color-row-even: var(--jp-layout-color1, white);\n",
       "  --sherpa-background-color-row-odd: var(--jp-layout-color2, #eeeeee);\n",
       "\n",
       "  /* https://medium.com/ge-design/iot-cool-gray-is-a-great-background-color-for-data-visualization-ebf18c318418 */\n",
       "  --sherpa-background-color-dark1: #EBEFF2;\n",
       "  --sherpa-background-color-dark2: #D8E0E5;\n",
       "}\n",
       "\n",
       "div.sherpa-text-fallback {\n",
       "    display: none;\n",
       "}\n",
       "\n",
       "div.sherpa {\n",
       "    display: block;\n",
       "}\n",
       "\n",
       "div.sherpa details summary {\n",
       "    display: list-item;  /* needed for notebook, not lab */\n",
       "    font-size: larger;\n",
       "}\n",
       "\n",
       "div.sherpa details div.datavals {\n",
       "    display: grid;\n",
       "    grid-template-columns: 1fr 3fr;\n",
       "    column-gap: 0.5em;\n",
       "}\n",
       "\n",
       "div.sherpa div.dataname {\n",
       "    font-weight: bold;\n",
       "    border-right: 1px solid var(--sherpa-border-color);\n",
       "}\n",
       "\n",
       "div.sherpa div.dataval { }\n",
       "\n",
       "div.sherpa div.datavals div:nth-child(4n + 1) ,\n",
       "div.sherpa div.datavals div:nth-child(4n + 2) {\n",
       "    background: var(--sherpa-background-color-row-odd);\n",
       "}\n",
       "\n",
       "div.sherpa table.model tbody {\n",
       "    border-bottom: 1px solid var(--sherpa-border-color);\n",
       "}\n",
       "\n",
       "div.sherpa table.model tr.block {\n",
       "    border-top: 1px solid var(--sherpa-border-color);\n",
       "}\n",
       "\n",
       "div.sherpa table.model th.model-odd ,\n",
       "div.sherpa table.model th.model-even {\n",
       "    border-right: 1px solid var(--sherpa-border-color);\n",
       "}\n",
       "\n",
       "div.sherpa table.model th.model-odd {\n",
       "    background: var(--sherpa-background-color-dark1);\n",
       "}\n",
       "\n",
       "div.sherpa table.model th.model-even {\n",
       "    background: var(--sherpa-background-color-dark2);\n",
       "}\n",
       "\n",
       "div.sherpa .failed {\n",
       "    background: orange;\n",
       "    font-size: large;\n",
       "    padding: 1em;\n",
       "}\n",
       "</style><div class=\"sherpa-text-fallback\">&lt;Gauss1D model instance &#x27;gauss1d.gmdl&#x27;&gt;</div><div hidden class=\"sherpa\"><details open><summary>Model</summary><table class=\"model\"><caption>Expression: gauss1d.gmdl</caption><thead><tr><th>Component</th><th>Parameter</th><th>Thawed</th><th>Value</th><th>Min</th><th>Max</th><th>Units</th></tr></thead><tbody><tr><th class=\"model-odd\" scope=\"rowgroup\" rowspan=3>gauss1d.gmdl</th><td>fwhm</td><td><input disabled type=\"checkbox\" checked></input></td><td>10.0</td><td>TINY</td><td>MAX</td><td></td></tr><tr><td>pos</td><td><input disabled type=\"checkbox\" checked></input></td><td>0.0</td><td>-MAX</td><td>MAX</td><td></td></tr><tr><td>ampl</td><td><input disabled type=\"checkbox\" checked></input></td><td>1.0</td><td>-MAX</td><td>MAX</td><td></td></tr></tbody></table></details></div>"
      ],
      "text/plain": [
       "<Gauss1D model instance 'gauss1d.gmdl'>"
      ]
     },
     "execution_count": 12,
     "metadata": {},
     "output_type": "execute_result"
    }
   ],
   "source": [
    "gmdl = s.create_model_component('gauss1d', 'gmdl')\n",
    "s.set_source(gmdl)\n",
    "gmdl"
   ]
  },
  {
   "cell_type": "code",
   "execution_count": 13,
   "metadata": {},
   "outputs": [],
   "source": [
    "s.set_source(gmdl)"
   ]
  },
  {
   "cell_type": "markdown",
   "metadata": {},
   "source": [
    "As shown below, the default parameters for the gaussian are not a good match to the data:"
   ]
  },
  {
   "cell_type": "code",
   "execution_count": 14,
   "metadata": {},
   "outputs": [
    {
     "data": {
      "image/png": "[encoded data removed]",
      "text/plain": [
       "<Figure size 432x288 with 1 Axes>"
      ]
     },
     "metadata": {
      "needs_background": "light"
     },
     "output_type": "display_data"
    }
   ],
   "source": [
    "s.plot_fit()"
   ]
  },
  {
   "cell_type": "markdown",
   "metadata": {},
   "source": [
    "How well does the guess routine do?"
   ]
  },
  {
   "cell_type": "code",
   "execution_count": 15,
   "metadata": {},
   "outputs": [
    {
     "name": "stdout",
     "output_type": "stream",
     "text": [
      "gauss1d.gmdl\n",
      "   Param        Type          Value          Min          Max      Units\n",
      "   -----        ----          -----          ---          ---      -----\n",
      "   gmdl.fwhm    thawed      1.65829   0.00165829      1658.29           \n",
      "   gmdl.pos     thawed      1.38191           -5            5           \n",
      "   gmdl.ampl    thawed      3.35417   0.00335417      3354.17           \n"
     ]
    },
    {
     "data": {
      "image/png": "[encoded data removed]",
      "text/plain": [
       "<Figure size 432x288 with 1 Axes>"
      ]
     },
     "metadata": {
      "needs_background": "light"
     },
     "output_type": "display_data"
    }
   ],
   "source": [
    "s.guess(gmdl)\n",
    "print(gmdl)\n",
    "s.plot_fit()"
   ]
  },
  {
   "cell_type": "markdown",
   "metadata": {},
   "source": [
    "Prior to the 4.14 release this did not work well, but now it's worked too well!\n",
    "\n",
    "Let's adjust the FWHM to give us something to fit..."
   ]
  },
  {
   "cell_type": "code",
   "execution_count": 16,
   "metadata": {},
   "outputs": [
    {
     "data": {
      "image/png": "[encoded data removed]",
      "text/plain": [
       "<Figure size 432x288 with 1 Axes>"
      ]
     },
     "metadata": {
      "needs_background": "light"
     },
     "output_type": "display_data"
    }
   ],
   "source": [
    "gmdl.fwhm = 5\n",
    "\n",
    "s.plot_fit()"
   ]
  },
  {
   "cell_type": "markdown",
   "metadata": {},
   "source": [
    "To fit the model I want to choose a statistic - in this case, as I don't have meaningful errors, I am just going to go for least-squares minimisation"
   ]
  },
  {
   "cell_type": "code",
   "execution_count": 17,
   "metadata": {},
   "outputs": [],
   "source": [
    "s.set_stat('leastsq')"
   ]
  },
  {
   "cell_type": "markdown",
   "metadata": {},
   "source": [
    "and an optimiser (which I am going to leave at the default value, which is Levenberg-Marquardt):"
   ]
  },
  {
   "cell_type": "code",
   "execution_count": 18,
   "metadata": {},
   "outputs": [
    {
     "name": "stdout",
     "output_type": "stream",
     "text": [
      "name     = levmar\n",
      "ftol     = 1.1920928955078125e-07\n",
      "xtol     = 1.1920928955078125e-07\n",
      "gtol     = 1.1920928955078125e-07\n",
      "maxfev   = None\n",
      "epsfcn   = 1.1920928955078125e-07\n",
      "factor   = 100.0\n",
      "numcores = 1\n",
      "verbose  = 0\n"
     ]
    }
   ],
   "source": [
    "print(s.get_method())"
   ]
  },
  {
   "cell_type": "markdown",
   "metadata": {},
   "source": [
    "After this, I can call the `fit` method on the Session object to get a fit:"
   ]
  },
  {
   "cell_type": "code",
   "execution_count": 19,
   "metadata": {},
   "outputs": [
    {
     "name": "stdout",
     "output_type": "stream",
     "text": [
      "Dataset               = 1\n",
      "Method                = levmar\n",
      "Statistic             = leastsq\n",
      "Initial fit statistic = 344.264\n",
      "Final fit statistic   = 8.06975 at function evaluation 25\n",
      "Data points           = 200\n",
      "Degrees of freedom    = 197\n",
      "Change in statistic   = 336.194\n",
      "   gmdl.fwhm      1.91572      +/- 0.165985    \n",
      "   gmdl.pos       1.2743       +/- 0.0704873   \n",
      "   gmdl.ampl      3.04706      +/- 0.228615    \n"
     ]
    }
   ],
   "source": [
    "s.fit()"
   ]
  },
  {
   "cell_type": "markdown",
   "metadata": {},
   "source": [
    "The results can be retrieved programatically, as shown below:"
   ]
  },
  {
   "cell_type": "code",
   "execution_count": 20,
   "metadata": {},
   "outputs": [
    {
     "data": {
      "text/html": [
       "<style>/*\n",
       "Copyright (C) 2020  Smithsonian Astrophysical Observatory\n",
       "\n",
       "\n",
       " This program is free software; you can redistribute it and/or modify\n",
       " it under the terms of the GNU General Public License as published by\n",
       " the Free Software Foundation; either version 3 of the License, or\n",
       " (at your option) any later version.\n",
       "\n",
       " This program is distributed in the hope that it will be useful,\n",
       " but WITHOUT ANY WARRANTY; without even the implied warranty of\n",
       " MERCHANTABILITY or FITNESS FOR A PARTICULAR PURPOSE.  See the\n",
       " GNU General Public License for more details.\n",
       "\n",
       " You should have received a copy of the GNU General Public License along\n",
       " with this program; if not, write to the Free Software Foundation, Inc.,\n",
       " 51 Franklin Street, Fifth Floor, Boston, MA 02110-1301 USA.\n",
       "\n",
       "*/\n",
       "\n",
       ":root {\n",
       "  --sherpa-border-color: var(--jp-border-color2, #e0e0e0);\n",
       "  --sherpa-background-color: var(--jp-layout-color0, white);\n",
       "  --sherpa-background-color-row-even: var(--jp-layout-color1, white);\n",
       "  --sherpa-background-color-row-odd: var(--jp-layout-color2, #eeeeee);\n",
       "\n",
       "  /* https://medium.com/ge-design/iot-cool-gray-is-a-great-background-color-for-data-visualization-ebf18c318418 */\n",
       "  --sherpa-background-color-dark1: #EBEFF2;\n",
       "  --sherpa-background-color-dark2: #D8E0E5;\n",
       "}\n",
       "\n",
       "div.sherpa-text-fallback {\n",
       "    display: none;\n",
       "}\n",
       "\n",
       "div.sherpa {\n",
       "    display: block;\n",
       "}\n",
       "\n",
       "div.sherpa details summary {\n",
       "    display: list-item;  /* needed for notebook, not lab */\n",
       "    font-size: larger;\n",
       "}\n",
       "\n",
       "div.sherpa details div.datavals {\n",
       "    display: grid;\n",
       "    grid-template-columns: 1fr 3fr;\n",
       "    column-gap: 0.5em;\n",
       "}\n",
       "\n",
       "div.sherpa div.dataname {\n",
       "    font-weight: bold;\n",
       "    border-right: 1px solid var(--sherpa-border-color);\n",
       "}\n",
       "\n",
       "div.sherpa div.dataval { }\n",
       "\n",
       "div.sherpa div.datavals div:nth-child(4n + 1) ,\n",
       "div.sherpa div.datavals div:nth-child(4n + 2) {\n",
       "    background: var(--sherpa-background-color-row-odd);\n",
       "}\n",
       "\n",
       "div.sherpa table.model tbody {\n",
       "    border-bottom: 1px solid var(--sherpa-border-color);\n",
       "}\n",
       "\n",
       "div.sherpa table.model tr.block {\n",
       "    border-top: 1px solid var(--sherpa-border-color);\n",
       "}\n",
       "\n",
       "div.sherpa table.model th.model-odd ,\n",
       "div.sherpa table.model th.model-even {\n",
       "    border-right: 1px solid var(--sherpa-border-color);\n",
       "}\n",
       "\n",
       "div.sherpa table.model th.model-odd {\n",
       "    background: var(--sherpa-background-color-dark1);\n",
       "}\n",
       "\n",
       "div.sherpa table.model th.model-even {\n",
       "    background: var(--sherpa-background-color-dark2);\n",
       "}\n",
       "\n",
       "div.sherpa .failed {\n",
       "    background: orange;\n",
       "    font-size: large;\n",
       "    padding: 1em;\n",
       "}\n",
       "</style><div class=\"sherpa-text-fallback\">&lt;Fit results instance&gt;</div><div hidden class=\"sherpa\"><details open><summary>Fit parameters</summary><table class=\"fit\"><thead><tr><th>Parameter</th><th>Best-fit value</th><th>Approximate error</th></tr></thead><tbody><tr><td>gmdl.fwhm</td><td>     1.91572</td><td>&#177;     0.165985</td></tr><tr><td>gmdl.pos</td><td>      1.2743</td><td>&#177;    0.0704873</td></tr><tr><td>gmdl.ampl</td><td>     3.04706</td><td>&#177;     0.228615</td></tr></tbody></table></details><details><summary>Summary (9)</summary><div class=\"datavals\"><div class=\"dataname\">Dataset</div><div class=\"dataval\">1</div><div class=\"dataname\">Method</div><div class=\"dataval\">levmar</div><div class=\"dataname\">Statistic</div><div class=\"dataval\">leastsq</div><div class=\"dataname\">Final statistic</div><div class=\"dataval\">8.06975</div><div class=\"dataname\">Number of evaluations</div><div class=\"dataval\">25</div><div class=\"dataname\">Initial statistic</div><div class=\"dataval\">344.264</div><div class=\"dataname\">&#916; statistic</div><div class=\"dataval\">336.194</div><div class=\"dataname\">Number of data points</div><div class=\"dataval\">200</div><div class=\"dataname\">Degrees of freedom</div><div class=\"dataval\">197</div></div></details></div>"
      ],
      "text/plain": [
       "<Fit results instance>"
      ]
     },
     "execution_count": 20,
     "metadata": {},
     "output_type": "execute_result"
    }
   ],
   "source": [
    "res = s.get_fit_results()\n",
    "res"
   ]
  },
  {
   "cell_type": "markdown",
   "metadata": {},
   "source": [
    "Let's see how it looks:"
   ]
  },
  {
   "cell_type": "code",
   "execution_count": 21,
   "metadata": {},
   "outputs": [
    {
     "name": "stdout",
     "output_type": "stream",
     "text": [
      "WARNING: The displayed errorbars have been supplied with the data or calculated using chi2xspecvar; the errors are not used in fits with leastsq\n"
     ]
    },
    {
     "data": {
      "image/png": "[encoded data removed]",
      "text/plain": [
       "<Figure size 432x288 with 2 Axes>"
      ]
     },
     "metadata": {
      "needs_background": "light"
     },
     "output_type": "display_data"
    }
   ],
   "source": [
    "s.plot_fit_resid()"
   ]
  },
  {
   "cell_type": "markdown",
   "metadata": {},
   "source": [
    "There's unfortunately no easy way to turn off the error bars in the residual plot. I really should put in an issue about this, but I can show you this work-around:"
   ]
  },
  {
   "cell_type": "code",
   "execution_count": 22,
   "metadata": {},
   "outputs": [
    {
     "name": "stdout",
     "output_type": "stream",
     "text": [
      "WARNING: The displayed errorbars have been supplied with the data or calculated using chi2xspecvar; the errors are not used in fits with leastsq\n"
     ]
    }
   ],
   "source": [
    "s.get_resid_plot().plot_prefs['yerrorbars'] = False"
   ]
  },
  {
   "cell_type": "code",
   "execution_count": 23,
   "metadata": {},
   "outputs": [
    {
     "data": {
      "image/png": "[encoded data removed]",
      "text/plain": [
       "<Figure size 432x288 with 2 Axes>"
      ]
     },
     "metadata": {
      "needs_background": "light"
     },
     "output_type": "display_data"
    }
   ],
   "source": [
    "s.plot_fit_resid()"
   ]
  },
  {
   "cell_type": "markdown",
   "metadata": {},
   "source": [
    "Hopefully this shows that you can just use the Session object to access the methods from the UI layer. Extending this example, we could ignore part of the data:"
   ]
  },
  {
   "cell_type": "code",
   "execution_count": 24,
   "metadata": {},
   "outputs": [
    {
     "name": "stdout",
     "output_type": "stream",
     "text": [
      "Statistic for all the data:     8.069746329798093\n",
      "Statistic for some of the data: 6.9230356224224705\n"
     ]
    }
   ],
   "source": [
    "print(\"Statistic for all the data:     {}\".format(s.calc_stat()))\n",
    "\n",
    "s.ignore(-0.5, 0.7)\n",
    "\n",
    "print(\"Statistic for some of the data: {}\".format(s.calc_stat()))"
   ]
  },
  {
   "cell_type": "code",
   "execution_count": 25,
   "metadata": {},
   "outputs": [
    {
     "data": {
      "image/png": "[encoded data removed]",
      "text/plain": [
       "<Figure size 432x288 with 1 Axes>"
      ]
     },
     "metadata": {
      "needs_background": "light"
     },
     "output_type": "display_data"
    }
   ],
   "source": [
    "s.plot_fit()"
   ]
  },
  {
   "cell_type": "markdown",
   "metadata": {},
   "source": [
    "Given that the data has changed, we can re-fit the model, but the difference is not large:"
   ]
  },
  {
   "cell_type": "code",
   "execution_count": 26,
   "metadata": {},
   "outputs": [
    {
     "name": "stdout",
     "output_type": "stream",
     "text": [
      "Dataset               = 1\n",
      "Method                = levmar\n",
      "Statistic             = leastsq\n",
      "Initial fit statistic = 6.92304\n",
      "Final fit statistic   = 6.91976 at function evaluation 13\n",
      "Data points           = 176\n",
      "Degrees of freedom    = 173\n",
      "Change in statistic   = 0.00327984\n",
      "   gmdl.fwhm      1.90815      +/- 0.270521    \n",
      "   gmdl.pos       1.28033      +/- 0.122579    \n",
      "   gmdl.ampl      3.04076      +/- 0.237266    \n"
     ]
    }
   ],
   "source": [
    "s.fit()"
   ]
  },
  {
   "cell_type": "markdown",
   "metadata": {},
   "source": [
    "We can create a separate, completely independent, session (note that the sessions created by `sherpa.ui.utils.Session` and `sherpa.astro.ui.utils.Session` are also different):"
   ]
  },
  {
   "cell_type": "code",
   "execution_count": 27,
   "metadata": {},
   "outputs": [
    {
     "name": "stdout",
     "output_type": "stream",
     "text": [
      "Session 1 data: [1]\n",
      "        2     : []\n"
     ]
    }
   ],
   "source": [
    "s2 = Session()\n",
    "print(\"Session 1 data: {}\".format(s.list_data_ids()))\n",
    "print(\"        2     : {}\".format(s2.list_data_ids()))"
   ]
  },
  {
   "cell_type": "markdown",
   "metadata": {},
   "source": [
    "Changes to this new object do not affect the original session (unless you change any shared state, such as the model components):"
   ]
  },
  {
   "cell_type": "code",
   "execution_count": 28,
   "metadata": {},
   "outputs": [
    {
     "data": {
      "image/png": "[encoded data removed]",
      "text/plain": [
       "<Figure size 432x288 with 1 Axes>"
      ]
     },
     "metadata": {
      "needs_background": "light"
     },
     "output_type": "display_data"
    }
   ],
   "source": [
    "s2.load_arrays(1, [10, 20, 30], [-5, -7, -20])\n",
    "\n",
    "s2.plot_data()"
   ]
  },
  {
   "cell_type": "markdown",
   "metadata": {},
   "source": [
    "The original data is still present, as shown in the plot below."
   ]
  },
  {
   "cell_type": "code",
   "execution_count": 29,
   "metadata": {},
   "outputs": [
    {
     "data": {
      "image/png": "[encoded data removed]",
      "text/plain": [
       "<Figure size 432x288 with 1 Axes>"
      ]
     },
     "metadata": {
      "needs_background": "light"
     },
     "output_type": "display_data"
    }
   ],
   "source": [
    "s.plot_data()"
   ]
  },
  {
   "cell_type": "markdown",
   "metadata": {},
   "source": [
    "You can even overplot the data from the two sessions (although in this case it's not very illuminating, given that both data sets are fictitious): "
   ]
  },
  {
   "cell_type": "code",
   "execution_count": 30,
   "metadata": {},
   "outputs": [
    {
     "data": {
      "image/png": "[encoded data removed]",
      "text/plain": [
       "<Figure size 432x288 with 1 Axes>"
      ]
     },
     "metadata": {
      "needs_background": "light"
     },
     "output_type": "display_data"
    }
   ],
   "source": [
    "s.plot_data()\n",
    "s2.plot_data(overplot=True)"
   ]
  },
  {
   "cell_type": "markdown",
   "metadata": {},
   "source": [
    "Other choices - such as plot options (e.g. the lack of error bars for the original data) or choice of statistic (as shown below), are also stored in the session object."
   ]
  },
  {
   "cell_type": "code",
   "execution_count": 31,
   "metadata": {},
   "outputs": [
    {
     "name": "stdout",
     "output_type": "stream",
     "text": [
      "Statistic choice: leastsq vs chi2gehrels\n"
     ]
    }
   ],
   "source": [
    "print(\"Statistic choice: {} vs {}\".format(s.get_stat_name(), s2.get_stat_name()))"
   ]
  },
  {
   "cell_type": "markdown",
   "metadata": {},
   "source": [
    "I have run out of simple things to run through here, but hopefully it has provided a starter for anyone who wants the convenience of the data management provided by the Sherpa UI layer but wants a bit-more control."
   ]
  }
 ],
 "metadata": {
  "kernelspec": {
   "display_name": "Python 3 (ipykernel)",
   "language": "python",
   "name": "python3"
  },
  "language_info": {
   "codemirror_mode": {
    "name": "ipython",
    "version": 3
   },
   "file_extension": ".py",
   "mimetype": "text/x-python",
   "name": "python",
   "nbconvert_exporter": "python",
   "pygments_lexer": "ipython3",
   "version": "3.9.7"
  }
 },
 "nbformat": 4,
 "nbformat_minor": 4
}
