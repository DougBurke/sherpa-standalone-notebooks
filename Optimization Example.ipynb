{
 "cells": [
  {
   "cell_type": "markdown",
   "id": "f53bb980-f8ef-4674-9725-68f660dd6fc6",
   "metadata": {},
   "source": [
    "# Sherpa and the Terrible, Horrible, No Good, Very Bad Optimizer\n",
    "\n",
    "Sherpa comes with a set of statistics and optimisers, but it is possible to write your own. For an optimiser, we need to be able to\n",
    "write a function that matches the following signature (note that this is not the actual signature, since we allow the arrays to be sent in as sequences, for instance):\n",
    "\n",
    "    fcn: Callable[[np.ndarray], tuple[float, np.ndarray]]\n",
    "    x0: np.ndarray\n",
    "    xmin: np.ndarray\n",
    "    xmax: np.ndarray\n",
    "\n",
    "The `fcn` argument represents the \"statistic\" value - given an array of values it returns the statistic value and a \"per-data-bin\" statistic value. We don't need to worry about how it is created: the `sherpa.fit.Fit` class constructs the routine given the data and model and we just\n",
    "need to call it. The `x0`, `xmin`, and `xmax` arguments give the initial starting values and their limits (that is, these three arrays are 1D and have the same size). You can provide extra arguments - if your optimiser has optional or tweakable behaviour - as keyword arguments.\n",
    "\n",
    "The retturn value is the tuple\n",
    "\n",
    "    (bool, np.ndarray, float, str, dict[str, Any])\n",
    "\n",
    "where the first value indicates that the optimization converted (or succeeded), the second is the best-fit values, the third\n",
    "is the best-fit statistic, the fourth a string that may be sent to the user, and the fifth is a dictionary that can be used\n",
    "to send back interesting information.\n",
    "\n",
    "One thing to note is that the optimizer does not care about the `Data` or `Model` classes; this is \"hidden away\" in the `fcn` parameter, and all it cares about is the list of parameter values (here `x0`) along with their limits (`xmin` and `xmax`). This lets you use these optimizing functions (or classes) for other cases, such as [function optimization](https://sherpa.readthedocs.io/en/4.16.1/extra/optimize_function.html).\n",
    "\n",
    "## How bad an optimizer can you think of?\n",
    "\n",
    "For this example, I've decided to try an optimizer which, for each iteration\n",
    "\n",
    "- takes the parameter values and adds {-1, 0, 1} to each of them\n",
    "- calculates the statistic\n",
    "- if there's no fit (i.e. lower statistic) then exit\n",
    "- otherwise start from the new best-fit location\n",
    "\n",
    "This really is only useful as an example!\n",
    "\n",
    "Let's start by importing a few useful symbols from Sherpa and NumPy, and ceck what version of Sherpa we are using (as hopefully some things here wil be improved):"
   ]
  },
  {
   "cell_type": "code",
   "execution_count": 1,
   "id": "ea2ead0b-1caf-470c-a4b1-3e5e8f4cf578",
   "metadata": {},
   "outputs": [],
   "source": [
    "from typing import Any, Callable\n",
    "\n",
    "import numpy as np\n",
    "\n",
    "from sherpa.optmethods.optfcts import FUNC_MAX\n",
    "\n",
    "# These (or something like then) will hopefully be added to `optfcts` but for 4.16.1\n",
    "# we define them here. Technically Sherpa can accept Sequence[float] but let's just\n",
    "# think about ndarrays.\n",
    "#\n",
    "OptReturn = tuple[bool,            # did the optimiser succeed\n",
    "                  np.ndarray,      # best-values\n",
    "                  float,           # final statistic value\n",
    "                  str,             # message\n",
    "                  dict[str, Any]]  # information to pass back\n",
    "\n",
    "# The routine sent to the optimizer is sent the current valus and returns\n",
    "# the statistic value (the thing we want to minimize) and an array of\n",
    "# per-bin statistic values (which we are going to ignore).\n",
    "#\n",
    "StatCallback = Callable[[np.ndarray], tuple[float, np.ndarray]]\n",
    "\n",
    "\n",
    "def _outside_limits(x: np.ndarray,\n",
    "                    xmin: np.ndarray,\n",
    "                    xmax: np.ndarray\n",
    "                    ) -> bool:\n",
    "    \"\"\"Are any x values outside the xmin/max range?\"\"\"\n",
    "    return bool(np.any(x < xmin) or np.any(x > xmax))\n",
    "\n",
    "\n",
    "class InfinitePotential:\n",
    "    \"\"\"Ensure the parameter values stay within bounds.\n",
    "\n",
    "    The idea is that if sent a value outside the parameter limits we\n",
    "    return \"infinity\" (here defined to be the maximum value we'd\n",
    "    expect rather than inf, to avoid causing problems to the\n",
    "    optimizer).\n",
    "\n",
    "    \"\"\"\n",
    "\n",
    "    __slots__ = (\"func\", \"minval\", \"maxval\")\n",
    "\n",
    "    def __init__(self,\n",
    "                 func: StatCallback,\n",
    "                 minval: np.ndarray,\n",
    "                 maxval: np.ndarray) -> None:\n",
    "        self.func = func\n",
    "        self.minval = minval\n",
    "        self.maxval = maxval\n",
    "\n",
    "    def __call__(self, pars: np.ndarray) -> float:\n",
    "        if np.isnan(pars).any() or _outside_limits(pars,\n",
    "                                                   self.minval,\n",
    "                                                   self.maxval):\n",
    "            return FUNC_MAX\n",
    "\n",
    "        return self.func(pars)[0]"
   ]
  },
  {
   "cell_type": "code",
   "execution_count": 2,
   "id": "5ca4efd7-fc14-45cf-afc4-3afc2bf915ec",
   "metadata": {},
   "outputs": [
    {
     "data": {
      "text/plain": [
       "'4.18.0.rc1'"
      ]
     },
     "execution_count": 2,
     "metadata": {},
     "output_type": "execute_result"
    }
   ],
   "source": [
    "import sherpa\n",
    "sherpa.__version__"
   ]
  },
  {
   "cell_type": "markdown",
   "id": "eaf4147d-9c50-48a2-ad67-0f6c68499e11",
   "metadata": {},
   "source": [
    "We start with the permutation routine: given a set of parameter values, return a list of parameter values where we have\n",
    "permuted each parameter by {-1, 0, 1}."
   ]
  },
  {
   "cell_type": "code",
   "execution_count": 3,
   "id": "136fc984-283d-40bf-b190-3ede7d6e6e87",
   "metadata": {},
   "outputs": [],
   "source": [
    "import itertools\n",
    "\n",
    "def permute_x(x: np.ndarray) -> list[np.ndarray]:\n",
    "    \"\"\"Return -1,0,+1 for each parameter.\n",
    "\n",
    "    We should really drop the all-0 version, as we already\n",
    "    know the value for this case.\n",
    "\n",
    "    \"\"\"\n",
    "\n",
    "    out = []\n",
    "    args = [[-1, 0, 1] for _ in x]\n",
    "    for shifts in itertools.product(*args):\n",
    "        out.append(x + np.asarray(shifts))\n",
    "\n",
    "    return out"
   ]
  },
  {
   "cell_type": "markdown",
   "id": "bda29b5a-cf2b-4012-b875-2274bc5f99a3",
   "metadata": {},
   "source": [
    "We can check what happens if we were to give it `[10, 50, 3]`:"
   ]
  },
  {
   "cell_type": "code",
   "execution_count": 4,
   "id": "5b86df90-46a2-41ad-9f2f-881a4c7e0668",
   "metadata": {},
   "outputs": [
    {
     "data": {
      "text/plain": [
       "[array([ 9, 49,  2]),\n",
       " array([ 9, 49,  3]),\n",
       " array([ 9, 49,  4]),\n",
       " array([ 9, 50,  2]),\n",
       " array([ 9, 50,  3]),\n",
       " array([ 9, 50,  4]),\n",
       " array([ 9, 51,  2]),\n",
       " array([ 9, 51,  3]),\n",
       " array([ 9, 51,  4]),\n",
       " array([10, 49,  2]),\n",
       " array([10, 49,  3]),\n",
       " array([10, 49,  4]),\n",
       " array([10, 50,  2]),\n",
       " array([10, 50,  3]),\n",
       " array([10, 50,  4]),\n",
       " array([10, 51,  2]),\n",
       " array([10, 51,  3]),\n",
       " array([10, 51,  4]),\n",
       " array([11, 49,  2]),\n",
       " array([11, 49,  3]),\n",
       " array([11, 49,  4]),\n",
       " array([11, 50,  2]),\n",
       " array([11, 50,  3]),\n",
       " array([11, 50,  4]),\n",
       " array([11, 51,  2]),\n",
       " array([11, 51,  3]),\n",
       " array([11, 51,  4])]"
      ]
     },
     "execution_count": 4,
     "metadata": {},
     "output_type": "execute_result"
    }
   ],
   "source": [
    "permute_x([10, 50, 3])"
   ]
  },
  {
   "cell_type": "markdown",
   "id": "a89fb56b-f9da-4e9e-918a-ff84c78ec4bb",
   "metadata": {},
   "source": [
    "As mentioned, this is really not a good strategy, but let's run with it.\n",
    "\n",
    "The implementation is pretty simple:\n",
    "\n",
    "- use the `InfinitePotential` class to handle the fact that we want the optimizer to obey the bounds a user has added for the parameters without having to worry about this in the code; in this case the `cb` function we create will just return \"positive infinity\" if any parameter value exceeds the parameter limits (actually, it returns the maximum float64 value, but we can pretend it's infinite)\n",
    "- check that our starting positional is actually valid, and find the initial statistic value\n",
    "- loop until we hit our maximum number of iterations (this is an optimization-specific feature which is indicated by the fact it's a named keyword)\n",
    "  - use `permute_x` to create the proposed new positions\n",
    "  - for each of these new positions calculate the statistic value\n",
    "    - if this statistic value is lower than any we've seen, we store the parameters\n",
    "  - if there has been no improvement we can exit\n",
    "  - otherwise we replace the best-fit parameters with the stored values and repeat the loop\n",
    "- at this point we have either found our best-fit location, in which case we can send back `True`\n",
    "- otherwise we send back `False`"
   ]
  },
  {
   "cell_type": "code",
   "execution_count": 5,
   "id": "850ff890-72e8-4e2a-bcc5-d3827df62012",
   "metadata": {},
   "outputs": [],
   "source": [
    "def opty(fcn: StatCallback,\n",
    "         x0: np.ndarray,\n",
    "         xmin: np.ndarray,\n",
    "         xmax: np.ndarray,\n",
    "         maxiter: int = 10,\n",
    "         verbose: bool = False\n",
    "         ) -> OptReturn:\n",
    "    \"\"\"Find the best location within +/-1.\n",
    "\n",
    "    This is not a real optimizer and is intended for educational\n",
    "    purposes only. Given x0, calculate all combinations of parameters\n",
    "    which are +/-1 from it and return the \"best fit\". This always\n",
    "    picks the \"best fit\" and uses that as the next iteration, choosing\n",
    "    the first such value if there is a tie. The maxiter argument is\n",
    "    used to bound the number of iterations.\n",
    "\n",
    "    \"\"\"\n",
    "\n",
    "    # Ensure that we remain bounded within xmin, xmax since this\n",
    "    # optimizer is not going to do so itself.\n",
    "    #\n",
    "    cb = InfinitePotential(fcn, xmin, xmax)\n",
    "\n",
    "    # What is our starting point?\n",
    "    #\n",
    "    # Note: the float conversion here is only to please mypy and is\n",
    "    # something to be improved in the typing rules.\n",
    "    #\n",
    "    cstat = float(cb(x0))\n",
    "    if cstat == FUNC_MAX:\n",
    "        if verbose:\n",
    "            print(\"Oops\")\n",
    "\n",
    "        return (False, x0, cstat, \"Invalid parameters\", {})\n",
    "\n",
    "    ctr = 0\n",
    "    x = np.copy(x0)\n",
    "    success = False\n",
    "    nfev = 0  # track the number of evaluations\n",
    "    store = []\n",
    "    while ctr < maxiter:\n",
    "\n",
    "        # permute values\n",
    "        xbest = None\n",
    "        for xnew in permute_x(x):\n",
    "            nstat = float(cb(xnew))\n",
    "            nfev += 1\n",
    "\n",
    "            # do we have a better fit?\n",
    "            if nstat < cstat:\n",
    "                if verbose:\n",
    "                    print(f\"- {cstat} -> {nstat} at {xnew}\")\n",
    "\n",
    "                xbest = xnew\n",
    "                cstat = nstat\n",
    "                store.append(xnew)\n",
    "\n",
    "        # If we have not found a better fit then exit.\n",
    "        #\n",
    "        if xbest is None:\n",
    "            success = True\n",
    "            break\n",
    "\n",
    "        ctr += 1\n",
    "        x = xbest\n",
    "\n",
    "    msg = \"Success\" if success else \"Hit iteration limit\"\n",
    "    return (success, x, cstat, msg, {\"nfev\": nfev, \"best-fit\": x, \"best-stat\": cstat, \"store\": store})"
   ]
  },
  {
   "cell_type": "markdown",
   "id": "d745b517-7b5e-40f0-a1ca-16679c1d956e",
   "metadata": {},
   "source": [
    "We can use this to make a Sherpa optimization class (the `OptMethod` class will identify the keyword arguments to `opty` and make fields for them, as we'll see below when we change the `verbose` setting):"
   ]
  },
  {
   "cell_type": "code",
   "execution_count": 6,
   "id": "a43822a8-29f2-43f3-b9a7-fce5aef5d8a3",
   "metadata": {},
   "outputs": [],
   "source": [
    "from sherpa.optmethods import OptMethod\n",
    "\n",
    "class Opty(OptMethod):\n",
    "    \"\"\"A Not-An-Optimizer optimizer.\n",
    "\n",
    "    You do not need to name the class the same as the optimization\n",
    "    function, but naming is hard.\n",
    "\n",
    "    \"\"\"\n",
    "\n",
    "    def __init__(self, name=\"opty\"):\n",
    "        super().__init__(name=name, optfunc=opty)"
   ]
  },
  {
   "cell_type": "markdown",
   "id": "20f27cfc-1019-446b-a46e-abbad6f4d376",
   "metadata": {},
   "source": [
    "## How can we test this?\n",
    "\n",
    "We could just create `Data` and `Model` instances and pass them, along with a `Opty` instance, to `sherpa.fit.Fit`. However, that's a lot of effort when we can use the UI layer to do much of this for us (although, if you do want to know how, see the end of this notebook, in the \"I really want to do this with objects\" section).\n",
    "\n",
    "The only issue is that, as of Sherpa 4.16.1, there's no-way to \"register\" a new optimizer with the code, so you have to send in an optimization object directly."
   ]
  },
  {
   "cell_type": "code",
   "execution_count": 7,
   "id": "9d0b4c7f-2eb6-4106-a715-0a86ede5f72f",
   "metadata": {},
   "outputs": [
    {
     "name": "stdout",
     "output_type": "stream",
     "text": [
      "WARNING: imaging routines will not be available, \n",
      "failed to import sherpa.image.ds9_backend due to \n",
      "'RuntimeErr: DS9Win unusable: Could not find ds9 on your PATH'\n"
     ]
    }
   ],
   "source": [
    "from sherpa import ui"
   ]
  },
  {
   "cell_type": "markdown",
   "id": "89c1416d-60a4-4443-bbf0-0b2c24db8411",
   "metadata": {},
   "source": [
    "For this example I am going to create a fake data set that we can fit a `Box1D` model to to calculate the best\n",
    "starting and ending point:"
   ]
  },
  {
   "cell_type": "code",
   "execution_count": 8,
   "id": "7835b4d4-bccc-4e47-91ea-e6e1995d37cf",
   "metadata": {},
   "outputs": [],
   "source": [
    "ui.load_arrays(1,\n",
    "               [1, 2, 3, 4, 5, 6, 7, 8, 9, 10, 11, 12, 13, 14, 15],\n",
    "               [0, 0, 5, 3, 4, 6, 5, 4, 3, 5, 7, 0, 8, 3, 0])"
   ]
  },
  {
   "cell_type": "code",
   "execution_count": 9,
   "id": "69e35aea-f80e-4f64-a9b1-88d5fe874d1b",
   "metadata": {},
   "outputs": [
    {
     "data": {
      "image/png": "[encoded data removed]",
      "text/plain": [
       "<Figure size 640x480 with 1 Axes>"
      ]
     },
     "metadata": {},
     "output_type": "display_data"
    }
   ],
   "source": [
    "ui.plot_data()"
   ]
  },
  {
   "cell_type": "code",
   "execution_count": 10,
   "id": "d0f6cd07-c0a1-463f-9a52-817d8b806e9e",
   "metadata": {},
   "outputs": [],
   "source": [
    "# Let's just hide the error bars here\n",
    "ui.get_plot_prefs(\"data\")[\"yerrorbars\"] = False\n",
    "ui.get_plot_prefs(\"resid\")[\"yerrorbars\"] = False"
   ]
  },
  {
   "cell_type": "markdown",
   "id": "acff45ae-2cfe-4f0d-9ae5-b3c3838aec05",
   "metadata": {},
   "source": [
    "We create the model expression, where we\n",
    "\n",
    "- freeze the amplitude (as I didn't want to worry about fitting that)\n",
    "- start the box at the range `x=7-8`"
   ]
  },
  {
   "cell_type": "code",
   "execution_count": 11,
   "id": "295fdd8d-ab12-4ea1-ba25-f3d28c531335",
   "metadata": {},
   "outputs": [],
   "source": [
    "mdl = ui.create_model_component(\"box1d\", \"mdl\")\n",
    "\n",
    "mdl.ampl = 5\n",
    "mdl.ampl.freeze()\n",
    "\n",
    "mdl.xlow = 7\n",
    "mdl.xhi = 8"
   ]
  },
  {
   "cell_type": "code",
   "execution_count": 12,
   "id": "f6ba3b26-cdc6-4da5-9a49-411fd04c25b7",
   "metadata": {},
   "outputs": [],
   "source": [
    "ui.set_source(1, mdl)\n",
    "ui.set_stat(\"leastsq\")"
   ]
  },
  {
   "cell_type": "code",
   "execution_count": 13,
   "id": "3459db4b-6a0e-47c9-9183-e07557434971",
   "metadata": {},
   "outputs": [
    {
     "data": {
      "image/png": "[encoded data removed]",
      "text/plain": [
       "<Figure size 640x480 with 2 Axes>"
      ]
     },
     "metadata": {},
     "output_type": "display_data"
    }
   ],
   "source": [
    "ui.plot_fit_resid()"
   ]
  },
  {
   "cell_type": "markdown",
   "id": "31ee9cba-8c47-42c4-b022-4d8cdc270539",
   "metadata": {},
   "source": [
    "We then create the optimization object and change one of its parameters (the verbose setting), so that we expect to see some extra output during the fit (the Sherpa `OptMethod` class has logic to take the keyword arguments for the optimization function - in this case `opty` - and turn them into fields of the class:"
   ]
  },
  {
   "cell_type": "code",
   "execution_count": 14,
   "id": "05d829ed-8ada-4218-b183-a1f486430c50",
   "metadata": {},
   "outputs": [],
   "source": [
    "opt = Opty()\n",
    "opt.verbose = True"
   ]
  },
  {
   "cell_type": "code",
   "execution_count": 15,
   "id": "7d0d3240-0b81-4d15-a959-dcfaf1d272d3",
   "metadata": {},
   "outputs": [
    {
     "name": "stdout",
     "output_type": "stream",
     "text": [
      "name    = opty\n",
      "maxiter = 10\n",
      "verbose = True\n"
     ]
    }
   ],
   "source": [
    "print(opt)"
   ]
  },
  {
   "cell_type": "markdown",
   "id": "c8b9db50-02cb-4449-9a2c-5ad335b7fe46",
   "metadata": {},
   "source": [
    "We can then tell Sherpa to use this optimizer:"
   ]
  },
  {
   "cell_type": "code",
   "execution_count": 16,
   "id": "5f162391-1a61-4b60-8f2e-9bbf09a43571",
   "metadata": {},
   "outputs": [],
   "source": [
    "ui.set_method(opt)"
   ]
  },
  {
   "cell_type": "markdown",
   "id": "6bdeb1b0-0e84-4f2b-b250-ef313da3a00c",
   "metadata": {},
   "source": [
    "With this set we can see the options (i.e. the named parameters of `opty`):"
   ]
  },
  {
   "cell_type": "code",
   "execution_count": 17,
   "id": "36d17a07-19fb-4869-9432-ef353930aab6",
   "metadata": {},
   "outputs": [
    {
     "data": {
      "text/plain": [
       "{'maxiter': 10, 'verbose': True}"
      ]
     },
     "execution_count": 17,
     "metadata": {},
     "output_type": "execute_result"
    }
   ],
   "source": [
    "ui.get_method_opt()"
   ]
  },
  {
   "cell_type": "markdown",
   "id": "fbc32f66-0330-4a49-82ab-29174598f60c",
   "metadata": {},
   "source": [
    "Let's check the model first:"
   ]
  },
  {
   "cell_type": "code",
   "execution_count": 18,
   "id": "a5ca793c-bc29-49de-9065-06b1029886e2",
   "metadata": {},
   "outputs": [
    {
     "name": "stdout",
     "output_type": "stream",
     "text": [
      "box1d.mdl\n",
      "   Param        Type          Value          Min          Max      Units\n",
      "   -----        ----          -----          ---          ---      -----\n",
      "   mdl.xlow     thawed            7 -3.40282e+38  3.40282e+38           \n",
      "   mdl.xhi      thawed            8 -3.40282e+38  3.40282e+38           \n",
      "   mdl.ampl     frozen            5 -3.40282e+38  3.40282e+38           \n"
     ]
    }
   ],
   "source": [
    "print(mdl)"
   ]
  },
  {
   "cell_type": "markdown",
   "id": "eac2b31c-3376-4ec4-9a10-03ef627f6de7",
   "metadata": {},
   "source": [
    "With this we can try to fit the data. The first lines (beginning ` - `) are from `opty` because `verbose` set. They indicate when we found new best-fit solutions (so we can see the low edge decrease and the high edge increase over time): "
   ]
  },
  {
   "cell_type": "code",
   "execution_count": 19,
   "id": "a5a672c2-f92e-4985-9991-9ef134ade220",
   "metadata": {},
   "outputs": [
    {
     "name": "stdout",
     "output_type": "stream",
     "text": [
      "- 243.0 -> 223.0 at [6. 7.]\n",
      "- 223.0 -> 208.0 at [6. 8.]\n",
      "- 208.0 -> 203.0 at [6. 9.]\n",
      "- 203.0 -> 193.0 at [5. 8.]\n",
      "- 193.0 -> 188.0 at [5. 9.]\n",
      "- 188.0 -> 163.0 at [ 5. 10.]\n",
      "- 163.0 -> 158.0 at [ 4. 10.]\n",
      "- 158.0 -> 113.0 at [ 4. 11.]\n",
      "- 113.0 -> 88.0 at [ 3. 11.]\n",
      "Dataset               = 1\n",
      "Method                = opty\n",
      "Statistic             = leastsq\n",
      "Initial fit statistic = 243\n",
      "Final fit statistic   = 88 at function evaluation 45\n",
      "Data points           = 15\n",
      "Degrees of freedom    = 13\n",
      "Change in statistic   = 155\n",
      "   mdl.xlow       3           \n",
      "   mdl.xhi        11          \n"
     ]
    }
   ],
   "source": [
    "ui.fit()"
   ]
  },
  {
   "cell_type": "code",
   "execution_count": 20,
   "id": "40e664ef-6557-4df2-92a7-8228b6fc4363",
   "metadata": {},
   "outputs": [
    {
     "name": "stdout",
     "output_type": "stream",
     "text": [
      "box1d.mdl\n",
      "   Param        Type          Value          Min          Max      Units\n",
      "   -----        ----          -----          ---          ---      -----\n",
      "   mdl.xlow     thawed            3 -3.40282e+38  3.40282e+38           \n",
      "   mdl.xhi      thawed           11 -3.40282e+38  3.40282e+38           \n",
      "   mdl.ampl     frozen            5 -3.40282e+38  3.40282e+38           \n"
     ]
    }
   ],
   "source": [
    "print(mdl)"
   ]
  },
  {
   "cell_type": "markdown",
   "id": "27532939-9ed8-4ab9-88bb-1ecbbf7235b0",
   "metadata": {},
   "source": [
    "We can display the new \"best fit\":"
   ]
  },
  {
   "cell_type": "code",
   "execution_count": 21,
   "id": "6affe6ab-7a8a-48a4-949b-0cdc8b3a4be1",
   "metadata": {
    "scrolled": true
   },
   "outputs": [
    {
     "data": {
      "image/png": "[encoded data removed]",
      "text/plain": [
       "<Figure size 640x480 with 2 Axes>"
      ]
     },
     "metadata": {},
     "output_type": "display_data"
    }
   ],
   "source": [
    "ui.plot_fit_resid()"
   ]
  },
  {
   "cell_type": "markdown",
   "id": "dc9fc85b-d8bd-43a9-9dbd-c4096ccb2c83",
   "metadata": {},
   "source": [
    "So, we can see that it's expanded the box to `x=3 - 11`. I had explicitly set `x=12` to have no counts so that the fit was going to stop there, rather than try to expand to include `x=13 - 14`. And it did, so hurray me!\n",
    "\n",
    "We can get at the \"extra\" information provided by `opty` via the `extra_output` field of the fit results:"
   ]
  },
  {
   "cell_type": "code",
   "execution_count": 22,
   "id": "2b4159ef-acc9-424b-a229-28ea23ce6565",
   "metadata": {},
   "outputs": [
    {
     "data": {
      "text/plain": [
       "{'nfev': 45,\n",
       " 'best-fit': array([ 3., 11.]),\n",
       " 'best-stat': 88.0,\n",
       " 'store': [array([6., 7.]),\n",
       "  array([6., 8.]),\n",
       "  array([6., 9.]),\n",
       "  array([5., 8.]),\n",
       "  array([5., 9.]),\n",
       "  array([ 5., 10.]),\n",
       "  array([ 4., 10.]),\n",
       "  array([ 4., 11.]),\n",
       "  array([ 3., 11.])]}"
      ]
     },
     "execution_count": 22,
     "metadata": {},
     "output_type": "execute_result"
    }
   ],
   "source": [
    "ui.get_fit_results().extra_output"
   ]
  },
  {
   "cell_type": "markdown",
   "id": "93cebdb5-bd87-4e3c-b386-9af35d10c56d",
   "metadata": {},
   "source": [
    "One potential gotchya is that the fit results have used the `nfev` value we created in the dictionary. It is not required, but the screen output of the fit would be *slightly* different it it wasn't present (it would drop the \"at function evaluation xxx\" suffix when reporting the final fit statistic), and would not set the `nfev` field in the fit results:"
   ]
  },
  {
   "cell_type": "code",
   "execution_count": 23,
   "id": "eaac3d54-0a0f-4394-ba55-a19b4c1e115f",
   "metadata": {},
   "outputs": [
    {
     "data": {
      "text/plain": [
       "45"
      ]
     },
     "execution_count": 23,
     "metadata": {},
     "output_type": "execute_result"
    }
   ],
   "source": [
    "ui.get_fit_results().nfev"
   ]
  },
  {
   "cell_type": "markdown",
   "id": "4929c133-6a90-431c-b40f-2a14b512be63",
   "metadata": {},
   "source": [
    "## Tracking the fit positions\n",
    "\n",
    "We could store the parameter values tried out in the optimization method and return them in the dict, so they could be accessed from the `extra_output` field. The `fit` method already has two ways to access this data, as it can write the parameter values it tries to a file during the fit, or record them.\n",
    "\n",
    "### New in 4.17.1\n",
    "\n",
    "THe `4.17.1` release added the `record_steps` option to the `fit` call. There is also the ability to write the parameters out to a file (which is how this notebook used to access the data)."
   ]
  },
  {
   "cell_type": "code",
   "execution_count": 24,
   "id": "4dab3010-ef4a-4c57-8f53-e219deba3f2d",
   "metadata": {},
   "outputs": [
    {
     "name": "stdout",
     "output_type": "stream",
     "text": [
      "box1d.mdl\n",
      "   Param        Type          Value          Min          Max      Units\n",
      "   -----        ----          -----          ---          ---      -----\n",
      "   mdl.xlow     thawed            7 -3.40282e+38  3.40282e+38           \n",
      "   mdl.xhi      thawed            8 -3.40282e+38  3.40282e+38           \n",
      "   mdl.ampl     frozen            5 -3.40282e+38  3.40282e+38           \n"
     ]
    }
   ],
   "source": [
    "mdl.reset()\n",
    "print(mdl)"
   ]
  },
  {
   "cell_type": "code",
   "execution_count": 25,
   "id": "49d4cc5d-7e9d-4812-9c49-0ef711b01631",
   "metadata": {},
   "outputs": [
    {
     "name": "stdout",
     "output_type": "stream",
     "text": [
      "- 243.0 -> 223.0 at [6. 7.]\n",
      "- 223.0 -> 208.0 at [6. 8.]\n",
      "- 208.0 -> 203.0 at [6. 9.]\n",
      "- 203.0 -> 193.0 at [5. 8.]\n",
      "- 193.0 -> 188.0 at [5. 9.]\n",
      "- 188.0 -> 163.0 at [ 5. 10.]\n",
      "- 163.0 -> 158.0 at [ 4. 10.]\n",
      "- 158.0 -> 113.0 at [ 4. 11.]\n",
      "- 113.0 -> 88.0 at [ 3. 11.]\n",
      "Dataset               = 1\n",
      "Method                = opty\n",
      "Statistic             = leastsq\n",
      "Initial fit statistic = 243\n",
      "Final fit statistic   = 88 at function evaluation 45\n",
      "Data points           = 15\n",
      "Degrees of freedom    = 13\n",
      "Change in statistic   = 155\n",
      "   mdl.xlow       3           \n",
      "   mdl.xhi        11          \n"
     ]
    }
   ],
   "source": [
    "ui.fit(record_steps=True)"
   ]
  },
  {
   "cell_type": "markdown",
   "id": "da00205a-b708-40ab-9d35-6b46d35403a8",
   "metadata": {},
   "source": [
    "The data is accessible from `get_fit_results`:"
   ]
  },
  {
   "cell_type": "code",
   "execution_count": 26,
   "id": "2ebf9da9-74b3-4445-85aa-40b209cd6b4d",
   "metadata": {},
   "outputs": [],
   "source": [
    "fres = ui.get_fit_results()\n",
    "stats = fres.record_steps"
   ]
  },
  {
   "cell_type": "code",
   "execution_count": 27,
   "id": "23e69c50-0482-40d2-bcca-30f975547e7b",
   "metadata": {},
   "outputs": [
    {
     "data": {
      "text/plain": [
       "array([( 0, 243., 7.,  8.), ( 1, 223., 6.,  7.), ( 2, 208., 6.,  8.),\n",
       "       ( 3, 203., 6.,  9.), ( 4, 258., 7.,  7.), ( 5, 243., 7.,  8.),\n",
       "       ( 6, 238., 7.,  9.), ( 7, 283., 8.,  7.), ( 8, 268., 8.,  8.),\n",
       "       ( 9, 263., 8.,  9.), (10, 193., 5.,  8.), (11, 188., 5.,  9.),\n",
       "       (12, 163., 5., 10.), (13, 208., 6.,  8.), (14, 203., 6.,  9.),\n",
       "       (15, 178., 6., 10.), (16, 243., 7.,  8.), (17, 238., 7.,  9.),\n",
       "       (18, 213., 7., 10.), (19, 183., 4.,  9.), (20, 158., 4., 10.),\n",
       "       (21, 113., 4., 11.), (22, 188., 5.,  9.), (23, 163., 5., 10.),\n",
       "       (24, 118., 5., 11.), (25, 203., 6.,  9.), (26, 178., 6., 10.),\n",
       "       (27, 133., 6., 11.), (28, 133., 3., 10.), (29,  88., 3., 11.),\n",
       "       (30, 113., 3., 12.), (31, 158., 4., 10.), (32, 113., 4., 11.),\n",
       "       (33, 138., 4., 12.), (34, 163., 5., 10.), (35, 118., 5., 11.),\n",
       "       (36, 143., 5., 12.), (37, 158., 2., 10.), (38, 113., 2., 11.),\n",
       "       (39, 138., 2., 12.), (40, 133., 3., 10.), (41,  88., 3., 11.),\n",
       "       (42, 113., 3., 12.), (43, 158., 4., 10.), (44, 113., 4., 11.),\n",
       "       (45, 138., 4., 12.), (46,  88., 3., 11.)],\n",
       "      dtype=[('nfev', '<i8'), ('statistic', '<f8'), ('mdl.xlow', '<f8'), ('mdl.xhi', '<f8')])"
      ]
     },
     "execution_count": 27,
     "metadata": {},
     "output_type": "execute_result"
    }
   ],
   "source": [
    "stats"
   ]
  },
  {
   "cell_type": "markdown",
   "id": "d4bee25a-aaae-466b-95fa-117d255310f7",
   "metadata": {},
   "source": [
    "We can lool at how the statistic changes with the evauation number. Thanks to the way the \"optimizer\" works we do not see a monotonic\n",
    "decrease:"
   ]
  },
  {
   "cell_type": "code",
   "execution_count": 28,
   "id": "44465f7d-4eb5-4b55-bbc6-88e8831427ab",
   "metadata": {},
   "outputs": [
    {
     "data": {
      "image/png": "[encoded data removed]",
      "text/plain": [
       "<Figure size 640x480 with 1 Axes>"
      ]
     },
     "metadata": {},
     "output_type": "display_data"
    }
   ],
   "source": [
    "ui.plot_scatter(stats[\"nfev\"], stats[\"statistic\"], xlabel=\"evalation\", ylabel=\"statistic\")"
   ]
  },
  {
   "cell_type": "markdown",
   "id": "930052d8-a1e4-4223-90b3-f532884d42ff",
   "metadata": {},
   "source": [
    "We can also look at the search surface and the path we take (this uses the screen output from setting the `verbose` parameter, which is accessed via the `store` element for this plot, almost like I went \"oh, that would make my life easier to have available\"):"
   ]
  },
  {
   "cell_type": "code",
   "execution_count": 29,
   "id": "58c9daa8-a35d-4839-abc5-a2d9e5a79b7b",
   "metadata": {},
   "outputs": [
    {
     "data": {
      "image/png": "[encoded data removed]",
      "text/plain": [
       "<Figure size 640x480 with 2 Axes>"
      ]
     },
     "metadata": {},
     "output_type": "display_data"
    }
   ],
   "source": [
    "from matplotlib import pyplot as plt\n",
    "\n",
    "plt.scatter(stats[\"mdl.xlow\"], stats[\"mdl.xhi\"], c=stats[\"statistic\"])\n",
    "plt.colorbar()\n",
    "\n",
    "# Take the \"best-fit\" locations from the fit output and draw lines connecting them.\n",
    "store = ui.get_fit_results().extra_output[\"store\"]\n",
    "pxlo = None\n",
    "pxhi = None\n",
    "for xlo, xhi in store:\n",
    "    if pxlo is not None:\n",
    "        plt.arrow(pxlo, pxhi, xlo - pxlo, xhi - pxhi)\n",
    "\n",
    "    pxlo, pxhi = xlo, xhi\n",
    "\n",
    "# Let's show the xlow=xhi line, for reasons.\n",
    "ax = plt.gca()\n",
    "ax.set_xlim(auto=False)\n",
    "ax.set_ylim(auto=False)\n",
    "plt.plot([6, 9], [6, 9], '--', c='r');"
   ]
  },
  {
   "cell_type": "markdown",
   "id": "265de28b-e567-4c97-a17d-525106b620bb",
   "metadata": {},
   "source": [
    "Note that we actually have some cases where `xlo > xhi`, which is not really valid (anything on the dotted line, or to it's lower-right, is technically invalid and the model ends up just returning 0's for all bins). We can try to avoid this by setting the `xlow` parameter to have a maximum value and the `xhi` a minimum value to avoid this:"
   ]
  },
  {
   "cell_type": "code",
   "execution_count": 30,
   "id": "79d6fa85-9c79-4481-a222-ce3505bbc7fa",
   "metadata": {},
   "outputs": [
    {
     "name": "stdout",
     "output_type": "stream",
     "text": [
      "box1d.mdl\n",
      "   Param        Type          Value          Min          Max      Units\n",
      "   -----        ----          -----          ---          ---      -----\n",
      "   mdl.xlow     thawed            7 -3.40282e+38            7           \n",
      "   mdl.xhi      thawed            8            8  3.40282e+38           \n",
      "   mdl.ampl     frozen            5 -3.40282e+38  3.40282e+38           \n"
     ]
    }
   ],
   "source": [
    "mdl.reset()\n",
    "\n",
    "mdl.xlow.max = 7\n",
    "mdl.xhi.min = 8\n",
    "\n",
    "print(mdl)"
   ]
  },
  {
   "cell_type": "code",
   "execution_count": 31,
   "id": "a82523ae-2ec1-42cd-88ea-9cb0128b9cb9",
   "metadata": {},
   "outputs": [
    {
     "name": "stdout",
     "output_type": "stream",
     "text": [
      "Dataset               = 1\n",
      "Method                = opty\n",
      "Statistic             = leastsq\n",
      "Initial fit statistic = 243\n",
      "Final fit statistic   = 88 at function evaluation 45\n",
      "Data points           = 15\n",
      "Degrees of freedom    = 13\n",
      "Change in statistic   = 155\n",
      "   mdl.xlow       3           \n",
      "   mdl.xhi        11          \n"
     ]
    }
   ],
   "source": [
    "ui.set_method_opt(\"verbose\", False)\n",
    "\n",
    "ui.fit(record_steps=True, clobber=True)"
   ]
  },
  {
   "cell_type": "markdown",
   "id": "2a60f5b5-fb26-434f-bb1a-3a95792264c3",
   "metadata": {},
   "source": [
    "So, the end result is the same, but things are slightly different:\n",
    "\n",
    "- the number of function evaluations may be different (in this case it isn't, but with some code changes I've made but not yet turned into a PR it actually does, and now I'm interested why, but that's for another notebook)\n",
    "- the set of points searched is slightly different (which you can't see from above, but we can looking at the output file)"
   ]
  },
  {
   "cell_type": "code",
   "execution_count": 32,
   "id": "be6a0031-4f09-4db4-b1ff-5ad13d2fec89",
   "metadata": {},
   "outputs": [
    {
     "data": {
      "image/png": "[encoded data removed]",
      "text/plain": [
       "<Figure size 640x480 with 2 Axes>"
      ]
     },
     "metadata": {},
     "output_type": "display_data"
    }
   ],
   "source": [
    "stats2 = ui.get_fit_results().record_steps\n",
    "\n",
    "plt.scatter(stats2[\"mdl.xlow\"], stats2[\"mdl.xhi\"], c=stats2[\"statistic\"])\n",
    "plt.colorbar()\n",
    "\n",
    "store = ui.get_fit_results().extra_output[\"store\"]\n",
    "pxlo = None\n",
    "pxhi = None\n",
    "for xlo, xhi in store:\n",
    "    if pxlo is not None:\n",
    "        plt.arrow(pxlo, pxhi, xlo - pxlo, xhi - pxhi)\n",
    "\n",
    "    pxlo, pxhi = xlo, xhi\n",
    "\n",
    "# There's no points where xlow >= xhi, so don't bother with adding a line"
   ]
  },
  {
   "cell_type": "markdown",
   "id": "46481778-a3a5-4729-bbbd-3f469b6d2ada",
   "metadata": {},
   "source": [
    "The statistic points also show a slight difference in behaviour. What is most interesting - but only if you are interested in the weeds of the optimization code, which you might just be if you're reading this - is that the number of function evaluations seems to stop at 41, even though we were told there were 45."
   ]
  },
  {
   "cell_type": "code",
   "execution_count": 33,
   "id": "8e3c0d85-a33c-48c3-bf09-b9cd2bb475ad",
   "metadata": {},
   "outputs": [
    {
     "data": {
      "image/png": "[encoded data removed]",
      "text/plain": [
       "<Figure size 640x480 with 1 Axes>"
      ]
     },
     "metadata": {},
     "output_type": "display_data"
    }
   ],
   "source": [
    "ui.plot_scatter(stats[\"nfev\"], stats[\"statistic\"], xlabel=\"evalation\", ylabel=\"statistic\")\n",
    "ui.plot_scatter(stats2[\"nfev\"], stats2[\"statistic\"], overplot=True, alpha=0.5, color=\"orange\")"
   ]
  },
  {
   "cell_type": "markdown",
   "id": "07a42186-8f8c-4dec-a337-d5252ed04b07",
   "metadata": {},
   "source": [
    "Just to check (the first row is labelled 0 as it is likely to represent the input values, as it is in the case of `opty`:"
   ]
  },
  {
   "cell_type": "code",
   "execution_count": 34,
   "id": "1b3ac215-f7d9-4fbb-90ff-2278748cfead",
   "metadata": {},
   "outputs": [
    {
     "data": {
      "text/plain": [
       "42"
      ]
     },
     "execution_count": 34,
     "metadata": {},
     "output_type": "execute_result"
    }
   ],
   "source": [
    "len(stats2)"
   ]
  },
  {
   "cell_type": "markdown",
   "id": "0135adc8-b2b0-4ff6-b747-bedc7ba7ac42",
   "metadata": {},
   "source": [
    "## Actually, come to think of it, just how is this output file created?\n",
    "\n",
    "If we look at `opty`, there's no obvious way for this data to be stored (i.e. `opty` has no knowledge of it). This is because the fit code sets up the `fcn` that is sent to the optimiser to append to this data each time it is called. However, we would still expect there to be 45 and not 42 records, because we tracked them. The issue is that in `InfinitePotential` we check whether all the parameters are valid - i.e. within the minimum and maximum ranges - with\n",
    "\n",
    "```python\n",
    "    def __call__(self, pars: np.ndarray) -> SupportsFloat:\n",
    "        if np.isnan(pars).any() or _outside_limits(pars,\n",
    "                                                   self.minval,\n",
    "                                                   self.maxval):\n",
    "            return FUNC_MAX\n",
    "\n",
    "        return self.func(pars)[0]\n",
    "```\n",
    "\n",
    "and this is done before calling the statistic call back function. So, we end up losing a record of any set of parameters which are out-of-bounds. So, there must have been three locations we checked which hit this condition (actually, as we do not encode any sort of \"already seen\" check, it could be the same location checked three times).\n",
    "\n",
    "## Is it worth adding a check for already-seen locations?\n",
    "\n",
    "Now, this is really-not-an-optimizer, so it's not really worth spending time trying to optimize it's performamce. Saying that, we could make some simple additions such as\n",
    "\n",
    "- don't ever evaluate the \"0, 0, ..\" bin since we will already have seen it\n",
    "- track the evaluated locations so we don't bother re-evaluating them (which is a superset of the previous item)\n",
    "\n",
    "However, there are cases when other parts of the Sherpa ecosystem can come into play. We currently support a per-model cache which will avoid model evaluation when it has seen the parameters before (it only stores a small number of values so it can depend on how the optimizer works whether this comes into play). The [`cache_status`](https://sherpa.readthedocs.io/en/4.16.1/model_classes/api/sherpa.models.model.ArithmeticModel.html#sherpa.models.model.ArithmeticModel.cache_status) method shows the current cache data.  Here we can see that the model has been evaluated 44 times and 4 of them were repeat checks."
   ]
  },
  {
   "cell_type": "code",
   "execution_count": 35,
   "id": "81ecc346-3205-4aff-8512-bd15b9fefa18",
   "metadata": {},
   "outputs": [
    {
     "name": "stdout",
     "output_type": "stream",
     "text": [
      " box1d.mdl                  size:    0  hits:     0  misses:     0  check:    44\n"
     ]
    }
   ],
   "source": [
    "mdl.cache_status()"
   ]
  },
  {
   "cell_type": "markdown",
   "id": "7a5e2b77-f630-4a8e-b92a-c7c76f15bfaf",
   "metadata": {},
   "source": [
    "If we reset the model and the cache we can see what happens:"
   ]
  },
  {
   "cell_type": "code",
   "execution_count": 36,
   "id": "47a5301f-1d7f-4b65-9382-4ebedd9b7443",
   "metadata": {},
   "outputs": [
    {
     "name": "stdout",
     "output_type": "stream",
     "text": [
      "box1d.mdl\n",
      "   Param        Type          Value          Min          Max      Units\n",
      "   -----        ----          -----          ---          ---      -----\n",
      "   mdl.xlow     thawed            7 -3.40282e+38            7           \n",
      "   mdl.xhi      thawed            8            8  3.40282e+38           \n",
      "   mdl.ampl     frozen            5 -3.40282e+38  3.40282e+38           \n"
     ]
    }
   ],
   "source": [
    "mdl.cache_clear()\n",
    "mdl.reset()\n",
    "print(mdl)"
   ]
  },
  {
   "cell_type": "code",
   "execution_count": 37,
   "id": "2840cbe7-05fc-4bab-bf24-f257aff4c928",
   "metadata": {},
   "outputs": [
    {
     "name": "stdout",
     "output_type": "stream",
     "text": [
      " box1d.mdl                  size:    0  hits:     0  misses:     0  check:     0\n"
     ]
    }
   ],
   "source": [
    "mdl.cache_status()"
   ]
  },
  {
   "cell_type": "code",
   "execution_count": 38,
   "id": "5a27f299-dfce-4893-bbaf-c0159f2a4e82",
   "metadata": {},
   "outputs": [
    {
     "name": "stdout",
     "output_type": "stream",
     "text": [
      "Dataset               = 1\n",
      "Method                = opty\n",
      "Statistic             = leastsq\n",
      "Initial fit statistic = 243\n",
      "Final fit statistic   = 88 at function evaluation 45\n",
      "Data points           = 15\n",
      "Degrees of freedom    = 13\n",
      "Change in statistic   = 155\n",
      "   mdl.xlow       3           \n",
      "   mdl.xhi        11          \n"
     ]
    }
   ],
   "source": [
    "ui.fit()"
   ]
  },
  {
   "cell_type": "code",
   "execution_count": 39,
   "id": "7ca251d3-cada-4def-95fe-1575cf4e7a5d",
   "metadata": {},
   "outputs": [
    {
     "name": "stdout",
     "output_type": "stream",
     "text": [
      " box1d.mdl                  size:    0  hits:     0  misses:     0  check:    44\n"
     ]
    }
   ],
   "source": [
    "mdl.cache_status()"
   ]
  },
  {
   "cell_type": "markdown",
   "id": "9d8eda6e-33d5-47de-9535-e2988f4aef24",
   "metadata": {},
   "source": [
    "Note that the putput of line 40 is the same as line 36 even though the former was after two `fit` calls. This is because the `fit` call will internally clear the cache before it starts: this is because the cache is not infallible, as we assume - but can not **guarantee** - that the model evaluation only depends on the parameter values and the data grid (independent axis) - and so it's safest for `fit` to reset it."
   ]
  },
  {
   "cell_type": "markdown",
   "id": "2c38eed3-e7b1-426e-9197-02f96b0a7943",
   "metadata": {},
   "source": [
    "# I really want to do this with objects\n",
    "\n",
    "For those interested in using the more-OO interface, here's how you can re-create the first run through from above.\n",
    "\n",
    "We need to create\n",
    "\n",
    "- data object\n",
    "- model object\n",
    "- stats object\n",
    "- optimizer object\n",
    "\n",
    "and the we can ass that through to a [fit object](https://sherpa.readthedocs.io/en/4.16.1/fit/index.html)."
   ]
  },
  {
   "cell_type": "code",
   "execution_count": 40,
   "id": "42cc00e3-eb8d-4986-9d04-3bf33cc2ce8d",
   "metadata": {},
   "outputs": [
    {
     "data": {
      "text/html": [
       "<style>/*\n",
       "Copyright (C) 2020  Smithsonian Astrophysical Observatory\n",
       "\n",
       "\n",
       " This program is free software; you can redistribute it and/or modify\n",
       " it under the terms of the GNU General Public License as published by\n",
       " the Free Software Foundation; either version 3 of the License, or\n",
       " (at your option) any later version.\n",
       "\n",
       " This program is distributed in the hope that it will be useful,\n",
       " but WITHOUT ANY WARRANTY; without even the implied warranty of\n",
       " MERCHANTABILITY or FITNESS FOR A PARTICULAR PURPOSE.  See the\n",
       " GNU General Public License for more details.\n",
       "\n",
       " You should have received a copy of the GNU General Public License along\n",
       " with this program; if not, write to the Free Software Foundation, Inc.,\n",
       " 51 Franklin Street, Fifth Floor, Boston, MA 02110-1301 USA.\n",
       "\n",
       "*/\n",
       "\n",
       ":root {\n",
       "  --sherpa-border-color: var(--jp-border-color2, #e0e0e0);\n",
       "  --sherpa-background-color: var(--jp-layout-color0, white);\n",
       "  --sherpa-background-color-row-even: var(--jp-layout-color1, white);\n",
       "  --sherpa-background-color-row-odd: var(--jp-layout-color2, #eeeeee);\n",
       "\n",
       "  /* https://medium.com/ge-design/iot-cool-gray-is-a-great-background-color-for-data-visualization-ebf18c318418 */\n",
       "  --sherpa-background-color-dark1: #EBEFF2;\n",
       "  --sherpa-background-color-dark2: #D8E0E5;\n",
       "}\n",
       "\n",
       "div.sherpa-text-fallback {\n",
       "    display: none;\n",
       "}\n",
       "\n",
       "div.sherpa {\n",
       "    display: block;\n",
       "}\n",
       "\n",
       "div.sherpa details summary {\n",
       "    display: list-item;  /* needed for notebook, not lab */\n",
       "    font-size: larger;\n",
       "}\n",
       "\n",
       "div.sherpa details div.datavals {\n",
       "    display: grid;\n",
       "    grid-template-columns: 1fr 3fr;\n",
       "    column-gap: 0.5em;\n",
       "}\n",
       "\n",
       "div.sherpa div.dataname {\n",
       "    font-weight: bold;\n",
       "    border-right: 1px solid var(--sherpa-border-color);\n",
       "}\n",
       "\n",
       "div.sherpa div.dataval { }\n",
       "\n",
       "div.sherpa div.datavals div:nth-child(4n + 1) ,\n",
       "div.sherpa div.datavals div:nth-child(4n + 2) {\n",
       "    background: var(--sherpa-background-color-row-odd);\n",
       "}\n",
       "\n",
       "div.sherpa table.model tbody {\n",
       "    border-bottom: 1px solid var(--sherpa-border-color);\n",
       "}\n",
       "\n",
       "div.sherpa table.model tr.block {\n",
       "    border-top: 1px solid var(--sherpa-border-color);\n",
       "}\n",
       "\n",
       "div.sherpa table.model th.model-odd ,\n",
       "div.sherpa table.model th.model-even {\n",
       "    border-right: 1px solid var(--sherpa-border-color);\n",
       "}\n",
       "\n",
       "div.sherpa table.model th.model-odd {\n",
       "    background: var(--sherpa-background-color-dark1);\n",
       "}\n",
       "\n",
       "div.sherpa table.model th.model-even {\n",
       "    background: var(--sherpa-background-color-dark2);\n",
       "}\n",
       "\n",
       "div.sherpa .failed {\n",
       "    background: orange;\n",
       "    font-size: large;\n",
       "    padding: 1em;\n",
       "}\n",
       "</style><div class=\"sherpa-text-fallback\">&lt;Data1D data set instance &#x27;Alexander&#x27;&gt;</div><div hidden class=\"sherpa\"><style>/*\n",
       "Copyright (C) 2020  Smithsonian Astrophysical Observatory\n",
       "\n",
       "\n",
       " This program is free software; you can redistribute it and/or modify\n",
       " it under the terms of the GNU General Public License as published by\n",
       " the Free Software Foundation; either version 3 of the License, or\n",
       " (at your option) any later version.\n",
       "\n",
       " This program is distributed in the hope that it will be useful,\n",
       " but WITHOUT ANY WARRANTY; without even the implied warranty of\n",
       " MERCHANTABILITY or FITNESS FOR A PARTICULAR PURPOSE.  See the\n",
       " GNU General Public License for more details.\n",
       "\n",
       " You should have received a copy of the GNU General Public License along\n",
       " with this program; if not, write to the Free Software Foundation, Inc.,\n",
       " 51 Franklin Street, Fifth Floor, Boston, MA 02110-1301 USA.\n",
       "\n",
       "*/\n",
       "\n",
       ":root {\n",
       "  --sherpa-border-color: var(--jp-border-color2, #e0e0e0);\n",
       "  --sherpa-background-color: var(--jp-layout-color0, white);\n",
       "  --sherpa-background-color-row-even: var(--jp-layout-color1, white);\n",
       "  --sherpa-background-color-row-odd: var(--jp-layout-color2, #eeeeee);\n",
       "\n",
       "  /* https://medium.com/ge-design/iot-cool-gray-is-a-great-background-color-for-data-visualization-ebf18c318418 */\n",
       "  --sherpa-background-color-dark1: #EBEFF2;\n",
       "  --sherpa-background-color-dark2: #D8E0E5;\n",
       "}\n",
       "\n",
       "div.sherpa-text-fallback {\n",
       "    display: none;\n",
       "}\n",
       "\n",
       "div.sherpa {\n",
       "    display: block;\n",
       "}\n",
       "\n",
       "div.sherpa details summary {\n",
       "    display: list-item;  /* needed for notebook, not lab */\n",
       "    font-size: larger;\n",
       "}\n",
       "\n",
       "div.sherpa details div.datavals {\n",
       "    display: grid;\n",
       "    grid-template-columns: 1fr 3fr;\n",
       "    column-gap: 0.5em;\n",
       "}\n",
       "\n",
       "div.sherpa div.dataname {\n",
       "    font-weight: bold;\n",
       "    border-right: 1px solid var(--sherpa-border-color);\n",
       "}\n",
       "\n",
       "div.sherpa div.dataval { }\n",
       "\n",
       "div.sherpa div.datavals div:nth-child(4n + 1) ,\n",
       "div.sherpa div.datavals div:nth-child(4n + 2) {\n",
       "    background: var(--sherpa-background-color-row-odd);\n",
       "}\n",
       "\n",
       "div.sherpa table.model tbody {\n",
       "    border-bottom: 1px solid var(--sherpa-border-color);\n",
       "}\n",
       "\n",
       "div.sherpa table.model tr.block {\n",
       "    border-top: 1px solid var(--sherpa-border-color);\n",
       "}\n",
       "\n",
       "div.sherpa table.model th.model-odd ,\n",
       "div.sherpa table.model th.model-even {\n",
       "    border-right: 1px solid var(--sherpa-border-color);\n",
       "}\n",
       "\n",
       "div.sherpa table.model th.model-odd {\n",
       "    background: var(--sherpa-background-color-dark1);\n",
       "}\n",
       "\n",
       "div.sherpa table.model th.model-even {\n",
       "    background: var(--sherpa-background-color-dark2);\n",
       "}\n",
       "\n",
       "div.sherpa .failed {\n",
       "    background: orange;\n",
       "    font-size: large;\n",
       "    padding: 1em;\n",
       "}\n",
       "</style><div class=\"sherpa-text-fallback\">&lt;sherpa.plot.DataPlot object at 0x78bd2bebf890&gt;</div><div hidden class=\"sherpa\"><details open><summary>Data1D Plot</summary><svg xmlns:xlink=\"http://www.w3.org/1999/xlink\" width=\"460.8pt\" height=\"345.6pt\" viewBox=\"0 0 460.8 345.6\" xmlns=\"http://www.w3.org/2000/svg\" version=\"1.1\">\n",
       " <metadata>\n",
       "  <rdf:RDF xmlns:dc=\"http://purl.org/dc/elements/1.1/\" xmlns:cc=\"http://creativecommons.org/ns#\" xmlns:rdf=\"http://www.w3.org/1999/02/22-rdf-syntax-ns#\">\n",
       "   <cc:Work>\n",
       "    <dc:type rdf:resource=\"http://purl.org/dc/dcmitype/StillImage\"/>\n",
       "    <dc:date>2025-10-01T14:00:09.564221</dc:date>\n",
       "    <dc:format>image/svg+xml</dc:format>\n",
       "    <dc:creator>\n",
       "     <cc:Agent>\n",
       "      <dc:title>Matplotlib v3.10.6, https://matplotlib.org/</dc:title>\n",
       "     </cc:Agent>\n",
       "    </dc:creator>\n",
       "   </cc:Work>\n",
       "  </rdf:RDF>\n",
       " </metadata>\n",
       " <defs>\n",
       "  <style type=\"text/css\">*{stroke-linejoin: round; stroke-linecap: butt}</style>\n",
       " </defs>\n",
       " <g id=\"figure_1\">\n",
       "  <g id=\"patch_1\">\n",
       "   <path d=\"M 0 345.6 \n",
       "L 460.8 345.6 \n",
       "L 460.8 0 \n",
       "L 0 0 \n",
       "z\n",
       "\" style=\"fill: #ffffff\"/>\n",
       "  </g>\n",
       "  <g id=\"axes_1\">\n",
       "   <g id=\"patch_2\">\n",
       "    <path d=\"M 57.6 307.584 \n",
       "L 414.72 307.584 \n",
       "L 414.72 41.472 \n",
       "L 57.6 41.472 \n",
       "z\n",
       "\" style=\"fill: #ffffff\"/>\n",
       "   </g>\n",
       "   <g id=\"matplotlib.axis_1\">\n",
       "    <g id=\"xtick_1\">\n",
       "     <g id=\"line2d_1\">\n",
       "      <defs>\n",
       "       <path id=\"m6eb199c80a\" d=\"M 0 0 \n",
       "L 0 3.5 \n",
       "\" style=\"stroke: #000000; stroke-width: 0.8\"/>\n",
       "      </defs>\n",
       "      <g>\n",
       "       <use xlink:href=\"#m6eb199c80a\" x=\"97.022338\" y=\"307.584\" style=\"stroke: #000000; stroke-width: 0.8\"/>\n",
       "      </g>\n",
       "     </g>\n",
       "     <g id=\"text_1\">\n",
       "      <!-- 2 -->\n",
       "      <g transform=\"translate(93.841088 322.182437) scale(0.1 -0.1)\">\n",
       "       <defs>\n",
       "        <path id=\"DejaVuSans-32\" d=\"M 1228 531 \n",
       "L 3431 531 \n",
       "L 3431 0 \n",
       "L 469 0 \n",
       "L 469 531 \n",
       "Q 828 903 1448 1529 \n",
       "Q 2069 2156 2228 2338 \n",
       "Q 2531 2678 2651 2914 \n",
       "Q 2772 3150 2772 3378 \n",
       "Q 2772 3750 2511 3984 \n",
       "Q 2250 4219 1831 4219 \n",
       "Q 1534 4219 1204 4116 \n",
       "Q 875 4013 500 3803 \n",
       "L 500 4441 \n",
       "Q 881 4594 1212 4672 \n",
       "Q 1544 4750 1819 4750 \n",
       "Q 2544 4750 2975 4387 \n",
       "Q 3406 4025 3406 3419 \n",
       "Q 3406 3131 3298 2873 \n",
       "Q 3191 2616 2906 2266 \n",
       "Q 2828 2175 2409 1742 \n",
       "Q 1991 1309 1228 531 \n",
       "z\n",
       "\" transform=\"scale(0.015625)\"/>\n",
       "       </defs>\n",
       "       <use xlink:href=\"#DejaVuSans-32\"/>\n",
       "      </g>\n",
       "     </g>\n",
       "    </g>\n",
       "    <g id=\"xtick_2\">\n",
       "     <g id=\"line2d_2\">\n",
       "      <g>\n",
       "       <use xlink:href=\"#m6eb199c80a\" x=\"143.401558\" y=\"307.584\" style=\"stroke: #000000; stroke-width: 0.8\"/>\n",
       "      </g>\n",
       "     </g>\n",
       "     <g id=\"text_2\">\n",
       "      <!-- 4 -->\n",
       "      <g transform=\"translate(140.220308 322.182437) scale(0.1 -0.1)\">\n",
       "       <defs>\n",
       "        <path id=\"DejaVuSans-34\" d=\"M 2419 4116 \n",
       "L 825 1625 \n",
       "L 2419 1625 \n",
       "L 2419 4116 \n",
       "z\n",
       "M 2253 4666 \n",
       "L 3047 4666 \n",
       "L 3047 1625 \n",
       "L 3713 1625 \n",
       "L 3713 1100 \n",
       "L 3047 1100 \n",
       "L 3047 0 \n",
       "L 2419 0 \n",
       "L 2419 1100 \n",
       "L 313 1100 \n",
       "L 313 1709 \n",
       "L 2253 4666 \n",
       "z\n",
       "\" transform=\"scale(0.015625)\"/>\n",
       "       </defs>\n",
       "       <use xlink:href=\"#DejaVuSans-34\"/>\n",
       "      </g>\n",
       "     </g>\n",
       "    </g>\n",
       "    <g id=\"xtick_3\">\n",
       "     <g id=\"line2d_3\">\n",
       "      <g>\n",
       "       <use xlink:href=\"#m6eb199c80a\" x=\"189.780779\" y=\"307.584\" style=\"stroke: #000000; stroke-width: 0.8\"/>\n",
       "      </g>\n",
       "     </g>\n",
       "     <g id=\"text_3\">\n",
       "      <!-- 6 -->\n",
       "      <g transform=\"translate(186.599529 322.182437) scale(0.1 -0.1)\">\n",
       "       <defs>\n",
       "        <path id=\"DejaVuSans-36\" d=\"M 2113 2584 \n",
       "Q 1688 2584 1439 2293 \n",
       "Q 1191 2003 1191 1497 \n",
       "Q 1191 994 1439 701 \n",
       "Q 1688 409 2113 409 \n",
       "Q 2538 409 2786 701 \n",
       "Q 3034 994 3034 1497 \n",
       "Q 3034 2003 2786 2293 \n",
       "Q 2538 2584 2113 2584 \n",
       "z\n",
       "M 3366 4563 \n",
       "L 3366 3988 \n",
       "Q 3128 4100 2886 4159 \n",
       "Q 2644 4219 2406 4219 \n",
       "Q 1781 4219 1451 3797 \n",
       "Q 1122 3375 1075 2522 \n",
       "Q 1259 2794 1537 2939 \n",
       "Q 1816 3084 2150 3084 \n",
       "Q 2853 3084 3261 2657 \n",
       "Q 3669 2231 3669 1497 \n",
       "Q 3669 778 3244 343 \n",
       "Q 2819 -91 2113 -91 \n",
       "Q 1303 -91 875 529 \n",
       "Q 447 1150 447 2328 \n",
       "Q 447 3434 972 4092 \n",
       "Q 1497 4750 2381 4750 \n",
       "Q 2619 4750 2861 4703 \n",
       "Q 3103 4656 3366 4563 \n",
       "z\n",
       "\" transform=\"scale(0.015625)\"/>\n",
       "       </defs>\n",
       "       <use xlink:href=\"#DejaVuSans-36\"/>\n",
       "      </g>\n",
       "     </g>\n",
       "    </g>\n",
       "    <g id=\"xtick_4\">\n",
       "     <g id=\"line2d_4\">\n",
       "      <g>\n",
       "       <use xlink:href=\"#m6eb199c80a\" x=\"236.16\" y=\"307.584\" style=\"stroke: #000000; stroke-width: 0.8\"/>\n",
       "      </g>\n",
       "     </g>\n",
       "     <g id=\"text_4\">\n",
       "      <!-- 8 -->\n",
       "      <g transform=\"translate(232.97875 322.182437) scale(0.1 -0.1)\">\n",
       "       <defs>\n",
       "        <path id=\"DejaVuSans-38\" d=\"M 2034 2216 \n",
       "Q 1584 2216 1326 1975 \n",
       "Q 1069 1734 1069 1313 \n",
       "Q 1069 891 1326 650 \n",
       "Q 1584 409 2034 409 \n",
       "Q 2484 409 2743 651 \n",
       "Q 3003 894 3003 1313 \n",
       "Q 3003 1734 2745 1975 \n",
       "Q 2488 2216 2034 2216 \n",
       "z\n",
       "M 1403 2484 \n",
       "Q 997 2584 770 2862 \n",
       "Q 544 3141 544 3541 \n",
       "Q 544 4100 942 4425 \n",
       "Q 1341 4750 2034 4750 \n",
       "Q 2731 4750 3128 4425 \n",
       "Q 3525 4100 3525 3541 \n",
       "Q 3525 3141 3298 2862 \n",
       "Q 3072 2584 2669 2484 \n",
       "Q 3125 2378 3379 2068 \n",
       "Q 3634 1759 3634 1313 \n",
       "Q 3634 634 3220 271 \n",
       "Q 2806 -91 2034 -91 \n",
       "Q 1263 -91 848 271 \n",
       "Q 434 634 434 1313 \n",
       "Q 434 1759 690 2068 \n",
       "Q 947 2378 1403 2484 \n",
       "z\n",
       "M 1172 3481 \n",
       "Q 1172 3119 1398 2916 \n",
       "Q 1625 2713 2034 2713 \n",
       "Q 2441 2713 2670 2916 \n",
       "Q 2900 3119 2900 3481 \n",
       "Q 2900 3844 2670 4047 \n",
       "Q 2441 4250 2034 4250 \n",
       "Q 1625 4250 1398 4047 \n",
       "Q 1172 3844 1172 3481 \n",
       "z\n",
       "\" transform=\"scale(0.015625)\"/>\n",
       "       </defs>\n",
       "       <use xlink:href=\"#DejaVuSans-38\"/>\n",
       "      </g>\n",
       "     </g>\n",
       "    </g>\n",
       "    <g id=\"xtick_5\">\n",
       "     <g id=\"line2d_5\">\n",
       "      <g>\n",
       "       <use xlink:href=\"#m6eb199c80a\" x=\"282.539221\" y=\"307.584\" style=\"stroke: #000000; stroke-width: 0.8\"/>\n",
       "      </g>\n",
       "     </g>\n",
       "     <g id=\"text_5\">\n",
       "      <!-- 10 -->\n",
       "      <g transform=\"translate(276.176721 322.182437) scale(0.1 -0.1)\">\n",
       "       <defs>\n",
       "        <path id=\"DejaVuSans-31\" d=\"M 794 531 \n",
       "L 1825 531 \n",
       "L 1825 4091 \n",
       "L 703 3866 \n",
       "L 703 4441 \n",
       "L 1819 4666 \n",
       "L 2450 4666 \n",
       "L 2450 531 \n",
       "L 3481 531 \n",
       "L 3481 0 \n",
       "L 794 0 \n",
       "L 794 531 \n",
       "z\n",
       "\" transform=\"scale(0.015625)\"/>\n",
       "        <path id=\"DejaVuSans-30\" d=\"M 2034 4250 \n",
       "Q 1547 4250 1301 3770 \n",
       "Q 1056 3291 1056 2328 \n",
       "Q 1056 1369 1301 889 \n",
       "Q 1547 409 2034 409 \n",
       "Q 2525 409 2770 889 \n",
       "Q 3016 1369 3016 2328 \n",
       "Q 3016 3291 2770 3770 \n",
       "Q 2525 4250 2034 4250 \n",
       "z\n",
       "M 2034 4750 \n",
       "Q 2819 4750 3233 4129 \n",
       "Q 3647 3509 3647 2328 \n",
       "Q 3647 1150 3233 529 \n",
       "Q 2819 -91 2034 -91 \n",
       "Q 1250 -91 836 529 \n",
       "Q 422 1150 422 2328 \n",
       "Q 422 3509 836 4129 \n",
       "Q 1250 4750 2034 4750 \n",
       "z\n",
       "\" transform=\"scale(0.015625)\"/>\n",
       "       </defs>\n",
       "       <use xlink:href=\"#DejaVuSans-31\"/>\n",
       "       <use xlink:href=\"#DejaVuSans-30\" transform=\"translate(63.623047 0)\"/>\n",
       "      </g>\n",
       "     </g>\n",
       "    </g>\n",
       "    <g id=\"xtick_6\">\n",
       "     <g id=\"line2d_6\">\n",
       "      <g>\n",
       "       <use xlink:href=\"#m6eb199c80a\" x=\"328.918442\" y=\"307.584\" style=\"stroke: #000000; stroke-width: 0.8\"/>\n",
       "      </g>\n",
       "     </g>\n",
       "     <g id=\"text_6\">\n",
       "      <!-- 12 -->\n",
       "      <g transform=\"translate(322.555942 322.182437) scale(0.1 -0.1)\">\n",
       "       <use xlink:href=\"#DejaVuSans-31\"/>\n",
       "       <use xlink:href=\"#DejaVuSans-32\" transform=\"translate(63.623047 0)\"/>\n",
       "      </g>\n",
       "     </g>\n",
       "    </g>\n",
       "    <g id=\"xtick_7\">\n",
       "     <g id=\"line2d_7\">\n",
       "      <g>\n",
       "       <use xlink:href=\"#m6eb199c80a\" x=\"375.297662\" y=\"307.584\" style=\"stroke: #000000; stroke-width: 0.8\"/>\n",
       "      </g>\n",
       "     </g>\n",
       "     <g id=\"text_7\">\n",
       "      <!-- 14 -->\n",
       "      <g transform=\"translate(368.935162 322.182437) scale(0.1 -0.1)\">\n",
       "       <use xlink:href=\"#DejaVuSans-31\"/>\n",
       "       <use xlink:href=\"#DejaVuSans-34\" transform=\"translate(63.623047 0)\"/>\n",
       "      </g>\n",
       "     </g>\n",
       "    </g>\n",
       "    <g id=\"text_8\">\n",
       "     <!-- x -->\n",
       "     <g transform=\"translate(233.200625 335.860562) scale(0.1 -0.1)\">\n",
       "      <defs>\n",
       "       <path id=\"DejaVuSans-78\" d=\"M 3513 3500 \n",
       "L 2247 1797 \n",
       "L 3578 0 \n",
       "L 2900 0 \n",
       "L 1881 1375 \n",
       "L 863 0 \n",
       "L 184 0 \n",
       "L 1544 1831 \n",
       "L 300 3500 \n",
       "L 978 3500 \n",
       "L 1906 2253 \n",
       "L 2834 3500 \n",
       "L 3513 3500 \n",
       "z\n",
       "\" transform=\"scale(0.015625)\"/>\n",
       "      </defs>\n",
       "      <use xlink:href=\"#DejaVuSans-78\"/>\n",
       "     </g>\n",
       "    </g>\n",
       "   </g>\n",
       "   <g id=\"matplotlib.axis_2\">\n",
       "    <g id=\"ytick_1\">\n",
       "     <g id=\"line2d_8\">\n",
       "      <defs>\n",
       "       <path id=\"mc5d049ed9f\" d=\"M 0 0 \n",
       "L -3.5 0 \n",
       "\" style=\"stroke: #000000; stroke-width: 0.8\"/>\n",
       "      </defs>\n",
       "      <g>\n",
       "       <use xlink:href=\"#mc5d049ed9f\" x=\"57.6\" y=\"295.488\" style=\"stroke: #000000; stroke-width: 0.8\"/>\n",
       "      </g>\n",
       "     </g>\n",
       "     <g id=\"text_9\">\n",
       "      <!-- 0 -->\n",
       "      <g transform=\"translate(44.2375 299.287219) scale(0.1 -0.1)\">\n",
       "       <use xlink:href=\"#DejaVuSans-30\"/>\n",
       "      </g>\n",
       "     </g>\n",
       "    </g>\n",
       "    <g id=\"ytick_2\">\n",
       "     <g id=\"line2d_9\">\n",
       "      <g>\n",
       "       <use xlink:href=\"#mc5d049ed9f\" x=\"57.6\" y=\"265.248\" style=\"stroke: #000000; stroke-width: 0.8\"/>\n",
       "      </g>\n",
       "     </g>\n",
       "     <g id=\"text_10\">\n",
       "      <!-- 1 -->\n",
       "      <g transform=\"translate(44.2375 269.047219) scale(0.1 -0.1)\">\n",
       "       <use xlink:href=\"#DejaVuSans-31\"/>\n",
       "      </g>\n",
       "     </g>\n",
       "    </g>\n",
       "    <g id=\"ytick_3\">\n",
       "     <g id=\"line2d_10\">\n",
       "      <g>\n",
       "       <use xlink:href=\"#mc5d049ed9f\" x=\"57.6\" y=\"235.008\" style=\"stroke: #000000; stroke-width: 0.8\"/>\n",
       "      </g>\n",
       "     </g>\n",
       "     <g id=\"text_11\">\n",
       "      <!-- 2 -->\n",
       "      <g transform=\"translate(44.2375 238.807219) scale(0.1 -0.1)\">\n",
       "       <use xlink:href=\"#DejaVuSans-32\"/>\n",
       "      </g>\n",
       "     </g>\n",
       "    </g>\n",
       "    <g id=\"ytick_4\">\n",
       "     <g id=\"line2d_11\">\n",
       "      <g>\n",
       "       <use xlink:href=\"#mc5d049ed9f\" x=\"57.6\" y=\"204.768\" style=\"stroke: #000000; stroke-width: 0.8\"/>\n",
       "      </g>\n",
       "     </g>\n",
       "     <g id=\"text_12\">\n",
       "      <!-- 3 -->\n",
       "      <g transform=\"translate(44.2375 208.567219) scale(0.1 -0.1)\">\n",
       "       <defs>\n",
       "        <path id=\"DejaVuSans-33\" d=\"M 2597 2516 \n",
       "Q 3050 2419 3304 2112 \n",
       "Q 3559 1806 3559 1356 \n",
       "Q 3559 666 3084 287 \n",
       "Q 2609 -91 1734 -91 \n",
       "Q 1441 -91 1130 -33 \n",
       "Q 819 25 488 141 \n",
       "L 488 750 \n",
       "Q 750 597 1062 519 \n",
       "Q 1375 441 1716 441 \n",
       "Q 2309 441 2620 675 \n",
       "Q 2931 909 2931 1356 \n",
       "Q 2931 1769 2642 2001 \n",
       "Q 2353 2234 1838 2234 \n",
       "L 1294 2234 \n",
       "L 1294 2753 \n",
       "L 1863 2753 \n",
       "Q 2328 2753 2575 2939 \n",
       "Q 2822 3125 2822 3475 \n",
       "Q 2822 3834 2567 4026 \n",
       "Q 2313 4219 1838 4219 \n",
       "Q 1578 4219 1281 4162 \n",
       "Q 984 4106 628 3988 \n",
       "L 628 4550 \n",
       "Q 988 4650 1302 4700 \n",
       "Q 1616 4750 1894 4750 \n",
       "Q 2613 4750 3031 4423 \n",
       "Q 3450 4097 3450 3541 \n",
       "Q 3450 3153 3228 2886 \n",
       "Q 3006 2619 2597 2516 \n",
       "z\n",
       "\" transform=\"scale(0.015625)\"/>\n",
       "       </defs>\n",
       "       <use xlink:href=\"#DejaVuSans-33\"/>\n",
       "      </g>\n",
       "     </g>\n",
       "    </g>\n",
       "    <g id=\"ytick_5\">\n",
       "     <g id=\"line2d_12\">\n",
       "      <g>\n",
       "       <use xlink:href=\"#mc5d049ed9f\" x=\"57.6\" y=\"174.528\" style=\"stroke: #000000; stroke-width: 0.8\"/>\n",
       "      </g>\n",
       "     </g>\n",
       "     <g id=\"text_13\">\n",
       "      <!-- 4 -->\n",
       "      <g transform=\"translate(44.2375 178.327219) scale(0.1 -0.1)\">\n",
       "       <use xlink:href=\"#DejaVuSans-34\"/>\n",
       "      </g>\n",
       "     </g>\n",
       "    </g>\n",
       "    <g id=\"ytick_6\">\n",
       "     <g id=\"line2d_13\">\n",
       "      <g>\n",
       "       <use xlink:href=\"#mc5d049ed9f\" x=\"57.6\" y=\"144.288\" style=\"stroke: #000000; stroke-width: 0.8\"/>\n",
       "      </g>\n",
       "     </g>\n",
       "     <g id=\"text_14\">\n",
       "      <!-- 5 -->\n",
       "      <g transform=\"translate(44.2375 148.087219) scale(0.1 -0.1)\">\n",
       "       <defs>\n",
       "        <path id=\"DejaVuSans-35\" d=\"M 691 4666 \n",
       "L 3169 4666 \n",
       "L 3169 4134 \n",
       "L 1269 4134 \n",
       "L 1269 2991 \n",
       "Q 1406 3038 1543 3061 \n",
       "Q 1681 3084 1819 3084 \n",
       "Q 2600 3084 3056 2656 \n",
       "Q 3513 2228 3513 1497 \n",
       "Q 3513 744 3044 326 \n",
       "Q 2575 -91 1722 -91 \n",
       "Q 1428 -91 1123 -41 \n",
       "Q 819 9 494 109 \n",
       "L 494 744 \n",
       "Q 775 591 1075 516 \n",
       "Q 1375 441 1709 441 \n",
       "Q 2250 441 2565 725 \n",
       "Q 2881 1009 2881 1497 \n",
       "Q 2881 1984 2565 2268 \n",
       "Q 2250 2553 1709 2553 \n",
       "Q 1456 2553 1204 2497 \n",
       "Q 953 2441 691 2322 \n",
       "L 691 4666 \n",
       "z\n",
       "\" transform=\"scale(0.015625)\"/>\n",
       "       </defs>\n",
       "       <use xlink:href=\"#DejaVuSans-35\"/>\n",
       "      </g>\n",
       "     </g>\n",
       "    </g>\n",
       "    <g id=\"ytick_7\">\n",
       "     <g id=\"line2d_14\">\n",
       "      <g>\n",
       "       <use xlink:href=\"#mc5d049ed9f\" x=\"57.6\" y=\"114.048\" style=\"stroke: #000000; stroke-width: 0.8\"/>\n",
       "      </g>\n",
       "     </g>\n",
       "     <g id=\"text_15\">\n",
       "      <!-- 6 -->\n",
       "      <g transform=\"translate(44.2375 117.847219) scale(0.1 -0.1)\">\n",
       "       <use xlink:href=\"#DejaVuSans-36\"/>\n",
       "      </g>\n",
       "     </g>\n",
       "    </g>\n",
       "    <g id=\"ytick_8\">\n",
       "     <g id=\"line2d_15\">\n",
       "      <g>\n",
       "       <use xlink:href=\"#mc5d049ed9f\" x=\"57.6\" y=\"83.808\" style=\"stroke: #000000; stroke-width: 0.8\"/>\n",
       "      </g>\n",
       "     </g>\n",
       "     <g id=\"text_16\">\n",
       "      <!-- 7 -->\n",
       "      <g transform=\"translate(44.2375 87.607219) scale(0.1 -0.1)\">\n",
       "       <defs>\n",
       "        <path id=\"DejaVuSans-37\" d=\"M 525 4666 \n",
       "L 3525 4666 \n",
       "L 3525 4397 \n",
       "L 1831 0 \n",
       "L 1172 0 \n",
       "L 2766 4134 \n",
       "L 525 4134 \n",
       "L 525 4666 \n",
       "z\n",
       "\" transform=\"scale(0.015625)\"/>\n",
       "       </defs>\n",
       "       <use xlink:href=\"#DejaVuSans-37\"/>\n",
       "      </g>\n",
       "     </g>\n",
       "    </g>\n",
       "    <g id=\"ytick_9\">\n",
       "     <g id=\"line2d_16\">\n",
       "      <g>\n",
       "       <use xlink:href=\"#mc5d049ed9f\" x=\"57.6\" y=\"53.568\" style=\"stroke: #000000; stroke-width: 0.8\"/>\n",
       "      </g>\n",
       "     </g>\n",
       "     <g id=\"text_17\">\n",
       "      <!-- 8 -->\n",
       "      <g transform=\"translate(44.2375 57.367219) scale(0.1 -0.1)\">\n",
       "       <use xlink:href=\"#DejaVuSans-38\"/>\n",
       "      </g>\n",
       "     </g>\n",
       "    </g>\n",
       "    <g id=\"text_18\">\n",
       "     <!-- y -->\n",
       "     <g transform=\"translate(38.157812 177.487375) rotate(-90) scale(0.1 -0.1)\">\n",
       "      <defs>\n",
       "       <path id=\"DejaVuSans-79\" d=\"M 2059 -325 \n",
       "Q 1816 -950 1584 -1140 \n",
       "Q 1353 -1331 966 -1331 \n",
       "L 506 -1331 \n",
       "L 506 -850 \n",
       "L 844 -850 \n",
       "Q 1081 -850 1212 -737 \n",
       "Q 1344 -625 1503 -206 \n",
       "L 1606 56 \n",
       "L 191 3500 \n",
       "L 800 3500 \n",
       "L 1894 763 \n",
       "L 2988 3500 \n",
       "L 3597 3500 \n",
       "L 2059 -325 \n",
       "z\n",
       "\" transform=\"scale(0.015625)\"/>\n",
       "      </defs>\n",
       "      <use xlink:href=\"#DejaVuSans-79\"/>\n",
       "     </g>\n",
       "    </g>\n",
       "   </g>\n",
       "   <g id=\"line2d_17\">\n",
       "    <defs>\n",
       "     <path id=\"m163f1eb1eb\" d=\"M 0 1.5 \n",
       "C 0.397805 1.5 0.77937 1.341951 1.06066 1.06066 \n",
       "C 1.341951 0.77937 1.5 0.397805 1.5 0 \n",
       "C 1.5 -0.397805 1.341951 -0.77937 1.06066 -1.06066 \n",
       "C 0.77937 -1.341951 0.397805 -1.5 0 -1.5 \n",
       "C -0.397805 -1.5 -0.77937 -1.341951 -1.06066 -1.06066 \n",
       "C -1.341951 -0.77937 -1.5 -0.397805 -1.5 0 \n",
       "C -1.5 0.397805 -1.341951 0.77937 -1.06066 1.06066 \n",
       "C -0.77937 1.341951 -0.397805 1.5 0 1.5 \n",
       "z\n",
       "\" style=\"stroke: #1f77b4\"/>\n",
       "    </defs>\n",
       "    <g clip-path=\"url(#p8215bf55cd)\">\n",
       "     <use xlink:href=\"#m163f1eb1eb\" x=\"73.832727\" y=\"295.488\" style=\"fill: #1f77b4; stroke: #1f77b4\"/>\n",
       "     <use xlink:href=\"#m163f1eb1eb\" x=\"97.022338\" y=\"295.488\" style=\"fill: #1f77b4; stroke: #1f77b4\"/>\n",
       "     <use xlink:href=\"#m163f1eb1eb\" x=\"120.211948\" y=\"144.288\" style=\"fill: #1f77b4; stroke: #1f77b4\"/>\n",
       "     <use xlink:href=\"#m163f1eb1eb\" x=\"143.401558\" y=\"204.768\" style=\"fill: #1f77b4; stroke: #1f77b4\"/>\n",
       "     <use xlink:href=\"#m163f1eb1eb\" x=\"166.591169\" y=\"174.528\" style=\"fill: #1f77b4; stroke: #1f77b4\"/>\n",
       "     <use xlink:href=\"#m163f1eb1eb\" x=\"189.780779\" y=\"114.048\" style=\"fill: #1f77b4; stroke: #1f77b4\"/>\n",
       "     <use xlink:href=\"#m163f1eb1eb\" x=\"212.97039\" y=\"144.288\" style=\"fill: #1f77b4; stroke: #1f77b4\"/>\n",
       "     <use xlink:href=\"#m163f1eb1eb\" x=\"236.16\" y=\"174.528\" style=\"fill: #1f77b4; stroke: #1f77b4\"/>\n",
       "     <use xlink:href=\"#m163f1eb1eb\" x=\"259.34961\" y=\"204.768\" style=\"fill: #1f77b4; stroke: #1f77b4\"/>\n",
       "     <use xlink:href=\"#m163f1eb1eb\" x=\"282.539221\" y=\"144.288\" style=\"fill: #1f77b4; stroke: #1f77b4\"/>\n",
       "     <use xlink:href=\"#m163f1eb1eb\" x=\"305.728831\" y=\"83.808\" style=\"fill: #1f77b4; stroke: #1f77b4\"/>\n",
       "     <use xlink:href=\"#m163f1eb1eb\" x=\"328.918442\" y=\"295.488\" style=\"fill: #1f77b4; stroke: #1f77b4\"/>\n",
       "     <use xlink:href=\"#m163f1eb1eb\" x=\"352.108052\" y=\"53.568\" style=\"fill: #1f77b4; stroke: #1f77b4\"/>\n",
       "     <use xlink:href=\"#m163f1eb1eb\" x=\"375.297662\" y=\"204.768\" style=\"fill: #1f77b4; stroke: #1f77b4\"/>\n",
       "     <use xlink:href=\"#m163f1eb1eb\" x=\"398.487273\" y=\"295.488\" style=\"fill: #1f77b4; stroke: #1f77b4\"/>\n",
       "    </g>\n",
       "   </g>\n",
       "   <g id=\"patch_3\">\n",
       "    <path d=\"M 57.6 307.584 \n",
       "L 57.6 41.472 \n",
       "\" style=\"fill: none; stroke: #000000; stroke-width: 0.8; stroke-linejoin: miter; stroke-linecap: square\"/>\n",
       "   </g>\n",
       "   <g id=\"patch_4\">\n",
       "    <path d=\"M 414.72 307.584 \n",
       "L 414.72 41.472 \n",
       "\" style=\"fill: none; stroke: #000000; stroke-width: 0.8; stroke-linejoin: miter; stroke-linecap: square\"/>\n",
       "   </g>\n",
       "   <g id=\"patch_5\">\n",
       "    <path d=\"M 57.6 307.584 \n",
       "L 414.72 307.584 \n",
       "\" style=\"fill: none; stroke: #000000; stroke-width: 0.8; stroke-linejoin: miter; stroke-linecap: square\"/>\n",
       "   </g>\n",
       "   <g id=\"patch_6\">\n",
       "    <path d=\"M 57.6 41.472 \n",
       "L 414.72 41.472 \n",
       "\" style=\"fill: none; stroke: #000000; stroke-width: 0.8; stroke-linejoin: miter; stroke-linecap: square\"/>\n",
       "   </g>\n",
       "   <g id=\"text_19\">\n",
       "    <!-- Alexander -->\n",
       "    <g transform=\"translate(205.80375 35.472) scale(0.12 -0.12)\">\n",
       "     <defs>\n",
       "      <path id=\"DejaVuSans-41\" d=\"M 2188 4044 \n",
       "L 1331 1722 \n",
       "L 3047 1722 \n",
       "L 2188 4044 \n",
       "z\n",
       "M 1831 4666 \n",
       "L 2547 4666 \n",
       "L 4325 0 \n",
       "L 3669 0 \n",
       "L 3244 1197 \n",
       "L 1141 1197 \n",
       "L 716 0 \n",
       "L 50 0 \n",
       "L 1831 4666 \n",
       "z\n",
       "\" transform=\"scale(0.015625)\"/>\n",
       "      <path id=\"DejaVuSans-6c\" d=\"M 603 4863 \n",
       "L 1178 4863 \n",
       "L 1178 0 \n",
       "L 603 0 \n",
       "L 603 4863 \n",
       "z\n",
       "\" transform=\"scale(0.015625)\"/>\n",
       "      <path id=\"DejaVuSans-65\" d=\"M 3597 1894 \n",
       "L 3597 1613 \n",
       "L 953 1613 \n",
       "Q 991 1019 1311 708 \n",
       "Q 1631 397 2203 397 \n",
       "Q 2534 397 2845 478 \n",
       "Q 3156 559 3463 722 \n",
       "L 3463 178 \n",
       "Q 3153 47 2828 -22 \n",
       "Q 2503 -91 2169 -91 \n",
       "Q 1331 -91 842 396 \n",
       "Q 353 884 353 1716 \n",
       "Q 353 2575 817 3079 \n",
       "Q 1281 3584 2069 3584 \n",
       "Q 2775 3584 3186 3129 \n",
       "Q 3597 2675 3597 1894 \n",
       "z\n",
       "M 3022 2063 \n",
       "Q 3016 2534 2758 2815 \n",
       "Q 2500 3097 2075 3097 \n",
       "Q 1594 3097 1305 2825 \n",
       "Q 1016 2553 972 2059 \n",
       "L 3022 2063 \n",
       "z\n",
       "\" transform=\"scale(0.015625)\"/>\n",
       "      <path id=\"DejaVuSans-61\" d=\"M 2194 1759 \n",
       "Q 1497 1759 1228 1600 \n",
       "Q 959 1441 959 1056 \n",
       "Q 959 750 1161 570 \n",
       "Q 1363 391 1709 391 \n",
       "Q 2188 391 2477 730 \n",
       "Q 2766 1069 2766 1631 \n",
       "L 2766 1759 \n",
       "L 2194 1759 \n",
       "z\n",
       "M 3341 1997 \n",
       "L 3341 0 \n",
       "L 2766 0 \n",
       "L 2766 531 \n",
       "Q 2569 213 2275 61 \n",
       "Q 1981 -91 1556 -91 \n",
       "Q 1019 -91 701 211 \n",
       "Q 384 513 384 1019 \n",
       "Q 384 1609 779 1909 \n",
       "Q 1175 2209 1959 2209 \n",
       "L 2766 2209 \n",
       "L 2766 2266 \n",
       "Q 2766 2663 2505 2880 \n",
       "Q 2244 3097 1772 3097 \n",
       "Q 1472 3097 1187 3025 \n",
       "Q 903 2953 641 2809 \n",
       "L 641 3341 \n",
       "Q 956 3463 1253 3523 \n",
       "Q 1550 3584 1831 3584 \n",
       "Q 2591 3584 2966 3190 \n",
       "Q 3341 2797 3341 1997 \n",
       "z\n",
       "\" transform=\"scale(0.015625)\"/>\n",
       "      <path id=\"DejaVuSans-6e\" d=\"M 3513 2113 \n",
       "L 3513 0 \n",
       "L 2938 0 \n",
       "L 2938 2094 \n",
       "Q 2938 2591 2744 2837 \n",
       "Q 2550 3084 2163 3084 \n",
       "Q 1697 3084 1428 2787 \n",
       "Q 1159 2491 1159 1978 \n",
       "L 1159 0 \n",
       "L 581 0 \n",
       "L 581 3500 \n",
       "L 1159 3500 \n",
       "L 1159 2956 \n",
       "Q 1366 3272 1645 3428 \n",
       "Q 1925 3584 2291 3584 \n",
       "Q 2894 3584 3203 3211 \n",
       "Q 3513 2838 3513 2113 \n",
       "z\n",
       "\" transform=\"scale(0.015625)\"/>\n",
       "      <path id=\"DejaVuSans-64\" d=\"M 2906 2969 \n",
       "L 2906 4863 \n",
       "L 3481 4863 \n",
       "L 3481 0 \n",
       "L 2906 0 \n",
       "L 2906 525 \n",
       "Q 2725 213 2448 61 \n",
       "Q 2172 -91 1784 -91 \n",
       "Q 1150 -91 751 415 \n",
       "Q 353 922 353 1747 \n",
       "Q 353 2572 751 3078 \n",
       "Q 1150 3584 1784 3584 \n",
       "Q 2172 3584 2448 3432 \n",
       "Q 2725 3281 2906 2969 \n",
       "z\n",
       "M 947 1747 \n",
       "Q 947 1113 1208 752 \n",
       "Q 1469 391 1925 391 \n",
       "Q 2381 391 2643 752 \n",
       "Q 2906 1113 2906 1747 \n",
       "Q 2906 2381 2643 2742 \n",
       "Q 2381 3103 1925 3103 \n",
       "Q 1469 3103 1208 2742 \n",
       "Q 947 2381 947 1747 \n",
       "z\n",
       "\" transform=\"scale(0.015625)\"/>\n",
       "      <path id=\"DejaVuSans-72\" d=\"M 2631 2963 \n",
       "Q 2534 3019 2420 3045 \n",
       "Q 2306 3072 2169 3072 \n",
       "Q 1681 3072 1420 2755 \n",
       "Q 1159 2438 1159 1844 \n",
       "L 1159 0 \n",
       "L 581 0 \n",
       "L 581 3500 \n",
       "L 1159 3500 \n",
       "L 1159 2956 \n",
       "Q 1341 3275 1631 3429 \n",
       "Q 1922 3584 2338 3584 \n",
       "Q 2397 3584 2469 3576 \n",
       "Q 2541 3569 2628 3553 \n",
       "L 2631 2963 \n",
       "z\n",
       "\" transform=\"scale(0.015625)\"/>\n",
       "     </defs>\n",
       "     <use xlink:href=\"#DejaVuSans-41\"/>\n",
       "     <use xlink:href=\"#DejaVuSans-6c\" transform=\"translate(68.408203 0)\"/>\n",
       "     <use xlink:href=\"#DejaVuSans-65\" transform=\"translate(96.191406 0)\"/>\n",
       "     <use xlink:href=\"#DejaVuSans-78\" transform=\"translate(155.964844 0)\"/>\n",
       "     <use xlink:href=\"#DejaVuSans-61\" transform=\"translate(215.144531 0)\"/>\n",
       "     <use xlink:href=\"#DejaVuSans-6e\" transform=\"translate(276.423828 0)\"/>\n",
       "     <use xlink:href=\"#DejaVuSans-64\" transform=\"translate(339.802734 0)\"/>\n",
       "     <use xlink:href=\"#DejaVuSans-65\" transform=\"translate(403.279297 0)\"/>\n",
       "     <use xlink:href=\"#DejaVuSans-72\" transform=\"translate(464.802734 0)\"/>\n",
       "    </g>\n",
       "   </g>\n",
       "  </g>\n",
       " </g>\n",
       " <defs>\n",
       "  <clipPath id=\"p8215bf55cd\">\n",
       "   <rect x=\"57.6\" y=\"41.472\" width=\"357.12\" height=\"266.112\"/>\n",
       "  </clipPath>\n",
       " </defs>\n",
       "</svg>\n",
       "</details></div></div>"
      ],
      "text/plain": [
       "<Data1D data set instance 'Alexander'>"
      ]
     },
     "execution_count": 40,
     "metadata": {},
     "output_type": "execute_result"
    }
   ],
   "source": [
    "from sherpa.data import Data1D\n",
    "\n",
    "x = [1, 2, 3, 4, 5, 6, 7, 8, 9, 10, 11, 12, 13, 14, 15]\n",
    "y = [0, 0, 5, 3, 4, 6, 5, 4, 3, 5, 7, 0, 8, 3, 0]\n",
    "d = Data1D('Alexander', x, y)\n",
    "\n",
    "# Let the magic of Jupyter display the data.\n",
    "d"
   ]
  },
  {
   "cell_type": "code",
   "execution_count": 41,
   "id": "c6037e08-e3f2-45d8-b986-35d67ed6fe6e",
   "metadata": {},
   "outputs": [
    {
     "data": {
      "text/html": [
       "<style>/*\n",
       "Copyright (C) 2020  Smithsonian Astrophysical Observatory\n",
       "\n",
       "\n",
       " This program is free software; you can redistribute it and/or modify\n",
       " it under the terms of the GNU General Public License as published by\n",
       " the Free Software Foundation; either version 3 of the License, or\n",
       " (at your option) any later version.\n",
       "\n",
       " This program is distributed in the hope that it will be useful,\n",
       " but WITHOUT ANY WARRANTY; without even the implied warranty of\n",
       " MERCHANTABILITY or FITNESS FOR A PARTICULAR PURPOSE.  See the\n",
       " GNU General Public License for more details.\n",
       "\n",
       " You should have received a copy of the GNU General Public License along\n",
       " with this program; if not, write to the Free Software Foundation, Inc.,\n",
       " 51 Franklin Street, Fifth Floor, Boston, MA 02110-1301 USA.\n",
       "\n",
       "*/\n",
       "\n",
       ":root {\n",
       "  --sherpa-border-color: var(--jp-border-color2, #e0e0e0);\n",
       "  --sherpa-background-color: var(--jp-layout-color0, white);\n",
       "  --sherpa-background-color-row-even: var(--jp-layout-color1, white);\n",
       "  --sherpa-background-color-row-odd: var(--jp-layout-color2, #eeeeee);\n",
       "\n",
       "  /* https://medium.com/ge-design/iot-cool-gray-is-a-great-background-color-for-data-visualization-ebf18c318418 */\n",
       "  --sherpa-background-color-dark1: #EBEFF2;\n",
       "  --sherpa-background-color-dark2: #D8E0E5;\n",
       "}\n",
       "\n",
       "div.sherpa-text-fallback {\n",
       "    display: none;\n",
       "}\n",
       "\n",
       "div.sherpa {\n",
       "    display: block;\n",
       "}\n",
       "\n",
       "div.sherpa details summary {\n",
       "    display: list-item;  /* needed for notebook, not lab */\n",
       "    font-size: larger;\n",
       "}\n",
       "\n",
       "div.sherpa details div.datavals {\n",
       "    display: grid;\n",
       "    grid-template-columns: 1fr 3fr;\n",
       "    column-gap: 0.5em;\n",
       "}\n",
       "\n",
       "div.sherpa div.dataname {\n",
       "    font-weight: bold;\n",
       "    border-right: 1px solid var(--sherpa-border-color);\n",
       "}\n",
       "\n",
       "div.sherpa div.dataval { }\n",
       "\n",
       "div.sherpa div.datavals div:nth-child(4n + 1) ,\n",
       "div.sherpa div.datavals div:nth-child(4n + 2) {\n",
       "    background: var(--sherpa-background-color-row-odd);\n",
       "}\n",
       "\n",
       "div.sherpa table.model tbody {\n",
       "    border-bottom: 1px solid var(--sherpa-border-color);\n",
       "}\n",
       "\n",
       "div.sherpa table.model tr.block {\n",
       "    border-top: 1px solid var(--sherpa-border-color);\n",
       "}\n",
       "\n",
       "div.sherpa table.model th.model-odd ,\n",
       "div.sherpa table.model th.model-even {\n",
       "    border-right: 1px solid var(--sherpa-border-color);\n",
       "}\n",
       "\n",
       "div.sherpa table.model th.model-odd {\n",
       "    background: var(--sherpa-background-color-dark1);\n",
       "}\n",
       "\n",
       "div.sherpa table.model th.model-even {\n",
       "    background: var(--sherpa-background-color-dark2);\n",
       "}\n",
       "\n",
       "div.sherpa .failed {\n",
       "    background: orange;\n",
       "    font-size: large;\n",
       "    padding: 1em;\n",
       "}\n",
       "</style><div class=\"sherpa-text-fallback\">&lt;Box1D model instance &#x27;box1d&#x27;&gt;</div><div hidden class=\"sherpa\"><details open><summary>Model</summary><table class=\"model\"><caption>Expression: box1d</caption><thead><tr><th>Component</th><th>Parameter</th><th>Thawed</th><th>Value</th><th>Min</th><th>Max</th><th>Units</th></tr></thead><tbody><tr><th class=\"model-odd\" scope=\"rowgroup\" rowspan=3>box1d</th><td>xlow</td><td><input disabled type=\"checkbox\" checked></input></td><td>7.0</td><td>-MAX</td><td>MAX</td><td></td></tr><tr><td>xhi</td><td><input disabled type=\"checkbox\" checked></input></td><td>8.0</td><td>-MAX</td><td>MAX</td><td></td></tr><tr><td>ampl</td><td><input disabled type=\"checkbox\"></input></td><td>5.0</td><td>-MAX</td><td>MAX</td><td></td></tr></tbody></table></details></div>"
      ],
      "text/plain": [
       "<Box1D model instance 'box1d'>"
      ]
     },
     "execution_count": 41,
     "metadata": {},
     "output_type": "execute_result"
    }
   ],
   "source": [
    "from sherpa.models.basic import Box1D\n",
    "\n",
    "m = Box1D()\n",
    "m.ampl = 5\n",
    "m.ampl.freeze()\n",
    "\n",
    "m.xlow = 7\n",
    "m.xhi = 8\n",
    "\n",
    "# The Jupyter magic here is a bit less visually impressive.\n",
    "m"
   ]
  },
  {
   "cell_type": "code",
   "execution_count": 42,
   "id": "d0214494-9dfb-4dfb-9016-b18588321fe8",
   "metadata": {},
   "outputs": [
    {
     "data": {
      "text/plain": [
       "Least Squared Statistic.\n",
       "\n",
       "The least-square statistic is equivalent to a chi-square\n",
       "statistic where the error on each point - sigma(i) - is 1.\n"
      ]
     },
     "execution_count": 42,
     "metadata": {},
     "output_type": "execute_result"
    }
   ],
   "source": [
    "from sherpa.stats import LeastSq\n",
    "\n",
    "stat = LeastSq()\n",
    "\n",
    "# Hmmm, not quite as useful!\n",
    "stat"
   ]
  },
  {
   "cell_type": "code",
   "execution_count": 43,
   "id": "ebf77c36-5fc0-45a2-8590-7438a0620e62",
   "metadata": {},
   "outputs": [
    {
     "data": {
      "text/plain": [
       "<Opty optimization method instance 'not-a-good-optimizer'>"
      ]
     },
     "execution_count": 43,
     "metadata": {},
     "output_type": "execute_result"
    }
   ],
   "source": [
    "# We already have an optimizer object, but let's create a new one\n",
    "\n",
    "opt = Opty(name=\"not-a-good-optimizer\")\n",
    "\n",
    "# It's really hard to get a good visual impression of an optimizing function!\n",
    "opt"
   ]
  },
  {
   "cell_type": "markdown",
   "id": "d4c8f9ee-e4e5-4640-8cfa-d548804229c3",
   "metadata": {},
   "source": [
    "We can now pass these to the `Fit` object (note that, unlike earlier, I am not going to change the verbose flag for the optimizer)."
   ]
  },
  {
   "cell_type": "code",
   "execution_count": 44,
   "id": "4aa8913b-0762-46a2-a9d8-d2cde3c166d9",
   "metadata": {},
   "outputs": [
    {
     "name": "stdout",
     "output_type": "stream",
     "text": [
      "data      = Alexander\n",
      "model     = box1d\n",
      "stat      = LeastSq\n",
      "method    = Opty\n",
      "estmethod = Covariance\n"
     ]
    }
   ],
   "source": [
    "from sherpa.fit import Fit\n",
    "\n",
    "f = Fit(d, m, stat=stat, method=opt)\n",
    "\n",
    "# The Fit object doesn't have a good \"Jupyter\" display, so we stick with print.\n",
    "print(f)"
   ]
  },
  {
   "cell_type": "markdown",
   "id": "7f5823c4-710c-45d6-88eb-6f5235767e07",
   "metadata": {},
   "source": [
    "The [fit](https://sherpa.readthedocs.io/en/4.16.1/fit/api/sherpa.fit.Fit.html#sherpa.fit.Fit.fit) method will call the optimizer (and can be sent an `outfile` parameter to write the per-iteration data values to, matching the `ui.fit` call above). One thing to note is that it's less visually noisy than `ui.fit` (which combines the call to `fit` along with `format` on the returned value):"
   ]
  },
  {
   "cell_type": "code",
   "execution_count": 45,
   "id": "b4b484b9-ab6a-401f-b9fc-62bc838989cb",
   "metadata": {},
   "outputs": [],
   "source": [
    "res = f.fit()"
   ]
  },
  {
   "cell_type": "markdown",
   "id": "89df12b4-78d9-45c7-8e38-3d76192a5e91",
   "metadata": {},
   "source": [
    "We can check whether the optimization succeeded:"
   ]
  },
  {
   "cell_type": "code",
   "execution_count": 46,
   "id": "5df64129-3856-489c-8378-1b602d18d177",
   "metadata": {},
   "outputs": [
    {
     "data": {
      "text/plain": [
       "True"
      ]
     },
     "execution_count": 46,
     "metadata": {},
     "output_type": "execute_result"
    }
   ],
   "source": [
    "res.succeeded"
   ]
  },
  {
   "cell_type": "markdown",
   "id": "7befebdf-fc2e-4aab-abb6-151b123aa765",
   "metadata": {},
   "source": [
    "The fit results can also be displayed:"
   ]
  },
  {
   "cell_type": "code",
   "execution_count": 47,
   "id": "a4f0d7f3-46e9-4a2e-aefe-b02cec105676",
   "metadata": {},
   "outputs": [
    {
     "name": "stdout",
     "output_type": "stream",
     "text": [
      "Method                = opty\n",
      "Statistic             = leastsq\n",
      "Initial fit statistic = 243\n",
      "Final fit statistic   = 88 at function evaluation 45\n",
      "Data points           = 15\n",
      "Degrees of freedom    = 13\n",
      "Change in statistic   = 155\n",
      "   box1d.xlow     3           \n",
      "   box1d.xhi      11          \n"
     ]
    }
   ],
   "source": [
    "print(res.format())"
   ]
  },
  {
   "cell_type": "markdown",
   "id": "6755f433-f82c-4987-b44f-d04fb965cdd9",
   "metadata": {},
   "source": [
    "The model will have been updated:"
   ]
  },
  {
   "cell_type": "code",
   "execution_count": 48,
   "id": "6a4ef85b-84ec-4331-b20b-f9243cbf8bfe",
   "metadata": {},
   "outputs": [
    {
     "name": "stdout",
     "output_type": "stream",
     "text": [
      "box1d\n",
      "   Param        Type          Value          Min          Max      Units\n",
      "   -----        ----          -----          ---          ---      -----\n",
      "   box1d.xlow   thawed            3 -3.40282e+38  3.40282e+38           \n",
      "   box1d.xhi    thawed           11 -3.40282e+38  3.40282e+38           \n",
      "   box1d.ampl   frozen            5 -3.40282e+38  3.40282e+38           \n"
     ]
    }
   ],
   "source": [
    "print(m)"
   ]
  },
  {
   "cell_type": "markdown",
   "id": "9122a5a4-a513-4b2a-b5ba-d836e6ad3513",
   "metadata": {},
   "source": [
    "The output of the `fit` call is a [`FitResults`](https://sherpa.readthedocs.io/en/4.16.1/fit/api/sherpa.fit.FitResults.html) structure which provides information on the fit:"
   ]
  },
  {
   "cell_type": "code",
   "execution_count": 49,
   "id": "d90811e1-99fa-41d5-b17d-e8e0e18ac415",
   "metadata": {},
   "outputs": [
    {
     "data": {
      "text/plain": [
       "sherpa.fit.FitResults"
      ]
     },
     "execution_count": 49,
     "metadata": {},
     "output_type": "execute_result"
    }
   ],
   "source": [
    "type(res)"
   ]
  },
  {
   "cell_type": "markdown",
   "id": "f50eaa52-acf0-4425-a014-a66e12387794",
   "metadata": {},
   "source": [
    "including the \"extra\" information the optimizer returned (the last element of the `OptReturn` tuple):"
   ]
  },
  {
   "cell_type": "code",
   "execution_count": 50,
   "id": "51d05fa5-c5b0-403b-89ed-db15368c92c4",
   "metadata": {},
   "outputs": [
    {
     "data": {
      "text/plain": [
       "{'nfev': 45,\n",
       " 'best-fit': array([ 3., 11.]),\n",
       " 'best-stat': 88.0,\n",
       " 'store': [array([6., 7.]),\n",
       "  array([6., 8.]),\n",
       "  array([6., 9.]),\n",
       "  array([5., 8.]),\n",
       "  array([5., 9.]),\n",
       "  array([ 5., 10.]),\n",
       "  array([ 4., 10.]),\n",
       "  array([ 4., 11.]),\n",
       "  array([ 3., 11.])]}"
      ]
     },
     "execution_count": 50,
     "metadata": {},
     "output_type": "execute_result"
    }
   ],
   "source": [
    "res.extra_output"
   ]
  }
 ],
 "metadata": {
  "kernelspec": {
   "display_name": "Python 3 (ipykernel)",
   "language": "python",
   "name": "python3"
  },
  "language_info": {
   "codemirror_mode": {
    "name": "ipython",
    "version": 3
   },
   "file_extension": ".py",
   "mimetype": "text/x-python",
   "name": "python",
   "nbconvert_exporter": "python",
   "pygments_lexer": "ipython3",
   "version": "3.13.7"
  }
 },
 "nbformat": 4,
 "nbformat_minor": 5
}
