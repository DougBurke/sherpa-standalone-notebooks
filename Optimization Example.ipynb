{
 "cells": [
  {
   "cell_type": "markdown",
   "id": "f53bb980-f8ef-4674-9725-68f660dd6fc6",
   "metadata": {},
   "source": [
    "# Sherpa and the Terrible, Horrible, No Good, Very Bad Optimizer\n",
    "\n",
    "Sherpa comes with a set of statistics and optimisers, but it is possible to write your own. For an optimiser, we need to be able to\n",
    "write a function that matches the following signature (note that this is not the actual signature, since we allow the arrays to be sent in as sequences, for instance):\n",
    "\n",
    "    fcn: Callable[[np.ndarray], tuple[float, np.ndarray]]\n",
    "    x0: np.ndarray\n",
    "    xmin: np.ndarray\n",
    "    xmax: np.ndarray\n",
    "\n",
    "The `fcn` argument represents the \"statistic\" value - given an array of values it returns the statistic value and a \"per-data-bin\" statistic value. We don't need to worry about how it is created: the `sherpa.fit.Fit` class constructs the routine given the data and model and we just\n",
    "need to call it. The `x0`, `xmin`, and `xmax` arguments give the initial starting values and their limits (that is, these three arrays are 1D and have the same size). You can provide extra arguments - if your optimiser has optional or tweakable behaviour - as keyword arguments.\n",
    "\n",
    "The retturn value is the tuple\n",
    "\n",
    "    (bool, np.ndarray, float, str, dict[str, Any])\n",
    "\n",
    "where the first value indicates that the optimization converted (or succeeded), the second is the best-fit values, the third\n",
    "is the best-fit statistic, the fourth a string that may be sent to the user, and the fifth is a dictionary that can be used\n",
    "to send back interesting information.\n",
    "\n",
    "One thing to note is that the optimizer does not care about the `Data` or `Model` classes; this is \"hidden away\" in the `fcn` parameter, and all it cares about is the list of parameter values (here `x0`) along with their limits (`xmin` and `xmax`). This lets you use these optimizing functions (or classes) for other cases, such as [function optimization](https://sherpa.readthedocs.io/en/4.16.1/extra/optimize_function.html).\n",
    "\n",
    "## How bad an optimizer can you think of?\n",
    "\n",
    "For this example, I've decided to try an optimizer which, for each iteration\n",
    "\n",
    "- takes the parameter values and adds {-1, 0, 1} to each of them\n",
    "- calculates the statistic\n",
    "- if there's no fit (i.e. lower statistic) then exit\n",
    "- otherwise start from the new best-fit location\n",
    "\n",
    "This really is only useful as an example!\n",
    "\n",
    "Let's start by importing a few useful symbols from Sherpa and NumPy, and ceck what version of Sherpa we are using (as hopefully some things here wil be improved):"
   ]
  },
  {
   "cell_type": "code",
   "execution_count": 1,
   "id": "ea2ead0b-1caf-470c-a4b1-3e5e8f4cf578",
   "metadata": {},
   "outputs": [],
   "source": [
    "from typing import Any, Callable\n",
    "\n",
    "import numpy as np\n",
    "\n",
    "from sherpa.optmethods.optfcts import FUNC_MAX\n",
    "\n",
    "# These (or something like then) will hopefully be added to `optfcts` but for 4.16.1 we add it\n",
    "# manually.\n",
    "#\n",
    "OptReturn = tuple[bool,            # did the optimiser succeed\n",
    "                  np.ndarray,      # best-values\n",
    "                  float,           # final statistic value\n",
    "                  str,             # message\n",
    "                  dict[str, Any]]  # information to pass back\n",
    "\n",
    "StatCallback = Callable[[np.ndarray], tuple[float, np.ndarray]]\n",
    "\n",
    "\n",
    "def _outside_limits(x: np.ndarray,\n",
    "                    xmin: np.ndarray,\n",
    "                    xmax: np.ndarray\n",
    "                    ) -> bool:\n",
    "    \"\"\"Are any x values outside the xmin/max range?\"\"\"\n",
    "    return bool(np.any(x < xmin) or np.any(x > xmax))\n",
    "\n",
    "\n",
    "class InfinitePotential:\n",
    "    \"\"\"Ensure the parameter values stay within bounds.\n",
    "\n",
    "    The idea is that if sent a value outside the parameter limits we\n",
    "    return \"infinity\" (here defined to be the maximum value we'd\n",
    "    expect rather than inf, to avoid causing problems to the\n",
    "    optimizer).\n",
    "\n",
    "    \"\"\"\n",
    "\n",
    "    __slots__ = (\"func\", \"minval\", \"maxval\")\n",
    "\n",
    "    def __init__(self,\n",
    "                 func: StatCallback,\n",
    "                 minval: np.ndarray,\n",
    "                 maxval: np.ndarray) -> None:\n",
    "        self.func = func\n",
    "        self.minval = minval\n",
    "        self.maxval = maxval\n",
    "\n",
    "    def __call__(self, pars: np.ndarray) -> float:\n",
    "        if np.isnan(pars).any() or _outside_limits(pars,\n",
    "                                                   self.minval,\n",
    "                                                   self.maxval):\n",
    "            return FUNC_MAX\n",
    "\n",
    "        return self.func(pars)[0]"
   ]
  },
  {
   "cell_type": "code",
   "execution_count": 2,
   "id": "5ca4efd7-fc14-45cf-afc4-3afc2bf915ec",
   "metadata": {},
   "outputs": [
    {
     "data": {
      "text/plain": [
       "'4.16.1'"
      ]
     },
     "execution_count": 2,
     "metadata": {},
     "output_type": "execute_result"
    }
   ],
   "source": [
    "import sherpa\n",
    "sherpa.__version__"
   ]
  },
  {
   "cell_type": "markdown",
   "id": "eaf4147d-9c50-48a2-ad67-0f6c68499e11",
   "metadata": {},
   "source": [
    "We start with the permutation routine: given a set of parameter values, return a list of parameter values where we have\n",
    "permuted each parameter by {-1, 0, 1}."
   ]
  },
  {
   "cell_type": "code",
   "execution_count": 3,
   "id": "136fc984-283d-40bf-b190-3ede7d6e6e87",
   "metadata": {},
   "outputs": [],
   "source": [
    "import itertools\n",
    "\n",
    "def permute_x(x: np.ndarray) -> list[np.ndarray]:\n",
    "    \"\"\"Return -1,0,+1 for each parameter.\n",
    "\n",
    "    We should really drop the all-0 version, as we already\n",
    "    know the value for this case.\n",
    "\n",
    "    \"\"\"\n",
    "\n",
    "    out = []\n",
    "    args = [[-1, 0, 1] for _ in x]\n",
    "    for shifts in itertools.product(*args):\n",
    "        out.append(x + np.asarray(shifts))\n",
    "\n",
    "    return out"
   ]
  },
  {
   "cell_type": "markdown",
   "id": "bda29b5a-cf2b-4012-b875-2274bc5f99a3",
   "metadata": {},
   "source": [
    "We can check what happens if we were to give it `[10, 50, 3]`:"
   ]
  },
  {
   "cell_type": "code",
   "execution_count": 4,
   "id": "5b86df90-46a2-41ad-9f2f-881a4c7e0668",
   "metadata": {},
   "outputs": [
    {
     "data": {
      "text/plain": [
       "[array([ 9, 49,  2]),\n",
       " array([ 9, 49,  3]),\n",
       " array([ 9, 49,  4]),\n",
       " array([ 9, 50,  2]),\n",
       " array([ 9, 50,  3]),\n",
       " array([ 9, 50,  4]),\n",
       " array([ 9, 51,  2]),\n",
       " array([ 9, 51,  3]),\n",
       " array([ 9, 51,  4]),\n",
       " array([10, 49,  2]),\n",
       " array([10, 49,  3]),\n",
       " array([10, 49,  4]),\n",
       " array([10, 50,  2]),\n",
       " array([10, 50,  3]),\n",
       " array([10, 50,  4]),\n",
       " array([10, 51,  2]),\n",
       " array([10, 51,  3]),\n",
       " array([10, 51,  4]),\n",
       " array([11, 49,  2]),\n",
       " array([11, 49,  3]),\n",
       " array([11, 49,  4]),\n",
       " array([11, 50,  2]),\n",
       " array([11, 50,  3]),\n",
       " array([11, 50,  4]),\n",
       " array([11, 51,  2]),\n",
       " array([11, 51,  3]),\n",
       " array([11, 51,  4])]"
      ]
     },
     "execution_count": 4,
     "metadata": {},
     "output_type": "execute_result"
    }
   ],
   "source": [
    "permute_x([10, 50, 3])"
   ]
  },
  {
   "cell_type": "markdown",
   "id": "a89fb56b-f9da-4e9e-918a-ff84c78ec4bb",
   "metadata": {},
   "source": [
    "As mentioned, this is really not a good strategy, but let's run with it.\n",
    "\n",
    "The implementation is pretty simple:\n",
    "\n",
    "- use the `InfinitePotential` class to handle the fact that we want the optimizer to obey the bounds a user has added for the parameters without having to worry about this in the code; in this case the `cb` function we create will just return \"positive infinity\" if any parameter value exceeds the parameter limits (actually, it returns the maximum float64 value, but we can pretend it's infinite)\n",
    "- check that our starting positional is actually valid, and find the initial statistic value\n",
    "- loop until we hit our maximum number of iterations (this is an optimization-specific feature which is indicated by the fact it's a named keyword)\n",
    "  - use `permute_x` to create the proposed new positions\n",
    "  - for each of these new positions calculate the statistic value\n",
    "    - if this statistic value is lower than any we've seen, we store the parameters\n",
    "  - if there has been no improvement we can exit\n",
    "  - otherwise we replace the best-fit parameters with the stored values and repeat the loop\n",
    "- at this point we have either found our best-fit location, in which case we can send back `True`\n",
    "- otherwise we send back `False`"
   ]
  },
  {
   "cell_type": "code",
   "execution_count": 5,
   "id": "850ff890-72e8-4e2a-bcc5-d3827df62012",
   "metadata": {},
   "outputs": [],
   "source": [
    "def opty(fcn: StatCallback,\n",
    "         x0: np.ndarray,\n",
    "         xmin: np.ndarray,\n",
    "         xmax: np.ndarray,\n",
    "         maxiter: int = 10,\n",
    "         verbose: bool = False\n",
    "         ) -> OptReturn:\n",
    "    \"\"\"Find the best location within +/-1.\n",
    "\n",
    "    This is not a real optimizer and is intended for educational\n",
    "    purposes only. Given x0, calculate all combinations of parameters\n",
    "    which are +/-1 from it and return the \"best fit\". This always\n",
    "    picks the \"best fit\" and uses that as the next iteration, choosing\n",
    "    the first such value if there is a tie. The maxiter argument is\n",
    "    used to bound the number of iterations.\n",
    "\n",
    "    \"\"\"\n",
    "\n",
    "    # Ensure that we remain bounded within xmin, xmax since this\n",
    "    # optimizer is not going to do so itself.\n",
    "    #\n",
    "    cb = InfinitePotential(fcn, xmin, xmax)\n",
    "\n",
    "    # What is our starting point?\n",
    "    #\n",
    "    # Note: the float conversion here is only to please mypy and is\n",
    "    # something to be improved in the typing rules.\n",
    "    #\n",
    "    cstat = float(cb(x0))\n",
    "    if cstat == FUNC_MAX:\n",
    "        if verbose:\n",
    "            print(\"Oops\")\n",
    "\n",
    "        return (False, x0, cstat, \"Invalid parameters\", {})\n",
    "\n",
    "    ctr = 0\n",
    "    x = np.copy(x0)\n",
    "    success = False\n",
    "    nfev = 0  # track the number of evaluations\n",
    "    store = []\n",
    "    while ctr < maxiter:\n",
    "\n",
    "        # permute values\n",
    "        xbest = None\n",
    "        for xnew in permute_x(x):\n",
    "            nstat = float(cb(xnew))\n",
    "            nfev += 1\n",
    "\n",
    "            # do we have a better fit?\n",
    "            if nstat < cstat:\n",
    "                if verbose:\n",
    "                    print(f\"- {cstat} -> {nstat} at {xnew}\")\n",
    "\n",
    "                xbest = xnew\n",
    "                cstat = nstat\n",
    "                store.append(xnew)\n",
    "\n",
    "        # If we have not found a better fit then exit.\n",
    "        #\n",
    "        if xbest is None:\n",
    "            success = True\n",
    "            break\n",
    "\n",
    "        ctr += 1\n",
    "        x = xbest\n",
    "\n",
    "    msg = \"Success\" if success else \"Hit iteration limit\"\n",
    "    return (success, x, cstat, msg, {\"nfev\": nfev, \"best-fit\": x, \"best-stat\": cstat, \"store\": store})"
   ]
  },
  {
   "cell_type": "markdown",
   "id": "d745b517-7b5e-40f0-a1ca-16679c1d956e",
   "metadata": {},
   "source": [
    "We can use this to make a Sherpa optimization class:"
   ]
  },
  {
   "cell_type": "code",
   "execution_count": 6,
   "id": "a43822a8-29f2-43f3-b9a7-fce5aef5d8a3",
   "metadata": {},
   "outputs": [],
   "source": [
    "from sherpa.optmethods import OptMethod\n",
    "\n",
    "class Opty(OptMethod):\n",
    "    \"\"\"A Not-An-Optimizer optimizer.\n",
    "\n",
    "    You do not need to name the class the same as the optimization\n",
    "    function, but naming is hard.\n",
    "\n",
    "    \"\"\"\n",
    "\n",
    "    def __init__(self, name=\"opty\"):\n",
    "        super().__init__(name=name, optfunc=opty)"
   ]
  },
  {
   "cell_type": "markdown",
   "id": "20f27cfc-1019-446b-a46e-abbad6f4d376",
   "metadata": {},
   "source": [
    "## How can we test this?\n",
    "\n",
    "We could just create `Data` and `Model` instances and pass them, along with a `Opty` instance, to `sherpa.fit.Fit`. However, that's a lot of effort when we can use the UI layer to do much of this for us. The only issue is that, as of Sherpa 4.16.1, there's no-way to \"register\" a new optimizer with the code, so you have to send in an optimization object directly."
   ]
  },
  {
   "cell_type": "code",
   "execution_count": 7,
   "id": "9d0b4c7f-2eb6-4106-a715-0a86ede5f72f",
   "metadata": {},
   "outputs": [
    {
     "name": "stdout",
     "output_type": "stream",
     "text": [
      "WARNING: imaging routines will not be available, \n",
      "failed to import sherpa.image.ds9_backend due to \n",
      "'RuntimeErr: DS9Win unusable: Could not find ds9 on your PATH'\n"
     ]
    }
   ],
   "source": [
    "from sherpa import ui"
   ]
  },
  {
   "cell_type": "markdown",
   "id": "89c1416d-60a4-4443-bbf0-0b2c24db8411",
   "metadata": {},
   "source": [
    "For this example I am going to create a fake data set that we can fit a `Box1D` model to to calculate the best\n",
    "starting and ending point:"
   ]
  },
  {
   "cell_type": "code",
   "execution_count": 8,
   "id": "7835b4d4-bccc-4e47-91ea-e6e1995d37cf",
   "metadata": {},
   "outputs": [],
   "source": [
    "ui.load_arrays(1,\n",
    "               [1, 2, 3, 4, 5, 6, 7, 8, 9, 10, 11, 12, 13, 14, 15],\n",
    "               [0, 0, 5, 3, 4, 6, 5, 4, 3, 5, 7, 0, 8, 3, 0])"
   ]
  },
  {
   "cell_type": "code",
   "execution_count": 9,
   "id": "69e35aea-f80e-4f64-a9b1-88d5fe874d1b",
   "metadata": {},
   "outputs": [
    {
     "data": {
      "image/png": "[encoded data removed]",
      "text/plain": [
       "<Figure size 640x480 with 1 Axes>"
      ]
     },
     "metadata": {},
     "output_type": "display_data"
    }
   ],
   "source": [
    "ui.plot_data()"
   ]
  },
  {
   "cell_type": "code",
   "execution_count": 10,
   "id": "d0f6cd07-c0a1-463f-9a52-817d8b806e9e",
   "metadata": {},
   "outputs": [],
   "source": [
    "# Let's just hide the error bars here\n",
    "ui.get_plot_prefs(\"data\")[\"yerrorbars\"] = False\n",
    "ui.get_plot_prefs(\"resid\")[\"yerrorbars\"] = False"
   ]
  },
  {
   "cell_type": "markdown",
   "id": "acff45ae-2cfe-4f0d-9ae5-b3c3838aec05",
   "metadata": {},
   "source": [
    "We create the model expression, where we\n",
    "\n",
    "- freeze the amplitude (as I didn't want to worry about fitting that)\n",
    "- start the box at the range `x=7-8`"
   ]
  },
  {
   "cell_type": "code",
   "execution_count": 11,
   "id": "295fdd8d-ab12-4ea1-ba25-f3d28c531335",
   "metadata": {},
   "outputs": [],
   "source": [
    "mdl = ui.create_model_component(\"box1d\", \"mdl\")\n",
    "\n",
    "mdl.ampl = 5\n",
    "mdl.ampl.freeze()\n",
    "\n",
    "mdl.xlow = 7\n",
    "mdl.xhi = 8"
   ]
  },
  {
   "cell_type": "code",
   "execution_count": 12,
   "id": "f6ba3b26-cdc6-4da5-9a49-411fd04c25b7",
   "metadata": {},
   "outputs": [],
   "source": [
    "ui.set_source(1, mdl)\n",
    "ui.set_stat(\"leastsq\")"
   ]
  },
  {
   "cell_type": "code",
   "execution_count": 13,
   "id": "3459db4b-6a0e-47c9-9183-e07557434971",
   "metadata": {},
   "outputs": [
    {
     "data": {
      "image/png": "[encoded data removed]",
      "text/plain": [
       "<Figure size 640x480 with 2 Axes>"
      ]
     },
     "metadata": {},
     "output_type": "display_data"
    }
   ],
   "source": [
    "ui.plot_fit_resid()"
   ]
  },
  {
   "cell_type": "markdown",
   "id": "31ee9cba-8c47-42c4-b022-4d8cdc270539",
   "metadata": {},
   "source": [
    "We then create the optimization object and change one of its parameters (the verbose setting), so that we expect to see some extra output during the fit (the Sherpa `OptMethod` class has logic to take the keyword arguments for the optimization function - in this case `opty` - and turn them into fields of the class:"
   ]
  },
  {
   "cell_type": "code",
   "execution_count": 14,
   "id": "05d829ed-8ada-4218-b183-a1f486430c50",
   "metadata": {},
   "outputs": [],
   "source": [
    "opt = Opty()\n",
    "opt.verbose = True"
   ]
  },
  {
   "cell_type": "code",
   "execution_count": 15,
   "id": "7d0d3240-0b81-4d15-a959-dcfaf1d272d3",
   "metadata": {},
   "outputs": [
    {
     "name": "stdout",
     "output_type": "stream",
     "text": [
      "name    = opty\n",
      "maxiter = 10\n",
      "verbose = True\n"
     ]
    }
   ],
   "source": [
    "print(opt)"
   ]
  },
  {
   "cell_type": "markdown",
   "id": "c8b9db50-02cb-4449-9a2c-5ad335b7fe46",
   "metadata": {},
   "source": [
    "We can then tell Sherpa to use this optimizer:"
   ]
  },
  {
   "cell_type": "code",
   "execution_count": 16,
   "id": "5f162391-1a61-4b60-8f2e-9bbf09a43571",
   "metadata": {},
   "outputs": [],
   "source": [
    "ui.set_method(opt)"
   ]
  },
  {
   "cell_type": "markdown",
   "id": "6bdeb1b0-0e84-4f2b-b250-ef313da3a00c",
   "metadata": {},
   "source": [
    "With this set we can see the options (i.e. the named parameters of `opty`):"
   ]
  },
  {
   "cell_type": "code",
   "execution_count": 17,
   "id": "36d17a07-19fb-4869-9432-ef353930aab6",
   "metadata": {},
   "outputs": [
    {
     "data": {
      "text/plain": [
       "{'maxiter': 10, 'verbose': True}"
      ]
     },
     "execution_count": 17,
     "metadata": {},
     "output_type": "execute_result"
    }
   ],
   "source": [
    "ui.get_method_opt()"
   ]
  },
  {
   "cell_type": "markdown",
   "id": "fbc32f66-0330-4a49-82ab-29174598f60c",
   "metadata": {},
   "source": [
    "Let's check the model first:"
   ]
  },
  {
   "cell_type": "code",
   "execution_count": 18,
   "id": "a5ca793c-bc29-49de-9065-06b1029886e2",
   "metadata": {},
   "outputs": [
    {
     "name": "stdout",
     "output_type": "stream",
     "text": [
      "box1d.mdl\n",
      "   Param        Type          Value          Min          Max      Units\n",
      "   -----        ----          -----          ---          ---      -----\n",
      "   mdl.xlow     thawed            7 -3.40282e+38  3.40282e+38           \n",
      "   mdl.xhi      thawed            8 -3.40282e+38  3.40282e+38           \n",
      "   mdl.ampl     frozen            5 -3.40282e+38  3.40282e+38           \n"
     ]
    }
   ],
   "source": [
    "print(mdl)"
   ]
  },
  {
   "cell_type": "markdown",
   "id": "eac2b31c-3376-4ec4-9a10-03ef627f6de7",
   "metadata": {},
   "source": [
    "With this we can try to fit the data. The first lines (beginning ` - `) are from `opty` because `verbose` set. They indicate when we found new best-fit solutions (so we can see the low edge decrease and the high edge increase over time): "
   ]
  },
  {
   "cell_type": "code",
   "execution_count": 19,
   "id": "a5a672c2-f92e-4985-9991-9ef134ade220",
   "metadata": {},
   "outputs": [
    {
     "name": "stdout",
     "output_type": "stream",
     "text": [
      "- 243.0 -> 223.0 at [6. 7.]\n",
      "- 223.0 -> 208.0 at [6. 8.]\n",
      "- 208.0 -> 203.0 at [6. 9.]\n",
      "- 203.0 -> 193.0 at [5. 8.]\n",
      "- 193.0 -> 188.0 at [5. 9.]\n",
      "- 188.0 -> 163.0 at [ 5. 10.]\n",
      "- 163.0 -> 158.0 at [ 4. 10.]\n",
      "- 158.0 -> 113.0 at [ 4. 11.]\n",
      "- 113.0 -> 88.0 at [ 3. 11.]\n",
      "Dataset               = 1\n",
      "Method                = opty\n",
      "Statistic             = leastsq\n",
      "Initial fit statistic = 243\n",
      "Final fit statistic   = 88 at function evaluation 45\n",
      "Data points           = 15\n",
      "Degrees of freedom    = 13\n",
      "Change in statistic   = 155\n",
      "   mdl.xlow       3           \n",
      "   mdl.xhi        11          \n"
     ]
    }
   ],
   "source": [
    "ui.fit()"
   ]
  },
  {
   "cell_type": "code",
   "execution_count": 20,
   "id": "40e664ef-6557-4df2-92a7-8228b6fc4363",
   "metadata": {},
   "outputs": [
    {
     "name": "stdout",
     "output_type": "stream",
     "text": [
      "box1d.mdl\n",
      "   Param        Type          Value          Min          Max      Units\n",
      "   -----        ----          -----          ---          ---      -----\n",
      "   mdl.xlow     thawed            3 -3.40282e+38  3.40282e+38           \n",
      "   mdl.xhi      thawed           11 -3.40282e+38  3.40282e+38           \n",
      "   mdl.ampl     frozen            5 -3.40282e+38  3.40282e+38           \n"
     ]
    }
   ],
   "source": [
    "print(mdl)"
   ]
  },
  {
   "cell_type": "markdown",
   "id": "27532939-9ed8-4ab9-88bb-1ecbbf7235b0",
   "metadata": {},
   "source": [
    "We can display the new \"best fit\" (after first turning off the error-bar support):"
   ]
  },
  {
   "cell_type": "code",
   "execution_count": 21,
   "id": "6affe6ab-7a8a-48a4-949b-0cdc8b3a4be1",
   "metadata": {
    "scrolled": true
   },
   "outputs": [
    {
     "data": {
      "image/png": "[encoded data removed]",
      "text/plain": [
       "<Figure size 640x480 with 2 Axes>"
      ]
     },
     "metadata": {},
     "output_type": "display_data"
    }
   ],
   "source": [
    "ui.plot_fit_resid()"
   ]
  },
  {
   "cell_type": "markdown",
   "id": "dc9fc85b-d8bd-43a9-9dbd-c4096ccb2c83",
   "metadata": {},
   "source": [
    "So, we can see that it's expanded the box to `x=3 - 11`. I had explicitly set `x=12` to have no counts so that the fit was going to stop there, rather than try to expand to include `x=13 - 14`. And it did, so hurray me!\n",
    "\n",
    "We can get at the \"extra\" information provided by `opty` via the `extra_output` field of the fit results:"
   ]
  },
  {
   "cell_type": "code",
   "execution_count": 22,
   "id": "2b4159ef-acc9-424b-a229-28ea23ce6565",
   "metadata": {},
   "outputs": [
    {
     "data": {
      "text/plain": [
       "{'nfev': 45,\n",
       " 'best-fit': array([ 3., 11.]),\n",
       " 'best-stat': 88.0,\n",
       " 'store': [array([6., 7.]),\n",
       "  array([6., 8.]),\n",
       "  array([6., 9.]),\n",
       "  array([5., 8.]),\n",
       "  array([5., 9.]),\n",
       "  array([ 5., 10.]),\n",
       "  array([ 4., 10.]),\n",
       "  array([ 4., 11.]),\n",
       "  array([ 3., 11.])]}"
      ]
     },
     "execution_count": 22,
     "metadata": {},
     "output_type": "execute_result"
    }
   ],
   "source": [
    "ui.get_fit_results().extra_output"
   ]
  },
  {
   "cell_type": "markdown",
   "id": "93cebdb5-bd87-4e3c-b386-9af35d10c56d",
   "metadata": {},
   "source": [
    "One potential gotchya is that the fit results have used the `nfev` value we created in the dictionary. It is not required, but the screen output of the fit would be *slightly* different it it wasn't present (it would drop the \"at function evaluation xxx\" suffix when reporting the final fit statistic), and would not set the `nfev` field in the fit results:"
   ]
  },
  {
   "cell_type": "code",
   "execution_count": 23,
   "id": "eaac3d54-0a0f-4394-ba55-a19b4c1e115f",
   "metadata": {},
   "outputs": [
    {
     "data": {
      "text/plain": [
       "45"
      ]
     },
     "execution_count": 23,
     "metadata": {},
     "output_type": "execute_result"
    }
   ],
   "source": [
    "ui.get_fit_results().nfev"
   ]
  },
  {
   "cell_type": "markdown",
   "id": "4929c133-6a90-431c-b40f-2a14b512be63",
   "metadata": {},
   "source": [
    "## Tracking the fit positions\n",
    "\n",
    "We could store the parameter values tried out in the optimization method and return them in the dict, so they could be accessed from the `extra_output` field. The `fit` method already has a way to access this data, as it can write the parameter values it tries to a file during the fit."
   ]
  },
  {
   "cell_type": "code",
   "execution_count": 24,
   "id": "f4105015-52eb-452e-9a75-e0f3f44c5f7c",
   "metadata": {},
   "outputs": [],
   "source": [
    "from pathlib import Path\n",
    "\n",
    "statfile = Path('stats.tmp')\n",
    "if statfile.exists():\n",
    "    statfile.unlink()"
   ]
  },
  {
   "cell_type": "code",
   "execution_count": 25,
   "id": "4dab3010-ef4a-4c57-8f53-e219deba3f2d",
   "metadata": {},
   "outputs": [
    {
     "name": "stdout",
     "output_type": "stream",
     "text": [
      "box1d.mdl\n",
      "   Param        Type          Value          Min          Max      Units\n",
      "   -----        ----          -----          ---          ---      -----\n",
      "   mdl.xlow     thawed            7 -3.40282e+38  3.40282e+38           \n",
      "   mdl.xhi      thawed            8 -3.40282e+38  3.40282e+38           \n",
      "   mdl.ampl     frozen            5 -3.40282e+38  3.40282e+38           \n"
     ]
    }
   ],
   "source": [
    "mdl.reset()\n",
    "print(mdl)"
   ]
  },
  {
   "cell_type": "code",
   "execution_count": 26,
   "id": "49d4cc5d-7e9d-4812-9c49-0ef711b01631",
   "metadata": {},
   "outputs": [
    {
     "name": "stdout",
     "output_type": "stream",
     "text": [
      "- 243.0 -> 223.0 at [6. 7.]\n",
      "- 223.0 -> 208.0 at [6. 8.]\n",
      "- 208.0 -> 203.0 at [6. 9.]\n",
      "- 203.0 -> 193.0 at [5. 8.]\n",
      "- 193.0 -> 188.0 at [5. 9.]\n",
      "- 188.0 -> 163.0 at [ 5. 10.]\n",
      "- 163.0 -> 158.0 at [ 4. 10.]\n",
      "- 158.0 -> 113.0 at [ 4. 11.]\n",
      "- 113.0 -> 88.0 at [ 3. 11.]\n",
      "Dataset               = 1\n",
      "Method                = opty\n",
      "Statistic             = leastsq\n",
      "Initial fit statistic = 243\n",
      "Final fit statistic   = 88 at function evaluation 45\n",
      "Data points           = 15\n",
      "Degrees of freedom    = 13\n",
      "Change in statistic   = 155\n",
      "   mdl.xlow       3           \n",
      "   mdl.xhi        11          \n"
     ]
    }
   ],
   "source": [
    "# The outfile parameter does not accept a Path object in 4.16.1\n",
    "ui.fit(outfile=str(statfile))"
   ]
  },
  {
   "cell_type": "markdown",
   "id": "da00205a-b708-40ab-9d35-6b46d35403a8",
   "metadata": {},
   "source": [
    "The output file can be read in as it's just an ASCII tabular dataset, with columns for the statistic value and the paraneter values. Here we use AstroPy:"
   ]
  },
  {
   "cell_type": "code",
   "execution_count": 27,
   "id": "8ea62e46-3a84-4c57-911b-9cb4868eda15",
   "metadata": {},
   "outputs": [],
   "source": [
    "from astropy.table import Table\n",
    "\n",
    "stats = Table.read(statfile, format=\"ascii\")"
   ]
  },
  {
   "cell_type": "code",
   "execution_count": 28,
   "id": "02756d3b-77d8-4fe2-972f-baf1f15d7caa",
   "metadata": {},
   "outputs": [
    {
     "data": {
      "text/html": [
       "<div><i>Table length=47</i>\n",
       "<table id=\"table130837428339088\" class=\"table-striped table-bordered table-condensed\">\n",
       "<thead><tr><th>nfev</th><th>statistic</th><th>mdl.xlow</th><th>mdl.xhi</th></tr></thead>\n",
       "<thead><tr><th>float64</th><th>float64</th><th>float64</th><th>float64</th></tr></thead>\n",
       "<tr><td>0.0</td><td>243.0</td><td>7.0</td><td>8.0</td></tr>\n",
       "<tr><td>1.0</td><td>223.0</td><td>6.0</td><td>7.0</td></tr>\n",
       "<tr><td>2.0</td><td>208.0</td><td>6.0</td><td>8.0</td></tr>\n",
       "<tr><td>3.0</td><td>203.0</td><td>6.0</td><td>9.0</td></tr>\n",
       "<tr><td>4.0</td><td>258.0</td><td>7.0</td><td>7.0</td></tr>\n",
       "<tr><td>5.0</td><td>243.0</td><td>7.0</td><td>8.0</td></tr>\n",
       "<tr><td>6.0</td><td>238.0</td><td>7.0</td><td>9.0</td></tr>\n",
       "<tr><td>7.0</td><td>283.0</td><td>8.0</td><td>7.0</td></tr>\n",
       "<tr><td>8.0</td><td>268.0</td><td>8.0</td><td>8.0</td></tr>\n",
       "<tr><td>...</td><td>...</td><td>...</td><td>...</td></tr>\n",
       "<tr><td>37.0</td><td>158.0</td><td>2.0</td><td>10.0</td></tr>\n",
       "<tr><td>38.0</td><td>113.0</td><td>2.0</td><td>11.0</td></tr>\n",
       "<tr><td>39.0</td><td>138.0</td><td>2.0</td><td>12.0</td></tr>\n",
       "<tr><td>40.0</td><td>133.0</td><td>3.0</td><td>10.0</td></tr>\n",
       "<tr><td>41.0</td><td>88.0</td><td>3.0</td><td>11.0</td></tr>\n",
       "<tr><td>42.0</td><td>113.0</td><td>3.0</td><td>12.0</td></tr>\n",
       "<tr><td>43.0</td><td>158.0</td><td>4.0</td><td>10.0</td></tr>\n",
       "<tr><td>44.0</td><td>113.0</td><td>4.0</td><td>11.0</td></tr>\n",
       "<tr><td>45.0</td><td>138.0</td><td>4.0</td><td>12.0</td></tr>\n",
       "<tr><td>46.0</td><td>88.0</td><td>3.0</td><td>11.0</td></tr>\n",
       "</table></div>"
      ],
      "text/plain": [
       "<Table length=47>\n",
       "  nfev  statistic mdl.xlow mdl.xhi\n",
       "float64  float64  float64  float64\n",
       "------- --------- -------- -------\n",
       "    0.0     243.0      7.0     8.0\n",
       "    1.0     223.0      6.0     7.0\n",
       "    2.0     208.0      6.0     8.0\n",
       "    3.0     203.0      6.0     9.0\n",
       "    4.0     258.0      7.0     7.0\n",
       "    5.0     243.0      7.0     8.0\n",
       "    6.0     238.0      7.0     9.0\n",
       "    7.0     283.0      8.0     7.0\n",
       "    8.0     268.0      8.0     8.0\n",
       "    ...       ...      ...     ...\n",
       "   37.0     158.0      2.0    10.0\n",
       "   38.0     113.0      2.0    11.0\n",
       "   39.0     138.0      2.0    12.0\n",
       "   40.0     133.0      3.0    10.0\n",
       "   41.0      88.0      3.0    11.0\n",
       "   42.0     113.0      3.0    12.0\n",
       "   43.0     158.0      4.0    10.0\n",
       "   44.0     113.0      4.0    11.0\n",
       "   45.0     138.0      4.0    12.0\n",
       "   46.0      88.0      3.0    11.0"
      ]
     },
     "execution_count": 28,
     "metadata": {},
     "output_type": "execute_result"
    }
   ],
   "source": [
    "stats"
   ]
  },
  {
   "cell_type": "markdown",
   "id": "d4bee25a-aaae-466b-95fa-117d255310f7",
   "metadata": {},
   "source": [
    "We can lool at how the statistic changes with the evauation number. Thanks to the way the \"optimizer\" works we do not see a monotonic\n",
    "decrease:"
   ]
  },
  {
   "cell_type": "code",
   "execution_count": 29,
   "id": "44465f7d-4eb5-4b55-bbc6-88e8831427ab",
   "metadata": {},
   "outputs": [
    {
     "data": {
      "image/png": "[encoded data removed]",
      "text/plain": [
       "<Figure size 640x480 with 1 Axes>"
      ]
     },
     "metadata": {},
     "output_type": "display_data"
    }
   ],
   "source": [
    "ui.plot_scatter(stats[\"nfev\"], stats[\"statistic\"], xlabel=\"evalation\", ylabel=\"statistic\")"
   ]
  },
  {
   "cell_type": "markdown",
   "id": "930052d8-a1e4-4223-90b3-f532884d42ff",
   "metadata": {},
   "source": [
    "We can also look at the search surface and the path we take (this uses the screen output from setting the `verbose` parameter, which is accessed via the `store` element for this plot, almost like I went \"oh, that would make my life easier to have available\"):"
   ]
  },
  {
   "cell_type": "code",
   "execution_count": 30,
   "id": "58c9daa8-a35d-4839-abc5-a2d9e5a79b7b",
   "metadata": {},
   "outputs": [
    {
     "data": {
      "image/png": "[encoded data removed]",
      "text/plain": [
       "<Figure size 640x480 with 2 Axes>"
      ]
     },
     "metadata": {},
     "output_type": "display_data"
    }
   ],
   "source": [
    "from matplotlib import pyplot as plt\n",
    "\n",
    "plt.scatter(stats[\"mdl.xlow\"], stats[\"mdl.xhi\"], c=stats[\"statistic\"])\n",
    "plt.colorbar()\n",
    "\n",
    "# Take the \"best-fit\" locations from the fit output and draw lines connecting them.\n",
    "store = ui.get_fit_results().extra_output[\"store\"]\n",
    "pxlo = None\n",
    "pxhi = None\n",
    "for xlo, xhi in store:\n",
    "    if pxlo is not None:\n",
    "        plt.arrow(pxlo, pxhi, xlo - pxlo, xhi - pxhi)\n",
    "\n",
    "    pxlo, pxhi = xlo, xhi\n",
    "\n",
    "# Let's show the xlow=xhi line, for reasons.\n",
    "ax = plt.gca()\n",
    "ax.set_xlim(auto=False)\n",
    "ax.set_ylim(auto=False)\n",
    "plt.plot([6, 9], [6, 9], '--', c='r');"
   ]
  },
  {
   "cell_type": "markdown",
   "id": "265de28b-e567-4c97-a17d-525106b620bb",
   "metadata": {},
   "source": [
    "Note that we actually have some cases where `xlo > xhi`, which is not really valid (anything on the dotted line, or to it's lower-right, is technically invalid and the model ends up just returning 0's for all bins). We can try to avoid this by setting the `xlow` parameter to have a maximum value and the `xhi` a minimum value to avoid this:"
   ]
  },
  {
   "cell_type": "code",
   "execution_count": 31,
   "id": "79d6fa85-9c79-4481-a222-ce3505bbc7fa",
   "metadata": {},
   "outputs": [
    {
     "name": "stdout",
     "output_type": "stream",
     "text": [
      "box1d.mdl\n",
      "   Param        Type          Value          Min          Max      Units\n",
      "   -----        ----          -----          ---          ---      -----\n",
      "   mdl.xlow     thawed            7 -3.40282e+38            7           \n",
      "   mdl.xhi      thawed            8            8  3.40282e+38           \n",
      "   mdl.ampl     frozen            5 -3.40282e+38  3.40282e+38           \n"
     ]
    }
   ],
   "source": [
    "mdl.reset()\n",
    "\n",
    "mdl.xlow.max = 7\n",
    "mdl.xhi.min = 8\n",
    "\n",
    "print(mdl)"
   ]
  },
  {
   "cell_type": "code",
   "execution_count": 32,
   "id": "a82523ae-2ec1-42cd-88ea-9cb0128b9cb9",
   "metadata": {},
   "outputs": [
    {
     "name": "stdout",
     "output_type": "stream",
     "text": [
      "Dataset               = 1\n",
      "Method                = opty\n",
      "Statistic             = leastsq\n",
      "Initial fit statistic = 243\n",
      "Final fit statistic   = 88 at function evaluation 45\n",
      "Data points           = 15\n",
      "Degrees of freedom    = 13\n",
      "Change in statistic   = 155\n",
      "   mdl.xlow       3           \n",
      "   mdl.xhi        11          \n"
     ]
    }
   ],
   "source": [
    "ui.set_method_opt(\"verbose\", False)\n",
    "\n",
    "ui.fit(outfile=str(statfile), clobber=True)"
   ]
  },
  {
   "cell_type": "markdown",
   "id": "2a60f5b5-fb26-434f-bb1a-3a95792264c3",
   "metadata": {},
   "source": [
    "So, the end result is the same, but things are slightly different:\n",
    "\n",
    "- the number of function evaluations may be different (in this case it isn't, but with some code changes I've made but not yet turned into a PR it actually does, and now I'm interested why, but that's for another notebook)\n",
    "- the set of points searched is slightly different (which you can't see from above, but we can looking at the output file)"
   ]
  },
  {
   "cell_type": "code",
   "execution_count": 33,
   "id": "be6a0031-4f09-4db4-b1ff-5ad13d2fec89",
   "metadata": {},
   "outputs": [
    {
     "data": {
      "image/png": "[encoded data removed]",
      "text/plain": [
       "<Figure size 640x480 with 2 Axes>"
      ]
     },
     "metadata": {},
     "output_type": "display_data"
    }
   ],
   "source": [
    "stats2 = Table.read(statfile, format=\"ascii\")\n",
    "\n",
    "plt.scatter(stats2[\"mdl.xlow\"], stats2[\"mdl.xhi\"], c=stats2[\"statistic\"])\n",
    "plt.colorbar()\n",
    "\n",
    "store = ui.get_fit_results().extra_output[\"store\"]\n",
    "pxlo = None\n",
    "pxhi = None\n",
    "for xlo, xhi in store:\n",
    "    if pxlo is not None:\n",
    "        plt.arrow(pxlo, pxhi, xlo - pxlo, xhi - pxhi)\n",
    "\n",
    "    pxlo, pxhi = xlo, xhi\n",
    "\n",
    "# There's no points where xlow >= xhi, so don't bother with adding a line"
   ]
  },
  {
   "cell_type": "markdown",
   "id": "46481778-a3a5-4729-bbbd-3f469b6d2ada",
   "metadata": {},
   "source": [
    "The statistic points also show a slight difference in behaviour. What is most interesting - but only if you are interested in the weeds of the optimization code, which you might just be if you're reading this - is that the number of function evaluations seems to stop at 41, even though we were told there were 45."
   ]
  },
  {
   "cell_type": "code",
   "execution_count": 34,
   "id": "8e3c0d85-a33c-48c3-bf09-b9cd2bb475ad",
   "metadata": {},
   "outputs": [
    {
     "data": {
      "image/png": "[encoded data removed]",
      "text/plain": [
       "<Figure size 640x480 with 1 Axes>"
      ]
     },
     "metadata": {},
     "output_type": "display_data"
    }
   ],
   "source": [
    "ui.plot_scatter(stats[\"nfev\"], stats[\"statistic\"], xlabel=\"evalation\", ylabel=\"statistic\")\n",
    "ui.plot_scatter(stats2[\"nfev\"], stats2[\"statistic\"], overplot=True, alpha=0.5, color=\"orange\")"
   ]
  },
  {
   "cell_type": "markdown",
   "id": "07a42186-8f8c-4dec-a337-d5252ed04b07",
   "metadata": {},
   "source": [
    "Just to check (the first row is labelled 0 as it is likely to represent the input values, as it is in the case of `opty`:"
   ]
  },
  {
   "cell_type": "code",
   "execution_count": 35,
   "id": "1b3ac215-f7d9-4fbb-90ff-2278748cfead",
   "metadata": {},
   "outputs": [
    {
     "data": {
      "text/plain": [
       "42"
      ]
     },
     "execution_count": 35,
     "metadata": {},
     "output_type": "execute_result"
    }
   ],
   "source": [
    "len(stats2)"
   ]
  },
  {
   "cell_type": "markdown",
   "id": "0135adc8-b2b0-4ff6-b747-bedc7ba7ac42",
   "metadata": {},
   "source": [
    "## Actually, come to think of it, just how is this output file created?\n",
    "\n",
    "If we look at `opty`, there's no obvious way for this file to be created (i.e. `opty` has no knowledge of it). This is because the fit code sets up the `fcn` that is sent to the optimiser to append to this file each time it is called. However, we would still expect there to be 45 and not 42 records, because we tracked them. The issue is that in `InfinitePotential` we check whether all the parameters are valid - i.e. within the minimum and maximum ranges - with\n",
    "\n",
    "```python\n",
    "    def __call__(self, pars: np.ndarray) -> SupportsFloat:\n",
    "        if np.isnan(pars).any() or _outside_limits(pars,\n",
    "                                                   self.minval,\n",
    "                                                   self.maxval):\n",
    "            return FUNC_MAX\n",
    "\n",
    "        return self.func(pars)[0]\n",
    "```\n",
    "\n",
    "and this is done before calling the statistic call back function. So, we end up losing a record of any set of parameters which are out-of-bounds. So, there must have been three locations we checked which hit this condition (actually, as we do not encode any sort of \"already seen\" check, it could be the same location checked three times).\n",
    "\n",
    "## Is it worth adding a check for already-seen locations?\n",
    "\n",
    "Now, this is really-not-an-optimizer, so it's not really worth spending time trying to optimize it's performamce. Saying that, we could make some simple additions such as\n",
    "\n",
    "- don't ever evaluate the \"0, 0, ..\" bin since we will already have seen it\n",
    "- track the evaluated locations so we don't bother re-evaluating them (which is a superset of the previous item)\n",
    "\n",
    "However, there are cases when other parts of the Sherpa ecosystem can come into play. We currently support a per-model cache which will avoid model evaluation when it has seen the parameters before (it only stores a small number of values so it can depend on how the optimizer works whether this comes into play). The [`cache_status`](https://sherpa.readthedocs.io/en/4.16.1/model_classes/api/sherpa.models.model.ArithmeticModel.html#sherpa.models.model.ArithmeticModel.cache_status) method shows the current cache data.  Here we can see that the model has been evaluated 44 times and 4 of them were repeat checks."
   ]
  },
  {
   "cell_type": "code",
   "execution_count": 36,
   "id": "81ecc346-3205-4aff-8512-bd15b9fefa18",
   "metadata": {},
   "outputs": [
    {
     "name": "stdout",
     "output_type": "stream",
     "text": [
      " box1d.mdl                  size:    5  hits:     4  misses:    40  check:    44\n"
     ]
    }
   ],
   "source": [
    "mdl.cache_status()"
   ]
  },
  {
   "cell_type": "markdown",
   "id": "7a5e2b77-f630-4a8e-b92a-c7c76f15bfaf",
   "metadata": {},
   "source": [
    "If we reset the model and the cache we can see what happens:"
   ]
  },
  {
   "cell_type": "code",
   "execution_count": 37,
   "id": "47a5301f-1d7f-4b65-9382-4ebedd9b7443",
   "metadata": {},
   "outputs": [
    {
     "name": "stdout",
     "output_type": "stream",
     "text": [
      "box1d.mdl\n",
      "   Param        Type          Value          Min          Max      Units\n",
      "   -----        ----          -----          ---          ---      -----\n",
      "   mdl.xlow     thawed            7 -3.40282e+38            7           \n",
      "   mdl.xhi      thawed            8            8  3.40282e+38           \n",
      "   mdl.ampl     frozen            5 -3.40282e+38  3.40282e+38           \n"
     ]
    }
   ],
   "source": [
    "mdl.cache_clear()\n",
    "mdl.reset()\n",
    "print(mdl)"
   ]
  },
  {
   "cell_type": "code",
   "execution_count": 38,
   "id": "2840cbe7-05fc-4bab-bf24-f257aff4c928",
   "metadata": {},
   "outputs": [
    {
     "name": "stdout",
     "output_type": "stream",
     "text": [
      " box1d.mdl                  size:    1  hits:     0  misses:     0  check:     0\n"
     ]
    }
   ],
   "source": [
    "mdl.cache_status()"
   ]
  },
  {
   "cell_type": "code",
   "execution_count": 39,
   "id": "5a27f299-dfce-4893-bbaf-c0159f2a4e82",
   "metadata": {},
   "outputs": [
    {
     "name": "stdout",
     "output_type": "stream",
     "text": [
      "Dataset               = 1\n",
      "Method                = opty\n",
      "Statistic             = leastsq\n",
      "Initial fit statistic = 243\n",
      "Final fit statistic   = 88 at function evaluation 45\n",
      "Data points           = 15\n",
      "Degrees of freedom    = 13\n",
      "Change in statistic   = 155\n",
      "   mdl.xlow       3           \n",
      "   mdl.xhi        11          \n"
     ]
    }
   ],
   "source": [
    "ui.fit()"
   ]
  },
  {
   "cell_type": "code",
   "execution_count": 40,
   "id": "7ca251d3-cada-4def-95fe-1575cf4e7a5d",
   "metadata": {},
   "outputs": [
    {
     "name": "stdout",
     "output_type": "stream",
     "text": [
      " box1d.mdl                  size:    5  hits:     4  misses:    40  check:    44\n"
     ]
    }
   ],
   "source": [
    "mdl.cache_status()"
   ]
  },
  {
   "cell_type": "markdown",
   "id": "9d8eda6e-33d5-47de-9535-e2988f4aef24",
   "metadata": {},
   "source": [
    "Note that the putput of line 40 is the same as line 36 even though the former was after two `fit` calls. This is because the `fit` call will internally clear the cache before it starts: this is because the cache is not infallible, as we assume - but can not **guarantee** - that the model evaluation only depends on the parameter values and the data grid (independent axis) - and so it's safest for `fit` to reset it."
   ]
  }
 ],
 "metadata": {
  "kernelspec": {
   "display_name": "Python 3 (ipykernel)",
   "language": "python",
   "name": "python3"
  },
  "language_info": {
   "codemirror_mode": {
    "name": "ipython",
    "version": 3
   },
   "file_extension": ".py",
   "mimetype": "text/x-python",
   "name": "python",
   "nbconvert_exporter": "python",
   "pygments_lexer": "ipython3",
   "version": "3.11.9"
  }
 },
 "nbformat": 4,
 "nbformat_minor": 5
}
