{
 "cells": [
  {
   "cell_type": "markdown",
   "metadata": {},
   "source": [
    "# User models in Sherpa"
   ]
  },
  {
   "cell_type": "markdown",
   "metadata": {},
   "source": [
    "I was recently working on a way to charactrize the draws from a \n",
    "[MCMC chain](http://en.wikipedia.org/wiki/Markov_chain_Monte_Carlo) - in this\n",
    "case generated with\n",
    "[pyBLoCXS](http://cxc.harvard.edu/sherpa/ahelp/pyblocxs.html) but that's only relevant\n",
    "here because we are interested in Poisson-distributed data, hence the Gamma function -\n",
    "and came up with a simple user model for\n",
    "[Sherpa](http://cxc.harvard.edu/sherpa/). I thought it would be make a good example case,\n",
    "and decided to include an example of using the \"low-level\" API of Sherpa to fit data.\n",
    "\n",
    "For this example I'm writing everything in an \n",
    "[IPython notebook](http://ipython.org/notebook.html), and the easiest way to do that\n",
    "is to use the binary form of the \n",
    "[standalone Sherpa](http://cxc.cfa.harvard.edu/contrib/sherpa47/) release,\n",
    "using \n",
    "[Anaconda Python](http://continuum.io/downloads):\n",
    "\n",
    "```\n",
    "% conda config --add channels https://conda.binstar.org/sherpa\n",
    "% conda create -n sherpa_usermodel python=2.7 sherpa pyfits matplotlib scipy ipython-notebook\n",
    "% source activate sherpa_usermodel\n",
    "% mkdir notebooks\n",
    "% ipython notebook --notebook-dir=`pwd`/notebooks\n",
    "```\n",
    "\n",
    "The code will also run in the [Sherpa provided with CIAO](http://cxc.harvard.edu/sherpa/) - although\n",
    "in this case you would use \n",
    "[ChIPS](http://cxc.harvard.edu/chips/)\n",
    "rather than matplotlib for plotting and would not have access to `scipy.stats` for\n",
    "the simulation (try\n",
    "[`numpy.random.gamma`](http://docs.scipy.org/doc/numpy/reference/generated/numpy.random.gamma.html) \n",
    "instead) - as well\n",
    "as if you have built the code directly from\n",
    "https://github.com/sherpa/sherpa."
   ]
  },
  {
   "cell_type": "markdown",
   "metadata": {},
   "source": [
    "## Follow ups"
   ]
  },
  {
   "cell_type": "markdown",
   "metadata": {},
   "source": [
    "I have written a follow-up to this, available at\n",
    "[an integrated user model](http://nbviewer.ipython.org/github/DougBurke/sherpa-standalone-notebooks/blob/master/an%20integrated%20user%20model.ipynb). This was written on May 4 2015.\n",
    "\n",
    "I then had a brain wave and decided to talk about\n",
    "[plotting in Sherpa when using the low-level API](http://nbviewer.ipython.org/github/DougBurke/sherpa-standalone-notebooks/blob/master/plotting%20using%20the%20lower-level%20routines.ipynb). This was written on May 5 2015."
   ]
  },
  {
   "cell_type": "markdown",
   "metadata": {},
   "source": [
    "## Author and disclaimer"
   ]
  },
  {
   "cell_type": "markdown",
   "metadata": {},
   "source": [
    "This was written by \n",
    "[Douglas Burke](http://hea-www.cfa.harvard.edu/~dburke/)\n",
    "on May 26 2015. This notebook, and others that may be of\n",
    "interest, can be found on GitHub at\n",
    "https://github.com/DougBurke/sherpa-standalone-notebooks.\n",
    "\n",
    "The information in this document is placed into the Publc Domain. It is not an official product of the Chandra\n",
    "X-ray Center, and I make no guarantee that it is not without bugs or embarassing typos. Please contact me via the GitHub repository or on Twitter - at \n",
    "[@doug_burke](https://twitter.com/doug_burke) - if you have any questions. "
   ]
  },
  {
   "cell_type": "markdown",
   "metadata": {},
   "source": [
    "## Setting up"
   ]
  },
  {
   "cell_type": "code",
   "execution_count": 1,
   "metadata": {
    "collapsed": false
   },
   "outputs": [],
   "source": [
    "import scipy.stats\n",
    "import matplotlib.pyplot as plt\n",
    "import numpy as np"
   ]
  },
  {
   "cell_type": "code",
   "execution_count": 2,
   "metadata": {
    "collapsed": false
   },
   "outputs": [],
   "source": [
    "%matplotlib inline"
   ]
  },
  {
   "cell_type": "markdown",
   "metadata": {},
   "source": [
    "To make my testing easier, I fix the random seed. It's the same value as used by \n",
    "[Jake's AstroML book](http://www.astroml.org/book_figures/chapter3/fig_flux_errors.html),\n",
    "but you may want to use a different value yourself ;-)"
   ]
  },
  {
   "cell_type": "code",
   "execution_count": 3,
   "metadata": {
    "collapsed": true
   },
   "outputs": [],
   "source": [
    "np.random.seed(1)"
   ]
  },
  {
   "cell_type": "markdown",
   "metadata": {},
   "source": [
    "## Simulating some data"
   ]
  },
  {
   "cell_type": "markdown",
   "metadata": {},
   "source": [
    "For this example, I am going to simulate values from a Gamma distribution using\n",
    "[`scipy.stats.gamma`](http://docs.scipy.org/doc/scipy-0.15.1/reference/generated/scipy.stats.gamma.html).\n",
    "Following the \n",
    "[Wikipedia page](http://en.wikipedia.org/wiki/Gamma_distribution) I use the names `k` and `theta`\n",
    "for the parameters of the distribution; fortunately they map onto the `a` and `scale` values used\n",
    "by `scipy.stats.gamma`.\n",
    "\n",
    "The mean of the distribution is just `k * theta`, so `2.86` here:"
   ]
  },
  {
   "cell_type": "code",
   "execution_count": 4,
   "metadata": {
    "collapsed": true
   },
   "outputs": [],
   "source": [
    "k_orig = 1.1\n",
    "theta_orig = 2.6\n",
    "ysim = scipy.stats.gamma.rvs(a=k_orig, scale=theta_orig, size=1000)"
   ]
  },
  {
   "cell_type": "markdown",
   "metadata": {},
   "source": [
    "Let's have a quick look at the data:"
   ]
  },
  {
   "cell_type": "code",
   "execution_count": 5,
   "metadata": {
    "collapsed": false
   },
   "outputs": [
    {
     "data": {
      "text/plain": [
       "[<matplotlib.lines.Line2D at 0x7ff8421e6650>]"
      ]
     },
     "execution_count": 5,
     "metadata": {},
     "output_type": "execute_result"
    },
    {
     "data": {
      "image/png": "[encoded data removed]",
      "text/plain": [
       "<matplotlib.figure.Figure at 0x7ff842250690>"
      ]
     },
     "metadata": {},
     "output_type": "display_data"
    }
   ],
   "source": [
    "plt.plot(ysim)"
   ]
  },
  {
   "cell_type": "code",
   "execution_count": 6,
   "metadata": {
    "collapsed": false
   },
   "outputs": [
    {
     "data": {
      "text/plain": [
       "(array([ 593.,  238.,  102.,   40.,   18.,    5.,    2.,    1.,    0.,    1.]),\n",
       " array([  8.86762636e-03,   2.62925028e+00,   5.24963293e+00,\n",
       "          7.87001558e+00,   1.04903982e+01,   1.31107809e+01,\n",
       "          1.57311635e+01,   1.83515462e+01,   2.09719288e+01,\n",
       "          2.35923115e+01,   2.62126941e+01]),\n",
       " <a list of 10 Patch objects>)"
      ]
     },
     "execution_count": 6,
     "metadata": {},
     "output_type": "execute_result"
    },
    {
     "data": {
      "image/png": "[encoded data removed]",
      "text/plain": [
       "<matplotlib.figure.Figure at 0x7ff84221a090>"
      ]
     },
     "metadata": {},
     "output_type": "display_data"
    }
   ],
   "source": [
    "plt.hist(ysim)"
   ]
  },
  {
   "cell_type": "markdown",
   "metadata": {},
   "source": [
    "For the work I was doing, I was interested in the \n",
    "[Cunulative Distribution Function](http://en.wikipedia.org/wiki/Cumulative_distribution_function),\n",
    "so let's start by creating this for the data (`ysim`):"
   ]
  },
  {
   "cell_type": "code",
   "execution_count": 7,
   "metadata": {
    "collapsed": false
   },
   "outputs": [
    {
     "data": {
      "text/plain": [
       "<matplotlib.text.Text at 0x7ff842052350>"
      ]
     },
     "execution_count": 7,
     "metadata": {},
     "output_type": "execute_result"
    },
    {
     "data": {
      "image/png": "[encoded data removed]",
      "text/plain": [
       "<matplotlib.figure.Figure at 0x7ff842167410>"
      ]
     },
     "metadata": {},
     "output_type": "display_data"
    }
   ],
   "source": [
    "xcdf = ysim.copy()\n",
    "xcdf.sort()\n",
    "ycdf = np.arange(1, xcdf.size+1) * 1.0 / xcdf.size\n",
    "\n",
    "plt.plot(xcdf, ycdf)\n",
    "plt.xlabel('$\\Gamma$')\n",
    "plt.ylabel('CDF')"
   ]
  },
  {
   "cell_type": "markdown",
   "metadata": {},
   "source": [
    "My aim is to fit this data, so I need a functional form for the CDF of\n",
    "a Gamma distribution. Fortunately Sherpa provides the `igam` routine\n",
    "which calculates what we need, so I can write the following (I could\n",
    "have also used `scipy.stats` routines, but I wanted this to be usable\n",
    "from Sherpa in CIAO):"
   ]
  },
  {
   "cell_type": "code",
   "execution_count": 8,
   "metadata": {
    "collapsed": true
   },
   "outputs": [],
   "source": [
    "import sherpa.utils"
   ]
  },
  {
   "cell_type": "code",
   "execution_count": 9,
   "metadata": {
    "collapsed": true
   },
   "outputs": [],
   "source": [
    "def calc_gamma_cdf(x, k, theta):\n",
    "    \"\"\"Return the CDF of a gamma distribution.\n",
    "\n",
    "    The cumulative distribution function (CDF) of the gamma\n",
    "    distribution is defined in [1]_ as::\n",
    "\n",
    "       cdf(x;k,theta) = incomplete_gamma(k, x/theta)\n",
    "                        ----------------------------\n",
    "                                  gamma(k)\n",
    "\n",
    "    Parameters\n",
    "    ----------\n",
    "    x : array\n",
    "       The values at which to evaluate the CDF.\n",
    "    k : number\n",
    "       The shape parameter, which must be greater than 0.\n",
    "    theta : number\n",
    "       The scale parameter.\n",
    "\n",
    "    Returns\n",
    "    -------\n",
    "    cdf : array\n",
    "       The CDF evaluated at each element of x.\n",
    "\n",
    "    Notes\n",
    "    -----\n",
    "    The mean of the distribution is given by ``k * theta``,\n",
    "    and the rate is ``1 / theta``.\n",
    " \n",
    "    References\n",
    "    ----------\n",
    "\n",
    "    .. [1] http://en.wikipedia.org/wiki/Gamma_distribution\n",
    "\n",
    "    \"\"\"\n",
    "\n",
    "    # Unfortunately igam does not accept a Numpy array as the\n",
    "    # second argument, so need to map over the input array.\n",
    "    #\n",
    "    tval = theta * 1.0\n",
    "    kval = k * 1.0\n",
    "    x = np.asarray(x)\n",
    "    out = np.zeros_like(x)\n",
    "    for i,xi in enumerate(x):\n",
    "        # igam is the \"regularized\" incomplete gamma (lower)\n",
    "        # form, so already has the normalization by gamma(a)\n",
    "        # included.\n",
    "        out[i] = sherpa.utils.igam(kval, xi/tval)\n",
    "\n",
    "    return out"
   ]
  },
  {
   "cell_type": "markdown",
   "metadata": {},
   "source": [
    "I can use this to plot the actual distribution on the simulated one:"
   ]
  },
  {
   "cell_type": "code",
   "execution_count": 10,
   "metadata": {
    "collapsed": false
   },
   "outputs": [
    {
     "data": {
      "text/plain": [
       "[<matplotlib.lines.Line2D at 0x7ff841f88890>]"
      ]
     },
     "execution_count": 10,
     "metadata": {},
     "output_type": "execute_result"
    },
    {
     "data": {
      "image/png": "[encoded data removed]",
      "text/plain": [
       "<matplotlib.figure.Figure at 0x7ff841f88710>"
      ]
     },
     "metadata": {},
     "output_type": "display_data"
    }
   ],
   "source": [
    "plt.plot(xcdf, ycdf)\n",
    "plt.plot(xcdf, calc_gamma_cdf(xcdf, k_orig, theta_orig))"
   ]
  },
  {
   "cell_type": "markdown",
   "metadata": {},
   "source": [
    "The [Quantile-Quantile plot](http://en.wikipedia.org/wiki/Q%E2%80%93Q_plot)\n",
    "also looks good (as it should here ;-):"
   ]
  },
  {
   "cell_type": "code",
   "execution_count": 11,
   "metadata": {
    "collapsed": false
   },
   "outputs": [
    {
     "data": {
      "text/plain": [
       "<matplotlib.text.Text at 0x7ff841831b10>"
      ]
     },
     "execution_count": 11,
     "metadata": {},
     "output_type": "execute_result"
    },
    {
     "data": {
      "image/png": "[encoded data removed]",
      "text/plain": [
       "<matplotlib.figure.Figure at 0x7ff8420fc250>"
      ]
     },
     "metadata": {},
     "output_type": "display_data"
    }
   ],
   "source": [
    "plt.plot(ycdf, calc_gamma_cdf(xcdf,k_orig,theta_orig))\n",
    "plt.plot([0,1],[0,1], 'k--')\n",
    "plt.title('Q-Q plot')"
   ]
  },
  {
   "cell_type": "markdown",
   "metadata": {},
   "source": [
    "Using `calc_gamma_cdf` I can now create a Sherpa model that can be used to\n",
    "fit the CDF data. Rather than use the\n",
    "[`load_user_model` function](http://cxc.harvard.edu/sherpa/ahelp/load_user_model.html),\n",
    "I have decided to use a class-based approach. The advantage is that this model then\n",
    "behaves in the same manner as existing Sherpa models - so that you can create multiple\n",
    "instances of it directly - at the expense of a little-more set-up work.\n",
    "\n",
    "To do this, I need to import the Sherpa `sherpa.models.model` module.\n",
    "In this case I am being explicit about the module names, to make it easier to see where\n",
    "symbols are defined, but normally I would say something like\n",
    "\n",
    "    from sherpa.models import model"
   ]
  },
  {
   "cell_type": "code",
   "execution_count": 12,
   "metadata": {
    "collapsed": true
   },
   "outputs": [],
   "source": [
    "import sherpa.models.model"
   ]
  },
  {
   "cell_type": "markdown",
   "metadata": {},
   "source": [
    "With this, I can create the `GammaCDF` class. The model has two parameters, which \n",
    "I name `k` and `theta`, and set initial parameters and limits (the limit is inclusive,\n",
    "which is not ideal here because both should be `> 0` rather than `>= 0`, but let's\n",
    "see how this works). The important parts are `__init__`, which sets everything\n",
    "up, and `calc` which is used to evaluate the model at a set of points. For this\n",
    "example I am going to assume that if it is used with an \"integrated\" 1D data set - that\n",
    "is, a data set where the signal is integrated between bin limits, rather than just\n",
    "a value at a point - then the code should just use the mid-point of the bin. The\n",
    "`modelCacher1d` function decorator tells the system that the results of the model can\n",
    "be cached when all the parameter values are frozen (e.g. during a fit).\n",
    "\n",
    "In \"production\" code, I'd include checks to make sure it's not used with a 2D data set!"
   ]
  },
  {
   "cell_type": "code",
   "execution_count": 13,
   "metadata": {
    "collapsed": false
   },
   "outputs": [],
   "source": [
    "class GammaCDF(sherpa.models.model.ArithmeticModel):\n",
    "    \"\"\"A Gamma CDF.\n",
    "\n",
    "    The cumulative distribution function (CDF) for the Gamma\n",
    "    distribution, as defined by [1]_, is::\n",
    "\n",
    "       cdf(x;k,theta) = incomplete_gamma(k, x/theta)\n",
    "                        ----------------------------\n",
    "                                  gamma(k)\n",
    "\n",
    "    The model parameters are:\n",
    "\n",
    "    k\n",
    "       The shape parameter, which must be greater than 0.\n",
    "\n",
    "    theta\n",
    "       The scale parameter.\n",
    "\n",
    "    Notes\n",
    "    -----\n",
    "    The mean of the distribution is given by ``k * theta``,\n",
    "    and the rate is ``1 / theta``.\n",
    " \n",
    "    References\n",
    "    ----------\n",
    "\n",
    "    .. [1] http://en.wikipedia.org/wiki/Gamma_distribution\n",
    "\n",
    "    \"\"\"\n",
    "\n",
    "    def __init__(self, name='gammacdf'):\n",
    "        # It would be nice to force > 0 rather than >=0.\n",
    "        # Perhaps should just use a small value, e.g. \n",
    "        # sherpa.models.parameter.tinyval?\n",
    "        self.k = sherpa.models.model.Parameter(name, 'k', 5, min=0, hard_min=0)\n",
    "        self.theta = sherpa.models.model.Parameter(name, 'theta', 2, min=0, hard_min=0)\n",
    "\n",
    "        sherpa.models.model.ArithmeticModel.__init__(self, name, (self.k, self.theta))\n",
    "\n",
    "    @sherpa.models.model.modelCacher1d\n",
    "    def calc(self, pars, x, *args, **kwargs):\n",
    "        (k, theta) = pars\n",
    "        if len(args) == 1:\n",
    "            x = (x + args[0]) / 2.0\n",
    "\n",
    "        return calc_gamma_cdf(x, k, theta)\n"
   ]
  },
  {
   "cell_type": "markdown",
   "metadata": {},
   "source": [
    "This model can be used to fit the data. I'll show this two ways\n",
    "\n",
    " 1. using the low-level API, where data management is not automatic\n",
    " \n",
    " 2. using the high-level UI which most users of Sherpa are used to."
   ]
  },
  {
   "cell_type": "markdown",
   "metadata": {},
   "source": [
    "## Managing the data directly"
   ]
  },
  {
   "cell_type": "markdown",
   "metadata": {},
   "source": [
    "The UI that is explained in the \n",
    "[CXC Sherpa documentation](http://cxc.harvard.edu/sherpa/) deals with \n",
    "data management and state. However, this can be handled directly by\n",
    "dropping down to the individual models and - for some cases, such as this\n",
    "one - is very easy to do. Let's start with importing the symbols I need\n",
    "(and to make it look easy, I'm not going to use the fully-qualified name approach I've\n",
    "used so far):"
   ]
  },
  {
   "cell_type": "code",
   "execution_count": 14,
   "metadata": {
    "collapsed": true
   },
   "outputs": [],
   "source": [
    "from sherpa.data import Data1D\n",
    "from sherpa.stats import LeastSq\n",
    "from sherpa.optmethods import LevMar\n",
    "from sherpa.fit import Fit"
   ]
  },
  {
   "cell_type": "markdown",
   "metadata": {},
   "source": [
    "For this example - which is a 1D un-binned data set - we just need a name, and the independent and dependent data arrays. The name is only used to label the results in output structures, so here I just use the label `cdf`."
   ]
  },
  {
   "cell_type": "code",
   "execution_count": 15,
   "metadata": {
    "collapsed": true
   },
   "outputs": [],
   "source": [
    "d = Data1D('cdf', xcdf, ycdf)"
   ]
  },
  {
   "cell_type": "markdown",
   "metadata": {},
   "source": [
    "The model to be fit is - in this case - just a single component, the newly-created `GammaCDF`\n",
    "model, so I need an instance (the name need not be the same as the variable name, but it makes tracking\n",
    "things a bit easier!):"
   ]
  },
  {
   "cell_type": "code",
   "execution_count": 16,
   "metadata": {
    "collapsed": true
   },
   "outputs": [],
   "source": [
    "cdf = GammaCDF('cdf')"
   ]
  },
  {
   "cell_type": "markdown",
   "metadata": {},
   "source": [
    "With these, I can now create a `Fit` object, selecting the statistic - I use the least-squared\n",
    "version (`LeastSq`) since I have no errors - and the optimiser, for which I use the \n",
    "Levenberg-Marquardt method (as provided by the `LevMar` class):"
   ]
  },
  {
   "cell_type": "code",
   "execution_count": 17,
   "metadata": {
    "collapsed": false
   },
   "outputs": [],
   "source": [
    "f = Fit(d, cdf, LeastSq(), LevMar())"
   ]
  },
  {
   "cell_type": "markdown",
   "metadata": {},
   "source": [
    "The fit can then be \"run\" and the output stored away. For this case the optimiser converged."
   ]
  },
  {
   "cell_type": "code",
   "execution_count": 18,
   "metadata": {
    "collapsed": false
   },
   "outputs": [
    {
     "data": {
      "text/plain": [
       "True"
      ]
     },
     "execution_count": 18,
     "metadata": {},
     "output_type": "execute_result"
    }
   ],
   "source": [
    "res = f.fit()\n",
    "res.succeeded"
   ]
  },
  {
   "cell_type": "markdown",
   "metadata": {},
   "source": [
    "The output of the `fit` method returns a lot if useful information, including the best-fit parameter values:"
   ]
  },
  {
   "cell_type": "code",
   "execution_count": 19,
   "metadata": {
    "collapsed": false
   },
   "outputs": [
    {
     "name": "stdout",
     "output_type": "stream",
     "text": [
      "datasets       = None\n",
      "itermethodname = none\n",
      "methodname     = levmar\n",
      "statname       = leastsq\n",
      "succeeded      = True\n",
      "parnames       = ('cdf.k', 'cdf.theta')\n",
      "parvals        = (1.1022133409516357, 2.6102738001113779)\n",
      "statval        = 0.0597900812602\n",
      "istatval       = 230.646547311\n",
      "dstatval       = 230.58675723\n",
      "numpoints      = 1000\n",
      "dof            = 998\n",
      "qval           = None\n",
      "rstat          = None\n",
      "message        = successful termination\n",
      "nfev           = 36\n"
     ]
    }
   ],
   "source": [
    "print(res)"
   ]
  },
  {
   "cell_type": "markdown",
   "metadata": {},
   "source": [
    "However, we can also access these values directly from the model:"
   ]
  },
  {
   "cell_type": "code",
   "execution_count": 20,
   "metadata": {
    "collapsed": false
   },
   "outputs": [
    {
     "name": "stdout",
     "output_type": "stream",
     "text": [
      "cdf\n",
      "   Param        Type          Value          Min          Max      Units\n",
      "   -----        ----          -----          ---          ---      -----\n",
      "   cdf.k        thawed      1.10221            0  3.40282e+38           \n",
      "   cdf.theta    thawed      2.61027            0  3.40282e+38           \n"
     ]
    }
   ],
   "source": [
    "print(cdf)"
   ]
  },
  {
   "cell_type": "markdown",
   "metadata": {},
   "source": [
    "and compare them to the input values:"
   ]
  },
  {
   "cell_type": "code",
   "execution_count": 21,
   "metadata": {
    "collapsed": false
   },
   "outputs": [
    {
     "name": "stdout",
     "output_type": "stream",
     "text": [
      "(1.1022133409516357, 2.6102738001113779)\n",
      "(1.1, 2.6)\n"
     ]
    }
   ],
   "source": [
    "print(cdf.k.val, cdf.theta.val)\n",
    "print(k_orig, theta_orig)"
   ]
  },
  {
   "cell_type": "markdown",
   "metadata": {},
   "source": [
    "One down side to the low-level API is that plots have to be manually\n",
    "created, but it's quite easy to create a residual (i.e. fit - data)\n",
    "plot for the CDF:"
   ]
  },
  {
   "cell_type": "code",
   "execution_count": 22,
   "metadata": {
    "collapsed": false
   },
   "outputs": [
    {
     "data": {
      "text/plain": [
       "<matplotlib.text.Text at 0x7ff840adf490>"
      ]
     },
     "execution_count": 22,
     "metadata": {},
     "output_type": "execute_result"
    },
    {
     "data": {
      "image/png": "[encoded data removed]",
      "text/plain": [
       "<matplotlib.figure.Figure at 0x7ff840ada0d0>"
      ]
     },
     "metadata": {},
     "output_type": "display_data"
    }
   ],
   "source": [
    "plt.plot(xcdf, ycdf - cdf(xcdf))\n",
    "plt.axhline()\n",
    "plt.ylabel('$\\Delta$ CDF')\n",
    "plt.xlabel('$\\Gamma$')"
   ]
  },
  {
   "cell_type": "markdown",
   "metadata": {},
   "source": [
    "The QQ plot looks good, as might be expected from the residuals:"
   ]
  },
  {
   "cell_type": "code",
   "execution_count": 23,
   "metadata": {
    "collapsed": false
   },
   "outputs": [
    {
     "data": {
      "text/plain": [
       "<matplotlib.text.Text at 0x7ff8407e4190>"
      ]
     },
     "execution_count": 23,
     "metadata": {},
     "output_type": "execute_result"
    },
    {
     "data": {
      "image/png": "[encoded data removed]",
      "text/plain": [
       "<matplotlib.figure.Figure at 0x7ff840adfbd0>"
      ]
     },
     "metadata": {},
     "output_type": "display_data"
    }
   ],
   "source": [
    "plt.plot(ycdf, cdf(xcdf))\n",
    "plt.plot([0,1], [0,1], 'k--')\n",
    "plt.xlabel('Measured')\n",
    "plt.ylabel('Predicted')\n",
    "plt.title('QQ plot')"
   ]
  },
  {
   "cell_type": "markdown",
   "metadata": {},
   "source": [
    "## Letting Sherpa do all the work"
   ]
  },
  {
   "cell_type": "markdown",
   "metadata": {},
   "source": [
    "The high-level API of Sherpa manages data and settings for users. In the\n",
    "following I'm going to use the version provided by the `sherpa.ui` module,\n",
    "but the \"Astronomy-specific\" module `sherpa.astro.ui` can also be used.\n",
    "\n",
    "However, before doing this, I change the logging instance used by Sherpa so that\n",
    "it doesn't create multiple copies of messages in the notebook. This is\n",
    "an aesthetic issue and doesn't change the results shown here."
   ]
  },
  {
   "cell_type": "code",
   "execution_count": 24,
   "metadata": {
    "collapsed": true
   },
   "outputs": [],
   "source": [
    "import logging\n",
    "logging.getLogger('sherpa').propagate = 0"
   ]
  },
  {
   "cell_type": "code",
   "execution_count": 25,
   "metadata": {
    "collapsed": false
   },
   "outputs": [
    {
     "name": "stdout",
     "output_type": "stream",
     "text": [
      "WARNING: imaging routines will not be available, \n",
      "failed to import sherpa.image.ds9_backend due to \n",
      "'RuntimeErr: DS9Win unusable: Could not find xpaget on your PATH'\n"
     ]
    }
   ],
   "source": [
    "import sherpa.ui"
   ]
  },
  {
   "cell_type": "markdown",
   "metadata": {},
   "source": [
    "The model needs to be added to Sherpa using `add_model`:"
   ]
  },
  {
   "cell_type": "code",
   "execution_count": 26,
   "metadata": {
    "collapsed": true
   },
   "outputs": [],
   "source": [
    "sherpa.ui.add_model(GammaCDF)"
   ]
  },
  {
   "cell_type": "markdown",
   "metadata": {},
   "source": [
    "Let's select the least-square statistic, by name:"
   ]
  },
  {
   "cell_type": "code",
   "execution_count": 27,
   "metadata": {
    "collapsed": true
   },
   "outputs": [],
   "source": [
    "sherpa.ui.set_stat('leastsq')"
   ]
  },
  {
   "cell_type": "markdown",
   "metadata": {},
   "source": [
    "Rather than create a `Data1D` object, here I use the default data set - which is\n",
    "labelled `1`:"
   ]
  },
  {
   "cell_type": "code",
   "execution_count": 28,
   "metadata": {
    "collapsed": false
   },
   "outputs": [],
   "source": [
    "sherpa.ui.load_arrays(1, xcdf, ycdf)"
   ]
  },
  {
   "cell_type": "markdown",
   "metadata": {},
   "source": [
    "The default behavior in plots is to display error bars, even when using a statistic like `leastsq`,\n",
    "so I change this behavior before displaying the data (although, even with this setting, the code still\n",
    "complains to you, which is something I need to send a bug report about):"
   ]
  },
  {
   "cell_type": "code",
   "execution_count": 29,
   "metadata": {
    "collapsed": false
   },
   "outputs": [
    {
     "name": "stdout",
     "output_type": "stream",
     "text": [
      "WARNING: The displayed errorbars have been supplied with the data or calculated using chi2xspecvar; the errors are not used in fits with leastsq\n"
     ]
    },
    {
     "data": {
      "image/png": "[encoded data removed]",
      "text/plain": [
       "<matplotlib.figure.Figure at 0x7ff84065db90>"
      ]
     },
     "metadata": {},
     "output_type": "display_data"
    }
   ],
   "source": [
    "pprefs = sherpa.ui.get_data_plot_prefs()\n",
    "pprefs['yerrorbars'] = False\n",
    "sherpa.ui.plot_data()"
   ]
  },
  {
   "cell_type": "markdown",
   "metadata": {},
   "source": [
    "The source model, used to describe the data, is set by `set_source`. Since `add_model` was used,\n",
    "I can create an instance of the `GammaCDF` model using the syntax `modelname.cptname`, where\n",
    "`modelname` is in lower case. To allow comparison with the eariler fit, I name the component\n",
    "`cpt2`:"
   ]
  },
  {
   "cell_type": "code",
   "execution_count": 30,
   "metadata": {
    "collapsed": true
   },
   "outputs": [],
   "source": [
    "sherpa.ui.set_source(gammacdf.cdf2)"
   ]
  },
  {
   "cell_type": "code",
   "execution_count": 31,
   "metadata": {
    "collapsed": false
   },
   "outputs": [
    {
     "name": "stdout",
     "output_type": "stream",
     "text": [
      "gammacdf.cdf2\n",
      "   Param        Type          Value          Min          Max      Units\n",
      "   -----        ----          -----          ---          ---      -----\n",
      "   cdf2.k       thawed            5            0  3.40282e+38           \n",
      "   cdf2.theta   thawed            2            0  3.40282e+38           \n"
     ]
    }
   ],
   "source": [
    "print(cdf2)"
   ]
  },
  {
   "cell_type": "markdown",
   "metadata": {},
   "source": [
    "The defailt optimiser is `LevMar`, so I do not need to set it - which would have been the following\n",
    "call\n",
    "\n",
    "    set_method('levmar')\n",
    "    \n",
    "Instead I can just go straight to fitting the data:"
   ]
  },
  {
   "cell_type": "code",
   "execution_count": 32,
   "metadata": {
    "collapsed": false
   },
   "outputs": [
    {
     "name": "stdout",
     "output_type": "stream",
     "text": [
      "Dataset               = 1\n",
      "Method                = levmar\n",
      "Statistic             = leastsq\n",
      "Initial fit statistic = 230.647\n",
      "Final fit statistic   = 0.0597901 at function evaluation 36\n",
      "Data points           = 1000\n",
      "Degrees of freedom    = 998\n",
      "Change in statistic   = 230.587\n",
      "   cdf2.k         1.10221     \n",
      "   cdf2.theta     2.61027     \n"
     ]
    }
   ],
   "source": [
    "sherpa.ui.fit()"
   ]
  },
  {
   "cell_type": "markdown",
   "metadata": {},
   "source": [
    "and view the results:"
   ]
  },
  {
   "cell_type": "code",
   "execution_count": 33,
   "metadata": {
    "collapsed": false
   },
   "outputs": [
    {
     "name": "stdout",
     "output_type": "stream",
     "text": [
      "WARNING: The displayed errorbars have been supplied with the data or calculated using chi2xspecvar; the errors are not used in fits with leastsq\n"
     ]
    },
    {
     "data": {
      "image/png": "[encoded data removed]",
      "text/plain": [
       "<matplotlib.figure.Figure at 0x7ff8408a0950>"
      ]
     },
     "metadata": {},
     "output_type": "display_data"
    }
   ],
   "source": [
    "sherpa.ui.plot_fit()"
   ]
  },
  {
   "cell_type": "markdown",
   "metadata": {},
   "source": [
    "Unfortunately it's not that obvious what is going on here, so let's look at the residual plot:"
   ]
  },
  {
   "cell_type": "code",
   "execution_count": 34,
   "metadata": {
    "collapsed": false
   },
   "outputs": [
    {
     "name": "stdout",
     "output_type": "stream",
     "text": [
      "WARNING: The displayed errorbars have been supplied with the data or calculated using chi2xspecvar; the errors are not used in fits with leastsq\n"
     ]
    },
    {
     "data": {
      "image/png": "[encoded data removed]",
      "text/plain": [
       "<matplotlib.figure.Figure at 0x7ff8407ee990>"
      ]
     },
     "metadata": {},
     "output_type": "display_data"
    }
   ],
   "source": [
    "sherpa.ui.plot_resid()"
   ]
  },
  {
   "cell_type": "markdown",
   "metadata": {},
   "source": [
    "Annoyingly, error bars are included (they are estimated from the dependent axis values assuming\n",
    "Gaussian statistics, so are completely wrong in this case), and I do not know how to turn them off,\n",
    "so I create the plot manually (I could use the same technique as earlier, and calculate the\n",
    "residuals, but the UI includes a routine to return the plotted data):"
   ]
  },
  {
   "cell_type": "code",
   "execution_count": 35,
   "metadata": {
    "collapsed": false
   },
   "outputs": [
    {
     "name": "stdout",
     "output_type": "stream",
     "text": [
      "WARNING: The displayed errorbars have been supplied with the data or calculated using chi2xspecvar; the errors are not used in fits with leastsq\n"
     ]
    }
   ],
   "source": [
    "resid = sherpa.ui.get_resid_plot()"
   ]
  },
  {
   "cell_type": "markdown",
   "metadata": {},
   "source": [
    "and this can be used to create the residual plot, which should look familiar:"
   ]
  },
  {
   "cell_type": "code",
   "execution_count": 36,
   "metadata": {
    "collapsed": false
   },
   "outputs": [
    {
     "data": {
      "text/plain": [
       "<matplotlib.text.Text at 0x7ff84050ac10>"
      ]
     },
     "execution_count": 36,
     "metadata": {},
     "output_type": "execute_result"
    },
    {
     "data": {
      "image/png": "[encoded data removed]",
      "text/plain": [
       "<matplotlib.figure.Figure at 0x7ff8405d1590>"
      ]
     },
     "metadata": {},
     "output_type": "display_data"
    }
   ],
   "source": [
    "plt.plot(resid.x, resid.y)\n",
    "plt.axhline()\n",
    "plt.ylabel('$\\Delta$ (CDF)')\n",
    "plt.xlabel('$\\Gamma$')"
   ]
  },
  {
   "cell_type": "markdown",
   "metadata": {},
   "source": [
    "The results of the two fits should be the same (since the data, model, and starting points are the same). Are they?"
   ]
  },
  {
   "cell_type": "code",
   "execution_count": 37,
   "metadata": {
    "collapsed": false
   },
   "outputs": [
    {
     "name": "stdout",
     "output_type": "stream",
     "text": [
      "cdf\n",
      "   Param        Type          Value          Min          Max      Units\n",
      "   -----        ----          -----          ---          ---      -----\n",
      "   cdf.k        thawed      1.10221            0  3.40282e+38           \n",
      "   cdf.theta    thawed      2.61027            0  3.40282e+38           \n",
      "gammacdf.cdf2\n",
      "   Param        Type          Value          Min          Max      Units\n",
      "   -----        ----          -----          ---          ---      -----\n",
      "   cdf2.k       thawed      1.10221            0  3.40282e+38           \n",
      "   cdf2.theta   thawed      2.61027            0  3.40282e+38           \n"
     ]
    }
   ],
   "source": [
    "print(cdf)\n",
    "print(cdf2)"
   ]
  },
  {
   "cell_type": "markdown",
   "metadata": {},
   "source": [
    "Phew. So, I hope you enjoyed this whistle-stop tour through Sherpa user models, the\n",
    "`add_model` command, and direct access to the low-level API provided by Sherpa."
   ]
  },
  {
   "cell_type": "markdown",
   "metadata": {},
   "source": [
    "## A follow up (May 4 2015)"
   ]
  },
  {
   "cell_type": "markdown",
   "metadata": {},
   "source": [
    "I have written a follow-up to this, available at\n",
    "[an integrated user model](http://nbviewer.ipython.org/github/DougBurke/sherpa-standalone-notebooks/blob/master/an%20integrated%20user%20model.ipynb)."
   ]
  }
 ],
 "metadata": {
  "kernelspec": {
   "display_name": "Python 2",
   "language": "python",
   "name": "python2"
  },
  "language_info": {
   "codemirror_mode": {
    "name": "ipython",
    "version": 2
   },
   "file_extension": ".py",
   "mimetype": "text/x-python",
   "name": "python",
   "nbconvert_exporter": "python",
   "pygments_lexer": "ipython2",
   "version": "2.7.10"
  }
 },
 "nbformat": 4,
 "nbformat_minor": 0
}
