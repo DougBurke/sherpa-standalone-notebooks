{
 "cells": [
  {
   "cell_type": "markdown",
   "metadata": {},
   "source": [
    "# Fitting a PHA dataset using the object API\n",
    "\n",
    "The aim of this notebook is to highlight some of the ways that you can use Sherpa to analyze PHA data (i.e. Astronomical X-ray spectra) using the object API rather than the \"UI\" layer (which is what we \n",
    "[document to users in CIAO](http://cxc.harvard.edu/sherpa/)). It is perhaps not as wordy as I'd like, but I'd rather this get released than spend time on polishing the prose, especially as I'm writing this while my son is in swim club.\n",
    "\n",
    "This notebook uses the recently-released Sherpa 4.9.1 and Python 3.6. If you have cloned my\n",
    "[sherpa notebook repository](https://github.com/DougBurke/sherpa-standalone-notebooks) then you can follow along with the following commands (some interaction may be required by conda ;-). There should be nothing in this notebook that requires either Sherpa 4.9.1 or Python 3.6 (e.g. it can be used by CIAO 4.9 users).\n",
    "\n",
    "    % conda create -n=sherpa-standalone-notebooks python=3.6\n",
    "    % source activate sherpa-standalone-notebooks\n",
    "    % conda install -c https://conda.anaconda.org/sherpa sherpa astropy matplotlib jupyter ipython\n",
    "    ...\n",
    "        astropy:            2.0.1-np113py36_0       \n",
    "        ipython:            6.1.0-py36_0            \n",
    "        matplotlib:         2.0.2-np113py36_0       \n",
    "        numpy:              1.13.1-py36_0           \n",
    "        sherpa:             4.9.1-py36_0      sherpa\n",
    "    ...\n",
    "    % jupyter notebook"
   ]
  },
  {
   "cell_type": "markdown",
   "metadata": {},
   "source": [
    "## Author and disclaimer\n",
    "\n",
    "This was written by \n",
    "[Douglas Burke](http://hea-www.cfa.harvard.edu/~dburke/)\n",
    "on August 8 2017. This notebook, and others that may be of interest, can be found on GitHub at\n",
    "https://github.com/DougBurke/sherpa-standalone-notebooks.\n",
    "\n",
    "The information in this document is placed into the Publc Domain. It is not an official product of the Chandra X-ray Center, and I make no guarantee that it is not without bugs or embarassing typos. Please contact me via the GitHub repository or on Twitter - at \n",
    "[@doug_burke](https://twitter.com/doug_burke) - if you have any questions."
   ]
  },
  {
   "cell_type": "markdown",
   "metadata": {},
   "source": [
    "## Last run\n",
    "\n",
    "Let's start off by seeing when I last ran this notebook"
   ]
  },
  {
   "cell_type": "code",
   "execution_count": 1,
   "metadata": {},
   "outputs": [
    {
     "data": {
      "text/plain": [
       "'2017-08-08 19:38'"
      ]
     },
     "execution_count": 1,
     "metadata": {},
     "output_type": "execute_result"
    }
   ],
   "source": [
    "import datetime\n",
    "datetime.datetime.now().strftime(\"%Y-%m-%d %H:%M\")"
   ]
  },
  {
   "cell_type": "markdown",
   "metadata": {},
   "source": [
    "## What version of Sherpa is being used?"
   ]
  },
  {
   "cell_type": "code",
   "execution_count": 2,
   "metadata": {},
   "outputs": [
    {
     "name": "stdout",
     "output_type": "stream",
     "text": [
      "{'version': '4.9.1', 'full': '3e8ad5a04764115e05c14c8c06c8a7910c714711'}\n"
     ]
    }
   ],
   "source": [
    "import sherpa\n",
    "print(sherpa._version.get_versions())"
   ]
  },
  {
   "cell_type": "markdown",
   "metadata": {},
   "source": [
    "## Load in the main modules"
   ]
  },
  {
   "cell_type": "code",
   "execution_count": 3,
   "metadata": {},
   "outputs": [
    {
     "name": "stdout",
     "output_type": "stream",
     "text": [
      "WARNING: failed to import sherpa.astro.xspec; XSPEC models will not be available\n"
     ]
    }
   ],
   "source": [
    "from sherpa.astro import ui\n",
    "from matplotlib import pyplot as plt\n",
    "\n",
    "import numpy as np\n",
    "\n",
    "%matplotlib inline"
   ]
  },
  {
   "cell_type": "markdown",
   "metadata": {},
   "source": [
    "## What data shall we use?\n",
    "\n",
    "In this example I am going to use a PHA file - and responses - I obtained from\n",
    "[version 1.1 of the Chandra Source Catalog](https://cxc.harvard.edu/csc/). I'm not trying to use a physically-motivated model here, just show how you can set up and evaluate a model expression to include the effects of the instrument model (i.e. the Ancillary Response Function, ARF, and Redistribution Matrix Function ,RMF)."
   ]
  },
  {
   "cell_type": "code",
   "execution_count": 4,
   "metadata": {},
   "outputs": [
    {
     "name": "stdout",
     "output_type": "stream",
     "text": [
      "\u001b[0m\u001b[01;31macisf01575_001N001_r0043_arf3.fits.gz\u001b[0m  \u001b[01;31macisf01575_001N001_r0043_rmf3.fits.gz\u001b[0m\r\n",
      "\u001b[01;31macisf01575_001N001_r0043_pha3.fits.gz\u001b[0m\r\n"
     ]
    }
   ],
   "source": [
    "ls data/pha"
   ]
  },
  {
   "cell_type": "markdown",
   "metadata": {},
   "source": [
    "## A simple fit using the UI layer\n",
    "\n",
    "This section shows some common steps taken when analysing PHA data using the UI layer. I shall\n",
    "be attempting to recreate them using the object API below!"
   ]
  },
  {
   "cell_type": "code",
   "execution_count": 5,
   "metadata": {},
   "outputs": [
    {
     "name": "stdout",
     "output_type": "stream",
     "text": [
      "read ARF file data/pha/acisf01575_001N001_r0043_arf3.fits\n",
      "read RMF file data/pha/acisf01575_001N001_r0043_rmf3.fits\n",
      "read background file data/pha/acisf01575_001N001_r0043_pha3.fits\n"
     ]
    }
   ],
   "source": [
    "ui.load_pha('data/pha/acisf01575_001N001_r0043_pha3.fits.gz')"
   ]
  },
  {
   "cell_type": "markdown",
   "metadata": {},
   "source": [
    "Since I do not have the XSPEC models available in this version of Sherpa I am going to\n",
    "restrict to a non-physical fit (a straight power law with no absorption component):"
   ]
  },
  {
   "cell_type": "code",
   "execution_count": 6,
   "metadata": {},
   "outputs": [
    {
     "name": "stdout",
     "output_type": "stream",
     "text": [
      "Dataset               = 1\n",
      "Method                = levmar\n",
      "Statistic             = chi2gehrels\n",
      "Initial fit statistic = 14098.2\n",
      "Final fit statistic   = 44.3833 at function evaluation 22\n",
      "Data points           = 58\n",
      "Degrees of freedom    = 56\n",
      "Probability [Q-value] = 0.868671\n",
      "Reduced statistic     = 0.792559\n",
      "Change in statistic   = 14053.8\n",
      "   pl.gamma       2.25192     \n",
      "   pl.ampl        4.60287e-05 \n"
     ]
    },
    {
     "data": {
      "image/png": "[encoded data removed]",
      "text/plain": [
       "<matplotlib.figure.Figure at 0x7f88cf143e80>"
      ]
     },
     "metadata": {},
     "output_type": "display_data"
    }
   ],
   "source": [
    "ui.set_source(ui.powlaw1d.pl)\n",
    "ui.subtract()\n",
    "pl.ampl = 1e-4\n",
    "ui.get_data_plot_prefs()['xlog'] = True\n",
    "ui.get_data_plot_prefs()['ylog'] = True\n",
    "ui.group_counts(20)\n",
    "ui.notice(0.5, 8)\n",
    "ui.fit()\n",
    "ui.plot_fit_delchi()"
   ]
  },
  {
   "cell_type": "markdown",
   "metadata": {},
   "source": [
    "Let's also do some basic error analysis:"
   ]
  },
  {
   "cell_type": "code",
   "execution_count": 7,
   "metadata": {},
   "outputs": [
    {
     "name": "stdout",
     "output_type": "stream",
     "text": [
      "Dataset               = 1\n",
      "Confidence Method     = covariance\n",
      "Iterative Fit Method  = None\n",
      "Fitting Method        = levmar\n",
      "Statistic             = chi2gehrels\n",
      "covariance 1-sigma (68.2689%) bounds:\n",
      "   Param            Best-Fit  Lower Bound  Upper Bound\n",
      "   -----            --------  -----------  -----------\n",
      "   pl.gamma          2.25192   -0.0572124    0.0572124\n",
      "   pl.ampl       4.60287e-05 -1.51642e-06  1.51642e-06\n"
     ]
    }
   ],
   "source": [
    "ui.covar()"
   ]
  },
  {
   "cell_type": "code",
   "execution_count": 8,
   "metadata": {},
   "outputs": [
    {
     "name": "stdout",
     "output_type": "stream",
     "text": [
      "pl.ampl lower bound:\t-1.51642e-06\n",
      "pl.ampl upper bound:\t1.51642e-06\n",
      "pl.gamma lower bound:\t-0.0565873\n",
      "pl.gamma upper bound:\t0.0578375\n",
      "Dataset               = 1\n",
      "Confidence Method     = confidence\n",
      "Iterative Fit Method  = None\n",
      "Fitting Method        = levmar\n",
      "Statistic             = chi2gehrels\n",
      "confidence 1-sigma (68.2689%) bounds:\n",
      "   Param            Best-Fit  Lower Bound  Upper Bound\n",
      "   -----            --------  -----------  -----------\n",
      "   pl.gamma          2.25192   -0.0565873    0.0578375\n",
      "   pl.ampl       4.60287e-05 -1.51642e-06  1.51642e-06\n"
     ]
    }
   ],
   "source": [
    "ui.conf()"
   ]
  },
  {
   "cell_type": "markdown",
   "metadata": {},
   "source": [
    "The results of both of these are stored for later (hardly-ominous forshadowing):"
   ]
  },
  {
   "cell_type": "code",
   "execution_count": 9,
   "metadata": {
    "collapsed": true
   },
   "outputs": [],
   "source": [
    "covar_ui = ui.get_covar_results()\n",
    "conf_ui = ui.get_conf_results()"
   ]
  },
  {
   "cell_type": "markdown",
   "metadata": {},
   "source": [
    "This section is finished off by a quick interval-projection plot, to see how sensitive the fit is to the `gamma` parameter of the powerlaw, and a look at the best-fit statistic value:"
   ]
  },
  {
   "cell_type": "code",
   "execution_count": 10,
   "metadata": {
    "scrolled": true
   },
   "outputs": [
    {
     "data": {
      "image/png": "[encoded data removed]",
      "text/plain": [
       "<matplotlib.figure.Figure at 0x7f88cc0c3978>"
      ]
     },
     "metadata": {},
     "output_type": "display_data"
    }
   ],
   "source": [
    "ui.int_proj(pl.gamma, min=2, max=2.5, nloop=51)"
   ]
  },
  {
   "cell_type": "code",
   "execution_count": 11,
   "metadata": {},
   "outputs": [
    {
     "name": "stdout",
     "output_type": "stream",
     "text": [
      "44.383283673541435\n"
     ]
    }
   ],
   "source": [
    "stat_ui = ui.calc_stat()\n",
    "print(stat_ui)"
   ]
  },
  {
   "cell_type": "markdown",
   "metadata": {},
   "source": [
    "---"
   ]
  },
  {
   "cell_type": "markdown",
   "metadata": {},
   "source": [
    "## How do I recreate this with the object API?\n",
    "\n",
    "I have split up the above into several steps:\n",
    "\n",
    "  - load the data and responses\n",
    "  - adjust the data\n",
    "  - create the model\n",
    "  - fit\n",
    "  - error analysis"
   ]
  },
  {
   "cell_type": "markdown",
   "metadata": {},
   "source": [
    "### Load the data and responses\n",
    "\n",
    "This uses the `sherpa.astro.io` module directly, which may not be a good idea (it's not clear to me yet whether this module is well suited for general use), but it's what is currently easiest:"
   ]
  },
  {
   "cell_type": "code",
   "execution_count": 12,
   "metadata": {
    "collapsed": true
   },
   "outputs": [],
   "source": [
    "from sherpa.astro.io import read_pha"
   ]
  },
  {
   "cell_type": "code",
   "execution_count": 13,
   "metadata": {},
   "outputs": [
    {
     "name": "stdout",
     "output_type": "stream",
     "text": [
      "read ARF file data/pha/acisf01575_001N001_r0043_arf3.fits\n",
      "read RMF file data/pha/acisf01575_001N001_r0043_rmf3.fits\n",
      "read background file data/pha/acisf01575_001N001_r0043_pha3.fits\n",
      "name           = data/pha/acisf01575_001N001_r0043_pha3.fits.gz\n",
      "channel        = Float64[1024]\n",
      "counts         = Float64[1024]\n",
      "staterror      = None\n",
      "syserror       = None\n",
      "bin_lo         = None\n",
      "bin_hi         = None\n",
      "grouping       = None\n",
      "quality        = None\n",
      "exposure       = 37664.1572192\n",
      "backscal       = 1.00769102573e-06\n",
      "areascal       = 1.0\n",
      "grouped        = False\n",
      "subtracted     = False\n",
      "units          = energy\n",
      "rate           = True\n",
      "plot_fac       = 0\n",
      "response_ids   = [1]\n",
      "background_ids = [1]\n"
     ]
    }
   ],
   "source": [
    "pha = read_pha('data/pha/acisf01575_001N001_r0043_pha3.fits.gz')\n",
    "print(pha)"
   ]
  },
  {
   "cell_type": "markdown",
   "metadata": {},
   "source": [
    "In this particular case the PHA file has `ANCRFILE` and `RESPFILE` keywords set, so that the ARF and RMF can be automatically loaded. If they weren't then I would have had to say\n",
    "\n",
    "    from sherpa.astro.io import read_arf, read_rmf\n",
    "    arf = read_arf(arfname)\n",
    "    rmf = read_rmf(rmfname)\n",
    "    pha.set_arf(arf)\n",
    "    pha.set_rmf(rmf)\n",
    "    \n",
    "The object returned by `read_pha` is a an instance of the `sherpa.astro.data.DataPHA` class, which means that it can be used in the same wasy as the `Data1D` and `Data1DInt` classes in `sherpa.data`. For example, creating a plot (note that,\n",
    "unlike my \n",
    "[earlier plotting notebooks](http://nbviewer.ipython.org/github/DougBurke/sherpa-standalone-notebooks/blob/master/plotting%20using%20the%20lower-level%20routines.ipynb),\n",
    "I am using the classes from `sherpa.astro.plot` rather than `sherpa.plot`):"
   ]
  },
  {
   "cell_type": "code",
   "execution_count": 14,
   "metadata": {},
   "outputs": [
    {
     "data": {
      "image/png": "[encoded data removed]",
      "text/plain": [
       "<matplotlib.figure.Figure at 0x7f88cc318ef0>"
      ]
     },
     "metadata": {},
     "output_type": "display_data"
    }
   ],
   "source": [
    "from sherpa.astro.plot import DataPlot\n",
    "\n",
    "dplot = DataPlot()\n",
    "dplot.prepare(pha)\n",
    "dplot.plot()"
   ]
  },
  {
   "cell_type": "markdown",
   "metadata": {},
   "source": [
    "### Adjust the data\n",
    "\n",
    "The `pha` object can be controlled using methods with similar names to the functions from the `sherpa.astro.ui` module; e.g. to subtract the background, check the analysis setting, group the data, and filter an energy range I can say"
   ]
  },
  {
   "cell_type": "code",
   "execution_count": 15,
   "metadata": {},
   "outputs": [
    {
     "name": "stdout",
     "output_type": "stream",
     "text": [
      "Analysis setting: 'energy'\n",
      "Number of bins  = 1024\n",
      "Number of bins  = 66\n",
      "Number of bins  = 58\n"
     ]
    }
   ],
   "source": [
    "pha.subtract()\n",
    "print(\"Analysis setting: '{}'\".format(pha.get_analysis()))\n",
    "print(\"Number of bins  = {}\".format(len(pha.get_dep(filter=True))))\n",
    "pha.group_counts(20)\n",
    "print(\"Number of bins  = {}\".format(len(pha.get_dep(filter=True))))\n",
    "pha.notice(0.5, 8.0)\n",
    "print(\"Number of bins  = {}\".format(len(pha.get_dep(filter=True))))"
   ]
  },
  {
   "cell_type": "markdown",
   "metadata": {},
   "source": [
    "Re-creating the plot now gives a grouped and filtered view of the data:"
   ]
  },
  {
   "cell_type": "code",
   "execution_count": 16,
   "metadata": {},
   "outputs": [
    {
     "data": {
      "image/png": "[encoded data removed]",
      "text/plain": [
       "<matplotlib.figure.Figure at 0x7f88cc1a7c88>"
      ]
     },
     "metadata": {},
     "output_type": "display_data"
    }
   ],
   "source": [
    "dplot.prepare(pha)\n",
    "dplot.plot()"
   ]
  },
  {
   "cell_type": "markdown",
   "metadata": {},
   "source": [
    "### Create the model\n",
    "\n",
    "The first major difference to the `sherpa.astro.ui` layer is creating the source model, since we have to\n",
    "manually add the instrumental response (that is, include the RMF and ARF). Fortunately in this case it is\n",
    "relatively easy:"
   ]
  },
  {
   "cell_type": "code",
   "execution_count": 17,
   "metadata": {},
   "outputs": [
    {
     "name": "stdout",
     "output_type": "stream",
     "text": [
      "<sherpa.astro.instrument.Response1D object at 0x7f88cc3c5748>\n"
     ]
    }
   ],
   "source": [
    "from sherpa.astro.instrument import Response1D\n",
    "rsp = Response1D(pha)\n",
    "print(rsp)"
   ]
  },
  {
   "cell_type": "markdown",
   "metadata": {},
   "source": [
    "The `Response1D` object contains knowledge of the ARF, RMF, and PHA data sets, which means it can group and filter the evaluated model to match the data. Astute readers will note that it doesn't actually contain a model expression, so what do we have to do here? Thankfully it is simple process, in that we apply it to the model expression we want to evaluate (in this case a power law, but it can be a more-complex expression):"
   ]
  },
  {
   "cell_type": "code",
   "execution_count": 18,
   "metadata": {},
   "outputs": [],
   "source": [
    "from sherpa.models.basic import PowLaw1D\n",
    "\n",
    "pl = PowLaw1D('pl')\n",
    "mdl_expr = rsp(pl)"
   ]
  },
  {
   "cell_type": "markdown",
   "metadata": {},
   "source": [
    "The `Response1D` object can be thought of as acting as a [factory](https://en.wikipedia.org/wiki/Factory_%28object-oriented_programming%29) here, as the type of `mdl_expr` depends on whether the PHA data set contains an ARF or RMF."
   ]
  },
  {
   "cell_type": "code",
   "execution_count": 19,
   "metadata": {},
   "outputs": [
    {
     "name": "stdout",
     "output_type": "stream",
     "text": [
      "<class 'sherpa.astro.instrument.RSPModelPHA'>\n"
     ]
    }
   ],
   "source": [
    "print(type(mdl_expr))"
   ]
  },
  {
   "cell_type": "markdown",
   "metadata": {},
   "source": [
    "The basic model (i.e. without any knowledge of the ARF and RMF) is:"
   ]
  },
  {
   "cell_type": "code",
   "execution_count": 20,
   "metadata": {},
   "outputs": [
    {
     "name": "stdout",
     "output_type": "stream",
     "text": [
      "pl\n",
      "   Param        Type          Value          Min          Max      Units\n",
      "   -----        ----          -----          ---          ---      -----\n",
      "   pl.gamma     thawed            1          -10           10           \n",
      "   pl.ref       frozen            1 -3.40282e+38  3.40282e+38           \n",
      "   pl.ampl      thawed            1            0  3.40282e+38           \n"
     ]
    }
   ],
   "source": [
    "print(pl)"
   ]
  },
  {
   "cell_type": "markdown",
   "metadata": {},
   "source": [
    "The full model expression, including the ARF, exposure time, and RMF, is:"
   ]
  },
  {
   "cell_type": "code",
   "execution_count": 21,
   "metadata": {},
   "outputs": [
    {
     "name": "stdout",
     "output_type": "stream",
     "text": [
      "apply_rmf(apply_arf((37664.157219191 * pl)))\n",
      "   Param        Type          Value          Min          Max      Units\n",
      "   -----        ----          -----          ---          ---      -----\n",
      "   pl.gamma     thawed            1          -10           10           \n",
      "   pl.ref       frozen            1 -3.40282e+38  3.40282e+38           \n",
      "   pl.ampl      thawed            1            0  3.40282e+38           \n"
     ]
    }
   ],
   "source": [
    "print(mdl_expr)"
   ]
  },
  {
   "cell_type": "markdown",
   "metadata": {},
   "source": [
    "Both `pl` and `mdl_expr` are standard Sherpa models, in that they have parameter values, and can be evaluated directly. However, `pl` has no knowledge of the instrument model and so will interpret the input arguments directly, for example the bins 0.1-0.2, 0.2-0.3, ..., 0.9-1.0:"
   ]
  },
  {
   "cell_type": "code",
   "execution_count": 22,
   "metadata": {},
   "outputs": [
    {
     "name": "stdout",
     "output_type": "stream",
     "text": [
      "[ 0.69314718  0.40546511  0.28768207  0.22314355  0.18232156  0.15415068\n",
      "  0.13353139  0.11778304  0.10536052]\n"
     ]
    }
   ],
   "source": [
    "ebins = np.linspace(0.1, 1.0, 10)\n",
    "print(pl(ebins[:-1], ebins[1:]))"
   ]
  },
  {
   "cell_type": "markdown",
   "metadata": {},
   "source": [
    "The `mdl_expr` model however knows about the instrument model, which defines the evaluation grid, and so ignores the input arguments:"
   ]
  },
  {
   "cell_type": "code",
   "execution_count": 23,
   "metadata": {},
   "outputs": [
    {
     "name": "stdout",
     "output_type": "stream",
     "text": [
      "y1 and y2 are the same: True\n",
      "y1 and y3 are the same: True\n",
      "Output shape:              (1024,)\n",
      "Number of channels in PHA: 1024\n"
     ]
    }
   ],
   "source": [
    "y1 = mdl_expr(ebins[:-1], ebins[1:])\n",
    "y2 = mdl_expr([1, 2])\n",
    "y3 = mdl_expr([])\n",
    "\n",
    "print(\"y1 and y2 are the same: {}\".format((y1 == y2).all()))\n",
    "print(\"y1 and y3 are the same: {}\".format((y1 == y3).all()))\n",
    "\n",
    "print(\"Output shape:              {}\".format(y3.shape))\n",
    "print(\"Number of channels in PHA: {}\".format(len(pha.channel)))"
   ]
  },
  {
   "cell_type": "markdown",
   "metadata": {},
   "source": [
    "This can then be used to evaluate the model directly - e.g. to create plots - but it is important to understand what the units are (as the model is integrated and then passed through the ARF and RMF)."
   ]
  },
  {
   "cell_type": "code",
   "execution_count": 24,
   "metadata": {},
   "outputs": [
    {
     "data": {
      "image/png": "[encoded data removed]",
      "text/plain": [
       "<matplotlib.figure.Figure at 0x7f88cc282a58>"
      ]
     },
     "metadata": {},
     "output_type": "display_data"
    }
   ],
   "source": [
    "plt.plot(pha.channel, y1)\n",
    "plt.xlabel(\"Channel\")\n",
    "plt.ylabel(\"Counts\");"
   ]
  },
  {
   "cell_type": "markdown",
   "metadata": {},
   "source": [
    "### A trick\n",
    "\n",
    "A trick to determining what model expression to use is to load up a data set using the UI layer and then use the `sherpa.astro.ui.get_model` function. This can be useful for complicated cases, such as when multiple responses are in use (as you can get with Chandra and XMM grating spectra).\n",
    "\n",
    "An example, using the data we have already loaded:"
   ]
  },
  {
   "cell_type": "code",
   "execution_count": 25,
   "metadata": {},
   "outputs": [
    {
     "name": "stdout",
     "output_type": "stream",
     "text": [
      "apply_rmf(apply_arf((37664.157219191 * powlaw1d.pl)))\n",
      "   Param        Type          Value          Min          Max      Units\n",
      "   -----        ----          -----          ---          ---      -----\n",
      "   pl.gamma     thawed      2.25192          -10           10           \n",
      "   pl.ref       frozen            1 -3.40282e+38  3.40282e+38           \n",
      "   pl.ampl      thawed  4.60287e-05            0  3.40282e+38           \n"
     ]
    }
   ],
   "source": [
    "mdl_ui = ui.get_model()\n",
    "print(mdl_ui)"
   ]
  },
  {
   "cell_type": "code",
   "execution_count": 26,
   "metadata": {},
   "outputs": [
    {
     "name": "stdout",
     "output_type": "stream",
     "text": [
      "<class 'sherpa.astro.instrument.RSPModelPHA'>\n"
     ]
    }
   ],
   "source": [
    "print(type(mdl_ui))"
   ]
  },
  {
   "cell_type": "markdown",
   "metadata": {},
   "source": [
    "This can be compared to the model expression I created manually:"
   ]
  },
  {
   "cell_type": "code",
   "execution_count": 27,
   "metadata": {},
   "outputs": [
    {
     "name": "stdout",
     "output_type": "stream",
     "text": [
      "apply_rmf(apply_arf((37664.157219191 * pl)))\n",
      "   Param        Type          Value          Min          Max      Units\n",
      "   -----        ----          -----          ---          ---      -----\n",
      "   pl.gamma     thawed            1          -10           10           \n",
      "   pl.ref       frozen            1 -3.40282e+38  3.40282e+38           \n",
      "   pl.ampl      thawed            1            0  3.40282e+38           \n"
     ]
    }
   ],
   "source": [
    "print(mdl_expr)"
   ]
  },
  {
   "cell_type": "code",
   "execution_count": 28,
   "metadata": {},
   "outputs": [
    {
     "name": "stdout",
     "output_type": "stream",
     "text": [
      "<class 'sherpa.astro.instrument.RSPModelPHA'>\n"
     ]
    }
   ],
   "source": [
    "print(type(mdl_expr))"
   ]
  },
  {
   "cell_type": "markdown",
   "metadata": {},
   "source": [
    "Note that although both power law components are labelled as `pl` above, they refer to different objects, as shown by the fact the parameter values are different.\n",
    "\n",
    "### Fit\n",
    "\n",
    "Getting back to the analysis, I now need to create a `Fit` object to control the fit and error analysis. This is made slightly easier by my laziness above in using the default optimiser and statistic! Some of my\n",
    "[earlier notebooks](https://github.com/DougBurke/sherpa-standalone-notebooks) can be read to find out how to set up fits using non-default values."
   ]
  },
  {
   "cell_type": "code",
   "execution_count": 29,
   "metadata": {},
   "outputs": [],
   "source": [
    "from sherpa.fit import Fit\n",
    "\n",
    "f = Fit(pha, mdl_expr)"
   ]
  },
  {
   "cell_type": "markdown",
   "metadata": {},
   "source": [
    "The fit object now contains the data and model to use:"
   ]
  },
  {
   "cell_type": "code",
   "execution_count": 30,
   "metadata": {},
   "outputs": [
    {
     "name": "stdout",
     "output_type": "stream",
     "text": [
      "data      = data/pha/acisf01575_001N001_r0043_pha3.fits.gz\n",
      "model     = apply_rmf(apply_arf((37664.157219191 * pl)))\n",
      "stat      = Chi2Gehrels\n",
      "method    = LevMar\n",
      "estmethod = Covariance\n"
     ]
    }
   ],
   "source": [
    "print(f)"
   ]
  },
  {
   "cell_type": "markdown",
   "metadata": {},
   "source": [
    "Before starting the fit, let's just check the starting statistic (spoiler, it's not very good) and model values:"
   ]
  },
  {
   "cell_type": "code",
   "execution_count": 31,
   "metadata": {},
   "outputs": [
    {
     "name": "stdout",
     "output_type": "stream",
     "text": [
      "Starting statistic = 1907087634568.6655\n",
      "---------------------------------------------\n",
      "apply_rmf(apply_arf((37664.157219191 * pl)))\n",
      "   Param        Type          Value          Min          Max      Units\n",
      "   -----        ----          -----          ---          ---      -----\n",
      "   pl.gamma     thawed            1          -10           10           \n",
      "   pl.ref       frozen            1 -3.40282e+38  3.40282e+38           \n",
      "   pl.ampl      thawed            1            0  3.40282e+38           \n"
     ]
    }
   ],
   "source": [
    "print(\"Starting statistic = {}\".format(f.calc_stat()))\n",
    "print(\"---------------------------------------------\")\n",
    "print(mdl_expr)"
   ]
  },
  {
   "cell_type": "markdown",
   "metadata": {},
   "source": [
    "The fit itself is simple to run:"
   ]
  },
  {
   "cell_type": "code",
   "execution_count": 32,
   "metadata": {},
   "outputs": [],
   "source": [
    "fres = f.fit()\n",
    "if not fres.succeeded:\n",
    "    print(\"Eek\")"
   ]
  },
  {
   "cell_type": "markdown",
   "metadata": {},
   "source": [
    "Let's check the results"
   ]
  },
  {
   "cell_type": "code",
   "execution_count": 33,
   "metadata": {},
   "outputs": [
    {
     "name": "stdout",
     "output_type": "stream",
     "text": [
      "Method                = levmar\n",
      "Statistic             = chi2gehrels\n",
      "Initial fit statistic = 1.90709e+12\n",
      "Final fit statistic   = 44.3833 at function evaluation 25\n",
      "Data points           = 58\n",
      "Degrees of freedom    = 56\n",
      "Probability [Q-value] = 0.868671\n",
      "Reduced statistic     = 0.792559\n",
      "Change in statistic   = 1.90709e+12\n",
      "   pl.gamma       2.25191     \n",
      "   pl.ampl        4.60286e-05 \n"
     ]
    }
   ],
   "source": [
    "print(fres.format())"
   ]
  },
  {
   "cell_type": "markdown",
   "metadata": {},
   "source": [
    "How does the fit look, visually?"
   ]
  },
  {
   "cell_type": "code",
   "execution_count": 34,
   "metadata": {},
   "outputs": [
    {
     "data": {
      "image/png": "[encoded data removed]",
      "text/plain": [
       "<matplotlib.figure.Figure at 0x7f88cc38ce10>"
      ]
     },
     "metadata": {},
     "output_type": "display_data"
    }
   ],
   "source": [
    "from sherpa.astro.plot import ModelPlot, FitPlot, DelchiPlot\n",
    "from sherpa.plot import SplitPlot\n",
    "\n",
    "dplot = DataPlot()\n",
    "mplot = ModelPlot()\n",
    "fplot = FitPlot()\n",
    "rplot = DelchiPlot()\n",
    "\n",
    "# Match the axis scaling of the `plot_fit_delchi` plot earlier\n",
    "dplot.plot_prefs['xlog'] = True\n",
    "dplot.plot_prefs['ylog'] = True\n",
    "rplot.plot_prefs['xlog'] = True\n",
    "\n",
    "dplot.prepare(pha)\n",
    "mplot.prepare(pha, mdl_expr)\n",
    "fplot.prepare(dplot, mplot)\n",
    "rplot.prepare(pha, mdl_expr, stat=f.stat)\n",
    "\n",
    "# remove the title from the residual plot\n",
    "rplot.title = ''\n",
    "\n",
    "splot = SplitPlot()\n",
    "splot.addplot(fplot)\n",
    "splot.addplot(rplot)"
   ]
  },
  {
   "cell_type": "markdown",
   "metadata": {},
   "source": [
    "There is a [known issue](https://github.com/sherpa/sherpa/issues/378) in Sherpa 4.9.1 which causes residual plots to not show a line at y=0 when matplotlib version 2.0 is used."
   ]
  },
  {
   "cell_type": "markdown",
   "metadata": {},
   "source": [
    "### Error analysis\n",
    "\n",
    "The last thing left is to calculate the parameter errors. The default error estimator is `sherpa.estmethods.Covariance`, which is the same as used by the `sherpa.astro.ui.covar` routine:"
   ]
  },
  {
   "cell_type": "code",
   "execution_count": 35,
   "metadata": {},
   "outputs": [
    {
     "data": {
      "text/plain": [
       "<Covariance error-estimation method instance 'covariance'>"
      ]
     },
     "execution_count": 35,
     "metadata": {},
     "output_type": "execute_result"
    }
   ],
   "source": [
    "f.estmethod"
   ]
  },
  {
   "cell_type": "code",
   "execution_count": 36,
   "metadata": {
    "collapsed": true
   },
   "outputs": [],
   "source": [
    "covar = f.est_errors()"
   ]
  },
  {
   "cell_type": "markdown",
   "metadata": {},
   "source": [
    "The `format` method produces a display version of the results similar to that shown by `sherpa.astro.ui.covar`:"
   ]
  },
  {
   "cell_type": "code",
   "execution_count": 37,
   "metadata": {},
   "outputs": [
    {
     "name": "stdout",
     "output_type": "stream",
     "text": [
      "Confidence Method     = covariance\n",
      "Iterative Fit Method  = None\n",
      "Fitting Method        = levmar\n",
      "Statistic             = chi2gehrels\n",
      "covariance 1-sigma (68.2689%) bounds:\n",
      "   Param            Best-Fit  Lower Bound  Upper Bound\n",
      "   -----            --------  -----------  -----------\n",
      "   pl.gamma          2.25191   -0.0572121    0.0572121\n",
      "   pl.ampl       4.60286e-05 -1.51642e-06  1.51642e-06\n"
     ]
    }
   ],
   "source": [
    "print(covar.format())"
   ]
  },
  {
   "cell_type": "code",
   "execution_count": 38,
   "metadata": {
    "collapsed": true
   },
   "outputs": [],
   "source": [
    "from sherpa.estmethods import Confidence\n",
    "f.estmethod = Confidence()"
   ]
  },
  {
   "cell_type": "code",
   "execution_count": 39,
   "metadata": {},
   "outputs": [
    {
     "name": "stdout",
     "output_type": "stream",
     "text": [
      "pl.ampl lower bound:\t-1.51642e-06\n",
      "pl.ampl upper bound:\t1.51642e-06\n",
      "pl.gamma lower bound:\t-0.056587\n",
      "pl.gamma upper bound:\t0.0578371\n"
     ]
    }
   ],
   "source": [
    "conf = f.est_errors()"
   ]
  },
  {
   "cell_type": "code",
   "execution_count": 40,
   "metadata": {},
   "outputs": [
    {
     "name": "stdout",
     "output_type": "stream",
     "text": [
      "Confidence Method     = confidence\n",
      "Iterative Fit Method  = None\n",
      "Fitting Method        = levmar\n",
      "Statistic             = chi2gehrels\n",
      "confidence 1-sigma (68.2689%) bounds:\n",
      "   Param            Best-Fit  Lower Bound  Upper Bound\n",
      "   -----            --------  -----------  -----------\n",
      "   pl.gamma          2.25191    -0.056587    0.0578371\n",
      "   pl.ampl       4.60286e-05 -1.51642e-06  1.51642e-06\n"
     ]
    }
   ],
   "source": [
    "print(conf.format())"
   ]
  },
  {
   "cell_type": "markdown",
   "metadata": {},
   "source": [
    "Let's compare the results numerically (this is just a demonstration, so only a limited number of fields are checked, but the values look pretty similar):"
   ]
  },
  {
   "cell_type": "code",
   "execution_count": 41,
   "metadata": {},
   "outputs": [
    {
     "name": "stdout",
     "output_type": "stream",
     "text": [
      "covar   parvals\n",
      "(2.2519165807242025, 4.6028655901427403e-05)\n",
      "(2.2519077750835628, 4.6028620906346527e-05)\n",
      "\n",
      "covar   parmaxes\n",
      "(0.057212387026978465, 1.5164177626827971e-06)\n",
      "(0.057212051752793029, 1.5164196798706763e-06)\n",
      "\n",
      "conf    parvals\n",
      "(2.2519165807242025, 4.6028655901427403e-05)\n",
      "(2.2519077750835628, 4.6028620906346527e-05)\n",
      "\n",
      "conf    parmaxes\n",
      "(0.057837455844384156, 1.5164177626827952e-06)\n",
      "(0.057837120569926626, 1.5164196798706731e-06)\n",
      "\n"
     ]
    }
   ],
   "source": [
    "for lbl, old, new in zip([\"covar\", \"conf\"], [covar_ui, conf_ui], [covar, conf]):\n",
    "    for field in [\"parvals\", \"parmaxes\"]:\n",
    "        print(\"{:6s}  {}\".format(lbl, field))\n",
    "        print(getattr(old, field))\n",
    "        print(getattr(new, field))\n",
    "        print(\"\")"
   ]
  },
  {
   "cell_type": "markdown",
   "metadata": {},
   "source": [
    "Calculating the interval-projection is a little-more involved:"
   ]
  },
  {
   "cell_type": "code",
   "execution_count": 42,
   "metadata": {
    "collapsed": true
   },
   "outputs": [],
   "source": [
    "from sherpa.plot import IntervalProjection"
   ]
  },
  {
   "cell_type": "code",
   "execution_count": 43,
   "metadata": {
    "collapsed": true
   },
   "outputs": [],
   "source": [
    "iproj = IntervalProjection()\n",
    "iproj.prepare(min=2, max=2.5, nloop=51)\n",
    "\n",
    "# The following line performs the calculation, so can take some time if the number\n",
    "# of iterations is high or there are many free parameters.\n",
    "iproj.calc(f, pl.gamma)"
   ]
  },
  {
   "cell_type": "code",
   "execution_count": 44,
   "metadata": {},
   "outputs": [
    {
     "data": {
      "image/png": "[encoded data removed]",
      "text/plain": [
       "<matplotlib.figure.Figure at 0x7f88cbf0db38>"
      ]
     },
     "metadata": {},
     "output_type": "display_data"
    }
   ],
   "source": [
    "iproj.plot()"
   ]
  },
  {
   "cell_type": "markdown",
   "metadata": {},
   "source": [
    "The fit object is used to calculate the statistic value; fortunately it agrees with the earlier version."
   ]
  },
  {
   "cell_type": "code",
   "execution_count": 45,
   "metadata": {},
   "outputs": [
    {
     "name": "stdout",
     "output_type": "stream",
     "text": [
      "Statistic = 44.38328379071803 vs 44.383283673541435\n"
     ]
    }
   ],
   "source": [
    "stat = f.calc_stat()\n",
    "print(\"Statistic = {} vs {}\".format(stat, stat_ui))"
   ]
  },
  {
   "cell_type": "markdown",
   "metadata": {},
   "source": [
    "## Bonus stuff\n",
    "\n",
    "A bonus for reading this far is the following exploration of explicit model and data evaluation. The `eval_model` method of the `DataPHA` object will evaluate the model on the full grid (so all 1024 channels), whereas `eval_model_to_fit` applies any filters and grouping. This explains the difference in the number of elements shown below:"
   ]
  },
  {
   "cell_type": "code",
   "execution_count": 46,
   "metadata": {},
   "outputs": [
    {
     "data": {
      "text/plain": [
       "(1024,)"
      ]
     },
     "execution_count": 46,
     "metadata": {},
     "output_type": "execute_result"
    }
   ],
   "source": [
    "pha.eval_model(mdl_expr).shape"
   ]
  },
  {
   "cell_type": "code",
   "execution_count": 47,
   "metadata": {},
   "outputs": [
    {
     "data": {
      "text/plain": [
       "(58,)"
      ]
     },
     "execution_count": 47,
     "metadata": {},
     "output_type": "execute_result"
    }
   ],
   "source": [
    "pha.eval_model_to_fit(mdl_expr).shape"
   ]
  },
  {
   "cell_type": "code",
   "execution_count": 48,
   "metadata": {
    "collapsed": true
   },
   "outputs": [],
   "source": [
    "mdl_vals = pha.eval_model_to_fit(mdl_expr)"
   ]
  },
  {
   "cell_type": "markdown",
   "metadata": {},
   "source": [
    "The trick is working out sensible values for the independent axis (i.e. the channels, or energy, or wavelengths) for the filtered and grouped data. The `apply_filter` method will filter an array (whose length should match the number of channels, so in this case 1024 elements) to match the data, and then apply a grouping function to calculate the per-group value. The default grouping function is to sum the values, but there are options to return the minimum, maxium, or the average of the minimum and maximum values in a group.\n",
    "\n",
    "There is also an `apply_grouping` method which just performs the grouping (i.e. does not apply any filtering), but for now I am going to stick with `apply_filter`. Here I create three arrays, which give the middle, left, and right values for each group of channels."
   ]
  },
  {
   "cell_type": "code",
   "execution_count": 49,
   "metadata": {},
   "outputs": [],
   "source": [
    "chan_mid = pha.apply_filter(pha.channel, groupfunc=pha._middle)\n",
    "chan_min = pha.apply_filter(pha.channel, groupfunc=pha._min)\n",
    "chan_max = pha.apply_filter(pha.channel, groupfunc=pha._max)\n",
    "\n",
    "# This will be useful below, so calculate the number of channels in each group\n",
    "nchans = 1 + chan_max - chan_min"
   ]
  },
  {
   "cell_type": "markdown",
   "metadata": {},
   "source": [
    "These values can be used to create a histogram plot (using the `chan_min` and `chan_max` values) or a line plot:"
   ]
  },
  {
   "cell_type": "code",
   "execution_count": 50,
   "metadata": {},
   "outputs": [
    {
     "data": {
      "image/png": "[encoded data removed]",
      "text/plain": [
       "<matplotlib.figure.Figure at 0x7f88cbf625f8>"
      ]
     },
     "metadata": {},
     "output_type": "display_data"
    }
   ],
   "source": [
    "plt.bar(left=chan_min, height=mdl_vals, width=nchans, align='edge')\n",
    "plt.plot(chan_mid, mdl_vals, 'k')\n",
    "plt.xscale('log')\n",
    "plt.xlabel('Channel')\n",
    "plt.ylabel('Counts');"
   ]
  },
  {
   "cell_type": "markdown",
   "metadata": {},
   "source": [
    "This does not match the earlier plots - e.g. created by `sherpa.astro.ui.plot_fit` or the `sherpa.astro.plot.DataPlot` class - because the Y axis here has not been normalized by the bin width (as well as the more prosaic fact that the earlier plots used energy rather than channel for the X axis):"
   ]
  },
  {
   "cell_type": "code",
   "execution_count": 51,
   "metadata": {},
   "outputs": [
    {
     "data": {
      "image/png": "[encoded data removed]",
      "text/plain": [
       "<matplotlib.figure.Figure at 0x7f88cc503470>"
      ]
     },
     "metadata": {},
     "output_type": "display_data"
    }
   ],
   "source": [
    "dplot_chan = DataPlot()\n",
    "pha.set_analysis('channel')\n",
    "dplot_chan.prepare(pha)\n",
    "\n",
    "dplot_chan.plot()"
   ]
  },
  {
   "cell_type": "markdown",
   "metadata": {},
   "source": [
    "To be able to visually compare the model values I have just calculated to the data - as plotted by `DataPlot` - I have to normalize by both the bin width (in channels) *and* the exposure time:"
   ]
  },
  {
   "cell_type": "code",
   "execution_count": 52,
   "metadata": {},
   "outputs": [
    {
     "data": {
      "image/png": "[encoded data removed]",
      "text/plain": [
       "<matplotlib.figure.Figure at 0x7f88cc2cd358>"
      ]
     },
     "metadata": {},
     "output_type": "display_data"
    }
   ],
   "source": [
    "dplot_chan.plot()\n",
    "plt.plot(chan_mid, mdl_vals / nchans / pha.exposure, '-')\n",
    "plt.yscale('log')"
   ]
  },
  {
   "cell_type": "markdown",
   "metadata": {},
   "source": [
    "To get the equivalent \"energy\" plot is a bit-more complicated, and I'm not convinced the following should be considered the \"official\" approach, but it works for me here! The idea is to use the `E_MIN` and `E_MAX` columns from the RMF - these give a \"hand-wavy\" approximation to the energies for each channel - to get the minimum and maximum energies for each group, and then manually create the center of each group:"
   ]
  },
  {
   "cell_type": "code",
   "execution_count": 53,
   "metadata": {},
   "outputs": [],
   "source": [
    "elo = pha.apply_filter(mdl_expr.rmf.e_min, groupfunc=pha._min)\n",
    "ehi = pha.apply_filter(mdl_expr.rmf.e_max, groupfunc=pha._max)\n",
    "\n",
    "emid = (elo + ehi) / 2.0\n",
    "ewidth = ehi - elo"
   ]
  },
  {
   "cell_type": "markdown",
   "metadata": {},
   "source": [
    "This gives a reasonable looking model fit to the data (given that this is not meant to be a physically-motivated fit!):"
   ]
  },
  {
   "cell_type": "code",
   "execution_count": 54,
   "metadata": {},
   "outputs": [
    {
     "data": {
      "image/png": "[encoded data removed]",
      "text/plain": [
       "<matplotlib.figure.Figure at 0x7f88cc335278>"
      ]
     },
     "metadata": {},
     "output_type": "display_data"
    }
   ],
   "source": [
    "dplot.plot()\n",
    "plt.plot(emid, mdl_vals / ewidth / pha.exposure, '-');"
   ]
  },
  {
   "cell_type": "markdown",
   "metadata": {},
   "source": [
    "As a further check, here I overplot the values I calculate - as the dotted orange line - on top of the model plot created by Sherpa's `ModelPlot` class, and we can see that there's good agreement."
   ]
  },
  {
   "cell_type": "code",
   "execution_count": 55,
   "metadata": {},
   "outputs": [
    {
     "data": {
      "image/png": "[encoded data removed]",
      "text/plain": [
       "<matplotlib.figure.Figure at 0x7f88cbfb4fd0>"
      ]
     },
     "metadata": {},
     "output_type": "display_data"
    }
   ],
   "source": [
    "mplot.plot()\n",
    "plt.plot(emid, mdl_vals / ewidth / pha.exposure, linestyle='dotted', lw=4);"
   ]
  },
  {
   "cell_type": "markdown",
   "metadata": {},
   "source": [
    "## Bonus bonus stuff\n",
    "\n",
    "Or should that be \"Bonus$^2$ stuff\"?\n",
    "\n",
    "So far this analysis has required a PHA file along with the ARF and RMF, but it's possible to just work with the instrument responses."
   ]
  },
  {
   "cell_type": "code",
   "execution_count": 56,
   "metadata": {
    "collapsed": true
   },
   "outputs": [],
   "source": [
    "from sherpa.astro.instrument import ARF1D, RMF1D\n",
    "from sherpa.astro.io import read_arf, read_rmf"
   ]
  },
  {
   "cell_type": "code",
   "execution_count": 57,
   "metadata": {
    "collapsed": true
   },
   "outputs": [],
   "source": [
    "arf = read_arf('data/pha/acisf01575_001N001_r0043_arf3.fits.gz')\n",
    "rmf = read_rmf('data/pha/acisf01575_001N001_r0043_rmf3.fits.gz')\n",
    "\n",
    "arf_model = ARF1D(arf)\n",
    "rmf_model = RMF1D(rmf)\n",
    "full_expr = rmf_model(arf_model(pl))"
   ]
  },
  {
   "cell_type": "code",
   "execution_count": 58,
   "metadata": {},
   "outputs": [
    {
     "name": "stdout",
     "output_type": "stream",
     "text": [
      "<class 'sherpa.astro.instrument.RMFModelNoPHA'>\n"
     ]
    }
   ],
   "source": [
    "print(type(full_expr))"
   ]
  },
  {
   "cell_type": "code",
   "execution_count": 59,
   "metadata": {},
   "outputs": [
    {
     "name": "stdout",
     "output_type": "stream",
     "text": [
      "apply_rmf(apply_arf((37664.157219191 * pl)))\n",
      "   Param        Type          Value          Min          Max      Units\n",
      "   -----        ----          -----          ---          ---      -----\n",
      "   pl.gamma     thawed      2.25191          -10           10           \n",
      "   pl.ref       frozen            1 -3.40282e+38  3.40282e+38           \n",
      "   pl.ampl      thawed  4.60286e-05            0  3.40282e+38           \n"
     ]
    }
   ],
   "source": [
    "print(full_expr)"
   ]
  },
  {
   "cell_type": "markdown",
   "metadata": {},
   "source": [
    "Since there is no PHA, there is no fitlering or grouping, which makes evaluation a bit simpler than above:"
   ]
  },
  {
   "cell_type": "code",
   "execution_count": 60,
   "metadata": {},
   "outputs": [],
   "source": [
    "x = np.arange(rmf.offset, rmf.offset + rmf.detchans)\n",
    "y = full_expr([])  # there just has to be an array-like argu,ent, but its value is ignored"
   ]
  },
  {
   "cell_type": "markdown",
   "metadata": {},
   "source": [
    "To finish off, I plot the values calculated using this approach, and overplot the previously-calculated values (to show that you get similar results): "
   ]
  },
  {
   "cell_type": "code",
   "execution_count": 61,
   "metadata": {},
   "outputs": [
    {
     "data": {
      "image/png": "[encoded data removed]",
      "text/plain": [
       "<matplotlib.figure.Figure at 0x7f88cc3f3080>"
      ]
     },
     "metadata": {},
     "output_type": "display_data"
    }
   ],
   "source": [
    "plt.plot(x, y)\n",
    "plt.loglog()\n",
    "plt.xlim(5, 1100)\n",
    "plt.ylim(1e-2, 100)\n",
    "\n",
    "plt.xlabel('Channel')\n",
    "plt.ylabel('Counts per channel')\n",
    "\n",
    "# Overplot the \"grouped\" values I calculated earlier\n",
    "plt.plot(chan_mid, mdl_vals / nchans);"
   ]
  },
  {
   "cell_type": "markdown",
   "metadata": {},
   "source": [
    "Thanks for reading this far!"
   ]
  }
 ],
 "metadata": {
  "kernelspec": {
   "display_name": "Python 3",
   "language": "python",
   "name": "python3"
  },
  "language_info": {
   "codemirror_mode": {
    "name": "ipython",
    "version": 3
   },
   "file_extension": ".py",
   "mimetype": "text/x-python",
   "name": "python",
   "nbconvert_exporter": "python",
   "pygments_lexer": "ipython3",
   "version": "3.6.2"
  }
 },
 "nbformat": 4,
 "nbformat_minor": 2
}
