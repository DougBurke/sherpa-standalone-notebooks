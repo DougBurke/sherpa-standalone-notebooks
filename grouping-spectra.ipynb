{
 "cells": [
  {
   "cell_type": "markdown",
   "metadata": {},
   "source": [
    "# Grouping spectra\n",
    "\n",
    "This is a (hopefully) short notebook about grouping of PHA spectra in Sherpa. I'm not planning to discuss\n",
    "everythng you can do, but let's see how this goes. The problem is that the addition of grouping support\n",
    "for PHA spectra complicates the API (are we working on the grouped or ungrouped data), so it's not as easy as I would like it to be to get at the data we want.\n",
    "\n",
    "## Setting up\n",
    "\n",
    "The notebook assumes you have CIAO 4.11 installed, since it comes with Jupyter notebook support, so you\n",
    "should just have to run the following command from your shell (in the directory that contains `grouping-spectra.ipynb` and the `3c273*` files:\n",
    "\n",
    "    % jupyter notebook\n",
    "    ...\n",
    "    ... a lot of screen output\n",
    "    ...\n",
    "    \n",
    "If you already have a web browser running then you will hopefully have a tab opened for you that lets\n",
    "you start up this notebook, otherwise the screen output will show you the web address to use.\n",
    "\n",
    "## When was this last run, and with that version of Sherpa?"
   ]
  },
  {
   "cell_type": "code",
   "execution_count": 1,
   "metadata": {},
   "outputs": [
    {
     "data": {
      "text/plain": [
       "'Tue Mar 12 12:03:30 2019'"
      ]
     },
     "execution_count": 1,
     "metadata": {},
     "output_type": "execute_result"
    }
   ],
   "source": [
    "import time\n",
    "time.ctime()"
   ]
  },
  {
   "cell_type": "code",
   "execution_count": 2,
   "metadata": {},
   "outputs": [
    {
     "name": "stdout",
     "output_type": "stream",
     "text": [
      "Name: sherpa\n",
      "Version: ciao4.11\n",
      "Summary: Modeling and fitting package for scientific data analysis\n",
      "Home-page: http://cxc.harvard.edu/sherpa/\n",
      "Author: Smithsonian Astrophysical Observatory / Chandra X-Ray Center\n",
      "Author-email: cxchelp@head.cfa.harvard.edu\n",
      "License: GNU GPL v3\n",
      "Location: /home/dburke/local/ciao-4.11/lib/python3.5/site-packages/sherpa-ciao4.11-py3.5-linux-x86_64.egg\n",
      "Requires: numpy, six\n",
      "\u001b[33mYou are using pip version 9.0.1, however version 19.0.3 is available.\n",
      "You should consider upgrading via the 'pip install --upgrade pip' command.\u001b[0m\n"
     ]
    }
   ],
   "source": [
    "!pip show sherpa"
   ]
  },
  {
   "cell_type": "markdown",
   "metadata": {},
   "source": [
    "Note that the notebook works best when you are using the Matplotlib plotting backend for Sherpa\n",
    "rather than the ChIPS one. This choice is made by editing a configuration file (`.sherpa.rc` in your\n",
    "home directory) which is read the first time the Sherpa module is loaded. This means it has to be\n",
    "changed before you import Sherpa. The `plot_pkg` setting should say `pylab` and not `chips` (in this\n",
    "file, starting a line with '#' means it is a comment line and so ignored)."
   ]
  },
  {
   "cell_type": "code",
   "execution_count": 3,
   "metadata": {},
   "outputs": [
    {
     "name": "stdout",
     "output_type": "stream",
     "text": [
      "# plot_pkg   : chips\r\n",
      "plot_pkg : pylab\r\n"
     ]
    }
   ],
   "source": [
    "!grep plot_pkg ~/.sherpa.rc"
   ]
  },
  {
   "cell_type": "markdown",
   "metadata": {},
   "source": [
    "The following command doesn't appear to be necessary, but I include it to indicate I expect the\n",
    "Matplotlib plots to appear within the notebook), and then load in NumPy and Matplotlib for later use."
   ]
  },
  {
   "cell_type": "code",
   "execution_count": 4,
   "metadata": {},
   "outputs": [],
   "source": [
    "%matplotlib inline\n",
    "\n",
    "import numpy as np\n",
    "from matplotlib import pyplot as plt"
   ]
  },
  {
   "cell_type": "markdown",
   "metadata": {},
   "source": [
    "## Setting up\n",
    "\n",
    "I am going to load up the `3c273` data set up an absorbed powerlaw - with parameter values taken\n",
    "from a fit - just so that we have some data to work with:"
   ]
  },
  {
   "cell_type": "code",
   "execution_count": 5,
   "metadata": {
    "scrolled": true
   },
   "outputs": [
    {
     "name": "stdout",
     "output_type": "stream",
     "text": [
      "WARNING: systematic errors were not found in file 'data/pha/3c273.pi'\n",
      "statistical errors were found in file 'data/pha/3c273.pi' \n",
      "but not used; to use them, re-read with use_errors=True\n",
      "read ARF file data/pha/3c273.arf\n",
      "read RMF file data/pha/3c273.rmf\n",
      "WARNING: systematic errors were not found in file 'data/pha/3c273_bg.pi'\n",
      "statistical errors were found in file 'data/pha/3c273_bg.pi' \n",
      "but not used; to use them, re-read with use_errors=True\n",
      "read background file data/pha/3c273_bg.pi\n"
     ]
    }
   ],
   "source": [
    "from sherpa.astro import ui\n",
    "\n",
    "ui.load_pha('data/pha/3c273.pi')\n",
    "ui.subtract()\n",
    "\n",
    "ui.notice(0.5, 7.0)\n",
    "\n",
    "ui.set_source(ui.xsphabs.gal * ui.powlaw1d.pl)\n",
    "\n",
    "gal.nh = 0.03616\n",
    "pl.gamma = 2.0322\n",
    "pl.ampl = 1.969e-4"
   ]
  },
  {
   "cell_type": "markdown",
   "metadata": {},
   "source": [
    "With this setup we can create a plot of the grouped (and filtered) data, along\n",
    "with the best-fit model:"
   ]
  },
  {
   "cell_type": "code",
   "execution_count": 6,
   "metadata": {},
   "outputs": [
    {
     "data": {
      "image/png": "[encoded data removed]",
      "text/plain": [
       "<Figure size 432x288 with 1 Axes>"
      ]
     },
     "metadata": {
      "needs_background": "light"
     },
     "output_type": "display_data"
    }
   ],
   "source": [
    "ui.set_xlog()\n",
    "ui.set_ylog()\n",
    "ui.plot_fit()"
   ]
  },
  {
   "cell_type": "markdown",
   "metadata": {},
   "source": [
    "## Can I access the data used to create the plot?\n",
    "\n",
    "We have accessor routines that represent the data used in the plot, but I also hope to show\n",
    "how you can re-create this data (or at least some of the data) manually below.\n",
    "\n",
    "First, with the accessor routines:\n",
    "\n",
    " - [get_data_plot](https://sherpa.readthedocs.io/en/4.11.0/ui/api/sherpa.astro.ui.get_data_plot.html)\n",
    " - [get_model_plot](https://sherpa.readthedocs.io/en/4.11.0/ui/api/sherpa.astro.ui.get_model_plot.html)\n",
    " - [get_fit_plot](https://sherpa.readthedocs.io/en/4.11.0/ui/api/sherpa.astro.ui.get_fit_plot.html)\n",
    " \n",
    "### A note on documentation links\n",
    "\n",
    "I am going to use the documentation from the \n",
    "[\"standalone\" version of Sherpa](https://sherpa.readthedocs.io/en/4.11.0/) rather than CIAO,\n",
    "as they are better integrated with the Sherpa API - that is, you can get to some of the\n",
    "class-based documentation such as\n",
    "[the DataPlot class](https://sherpa.readthedocs.io/en/4.11.0/plots/api/sherpa.astro.plot.DataPlot.html).\n",
    "\n",
    "### Back to the scheduled programming\n",
    "\n",
    "The `get_xxx_plot` routines return an object that contains the data needed to create the plot,\n",
    "and are evaluated at the time they are called (that is, if you call `plot_fit`, then change the\n",
    "energy filter or alter  model parameter, and then call `get_fit_plot` the results will\n",
    "represent the changes you have just made, not the data used to create the on-screen plot).\n",
    "\n",
    "I start with the `fit` plot which is a combination of a `data` plot and a `model` plot:"
   ]
  },
  {
   "cell_type": "code",
   "execution_count": 7,
   "metadata": {},
   "outputs": [
    {
     "data": {
      "text/plain": [
       "<sherpa.plot.FitPlot at 0x7f296425f400>"
      ]
     },
     "execution_count": 7,
     "metadata": {},
     "output_type": "execute_result"
    }
   ],
   "source": [
    "fplot = ui.get_fit_plot()\n",
    "fplot"
   ]
  },
  {
   "cell_type": "markdown",
   "metadata": {},
   "source": [
    "The `dataplot` and `modelplot` attributes contain\n",
    "[`DataPlot`](https://sherpa.readthedocs.io/en/4.11.0/plots/api/sherpa.astro.plot.DataPlot.html)\n",
    "and\n",
    "[`ModelPlot`](https://sherpa.readthedocs.io/en/4.11.0/plots/api/sherpa.astro.plot.ModelPlot.html)\n",
    "instances respectively (in this case they are the same as calling `get_data_plot` and `get_model_plot` [$*$]):\n",
    "\n",
    "[$*$] actually, turns out I mis-spoke here: the model plot created by fit is not a histogram, but if you use `get_model_plot` - as [discussed below](#Can-I-re-create-the-model-plot%3F) - you get a histogram."
   ]
  },
  {
   "cell_type": "code",
   "execution_count": 8,
   "metadata": {},
   "outputs": [
    {
     "name": "stdout",
     "output_type": "stream",
     "text": [
      "dataplot   = data/pha/3c273.pi\n",
      "x      = [ 0.5183, 0.6059, 0.6716, 0.7227, 0.7665, 0.803 , 0.8395, 0.876 , 0.9198,\n",
      "  0.9709, 1.0147, 1.0658, 1.1169, 1.168 , 1.241 , 1.3432, 1.4381, 1.5403,\n",
      "  1.6498, 1.752 , 1.8542, 1.9199, 1.9856, 2.0586, 2.1389, 2.2338, 2.336 ,\n",
      "  2.4893, 2.6499, 2.7886, 2.9711, 3.2339, 3.4748, 3.6792, 3.9128, 4.1391,\n",
      "  4.4822, 4.8691, 5.1976, 5.6356, 6.2342, 8.2198]\n",
      "y      = [  3.7716e-03,  5.6355e-03,  6.6602e-03,  1.0656e-02,  1.0656e-02,\n",
      "   1.3201e-02,  1.0576e-02,  1.3320e-02,  6.4805e-03,  1.1169e-02,\n",
      "   8.8004e-03,  6.6003e-03,  1.0064e-02,  7.1043e-03,  4.6563e-03,\n",
      "   3.7142e-03,  5.3282e-03,  3.6696e-03,  4.4002e-03,  3.4623e-03,\n",
      "   4.4002e-03,  9.4723e-03,  4.9124e-03,  6.6602e-03,  4.4643e-03,\n",
      "   4.7362e-03,  3.3301e-03,  1.9756e-03,  3.1574e-03,  2.5922e-03,\n",
      "   1.7281e-03,  1.2230e-03,  2.3481e-03,  1.7311e-03,  1.5902e-03,\n",
      "   1.6962e-03,  8.5059e-04,  1.2847e-03,  1.0601e-03,  7.4942e-04,\n",
      "   5.4269e-04,  9.7735e-05]\n",
      "yerr   = [  1.2632e-03,  1.8124e-03,  2.2090e-03,  3.1591e-03,  3.1591e-03,\n",
      "   4.4211e-03,  3.1610e-03,  4.4180e-03,  2.2132e-03,  3.2284e-03,\n",
      "   2.9474e-03,  2.2105e-03,  3.0898e-03,  2.2640e-03,  1.5112e-03,\n",
      "   1.1601e-03,  1.7672e-03,  1.0772e-03,  1.4737e-03,  1.1340e-03,\n",
      "   1.4737e-03,  3.0187e-03,  1.5476e-03,  2.2090e-03,  1.3561e-03,\n",
      "   1.5093e-03,  1.1045e-03,  6.8134e-04,  1.0062e-03,  8.8526e-04,\n",
      "   5.9017e-04,  4.2178e-04,  7.5517e-04,  5.6702e-04,  5.5388e-04,\n",
      "   5.9081e-04,  2.8380e-04,  4.3266e-04,  3.6925e-04,  2.5239e-04,\n",
      "   1.9285e-04,  3.9471e-05]\n",
      "xerr   = [ 0.1022, 0.073 , 0.0584, 0.0438, 0.0438, 0.0292, 0.0438, 0.0292, 0.0584,\n",
      "  0.0438, 0.0438, 0.0584, 0.0438, 0.0584, 0.0876, 0.1168, 0.073 , 0.1314,\n",
      "  0.0876, 0.1168, 0.0876, 0.0438, 0.0876, 0.0584, 0.1022, 0.0876, 0.1168,\n",
      "  0.1898, 0.1314, 0.146 , 0.219 , 0.3066, 0.1752, 0.2336, 0.2336, 0.219 ,\n",
      "  0.4672, 0.3066, 0.3504, 0.5256, 0.6716, 3.2996]\n",
      "xlabel = Energy (keV)\n",
      "ylabel = Counts/sec/keV\n",
      "title  = data/pha/3c273.pi\n",
      "plot_prefs = {'linestyle': 'None', 'xaxis': False, 'barsabove': False, 'ecolor': None, 'capsize': None, 'marker': '.', 'linecolor': None, 'ratioline': False, 'xerrorbars': False, 'markerfacecolor': None, 'markersize': None, 'color': None, 'ylog': True, 'yerrorbars': True, 'xlog': True}\n",
      "\n",
      "modelplot  = Model\n",
      "x      = [ 0.5183, 0.6059, 0.6716, 0.7227, 0.7665, 0.803 , 0.8395, 0.876 , 0.9198,\n",
      "  0.9709, 1.0147, 1.0658, 1.1169, 1.168 , 1.241 , 1.3432, 1.4381, 1.5403,\n",
      "  1.6498, 1.752 , 1.8542, 1.9199, 1.9856, 2.0586, 2.1389, 2.2338, 2.336 ,\n",
      "  2.4893, 2.6499, 2.7886, 2.9711, 3.2339, 3.4748, 3.6792, 3.9128, 4.1391,\n",
      "  4.4822, 4.8691, 5.1976, 5.6356, 6.2342, 8.2198]\n",
      "y      = [  4.6523e-03,  5.1899e-03,  6.9256e-03,  7.9297e-03,  8.6414e-03,\n",
      "   9.1229e-03,  9.4283e-03,  9.5557e-03,  9.5288e-03,  9.3237e-03,\n",
      "   8.9338e-03,  8.3654e-03,  7.6943e-03,  6.9749e-03,  6.0142e-03,\n",
      "   4.9616e-03,  4.2884e-03,  3.7940e-03,  3.6741e-03,  4.1579e-03,\n",
      "   4.5586e-03,  5.0583e-03,  5.2432e-03,  4.2702e-03,  3.4839e-03,\n",
      "   3.7966e-03,  2.9954e-03,  2.2212e-03,  2.0298e-03,  1.9135e-03,\n",
      "   1.7332e-03,  1.6423e-03,  1.5829e-03,  1.5460e-03,  1.5062e-03,\n",
      "   1.4498e-03,  1.3333e-03,  1.1509e-03,  9.6024e-04,  7.1007e-04,\n",
      "   4.5858e-04,  9.5696e-05]\n",
      "yerr   = None\n",
      "xerr   = [ 0.1022, 0.073 , 0.0584, 0.0438, 0.0438, 0.0292, 0.0438, 0.0292, 0.0584,\n",
      "  0.0438, 0.0438, 0.0584, 0.0438, 0.0584, 0.0876, 0.1168, 0.073 , 0.1314,\n",
      "  0.0876, 0.1168, 0.0876, 0.0438, 0.0876, 0.0584, 0.1022, 0.0876, 0.1168,\n",
      "  0.1898, 0.1314, 0.146 , 0.219 , 0.3066, 0.1752, 0.2336, 0.2336, 0.219 ,\n",
      "  0.4672, 0.3066, 0.3504, 0.5256, 0.6716, 3.2996]\n",
      "xlabel = Energy (keV)\n",
      "ylabel = Counts/sec/keV\n",
      "title  = Model\n",
      "plot_prefs = {'linestyle': '-', 'xaxis': False, 'barsabove': False, 'ecolor': None, 'capsize': None, 'marker': 'None', 'linecolor': None, 'ratioline': False, 'xerrorbars': False, 'markerfacecolor': None, 'markersize': None, 'color': None, 'ylog': True, 'yerrorbars': False, 'xlog': True}\n"
     ]
    }
   ],
   "source": [
    "print(fplot)"
   ]
  },
  {
   "cell_type": "markdown",
   "metadata": {},
   "source": [
    "The objects have a `plot` method which will create a plot, so you can access the components separately:"
   ]
  },
  {
   "cell_type": "code",
   "execution_count": 9,
   "metadata": {},
   "outputs": [
    {
     "data": {
      "image/png": "[encoded data removed]",
      "text/plain": [
       "<Figure size 432x288 with 1 Axes>"
      ]
     },
     "metadata": {
      "needs_background": "light"
     },
     "output_type": "display_data"
    }
   ],
   "source": [
    "fplot.dataplot.plot()"
   ]
  },
  {
   "cell_type": "code",
   "execution_count": 10,
   "metadata": {},
   "outputs": [
    {
     "data": {
      "image/png": "[encoded data removed]",
      "text/plain": [
       "<Figure size 432x288 with 1 Axes>"
      ]
     },
     "metadata": {
      "needs_background": "light"
     },
     "output_type": "display_data"
    }
   ],
   "source": [
    "fplot.modelplot.plot()"
   ]
  },
  {
   "cell_type": "markdown",
   "metadata": {},
   "source": [
    "or you can plot them together:"
   ]
  },
  {
   "cell_type": "code",
   "execution_count": 11,
   "metadata": {},
   "outputs": [
    {
     "data": {
      "image/png": "[encoded data removed]",
      "text/plain": [
       "<Figure size 432x288 with 1 Axes>"
      ]
     },
     "metadata": {
      "needs_background": "light"
     },
     "output_type": "display_data"
    }
   ],
   "source": [
    "fplot.plot()"
   ]
  },
  {
   "cell_type": "markdown",
   "metadata": {},
   "source": [
    "If you want, you can access the data directly, such as the data points using the\n",
    "`x`, `y`, and `yerr` fields (here I display the first five values and you can see\n",
    "they match the values used in the plot):"
   ]
  },
  {
   "cell_type": "code",
   "execution_count": 12,
   "metadata": {},
   "outputs": [
    {
     "data": {
      "text/plain": [
       "[(0.51829999685287476, 0.0037716153818110744, 0.0012631612592398642),\n",
       " (0.60590000450611115, 0.0056354730171613307, 0.0018124040722667545),\n",
       " (0.67160001397132874, 0.006660236700166901, 0.0022089791626158741),\n",
       " (0.72269999980926514, 0.010656375094869093, 0.0031590644578402991),\n",
       " (0.76649999618530273, 0.010656375094869093, 0.0031590644578402991)]"
      ]
     },
     "execution_count": 12,
     "metadata": {},
     "output_type": "execute_result"
    }
   ],
   "source": [
    "list(zip(fplot.dataplot.x, fplot.dataplot.y, fplot.dataplot.yerr))[0:5]"
   ]
  },
  {
   "cell_type": "markdown",
   "metadata": {},
   "source": [
    "We can also get at the model data, which is also represented as a \"curve\" rather than \"histogram\" (so has\n",
    "`x,y` rather than `xlo,xhi,y`):"
   ]
  },
  {
   "cell_type": "code",
   "execution_count": 13,
   "metadata": {},
   "outputs": [
    {
     "data": {
      "text/plain": [
       "[(0.51829999685287476, 0.0046522770992596654),\n",
       " (0.60590000450611115, 0.0051899489114260915),\n",
       " (0.67160001397132874, 0.0069255504990255899),\n",
       " (0.72269999980926514, 0.007929704794361286),\n",
       " (0.76649999618530273, 0.0086414053411067032)]"
      ]
     },
     "execution_count": 13,
     "metadata": {},
     "output_type": "execute_result"
    }
   ],
   "source": [
    "list(zip(fplot.modelplot.x, fplot.modelplot.y))[0:5]"
   ]
  },
  {
   "cell_type": "markdown",
   "metadata": {},
   "source": [
    "So, if you just want access to the plotted data, then the following routines are useful\n",
    "(I would have used `ui.get_*_plot?` but I'm not sure the output would be saved to the notebook\n",
    "so ended up with the following):"
   ]
  },
  {
   "cell_type": "code",
   "execution_count": 14,
   "metadata": {
    "scrolled": true
   },
   "outputs": [
    {
     "data": {
      "text/plain": [
       "['get_arf_plot',\n",
       " 'get_bkg_chisqr_plot',\n",
       " 'get_bkg_delchi_plot',\n",
       " 'get_bkg_fit_plot',\n",
       " 'get_bkg_model_plot',\n",
       " 'get_bkg_plot',\n",
       " 'get_bkg_ratio_plot',\n",
       " 'get_bkg_resid_plot',\n",
       " 'get_bkg_source_plot',\n",
       " 'get_cdf_plot',\n",
       " 'get_chisqr_plot',\n",
       " 'get_data_plot',\n",
       " 'get_delchi_plot',\n",
       " 'get_fit_plot',\n",
       " 'get_kernel_plot',\n",
       " 'get_model_component_plot',\n",
       " 'get_model_plot',\n",
       " 'get_order_plot',\n",
       " 'get_pdf_plot',\n",
       " 'get_psf_plot',\n",
       " 'get_pvalue_plot',\n",
       " 'get_ratio_plot',\n",
       " 'get_resid_plot',\n",
       " 'get_scatter_plot',\n",
       " 'get_source_component_plot',\n",
       " 'get_source_plot',\n",
       " 'get_split_plot',\n",
       " 'get_trace_plot']"
      ]
     },
     "execution_count": 14,
     "metadata": {},
     "output_type": "execute_result"
    }
   ],
   "source": [
    "[n for n in dir(ui) if n.startswith('get_') and n.endswith('_plot')]"
   ]
  },
  {
   "cell_type": "markdown",
   "metadata": {},
   "source": [
    "### A histogram-style plot\n",
    "\n",
    "The `plot_source` command draws a histogram rather than a curve:"
   ]
  },
  {
   "cell_type": "code",
   "execution_count": 15,
   "metadata": {},
   "outputs": [
    {
     "data": {
      "image/png": "[encoded data removed]",
      "text/plain": [
       "<Figure size 432x288 with 1 Axes>"
      ]
     },
     "metadata": {
      "needs_background": "light"
     },
     "output_type": "display_data"
    }
   ],
   "source": [
    "splot = ui.get_source_plot()\n",
    "splot.plot()"
   ]
  },
  {
   "cell_type": "markdown",
   "metadata": {},
   "source": [
    "so the fields are slightly different (`xlo`, `xhi`, and `y`):"
   ]
  },
  {
   "cell_type": "code",
   "execution_count": 16,
   "metadata": {},
   "outputs": [
    {
     "data": {
      "text/plain": [
       "[(0.10000000149011612, 0.10999999940395355, 7.6681785964192861e-11),\n",
       " (0.10999999940395355, 0.11999999731779099, 4.5282047068824529e-09),\n",
       " (0.11999999731779099, 0.12999999523162842, 8.6250345142013215e-08),\n",
       " (0.12999999523162842, 0.14000000059604645, 7.527889611865157e-07),\n",
       " (0.14000000059604645, 0.15000000596046448, 3.8030609988290058e-06)]"
      ]
     },
     "execution_count": 16,
     "metadata": {},
     "output_type": "execute_result"
    }
   ],
   "source": [
    "list(zip(splot.xlo, splot.xhi, splot.y))[0:5]"
   ]
  },
  {
   "cell_type": "markdown",
   "metadata": {},
   "source": [
    "## Can we create this data manually?\n",
    "\n",
    "Let's start by seeing if we can go from the ungrouped to grouped data. I am going to\n",
    "use a combination of routines from the `sherpa.astro.ui` module and methods on Sherpa\n",
    "objects."
   ]
  },
  {
   "cell_type": "code",
   "execution_count": 17,
   "metadata": {},
   "outputs": [
    {
     "name": "stdout",
     "output_type": "stream",
     "text": [
      "name           = data/pha/3c273.pi\n",
      "channel        = Float64[1024]\n",
      "counts         = Float64[1024]\n",
      "staterror      = None\n",
      "syserror       = None\n",
      "bin_lo         = None\n",
      "bin_hi         = None\n",
      "grouping       = Int16[1024]\n",
      "quality        = Int16[1024]\n",
      "exposure       = 38564.6089269\n",
      "backscal       = 2.52643646989e-06\n",
      "areascal       = 1.0\n",
      "grouped        = True\n",
      "subtracted     = True\n",
      "units          = energy\n",
      "rate           = True\n",
      "plot_fac       = 0\n",
      "response_ids   = [1]\n",
      "background_ids = [1]\n"
     ]
    }
   ],
   "source": [
    "d = ui.get_data()\n",
    "print(d)"
   ]
  },
  {
   "cell_type": "markdown",
   "metadata": {},
   "source": [
    "We can use this to plot channels against counts (and I throw in the grouping column too), but\n",
    "it doesn't really match the majesty of `plot_data`, does it?"
   ]
  },
  {
   "cell_type": "code",
   "execution_count": 18,
   "metadata": {},
   "outputs": [
    {
     "data": {
      "text/plain": [
       "[<matplotlib.lines.Line2D at 0x7f295d3af4a8>]"
      ]
     },
     "execution_count": 18,
     "metadata": {},
     "output_type": "execute_result"
    },
    {
     "data": {
      "image/png": "[encoded data removed]",
      "text/plain": [
       "<Figure size 432x288 with 2 Axes>"
      ]
     },
     "metadata": {
      "needs_background": "light"
     },
     "output_type": "display_data"
    }
   ],
   "source": [
    "plt.subplot(2, 1, 1)\n",
    "plt.plot(d.channel, d.counts)\n",
    "\n",
    "plt.subplot(2, 1, 2)\n",
    "plt.plot(d.channel, d.grouping, 'o')"
   ]
  },
  {
   "cell_type": "markdown",
   "metadata": {},
   "source": [
    "To make my life easier, I am going to switch `plot_data` to use channels rather than energy:"
   ]
  },
  {
   "cell_type": "code",
   "execution_count": 19,
   "metadata": {},
   "outputs": [
    {
     "data": {
      "image/png": "[encoded data removed]",
      "text/plain": [
       "<Figure size 432x288 with 1 Axes>"
      ]
     },
     "metadata": {
      "needs_background": "light"
     },
     "output_type": "display_data"
    }
   ],
   "source": [
    "ui.set_analysis('channel')\n",
    "pdata = ui.get_data_plot()\n",
    "pdata.plot()"
   ]
  },
  {
   "cell_type": "markdown",
   "metadata": {},
   "source": [
    "Our first step is to group the channel data. The grouping channel defines the mapping - a value of 1 starts the bin and -1 continues the bin, so a grouping of `[1, 1, -1, -1, 1, -1]` represents three \"groups\", having lengths of `[1, 3, 2]` channels. We could use some clever NumPy indexing routines, or use the CIAO `group` module. A warning, this has not been optimised for Python/NumPy use, since it is a direct translation of the underlying C code that CIAO uses to do the grouping!\n",
    "\n",
    "There is some basic information on this module via [`ahelp group group`](http://cxc.harvard.edu/ciao/ahelp/group.html): the routines we want here are `grpGetGroupSum` and `grpGetChansPerGroup`."
   ]
  },
  {
   "cell_type": "code",
   "execution_count": 20,
   "metadata": {},
   "outputs": [],
   "source": [
    "import group"
   ]
  },
  {
   "cell_type": "code",
   "execution_count": 21,
   "metadata": {},
   "outputs": [],
   "source": [
    "gcounts = group.grpGetGroupSum(d.counts, d.grouping)\n",
    "gchans = group.grpGetChansPerGroup(d.grouping)\n",
    "\n",
    "# Need to extract the value for each group; this is done by picking the\n",
    "# value from the first channel in the group.\n",
    "#\n",
    "gfilt = d.grouping == 1\n",
    "\n",
    "xwidth = gchans[gfilt]\n",
    "xstart = d.channel[gfilt]\n",
    "xend = xstart + xwidth\n",
    "y = gcounts[gfilt]"
   ]
  },
  {
   "cell_type": "markdown",
   "metadata": {},
   "source": [
    "So, this is getting us closer, but it still doesn't match the data plot since:\n",
    "\n",
    "- no division by exposure time\n",
    "- no division by bin width\n",
    "- no filter by channel number"
   ]
  },
  {
   "cell_type": "code",
   "execution_count": 22,
   "metadata": {
    "scrolled": true
   },
   "outputs": [
    {
     "data": {
      "text/plain": [
       "[<matplotlib.lines.Line2D at 0x7f295a4a2e80>]"
      ]
     },
     "execution_count": 22,
     "metadata": {},
     "output_type": "execute_result"
    },
    {
     "data": {
      "image/png": "[encoded data removed]",
      "text/plain": [
       "<Figure size 432x288 with 1 Axes>"
      ]
     },
     "metadata": {
      "needs_background": "light"
     },
     "output_type": "display_data"
    }
   ],
   "source": [
    "plt.plot((xstart + xend) / 2, y, 'o')"
   ]
  },
  {
   "cell_type": "markdown",
   "metadata": {},
   "source": [
    "It's easy now to scale by the bin width, and the data object has the \n",
    "[exposure time as an attribute](https://sherpa.readthedocs.io/en/4.11.0/data/api/sherpa.astro.data.DataPHA.html#sherpa.astro.data.DataPHA.exposure). If we also add in log scaling we can see it's much closer:"
   ]
  },
  {
   "cell_type": "code",
   "execution_count": 23,
   "metadata": {},
   "outputs": [
    {
     "data": {
      "image/png": "[encoded data removed]",
      "text/plain": [
       "<Figure size 432x288 with 1 Axes>"
      ]
     },
     "metadata": {
      "needs_background": "light"
     },
     "output_type": "display_data"
    }
   ],
   "source": [
    "xmid = (xstart + xend) / 2\n",
    "yscaled = y / d.exposure / xwidth\n",
    "\n",
    "plt.plot(xmid, yscaled, 'o')\n",
    "plt.xscale('log')\n",
    "plt.yscale('log')"
   ]
  },
  {
   "cell_type": "markdown",
   "metadata": {},
   "source": [
    "In fact, let's overplot the data to see how well we are doing:"
   ]
  },
  {
   "cell_type": "code",
   "execution_count": 24,
   "metadata": {},
   "outputs": [
    {
     "data": {
      "text/plain": [
       "[<matplotlib.lines.Line2D at 0x7f295d226128>]"
      ]
     },
     "execution_count": 24,
     "metadata": {},
     "output_type": "execute_result"
    },
    {
     "data": {
      "image/png": "[encoded data removed]",
      "text/plain": [
       "<Figure size 432x288 with 1 Axes>"
      ]
     },
     "metadata": {
      "needs_background": "light"
     },
     "output_type": "display_data"
    }
   ],
   "source": [
    "pdata.plot()\n",
    "plt.plot(xmid, yscaled, 'o')"
   ]
  },
  {
   "cell_type": "markdown",
   "metadata": {},
   "source": [
    "Apart from the filtering, I'd like to call that a siccess, except that the new values are larger than the old ones, because I've forgotten about background subtraction! This means we have to deal with scaling the background to the observation for both exposure time (although in this case they are the same) and extraction area (which we do with the `BACKSCAL` values [$\\dagger$]):\n",
    "\n",
    "[$\\dagger$] for this Chandra dataset we don't have to worry about the `AREASCAL` value since it's the same for both source and background."
   ]
  },
  {
   "cell_type": "code",
   "execution_count": 25,
   "metadata": {},
   "outputs": [],
   "source": [
    "bkg = d.get_background()\n",
    "\n",
    "bcounts = group.grpGetGroupSum(bkg.counts, d.grouping)\n",
    "\n",
    "bscale = d.exposure * d.backscal / (bkg.exposure * bkg.backscal)\n",
    "\n",
    "ysub = gcounts[gfilt] - bscale * bcounts[gfilt]\n",
    "ysubscaled = ysub / d.exposure / xwidth"
   ]
  },
  {
   "cell_type": "markdown",
   "metadata": {},
   "source": [
    "With this correction in place, things look a lot better."
   ]
  },
  {
   "cell_type": "code",
   "execution_count": 26,
   "metadata": {},
   "outputs": [
    {
     "data": {
      "text/plain": [
       "[<matplotlib.lines.Line2D at 0x7f295a4bb940>]"
      ]
     },
     "execution_count": 26,
     "metadata": {},
     "output_type": "execute_result"
    },
    {
     "data": {
      "image/png": "[encoded data removed]",
      "text/plain": [
       "<Figure size 432x288 with 1 Axes>"
      ]
     },
     "metadata": {
      "needs_background": "light"
     },
     "output_type": "display_data"
    }
   ],
   "source": [
    "pdata.plot()\n",
    "plt.plot(xmid, ysubscaled, 'o', fillstyle='none')"
   ]
  },
  {
   "cell_type": "markdown",
   "metadata": {},
   "source": [
    "We still need to work on the spatial filter, for which we use the `mask` attribute of the data object. Note that this has already been grouped for us; ie it's length matches the number of groups not the number of channels."
   ]
  },
  {
   "cell_type": "code",
   "execution_count": 27,
   "metadata": {},
   "outputs": [
    {
     "data": {
      "text/plain": [
       "(1024, 46, 46)"
      ]
     },
     "execution_count": 27,
     "metadata": {},
     "output_type": "execute_result"
    }
   ],
   "source": [
    "d.channel.size, d.mask.size, ysub.size"
   ]
  },
  {
   "cell_type": "markdown",
   "metadata": {},
   "source": [
    "This means it is an easy filter to apply:"
   ]
  },
  {
   "cell_type": "code",
   "execution_count": 28,
   "metadata": {},
   "outputs": [
    {
     "data": {
      "text/plain": [
       "[<matplotlib.lines.Line2D at 0x7f295d2f3d30>]"
      ]
     },
     "execution_count": 28,
     "metadata": {},
     "output_type": "execute_result"
    },
    {
     "data": {
      "image/png": "[encoded data removed]",
      "text/plain": [
       "<Figure size 432x288 with 1 Axes>"
      ]
     },
     "metadata": {
      "needs_background": "light"
     },
     "output_type": "display_data"
    }
   ],
   "source": [
    "pdata.plot()\n",
    "plt.plot(xmid[d.mask], ysubscaled[d.mask], 'o', fillstyle='none')"
   ]
  },
  {
   "cell_type": "markdown",
   "metadata": {},
   "source": [
    "There appears to be some visual offsets in the X direction for some of the bins, but I believe that is down to the fact I am not using exactly the same shapes, and there's pixellation going on. We can check this be comparing the calculated bin values rather than using the plot above:"
   ]
  },
  {
   "cell_type": "code",
   "execution_count": 29,
   "metadata": {},
   "outputs": [],
   "source": [
    "dx = pdata.x - xmid[d.mask]\n",
    "dy = pdata.y - ysubscaled[d.mask]"
   ]
  },
  {
   "cell_type": "code",
   "execution_count": 30,
   "metadata": {},
   "outputs": [
    {
     "data": {
      "text/plain": [
       "(-0.5, -0.5, -0.5)"
      ]
     },
     "execution_count": 30,
     "metadata": {},
     "output_type": "execute_result"
    }
   ],
   "source": [
    "dx.min(), dx.max(), np.median(dx)"
   ]
  },
  {
   "cell_type": "markdown",
   "metadata": {},
   "source": [
    "Oh. That's a bit disappointing. There actually *is* a difference in the X-axis positions! The values I caluclate are larger than the Sherpa values by a half:"
   ]
  },
  {
   "cell_type": "code",
   "execution_count": 31,
   "metadata": {},
   "outputs": [
    {
     "data": {
      "text/plain": [
       "[(36.0, 36.5), (42.0, 42.5), (46.5, 47.0), (50.0, 50.5), (53.0, 53.5)]"
      ]
     },
     "execution_count": 31,
     "metadata": {},
     "output_type": "execute_result"
    }
   ],
   "source": [
    "list(zip(pdata.x, xmid[d.mask]))[0:5]"
   ]
  },
  {
   "cell_type": "markdown",
   "metadata": {},
   "source": [
    "I don't have time to dig into this; I wonder if Sherpa always uses the start of the channel and not the middle of it? \n",
    "\n",
    "Let's also try the Y axis, where I expect to see small numerical differences, but hopefully all $\\lll 10^{-6}$."
   ]
  },
  {
   "cell_type": "code",
   "execution_count": 32,
   "metadata": {},
   "outputs": [
    {
     "data": {
      "text/plain": [
       "(0.0, 2.7105054312137611e-20, 0.0)"
      ]
     },
     "execution_count": 32,
     "metadata": {},
     "output_type": "execute_result"
    }
   ],
   "source": [
    "dy.min(), dy.max(), np.median(dy)"
   ]
  },
  {
   "cell_type": "markdown",
   "metadata": {},
   "source": [
    "Success!\n",
    "\n",
    "## Can I re-create the model plot?\n",
    "\n",
    "Note that `get_model_plot` returns a \"histogram\" - so it has `xlo` and `xhi` fields rather than `x`."
   ]
  },
  {
   "cell_type": "code",
   "execution_count": 33,
   "metadata": {},
   "outputs": [
    {
     "data": {
      "image/png": "[encoded data removed]",
      "text/plain": [
       "<Figure size 432x288 with 1 Axes>"
      ]
     },
     "metadata": {
      "needs_background": "light"
     },
     "output_type": "display_data"
    }
   ],
   "source": [
    "mplot = ui.get_model_plot()\n",
    "mplot.plot()"
   ]
  },
  {
   "cell_type": "code",
   "execution_count": 34,
   "metadata": {},
   "outputs": [
    {
     "data": {
      "text/plain": [
       "[(33.0, 34.0), (34.0, 35.0), (35.0, 36.0), (36.0, 37.0), (37.0, 38.0)]"
      ]
     },
     "execution_count": 34,
     "metadata": {},
     "output_type": "execute_result"
    }
   ],
   "source": [
    "list(zip(mplot.xlo, mplot.xhi))[0:5]"
   ]
  },
  {
   "cell_type": "markdown",
   "metadata": {},
   "source": [
    "Hmmm, these don't match up with the grouped channels we expect:"
   ]
  },
  {
   "cell_type": "code",
   "execution_count": 35,
   "metadata": {},
   "outputs": [
    {
     "data": {
      "text/plain": [
       "[(18.0, 22.0), (22.0, 33.0), (33.0, 40.0), (40.0, 45.0)]"
      ]
     },
     "execution_count": 35,
     "metadata": {},
     "output_type": "execute_result"
    }
   ],
   "source": [
    "list(zip(xstart[d.mask], xend[d.mask]))[0:5]"
   ]
  },
  {
   "cell_type": "markdown",
   "metadata": {},
   "source": [
    "The start position is different (33 versus 18) and the model plot appears to use single-channel bins, not grouped. The second part is intended, since it was felt users would want to see the model at its \"highest\" resolution. I am not completely sure I understand why the X axis is different - there is definitely complications when you have grouping and filtering together, but I don't think it can explain all this - but for now let's just roll with it.\n",
    "\n",
    "I want to be able to evaluate the source model to get the predicted values, but there are complications. The source model, as given by the user, can be retrieved with `get_source`, and the \"actual\" model - that includes the instrumental response - with `get_model`."
   ]
  },
  {
   "cell_type": "code",
   "execution_count": 36,
   "metadata": {},
   "outputs": [
    {
     "name": "stdout",
     "output_type": "stream",
     "text": [
      "(xsphabs.gal * powlaw1d.pl)\n",
      "apply_rmf(apply_arf((38564.608926889 * (xsphabs.gal * powlaw1d.pl))))\n"
     ]
    }
   ],
   "source": [
    "smdl = ui.get_source()\n",
    "fmdl = ui.get_model()\n",
    "\n",
    "print(smdl.name)\n",
    "print(fmdl.name)"
   ]
  },
  {
   "cell_type": "markdown",
   "metadata": {},
   "source": [
    "Normally I would just pass in the grid on which I want the model to be evaluated to these models,\n",
    "but that doesn't work here because of the extra complications of the response model. Note that the\n",
    "return value is 1024 elements long, even when the input grid is much smaller, for the \"full model\":"
   ]
  },
  {
   "cell_type": "code",
   "execution_count": 37,
   "metadata": {},
   "outputs": [
    {
     "data": {
      "text/plain": [
       "(3,)"
      ]
     },
     "execution_count": 37,
     "metadata": {},
     "output_type": "execute_result"
    }
   ],
   "source": [
    "smdl([0.1, 0.2, 0.3]).shape"
   ]
  },
  {
   "cell_type": "code",
   "execution_count": 38,
   "metadata": {},
   "outputs": [
    {
     "data": {
      "text/plain": [
       "(1024,)"
      ]
     },
     "execution_count": 38,
     "metadata": {},
     "output_type": "execute_result"
    }
   ],
   "source": [
    "fmdl([0.1, 0.2, 0.3]).shape"
   ]
  },
  {
   "cell_type": "markdown",
   "metadata": {},
   "source": [
    "The model is ignoring the user's grid since it knows better, and evaluating it over the PI channel space. So we can try and compare to the model plot (in this case we only have to normalize by the exposure time since the bn width is 1 by construction):"
   ]
  },
  {
   "cell_type": "code",
   "execution_count": 39,
   "metadata": {},
   "outputs": [],
   "source": [
    "ymdl = fmdl([1])  # just apply an argument to get a return"
   ]
  },
  {
   "cell_type": "code",
   "execution_count": 40,
   "metadata": {},
   "outputs": [
    {
     "data": {
      "text/plain": [
       "[<matplotlib.lines.Line2D at 0x7f295a388438>]"
      ]
     },
     "execution_count": 40,
     "metadata": {},
     "output_type": "execute_result"
    },
    {
     "data": {
      "image/png": "[encoded data removed]",
      "text/plain": [
       "<Figure size 432x288 with 1 Axes>"
      ]
     },
     "metadata": {
      "needs_background": "light"
     },
     "output_type": "display_data"
    }
   ],
   "source": [
    "mplot.plot()\n",
    "plt.plot(np.arange(1, 1025, 1), ymdl / d.exposure, alpha=0.2)"
   ]
  },
  {
   "cell_type": "markdown",
   "metadata": {},
   "source": [
    "So, other than the filtering, we have the same result. We can group this to match the data using the grouping library:"
   ]
  },
  {
   "cell_type": "code",
   "execution_count": 41,
   "metadata": {},
   "outputs": [],
   "source": [
    "ymdl_group = group.grpGetGroupSum(ymdl, d.grouping)\n",
    "ymdl_group = ymdl_group[gfilt]"
   ]
  },
  {
   "cell_type": "code",
   "execution_count": 42,
   "metadata": {},
   "outputs": [
    {
     "data": {
      "text/plain": [
       "[<matplotlib.lines.Line2D at 0x7f295a3f92b0>]"
      ]
     },
     "execution_count": 42,
     "metadata": {},
     "output_type": "execute_result"
    },
    {
     "data": {
      "image/png": "[encoded data removed]",
      "text/plain": [
       "<Figure size 432x288 with 1 Axes>"
      ]
     },
     "metadata": {
      "needs_background": "light"
     },
     "output_type": "display_data"
    }
   ],
   "source": [
    "pdata.plot()\n",
    "plt.plot(xmid, ymdl_group / d.exposure / xwidth)"
   ]
  },
  {
   "cell_type": "markdown",
   "metadata": {},
   "source": [
    "# WHAT IS GOING ON HERE?\n",
    "\n",
    "The following are notes for me, as something odd has started to happen.\n",
    "\n",
    "The DataPHA object has `eval_model` and `eval_model_to_fit` methods which can be used to apply filtering\n",
    "and grouping to the model evaluation, but they don't seem to be working for me here - i.e. the output is 4 elements long - so I'm going to skip this just now."
   ]
  },
  {
   "cell_type": "code",
   "execution_count": 43,
   "metadata": {},
   "outputs": [
    {
     "data": {
      "text/plain": [
       "array([  6.89383556,  12.32100274,  18.3360341 ,  14.61083233])"
      ]
     },
     "execution_count": 43,
     "metadata": {},
     "output_type": "execute_result"
    }
   ],
   "source": [
    "d.eval_model_to_fit(fmdl)"
   ]
  },
  {
   "cell_type": "code",
   "execution_count": 44,
   "metadata": {},
   "outputs": [
    {
     "data": {
      "text/plain": [
       "array([  1.90146944e-06,   2.78962266e-06,   9.56687825e-07,\n",
       "         4.06516515e-07])"
      ]
     },
     "execution_count": 44,
     "metadata": {},
     "output_type": "execute_result"
    }
   ],
   "source": [
    "d.eval_model_to_fit(smdl)"
   ]
  },
  {
   "cell_type": "code",
   "execution_count": 45,
   "metadata": {},
   "outputs": [
    {
     "data": {
      "text/plain": [
       "(1024,)"
      ]
     },
     "execution_count": 45,
     "metadata": {},
     "output_type": "execute_result"
    }
   ],
   "source": [
    "fmdl(1).shape"
   ]
  },
  {
   "cell_type": "markdown",
   "metadata": {},
   "source": [
    "We can also see this in Sherpa - note the `plot_fit` output below now only has 4 bins in it - so something strange is definitely afoot at this Circle K."
   ]
  },
  {
   "cell_type": "code",
   "execution_count": 46,
   "metadata": {},
   "outputs": [
    {
     "data": {
      "image/png": "[encoded data removed]",
      "text/plain": [
       "<Figure size 432x288 with 1 Axes>"
      ]
     },
     "metadata": {
      "needs_background": "light"
     },
     "output_type": "display_data"
    }
   ],
   "source": [
    "ui.plot_fit()"
   ]
  },
  {
   "cell_type": "code",
   "execution_count": null,
   "metadata": {},
   "outputs": [],
   "source": []
  }
 ],
 "metadata": {
  "kernelspec": {
   "display_name": "Python 3",
   "language": "python",
   "name": "python3"
  },
  "language_info": {
   "codemirror_mode": {
    "name": "ipython",
    "version": 3
   },
   "file_extension": ".py",
   "mimetype": "text/x-python",
   "name": "python",
   "nbconvert_exporter": "python",
   "pygments_lexer": "ipython3",
   "version": "3.5.4"
  }
 },
 "nbformat": 4,
 "nbformat_minor": 2
}
