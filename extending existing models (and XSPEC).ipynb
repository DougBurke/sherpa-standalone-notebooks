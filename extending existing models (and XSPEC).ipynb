{
 "cells": [
  {
   "cell_type": "markdown",
   "metadata": {},
   "source": [
    "# Extending existing models (with a side-order of XSPEC)"
   ]
  },
  {
   "cell_type": "markdown",
   "metadata": {},
   "source": [
    "I was recently asked by a colleage whether Sherpa allowed you to subtract a model. This is \"easy\" - since you can create model expressions using `+`, `-`, `*`, and `/` - but it turned out that what was really wanted fitted into my current documentation obsession, writing user models in Sherpa. It also lets me play Sherpa's support for\n",
    "[XSPEC models](https://heasarc.gsfc.nasa.gov/xanadu/xspec/manual/Models.html).\n",
    "\n",
    "The aim of this notebook is to show you how you can write models in Sherpa that use existing Sherpa models. In this particular case I will create a model that is the result of subtracting two XSPEC `vvnei` models, providing an interface where the Hydrogen abundance is no-longer a parameter (I make no claim that this is a physically-meaningful model), but the approach is valid for all Sherpa models. The notebook ends up with a brief discussion about optimising model, but this is meant more as a primer on the subject than an in-depth discussion.\n",
    "\n",
    "I am going to assume that you have read at least\n",
    "[Writing your own user model](http://nbviewer.ipython.org/github/DougBurke/sherpa-standalone-notebooks/blob/master/user%20model.ipynb)\n",
    "but please feel free to look through\n",
    "[all the notebooks](https://github.com/DougBurke/sherpa-standalone-notebooks)\n",
    "I've written in the series."
   ]
  },
  {
   "cell_type": "markdown",
   "metadata": {},
   "source": [
    "## Author and disclaimer"
   ]
  },
  {
   "cell_type": "markdown",
   "metadata": {},
   "source": [
    "This was written by \n",
    "[Douglas Burke](http://hea-www.cfa.harvard.edu/~dburke/)\n",
    "on June 16 2015. This notebook, and others that may be of\n",
    "interest, can be found on GitHub at\n",
    "https://github.com/DougBurke/sherpa-standalone-notebooks.\n",
    "\n",
    "The information in this document is placed into the Publc Domain. It is not an official product of the Chandra\n",
    "X-ray Center, and I make no guarantee that it is not without bugs or embarassing typos. Please contact me via the GitHub repository or on Twitter - at \n",
    "[@doug_burke](https://twitter.com/doug_burke) - if you have any questions. "
   ]
  },
  {
   "cell_type": "markdown",
   "metadata": {},
   "source": [
    "## Setting up for XSPEC"
   ]
  },
  {
   "cell_type": "markdown",
   "metadata": {},
   "source": [
    "If you are using the Sherpa provided with\n",
    "[CIAO](http://cxc.harvard.edu/ciao/) then you can skip this section, as the XSPEC extension\n",
    "is provided for you.\n",
    "\n",
    "If you are using the standalone version of Sherpa, then you need to have the XSPEC libraries and then tell Sherpa where they are, before building Sherpa. The current (as of mid-June, 2015) documentation on this process is a bit lacking, but I have a \n",
    "[pull request](https://github.com/sherpa/sherpa/pull/34) that should improve this. For today's notebook I am going to assume that you have built a version of XSPEC using \n",
    "[HEASoft version 6.16](http://heasarc.gsfc.nasa.gov/lheasoft/), that is, XSPEC version 12.8.2 (with or without patches). The important parts of the installation are:\n",
    "\n",
    " - `$HEADAS/lib` - for building\n",
    " - `$HEADAS/../spectral` - for using the models\n",
    " \n",
    "The `xspec_config` section of Sherpa's `setup.cfg` file must be edited so that it says\n",
    "(the HEADAS environment variable should be expanded, and the `lib` sub-directory checked to\n",
    "see if the version numbers on the library names need adjusting):\n",
    "\n",
    "```\n",
    "with-xspec=True\n",
    "xspec_lib_dirs=$HEADAS/lib\n",
    "xspec_libraries=XSFunctions XSModel XSUtil XS wcs-4.20\n",
    "cfitsio_libraries=cfitsio_3.37\n",
    "ccfits_libraries=CCfits_2.4\n",
    "cfitsio_lib_dirs=$HEADAS/lib\n",
    "ccfits_lib_dirs=$HEADAS/lib\n",
    "gfortran_lib_dirs=$HEADAS/lib\n",
    "```\n",
    "\n",
    "After this, run\n",
    "\n",
    "```\n",
    "python setup.py build\n",
    "python setup.py test\n",
    "python setup.py install\n",
    "```\n",
    "\n",
    "This assumes that my patch has not been accepted yet, so that there is no `wcslib_libraries` configuration option. If this has been added (or something similar) then please follow the instructions provided with Sherpa rather than these ones!"
   ]
  },
  {
   "cell_type": "markdown",
   "metadata": {},
   "source": [
    "## Loading the XSPEC models"
   ]
  },
  {
   "cell_type": "markdown",
   "metadata": {},
   "source": [
    "The XSPEC models are automatically loaded - if available - by the `sherpa.astro.ui` module. Before I load any of these, I am going to turn off the logging information that confuses the ipython notebooks; for use in scripts or within ipython on the command line this *is not needed*:"
   ]
  },
  {
   "cell_type": "code",
   "execution_count": 1,
   "metadata": {
    "collapsed": true
   },
   "outputs": [],
   "source": [
    "import logging\n",
    "logging.getLogger('sherpa').propagate = 0"
   ]
  },
  {
   "cell_type": "markdown",
   "metadata": {},
   "source": [
    "With this, we can now load Sherpa, and I also load in the XSPEC module directly, so that I can access several low-level routines:"
   ]
  },
  {
   "cell_type": "code",
   "execution_count": 2,
   "metadata": {
    "collapsed": false
   },
   "outputs": [
    {
     "name": "stdout",
     "output_type": "stream",
     "text": [
      "WARNING: imaging routines will not be available, \n",
      "failed to import sherpa.image.ds9_backend due to \n",
      "'RuntimeErr: DS9Win unusable: Could not find ds9 on your PATH'\n"
     ]
    }
   ],
   "source": [
    "import numpy as np\n",
    "from matplotlib import pyplot as plt\n",
    "\n",
    "from sherpa.astro import ui\n",
    "from sherpa.astro import xspec"
   ]
  },
  {
   "cell_type": "code",
   "execution_count": 3,
   "metadata": {
    "collapsed": false
   },
   "outputs": [],
   "source": [
    "%matplotlib inline"
   ]
  },
  {
   "cell_type": "markdown",
   "metadata": {},
   "source": [
    "To check that things are working, we can find out the version of the XSPEC library in use (for this example I did not apply \n",
    "[any of the patches](https://heasarc.gsfc.nasa.gov/docs/xanadu/xspec/issues/issues.html)\n",
    "that have been made to 12.8.2):"
   ]
  },
  {
   "cell_type": "code",
   "execution_count": 4,
   "metadata": {
    "collapsed": false
   },
   "outputs": [
    {
     "data": {
      "text/plain": [
       "'12.8.2'"
      ]
     },
     "execution_count": 4,
     "metadata": {},
     "output_type": "execute_result"
    }
   ],
   "source": [
    "xspec.get_xsversion()"
   ]
  },
  {
   "cell_type": "markdown",
   "metadata": {},
   "source": [
    "If this command fails with the message\n",
    "\n",
    "```\n",
    "ImportError: XSPEC initialization failed; check HEADAS environment variable\n",
    "```\n",
    "\n",
    "then check that this variable is set correctly. It should be set to the parent directory\n",
    "of the `lib` directory used for the `xspec_lib_dirs` setting used to build Sherpa. For example\n",
    "\n",
    "```\n",
    "import os\n",
    "os.environ['HEADAS'] = '/usr/local/headas-6.16/x86_64-unknown-linux-gnu-libc2.21-0/'\n",
    "```\n",
    "\n",
    "and then - assuming this *is* the correct setting ;-) - then the `xspec.get_xsversion()` command should work."
   ]
  },
  {
   "cell_type": "code",
   "execution_count": 5,
   "metadata": {
    "collapsed": false
   },
   "outputs": [
    {
     "data": {
      "text/plain": [
       "0"
      ]
     },
     "execution_count": 5,
     "metadata": {},
     "output_type": "execute_result"
    }
   ],
   "source": [
    "xspec.get_xschatter()"
   ]
  },
  {
   "cell_type": "markdown",
   "metadata": {},
   "source": [
    "The XSPEC chatter level - which can be read with `xspec.get_xschatter` and set with `xspec.set_xschatter` can be used to change the amount of output printed to the screen when X-Spec models are evaluated. The default value used by Sherpa - of `0` - means that very-little information is displayed. The default value used by XSPEC itself is `10` - and values around `25` can be used for debugging (e.g. to check that data files are being read correctly; although the amount of information provided depends on the model and the version of XSPEC in use)."
   ]
  },
  {
   "cell_type": "markdown",
   "metadata": {},
   "source": [
    "## The model"
   ]
  },
  {
   "cell_type": "markdown",
   "metadata": {},
   "source": [
    "The model I am going to develop is a version of the \n",
    "[`vvnei` model](https://heasarc.gsfc.nasa.gov/xanadu/xspec/manual/XSmodelNei.html) - which\n",
    "is a non-equilibrium ionisation model with variable abundances - which has no Hydrogen. The\n",
    "standard way for XSPEC to model variable abundances is to make them all relative to Hydrogen, but in this case we (or at least, my colleague), does not want any Hydrogren! One solution for this is to evaluate the model twice, once with a Hydrogen abundance of 1, and the required elemental abundances, and then a Hydrogen-only version. The second version is subtracted from the first (hence the original question I was asked) to return the required model.\n",
    "\n",
    "This can be done directly in Sherpa, using two different instances of the `xsvvnei` model,\n",
    "but we can also write our own user model to wrap up this behavior, and provide a slightly-simpler interface to the user.\n",
    "\n",
    "Before we write the user model, let's try and see the individual components. The following creates two instances of the `vvnei` model (Sherpa prepends `xs` to the XSPEC model names), called `mdl_with_elems` and `mdl_h_only`. I then set several of the elemental abundances in the `mdl_with_elems` component - using `ui.set_par` - and then clear out all the non-Hydrogen abundances in the `mdl_h_only` component (I happen to know that the check I wrote is sufficient *for this model type* to select only the abundances I wanted to change). This code shows two different ways of accessing model parameters (by name, with `ui.set_par`, or by iterating directly from the model component), but I don't want to talk too much about this today:"
   ]
  },
  {
   "cell_type": "code",
   "execution_count": 6,
   "metadata": {
    "collapsed": false
   },
   "outputs": [],
   "source": [
    "ui.xsvvnei.mdl_with_elems\n",
    "ui.xsvvnei.mdl_h_only\n",
    "\n",
    "# Set some abundances\n",
    "abunds = { 'c': 2.3, 'fe': 1.8, 'o': 3.4, 'si': 2.1, 'ar': 1.2 }\n",
    "for (k,v) in abunds.iteritems():\n",
    "    ui.set_par('mdl_with_elems.' + k, v)\n",
    "    \n",
    "# Clear out the abundances for the Hydrogen-only version\n",
    "for p in mdl_h_only.pars:\n",
    "    if len(p.name) < 3 and p.name not in ['kT', 'H']:\n",
    "        p.val = 0"
   ]
  },
  {
   "cell_type": "markdown",
   "metadata": {},
   "source": [
    "This particular model has a lot of parameters!"
   ]
  },
  {
   "cell_type": "code",
   "execution_count": 7,
   "metadata": {
    "collapsed": false
   },
   "outputs": [
    {
     "name": "stdout",
     "output_type": "stream",
     "text": [
      "xsvvnei.mdl_with_elems\n",
      "   Param        Type          Value          Min          Max      Units\n",
      "   -----        ----          -----          ---          ---      -----\n",
      "   mdl_with_elems.kT thawed            1       0.0808         79.9        keV\n",
      "   mdl_with_elems.H frozen            1            0         1000           \n",
      "   mdl_with_elems.He frozen            1            0         1000           \n",
      "   mdl_with_elems.Li frozen            1            0         1000           \n",
      "   mdl_with_elems.Be frozen            1            0         1000           \n",
      "   mdl_with_elems.B frozen            1            0         1000           \n",
      "   mdl_with_elems.C frozen          2.3            0         1000           \n",
      "   mdl_with_elems.N frozen            1            0         1000           \n",
      "   mdl_with_elems.O frozen          3.4            0         1000           \n",
      "   mdl_with_elems.F frozen            1            0         1000           \n",
      "   mdl_with_elems.Ne frozen            1            0         1000           \n",
      "   mdl_with_elems.Na frozen            1            0         1000           \n",
      "   mdl_with_elems.Mg frozen            1            0         1000           \n",
      "   mdl_with_elems.Al frozen            1            0         1000           \n",
      "   mdl_with_elems.Si frozen          2.1            0         1000           \n",
      "   mdl_with_elems.P frozen            1            0         1000           \n",
      "   mdl_with_elems.S frozen            1            0         1000           \n",
      "   mdl_with_elems.Cl frozen            1            0         1000           \n",
      "   mdl_with_elems.Ar frozen          1.2            0         1000           \n",
      "   mdl_with_elems.K frozen            1            0         1000           \n",
      "   mdl_with_elems.Ca frozen            1            0         1000           \n",
      "   mdl_with_elems.Sc frozen            1            0         1000           \n",
      "   mdl_with_elems.Ti frozen            1            0         1000           \n",
      "   mdl_with_elems.V frozen            1            0         1000           \n",
      "   mdl_with_elems.Cr frozen            1            0         1000           \n",
      "   mdl_with_elems.Mn frozen            1            0         1000           \n",
      "   mdl_with_elems.Fe frozen          1.8            0         1000           \n",
      "   mdl_with_elems.Co frozen            1            0         1000           \n",
      "   mdl_with_elems.Ni frozen            1            0         1000           \n",
      "   mdl_with_elems.Cu frozen            1            0         1000           \n",
      "   mdl_with_elems.Zn frozen            1            0         1000           \n",
      "   mdl_with_elems.Tau thawed        1e+11        1e+08        5e+13     s/cm^3\n",
      "   mdl_with_elems.redshift frozen            0       -0.999           10           \n",
      "   mdl_with_elems.norm thawed            1            0        1e+24           \n"
     ]
    }
   ],
   "source": [
    "print(mdl_with_elems)"
   ]
  },
  {
   "cell_type": "markdown",
   "metadata": {},
   "source": [
    "We can see that the 'Hydrogen only' one has been cleared out:"
   ]
  },
  {
   "cell_type": "code",
   "execution_count": 8,
   "metadata": {
    "collapsed": false
   },
   "outputs": [
    {
     "name": "stdout",
     "output_type": "stream",
     "text": [
      "xsvvnei.mdl_h_only\n",
      "   Param        Type          Value          Min          Max      Units\n",
      "   -----        ----          -----          ---          ---      -----\n",
      "   mdl_h_only.kT thawed            1       0.0808         79.9        keV\n",
      "   mdl_h_only.H frozen            1            0         1000           \n",
      "   mdl_h_only.He frozen            0            0         1000           \n",
      "   mdl_h_only.Li frozen            0            0         1000           \n",
      "   mdl_h_only.Be frozen            0            0         1000           \n",
      "   mdl_h_only.B frozen            0            0         1000           \n",
      "   mdl_h_only.C frozen            0            0         1000           \n",
      "   mdl_h_only.N frozen            0            0         1000           \n",
      "   mdl_h_only.O frozen            0            0         1000           \n",
      "   mdl_h_only.F frozen            0            0         1000           \n",
      "   mdl_h_only.Ne frozen            0            0         1000           \n",
      "   mdl_h_only.Na frozen            0            0         1000           \n",
      "   mdl_h_only.Mg frozen            0            0         1000           \n",
      "   mdl_h_only.Al frozen            0            0         1000           \n",
      "   mdl_h_only.Si frozen            0            0         1000           \n",
      "   mdl_h_only.P frozen            0            0         1000           \n",
      "   mdl_h_only.S frozen            0            0         1000           \n",
      "   mdl_h_only.Cl frozen            0            0         1000           \n",
      "   mdl_h_only.Ar frozen            0            0         1000           \n",
      "   mdl_h_only.K frozen            0            0         1000           \n",
      "   mdl_h_only.Ca frozen            0            0         1000           \n",
      "   mdl_h_only.Sc frozen            0            0         1000           \n",
      "   mdl_h_only.Ti frozen            0            0         1000           \n",
      "   mdl_h_only.V frozen            0            0         1000           \n",
      "   mdl_h_only.Cr frozen            0            0         1000           \n",
      "   mdl_h_only.Mn frozen            0            0         1000           \n",
      "   mdl_h_only.Fe frozen            0            0         1000           \n",
      "   mdl_h_only.Co frozen            0            0         1000           \n",
      "   mdl_h_only.Ni frozen            0            0         1000           \n",
      "   mdl_h_only.Cu frozen            0            0         1000           \n",
      "   mdl_h_only.Zn frozen            0            0         1000           \n",
      "   mdl_h_only.Tau thawed        1e+11        1e+08        5e+13     s/cm^3\n",
      "   mdl_h_only.redshift frozen            0       -0.999           10           \n",
      "   mdl_h_only.norm thawed            1            0        1e+24           \n"
     ]
    }
   ],
   "source": [
    "print(mdl_h_only)"
   ]
  },
  {
   "cell_type": "markdown",
   "metadata": {},
   "source": [
    "The models can be evaluated on the grid 0.1 to 10 keV, with bin spacing 0.01 keV (XSPEC models expect the input grid to be in keV). The line emission from the elements is visible here:"
   ]
  },
  {
   "cell_type": "code",
   "execution_count": 9,
   "metadata": {
    "collapsed": false
   },
   "outputs": [
    {
     "data": {
      "image/png": "[encoded data removed]",
      "text/plain": [
       "<matplotlib.figure.Figure at 0x7f5d8b3e07d0>"
      ]
     },
     "metadata": {},
     "output_type": "display_data"
    }
   ],
   "source": [
    "egrid = np.arange(0.1, 10, 0.01)\n",
    "plt.plot(egrid, mdl_with_elems(egrid))\n",
    "plt.plot(egrid, mdl_h_only(egrid))\n",
    "plt.yscale('log')\n",
    "plt.xscale('log')"
   ]
  },
  {
   "cell_type": "markdown",
   "metadata": {},
   "source": [
    "Subtracting these two will give the elemental emission for a situation where there is no Hydrogen. I also convert the plot values into those more commonly displayed: the XSPEC models return the flux in units of photon/cm^2/s for each bin, so we need to divide by the bin width to get the flux density. Since I gave the models a single argument, it was taken to be the lower value of each bin edge, so for n bins the return value is n-1 values, with the last one being 0 (since the input and output array lengths match, we add a 0 to the end of the model values); this is why the `egrid` and `y` values are suffixed with `[:-1]` when plotting, to remove this last element."
   ]
  },
  {
   "cell_type": "code",
   "execution_count": 10,
   "metadata": {
    "collapsed": false
   },
   "outputs": [
    {
     "data": {
      "text/plain": [
       "<matplotlib.text.Text at 0x7f5d84ff7210>"
      ]
     },
     "execution_count": 10,
     "metadata": {},
     "output_type": "execute_result"
    },
    {
     "data": {
      "image/png": "[encoded data removed]",
      "text/plain": [
       "<matplotlib.figure.Figure at 0x7f5d84f21250>"
      ]
     },
     "metadata": {},
     "output_type": "display_data"
    }
   ],
   "source": [
    "de = egrid[1:] - egrid[:-1]\n",
    "y = mdl_with_elems(egrid) - mdl_h_only(egrid) \n",
    "plt.plot(egrid[:-1], y[:-1] / de)\n",
    "plt.xscale('log')\n",
    "plt.yscale('log')\n",
    "plt.xlabel('Energy (keV)')\n",
    "plt.ylabel('photon/cm$^2$/s/keV')"
   ]
  },
  {
   "cell_type": "markdown",
   "metadata": {},
   "source": [
    "### Aside"
   ]
  },
  {
   "cell_type": "markdown",
   "metadata": {},
   "source": [
    "Here I evaluate one of the models on the grid 0.1 to 0.2, 0.2 to 0.3, 0.3 to 0.4 keV. Note that a 0 is added onto the end to ensure that the return array has the same length as the input array:"
   ]
  },
  {
   "cell_type": "code",
   "execution_count": 11,
   "metadata": {
    "collapsed": false
   },
   "outputs": [
    {
     "data": {
      "text/plain": [
       "array([ 0.43303607,  0.54599511,  0.15643566,  0.        ])"
      ]
     },
     "execution_count": 11,
     "metadata": {},
     "output_type": "execute_result"
    }
   ],
   "source": [
    "mdl_with_elems([0.1, 0.2, 0.3, 0.4])"
   ]
  },
  {
   "cell_type": "markdown",
   "metadata": {},
   "source": [
    "If I explicitly give arrays for the lower and upper edges then we do not get this extra 0 element:"
   ]
  },
  {
   "cell_type": "code",
   "execution_count": 12,
   "metadata": {
    "collapsed": false
   },
   "outputs": [
    {
     "data": {
      "text/plain": [
       "array([ 0.43303607,  0.54599511,  0.15643566])"
      ]
     },
     "execution_count": 12,
     "metadata": {},
     "output_type": "execute_result"
    }
   ],
   "source": [
    "mdl_with_elems([0.1,0.2,0.3], [0.2,0.3,0.4])"
   ]
  },
  {
   "cell_type": "markdown",
   "metadata": {},
   "source": [
    "### End aside"
   ]
  },
  {
   "cell_type": "markdown",
   "metadata": {},
   "source": [
    "## Using the existing models"
   ]
  },
  {
   "cell_type": "markdown",
   "metadata": {},
   "source": [
    "Since we can write model expressions using subtraction, then the \"Hydrogen free\" variant of `xsvvnei` could be handled explicitly, by using the model combination\n",
    "\n",
    "    (ui.xsvvnei.mdl_elems - ui.xsvvnei.mdl_honly)\n",
    "    \n",
    "in the source expression. It then requires\n",
    "\n",
    " - linking the `kT`, `Tau`, `redshift`, and `norm` parameters: for example\n",
    " \n",
    "        ui.link(mdl_honly.kt, mdl_elems.kt)\n",
    "        ui.link(mdl_honly.tau, mdl_elems.tau)\n",
    "        ui.link(mdl_honly.redshift, mdl_elems.redshift)\n",
    "        ui.link(mdl_honly.norm, mdl_elems.norm)\n",
    "        \n",
    " - setting the `mdl_honly` elemental abundances to 0:\n",
    " \n",
    "        for p in mdl_honly.pars:\n",
    "            if p.name.lower() not in ['kt', 'h', 'tau', redshift', 'norm']:\n",
    "                p.val = 0\n",
    "                p.frozen = True # this is actually the default, but just check\n",
    "                \n",
    " - fixing the Hydrogen abundances\n",
    " \n",
    "        mdl_honly.h = 1\n",
    "        mdl_elems.h = 1\n",
    "        ui.freeze(mdl_honly.h, mdl_elems.h)\n",
    "\n",
    " - thaw the elemental abundances in `mdl_elems` that you want to fit.\n",
    " \n",
    "This can be done, but if you started using this model a lot, you'd quickly find it annoying (and\n",
    "easy to miss a step). What is needed is a way to create a user model - as described in\n",
    "[previous notebooks](http://nbviewer.ipython.org/github/DougBurke/sherpa-standalone-notebooks/blob/master/user%20model.ipynb) - but \n",
    "instead of writing the function, use the existing Sherpa code to evaluate the models."
   ]
  },
  {
   "cell_type": "markdown",
   "metadata": {},
   "source": [
    "## Writing a simple user model"
   ]
  },
  {
   "cell_type": "markdown",
   "metadata": {},
   "source": [
    "So, can we simplify the above by writing a simple user model? First of all, let's look at evaluating the model for a given set of parameters. The evaluations above have required an instance of the model - which I created by calling\n",
    "\n",
    "    ui.xsvvnei.mdl_with_elems\n",
    "    \n",
    "but could have also used\n",
    "\n",
    "    ui.create_model_component('xsvvnei', 'mdl_with_elems')\n",
    "    \n",
    "I could use this approach in a user model, but it would involve coming up with unique model names which is messy and inelegant. What I really want to be able to do is evaluate the model\n",
    "without creating a component. This can be done by using parts of Sherpa directly. In this case, the models are defined in the `sherpa.astro.xspec` module, and we can create an object directly:"
   ]
  },
  {
   "cell_type": "code",
   "execution_count": 13,
   "metadata": {
    "collapsed": false
   },
   "outputs": [],
   "source": [
    "mdl = xspec.XSvvnei()"
   ]
  },
  {
   "cell_type": "markdown",
   "metadata": {},
   "source": [
    "The model can be given a name by sending in a string to the constructor, but this is only used in screen output which we do not care about, so we let the default value be used. The only real difference to calling this, rather than `ui.create_model_component` (or writing `ui.xsvvnei.xxx`), is that this model is not added to the Sherpa session, so it does not conflict with anything (e.g. `ui.list_model_components()` will not include it). This makes it ideal for our purposes, since it is essentially an anonymous model.\n",
    "\n",
    "An anonymous model function is a start, but I also need an easy way to call the model with different parameters: one set with the elemental abundances, and the second time with Hydrogen only. I *could* set one set of parameters, evaluate the model, and then swap in the second set and re-evaluate. However, the Sherpa model class defines the `calc` method, which has the signature:"
   ]
  },
  {
   "cell_type": "code",
   "execution_count": 14,
   "metadata": {
    "collapsed": false
   },
   "outputs": [
    {
     "name": "stdout",
     "output_type": "stream",
     "text": [
      "Help on method calc in module sherpa.models.model:\n",
      "\n",
      "calc(cls, pars, xlo, *args, **kwargs) method of sherpa.astro.xspec.XSvvnei instance\n",
      "\n"
     ]
    }
   ],
   "source": [
    "help(mdl.calc)"
   ]
  },
  {
   "cell_type": "markdown",
   "metadata": {},
   "source": [
    "The `pars` argument is the array of parameter values (in the order displayed from `print(mdl)` or returned by `mdl.pars`) and the remaining arguments are the independent axes on which to evaluate the model. This is therefore the second part to writing the user model. "
   ]
  },
  {
   "cell_type": "code",
   "execution_count": 15,
   "metadata": {
    "collapsed": true
   },
   "outputs": [],
   "source": [
    "def xsvvnei_no_h(pars, *args):\n",
    "    \"pars is kT, list of 29 element abundances (excluding H), tau, redshift, norm\"\n",
    "\n",
    "    # It's a bit excessive to create this each iteration\n",
    "    mdl = xspec.XSvvnei()\n",
    "    \n",
    "    pall = [pars[0], 1.0]\n",
    "    pall.extend(pars[1:])\n",
    "    \n",
    "    phonly = [pars[0], 1.0]\n",
    "    phonly.extend([0.0] * 29)\n",
    "    phonly.extend(pars[-3:])\n",
    "\n",
    "    # Evaluate the \"Hydrogen-free\" model\n",
    "    return mdl.calc(pall, *args) - mdl.calc(phonly, *args)"
   ]
  },
  {
   "cell_type": "markdown",
   "metadata": {},
   "source": [
    "As a check, does this give the same answer as evaluating the separate models?"
   ]
  },
  {
   "cell_type": "code",
   "execution_count": 16,
   "metadata": {
    "collapsed": false
   },
   "outputs": [
    {
     "data": {
      "text/plain": [
       "True"
      ]
     },
     "execution_count": 16,
     "metadata": {},
     "output_type": "execute_result"
    }
   ],
   "source": [
    "pars = [p.val for p in mdl_with_elems.pars if p.name != \"H\"]\n",
    "ynew = xsvvnei_no_h(pars, egrid)\n",
    "y = mdl_with_elems(egrid) - mdl_h_only(egrid) \n",
    "np.all(ynew == y)"
   ]
  },
  {
   "cell_type": "markdown",
   "metadata": {
    "collapsed": true
   },
   "source": [
    "This can be added to Sherpa using `ui.load_user_model` to create a model instance (i.e. component). Since I want to copy over the parameter settings from the `xsvvnei` model\n",
    "(at least, apart from for `H`), I have written a small function that both loads the \n",
    "model - with `ui.load_user_model` - and sets the parameter values - with `ui.add_user_pars`:"
   ]
  },
  {
   "cell_type": "code",
   "execution_count": 17,
   "metadata": {
    "collapsed": true
   },
   "outputs": [],
   "source": [
    "def make_xsvvnei_noh_model(name):\n",
    "    \"\"\"Create an instance of the 'xsvvnei' model which has\n",
    "    no Hydrogen.\"\"\"\n",
    "    \n",
    "    # Create the model instance\n",
    "    ui.load_user_model(xsvvnei_no_h, name)\n",
    "    \n",
    "    # Get a copy of the default parameter settings for the vvnei\n",
    "    # model (excluding Hydrogen).\n",
    "    pars = [p for p in xspec.XSvvnei().pars if p.name != 'H']\n",
    "    \n",
    "    parnames = [p.name for p in pars]\n",
    "    parvals = [p.val for p in pars]\n",
    "    parmins = [p.min for p in pars]\n",
    "    parmaxs = [p.max for p in pars]\n",
    "    parunits = [p.units for p in pars]\n",
    "    parf = [p.frozen for p in pars]\n",
    "    \n",
    "    # Set up the parameters for this instance\n",
    "    ui.add_user_pars(name, parnames, parvals=parvals, parmins=parvals,\n",
    "                     parmaxs=parmaxs, parunits=parunits, parfrozen=parf)\n",
    "    \n",
    "    # Return the model\n",
    "    return ui.get_model_component(name)"
   ]
  },
  {
   "cell_type": "code",
   "execution_count": 18,
   "metadata": {
    "collapsed": false
   },
   "outputs": [
    {
     "data": {
      "text/plain": [
       "<UserModel model instance 'usermodel.noh'>"
      ]
     },
     "execution_count": 18,
     "metadata": {},
     "output_type": "execute_result"
    }
   ],
   "source": [
    "make_xsvvnei_noh_model('noh')"
   ]
  },
  {
   "cell_type": "code",
   "execution_count": 19,
   "metadata": {
    "collapsed": false
   },
   "outputs": [
    {
     "name": "stdout",
     "output_type": "stream",
     "text": [
      "usermodel.noh\n",
      "   Param        Type          Value          Min          Max      Units\n",
      "   -----        ----          -----          ---          ---      -----\n",
      "   noh.kT       thawed            1            1         79.9        keV\n",
      "   noh.He       frozen            1            1         1000           \n",
      "   noh.Li       frozen            1            1         1000           \n",
      "   noh.Be       frozen            1            1         1000           \n",
      "   noh.B        frozen            1            1         1000           \n",
      "   noh.C        frozen            1            1         1000           \n",
      "   noh.N        frozen            1            1         1000           \n",
      "   noh.O        frozen            1            1         1000           \n",
      "   noh.F        frozen            1            1         1000           \n",
      "   noh.Ne       frozen            1            1         1000           \n",
      "   noh.Na       frozen            1            1         1000           \n",
      "   noh.Mg       frozen            1            1         1000           \n",
      "   noh.Al       frozen            1            1         1000           \n",
      "   noh.Si       frozen            1            1         1000           \n",
      "   noh.P        frozen            1            1         1000           \n",
      "   noh.S        frozen            1            1         1000           \n",
      "   noh.Cl       frozen            1            1         1000           \n",
      "   noh.Ar       frozen            1            1         1000           \n",
      "   noh.K        frozen            1            1         1000           \n",
      "   noh.Ca       frozen            1            1         1000           \n",
      "   noh.Sc       frozen            1            1         1000           \n",
      "   noh.Ti       frozen            1            1         1000           \n",
      "   noh.V        frozen            1            1         1000           \n",
      "   noh.Cr       frozen            1            1         1000           \n",
      "   noh.Mn       frozen            1            1         1000           \n",
      "   noh.Fe       frozen            1            1         1000           \n",
      "   noh.Co       frozen            1            1         1000           \n",
      "   noh.Ni       frozen            1            1         1000           \n",
      "   noh.Cu       frozen            1            1         1000           \n",
      "   noh.Zn       frozen            1            1         1000           \n",
      "   noh.Tau      thawed        1e+11        1e+11        5e+13     s/cm^3\n",
      "   noh.redshift frozen            0            0           10           \n",
      "   noh.norm     thawed            1            1        1e+24           \n"
     ]
    }
   ],
   "source": [
    "print(noh)"
   ]
  },
  {
   "cell_type": "markdown",
   "metadata": {},
   "source": [
    "A quick check shows how the Oxygen abundance changes the results for\n",
    "the default temperature:"
   ]
  },
  {
   "cell_type": "code",
   "execution_count": 20,
   "metadata": {
    "collapsed": false
   },
   "outputs": [
    {
     "data": {
      "text/plain": [
       "[<matplotlib.lines.Line2D at 0x7f5d84dc6e90>]"
      ]
     },
     "execution_count": 20,
     "metadata": {},
     "output_type": "execute_result"
    },
    {
     "data": {
      "image/png": "[encoded data removed]",
      "text/plain": [
       "<matplotlib.figure.Figure at 0x7f5d84d62ad0>"
      ]
     },
     "metadata": {},
     "output_type": "display_data"
    }
   ],
   "source": [
    "plt.plot(egrid, noh(egrid))\n",
    "plt.xscale('log')\n",
    "plt.yscale('log')\n",
    "\n",
    "noh.o = 5\n",
    "plt.plot(egrid, noh(egrid))"
   ]
  },
  {
   "cell_type": "markdown",
   "metadata": {},
   "source": [
    "## Using a class-based approach"
   ]
  },
  {
   "cell_type": "markdown",
   "metadata": {},
   "source": [
    "As with the\n",
    "['User models in Sherpa' notebook](http://nbviewer.ipython.org/github/DougBurke/sherpa-standalone-notebooks/blob/master/user%20model.ipynb),\n",
    "we can also create a class for this model:"
   ]
  },
  {
   "cell_type": "code",
   "execution_count": 21,
   "metadata": {
    "collapsed": true
   },
   "outputs": [],
   "source": [
    "from sherpa.models import model\n",
    "\n",
    "class XSvvneiNoH(model.ArithmeticModel):\n",
    "    \"\"\"A version of XSvvnei which has no Hydrogen. The\n",
    "    abundances of the other elements are given relative to\n",
    "    solar abundance of Hydrogen.\n",
    "    \"\"\"\n",
    "    \n",
    "    def __init__(self, name='xxvvneinoh'):\n",
    "        mdl = xspec.XSvvnei()\n",
    "        \n",
    "        pars = []\n",
    "        for par in mdl.pars:\n",
    "            if par.name == 'H':\n",
    "                continue\n",
    "                \n",
    "            newpar = model.Parameter(name, par.name, par.val, min=par.min, max=par.max,\n",
    "                                     hard_min=par.hard_min, hard_max=par.hard_max,\n",
    "                                     units=par.units, frozen=par.frozen,\n",
    "                                     alwaysfrozen=par.alwaysfrozen, hidden=par.hidden)\n",
    "            setattr(self, par.name, newpar)\n",
    "            pars.append(newpar)\n",
    "            \n",
    "        model.ArithmeticModel.__init__(self, name, tuple(pars))\n",
    "        \n",
    "    @model.modelCacher1d\n",
    "    def calc(self, pars, x, *args, **kwargs):\n",
    "        return xsvvnei_no_h(pars, x, *args)\n",
    "\n",
    "# Tell Sherpa about the model\n",
    "ui.add_model(XSvvneiNoH)"
   ]
  },
  {
   "cell_type": "markdown",
   "metadata": {},
   "source": [
    "This class can then be used to create model components: in the following I show the lines from Carbon, Oxygen, and Argon lines."
   ]
  },
  {
   "cell_type": "code",
   "execution_count": 22,
   "metadata": {
    "collapsed": false
   },
   "outputs": [
    {
     "data": {
      "image/png": "[encoded data removed]",
      "text/plain": [
       "<matplotlib.figure.Figure at 0x7f5d84d29cd0>"
      ]
     },
     "metadata": {},
     "output_type": "display_data"
    }
   ],
   "source": [
    "ui.create_model_component('xsvvneinoh', 'mdl')\n",
    "\n",
    "# Clear out all the elemental abundances\n",
    "for par in mdl.pars:\n",
    "    if len(par.name) < 3 and par.name != 'kT':\n",
    "        par.val = 0\n",
    "\n",
    "# Colors are taken from ColorBrewer2, or rather,\n",
    "# this StackOverflow answer: http://stats.stackexchange.com/a/118183\n",
    "        \n",
    "# Ensure there's some continuum\n",
    "mdl.he = 1\n",
    "\n",
    "# Carbon\n",
    "mdl.c = 1\n",
    "plt.plot(egrid, mdl(egrid), c='#e41a1c')\n",
    "\n",
    "# Oxygen\n",
    "mdl.c = 0\n",
    "mdl.o = 1\n",
    "plt.plot(egrid, mdl(egrid), c='#377eb8')\n",
    "\n",
    "# Argon\n",
    "mdl.o = 0\n",
    "mdl.ar = 1\n",
    "plt.plot(egrid, mdl(egrid), c='#4daf4a')\n",
    "\n",
    "# Continuum\n",
    "mdl.ar = 0\n",
    "plt.plot(egrid, mdl(egrid), c='#984ea3')\n",
    "\n",
    "plt.legend(['C', 'O', 'Ar', 'Continuum'])\n",
    "plt.xscale('log')\n",
    "plt.yscale('log')"
   ]
  },
  {
   "cell_type": "markdown",
   "metadata": {},
   "source": [
    "## Can we make this faster?"
   ]
  },
  {
   "cell_type": "markdown",
   "metadata": {},
   "source": [
    "If I were to be using this for actual analysis, I would probably re-write `xsvvnei_no_h` so that it is sent the model instance to use, rather than re-create it each time the model is evaluated, since the latter feels wasteful. However, it is *really* important to actually measure the time these functions take to run to make sure changes you make are worth it,\n",
    "so I'll do that too."
   ]
  },
  {
   "cell_type": "code",
   "execution_count": 23,
   "metadata": {
    "collapsed": true
   },
   "outputs": [],
   "source": [
    "# I repeat the original version as a reference.\n",
    "def xsvvnei_no_h_1(pars, *args):\n",
    "    \"pars is kT, list of 29 element abundances (excluding H), tau, redshift, norm\"\n",
    "\n",
    "    # It's a bit excessive to create this each iteration\n",
    "    mdl = xspec.XSvvnei()\n",
    "    \n",
    "    pall = [pars[0], 1.0]\n",
    "    pall.extend(pars[1:])\n",
    "    \n",
    "    phonly = [pars[0], 1.0]\n",
    "    phonly.extend([0.0] * 29)\n",
    "    phonly.extend(pars[-3:])\n",
    "\n",
    "    # Evaluate the \"Hydrogen-free\" model\n",
    "    return mdl.calc(pall, *args) - mdl.calc(phonly, *args)\n",
    "\n",
    "# This version requires a model instance to be sent in\n",
    "def xsvvnei_no_h_2(mdl, pars, *args):\n",
    "    \"pars is kT, list of 29 element abundances (excluding H), tau, redshift, norm\"\n",
    "\n",
    "    pall = [pars[0], 1.0]\n",
    "    pall.extend(pars[1:])\n",
    "    \n",
    "    phonly = [pars[0], 1.0]\n",
    "    phonly.extend([0.0] * 29)\n",
    "    phonly.extend(pars[-3:])\n",
    "\n",
    "    # Evaluate the \"Hydrogen-free\" model\n",
    "    return mdl.calc(pall, *args) - mdl.calc(phonly, *args)    "
   ]
  },
  {
   "cell_type": "markdown",
   "metadata": {},
   "source": [
    "The IPython interpreter provides the \n",
    "[`%timeit`](http://ipython.org/ipython-doc/stable/interactive/magics.html#magic-timeit)\n",
    "command, which is a basic - *but useful*, as I'll show - way to time functions. In this case,\n",
    "I want to evaluate the two functions, which means I need a parameter array, a model (for `xsvvnei_no_h_2`), and I'll use `egrid` for the grid."
   ]
  },
  {
   "cell_type": "code",
   "execution_count": 24,
   "metadata": {
    "collapsed": true
   },
   "outputs": [],
   "source": [
    "pars = [p.val for p in mdl.pars]\n",
    "mdl_2 = xspec.XSvvnei()"
   ]
  },
  {
   "cell_type": "markdown",
   "metadata": {},
   "source": [
    "The `%timeit` command takes the function to evaluate, and runs it multiple times, and reports its best estimate for the run time (it's an adaptive scheme, in that it tailors the number of loops to how long the function takes, and reports the time taken in \"sensible\" units)."
   ]
  },
  {
   "cell_type": "code",
   "execution_count": 25,
   "metadata": {
    "collapsed": false
   },
   "outputs": [
    {
     "name": "stdout",
     "output_type": "stream",
     "text": [
      "10 loops, best of 3: 20.2 ms per loop\n"
     ]
    }
   ],
   "source": [
    "%timeit xsvvnei_no_h_1(pars, egrid)"
   ]
  },
  {
   "cell_type": "code",
   "execution_count": 26,
   "metadata": {
    "collapsed": false
   },
   "outputs": [
    {
     "name": "stdout",
     "output_type": "stream",
     "text": [
      "100 loops, best of 3: 11.9 ms per loop\n"
     ]
    }
   ],
   "source": [
    "%timeit xsvvnei_no_h_2(mdl_2, pars, egrid)"
   ]
  },
  {
   "cell_type": "markdown",
   "metadata": {},
   "source": [
    "As we can see in this example, the second function is roughly two times faster than the first one (which surprised me). Now, there's plenty of things to be wary of when using this, since\n",
    "\n",
    " - I have not actualy checked that the two functions return the same values (which you\n",
    "   really *must do* before trying to work out which is faster);\n",
    "   \n",
    " - it relies on the function always doing the same amount of work each iteration\n",
    "   (it might be that the function loads in data files for particular parameter values,\n",
    "   or sets up memory or loads in data the first time it is run);\n",
    "   \n",
    " - I have only used a single set of parameters and one energy grid and the difference in \n",
    "   run time could well vary depending on these values;\n",
    "   \n",
    " - when used in a fit, there is plenty of other code being run, so there comes a point\n",
    "   at which reducing the run time of a model component is no longer worth it (perhaps\n",
    "   there's another model being evaluated which is significantly slower).\n",
    "\n",
    "So, this is a start, but it's not the end of the story. There are other commands and\n",
    "modules in Python that can help you optimise the run time (or memory usage), of Python\n",
    "code (e.g. \n",
    "[Timing and Profiling](http://pynash.org/2013/03/06/timing-and-profiling.html),\n",
    "[SciPy notes on Optimizing code](http://scipy-lectures.github.io/advanced/optimizing/),\n",
    "[Jake VanderPlas' example of optimizing Python code](https://jakevdp.github.io/blog/2015/02/24/optimizing-python-with-numpy-and-numba/),\n",
    "[SnakeViz for visualizing the cProfile output](https://jiffyclub.github.io/snakeviz/),\n",
    "and plenty of other resources out there on the internet)."
   ]
  },
  {
   "cell_type": "markdown",
   "metadata": {},
   "source": [
    "## Just one more thing"
   ]
  },
  {
   "cell_type": "markdown",
   "metadata": {},
   "source": [
    "The code above uses the generic Sherpa model interface to evaluate a model; that is, it uses the `calc` method of the `Model` class to evaluate the model, and can be used for *all* Sherpa models. I happen to know that, for XSPEC models, this method is defined as\n",
    "\n",
    "```\n",
    "class XSModel(ArithmeticModel):\n",
    "    \n",
    "    @modelCacher1d\n",
    "    def calc(self, *args, **kwargs):\n",
    "        return self._calc(*args, **kwargs)\n",
    "```\n",
    "\n",
    "and that the `XSvvnei` class defines `_calc` to be:\n",
    "\n",
    "```\n",
    "class XSvvnei(XSAdditiveModel):\n",
    "\n",
    "    _calc =  _xspec.C_vvnei\n",
    "...\n",
    "```\n",
    "\n",
    "which means that we can call `_calc` instead of `calc`, saving even-more time. Let's see\n",
    "how much this really helps:"
   ]
  },
  {
   "cell_type": "code",
   "execution_count": 27,
   "metadata": {
    "collapsed": true
   },
   "outputs": [],
   "source": [
    "from sherpa.astro.xspec import _xspec\n",
    "\n",
    "def xsvvnei_no_h_3(mdl, pars, *args):\n",
    "    \"pars is kT, list of 29 element abundances (excluding H), tau, redshift, norm\"\n",
    "\n",
    "    pall = [pars[0], 1.0]\n",
    "    pall.extend(pars[1:])\n",
    "    \n",
    "    phonly = [pars[0], 1.0]\n",
    "    phonly.extend([0.0] * 29)\n",
    "    phonly.extend(pars[-3:])\n",
    "\n",
    "    # Evaluate the \"Hydrogen-free\" model\n",
    "    return mdl._calc(pall, *args) - mdl._calc(phonly, *args)\n",
    "\n",
    "def xsvvnei_no_h_4(pars, *args):\n",
    "    \"pars is kT, list of 29 element abundances (excluding H), tau, redshift, norm\"\n",
    "\n",
    "    pall = [pars[0], 1.0]\n",
    "    pall.extend(pars[1:])\n",
    "    \n",
    "    phonly = [pars[0], 1.0]\n",
    "    phonly.extend([0.0] * 29)\n",
    "    phonly.extend(pars[-3:])\n",
    "\n",
    "    # Evaluate the \"Hydrogen-free\" model\n",
    "    return _xspec.C_vvnei(pall, *args) - _xspec.C_vvnei(phonly, *args)    "
   ]
  },
  {
   "cell_type": "code",
   "execution_count": 28,
   "metadata": {
    "collapsed": false
   },
   "outputs": [
    {
     "name": "stdout",
     "output_type": "stream",
     "text": [
      "10 loops, best of 3: 20.3 ms per loop\n",
      "100 loops, best of 3: 11.9 ms per loop\n",
      "100 loops, best of 3: 11.8 ms per loop\n",
      "100 loops, best of 3: 11.9 ms per loop\n"
     ]
    }
   ],
   "source": [
    "%timeit xsvvnei_no_h_1(pars, egrid)\n",
    "%timeit xsvvnei_no_h_2(mdl_2, pars, egrid)\n",
    "%timeit xsvvnei_no_h_3(mdl_2, pars, egrid)\n",
    "%timeit xsvvnei_no_h_4(pars, egrid)"
   ]
  },
  {
   "cell_type": "markdown",
   "metadata": {},
   "source": [
    "So, in this case, the extra \"optimisations\" do not really save much time. Given these results, I would be reluctant to use them, since they rely on internals of the code that could be changed at any time."
   ]
  }
 ],
 "metadata": {
  "kernelspec": {
   "display_name": "Python 2",
   "language": "python",
   "name": "python2"
  },
  "language_info": {
   "codemirror_mode": {
    "name": "ipython",
    "version": 2
   },
   "file_extension": ".py",
   "mimetype": "text/x-python",
   "name": "python",
   "nbconvert_exporter": "python",
   "pygments_lexer": "ipython2",
   "version": "2.7.10"
  }
 },
 "nbformat": 4,
 "nbformat_minor": 0
}
